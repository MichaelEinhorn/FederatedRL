{
 "cells": [
  {
   "cell_type": "code",
   "execution_count": 5,
   "id": "3388c1ff-e3ba-4f71-95a6-1de7c255c80a",
   "metadata": {},
   "outputs": [],
   "source": [
    "import gym\n",
    "import numpy as np\n",
    "import matplotlib.pyplot as plt\n",
    "import json\n",
    "import argparse\n",
    "import RLAlgs\n",
    "import RLModels\n",
    "import core\n",
    "import copy\n",
    "import os\n",
    "import time\n",
    "\n",
    "import CustomEnvs\n",
    "\n",
    "convN = 100\n",
    "alpha = 0.1\n",
    "discount = 0.6\n",
    "epsilon = 1\n",
    "fedP = 10\n",
    "syncBackups = 100 * convN\n",
    "stochasticPolicy = True\n",
    "envSeed = 3701\n",
    "trial = 0\n",
    "\n",
    "startTime = 0\n",
    "totalTime = 3 * 60 * 60\n",
    "totalTime -= 600\n",
    "\n",
    "states = 4\n",
    "actions = 3\n",
    "\n",
    "jsonFilePrefix = \"mdpv4_\"\n",
    "# dirPath = \"~/scratch/RL\"\n",
    "dirPath = \"/storage/home/hcoda1/2/meinhorn6/scratch/RL\"\n",
    "jsonDict = {}\n",
    "\n",
    "windows = False\n",
    "if os.name == 'nt':\n",
    "    windows = True\n",
    "    dirPath = \"C:/Users/Michael Einhorn/Documents/GTML/RL\""
   ]
  },
  {
   "cell_type": "code",
   "execution_count": 13,
   "id": "aaca61ae-afc3-46c1-894a-be69c4e92bed",
   "metadata": {},
   "outputs": [],
   "source": [
    "def benchBell():\n",
    "    envBell = CustomEnvs.RandomMDP(states, actions, seed=envSeed)\n",
    "\n",
    "    print(envBell.transMat)\n",
    "    print(envBell.rewardMat)\n",
    "\n",
    "    modelBell = RLModels.QTabular(envBell, stochasticPolicy=True)\n",
    "    model = copy.deepcopy(modelBell)\n",
    "    modelBell = RLAlgs.QLearningTabularBellman(model=modelBell, env=envBell, gamma=discount, iterN=10000)\n",
    "    \n",
    "    scoreBell, sList = RLAlgs.score(env=envBell, model=modelBell, epLimit=10000, iterN=1, printErr=False)\n",
    "\n",
    "    modelRand = RLModels.RandomPolicy(envBell)\n",
    "    scoreRand, sListRand = RLAlgs.score(env=envBell, model=modelRand, epLimit=10000, iterN=1, printErr=False)\n",
    "    print(\"bellman vs random\")\n",
    "    print(scoreBell)\n",
    "    print(scoreRand)\n",
    "    print(\"ratio\")\n",
    "    print(scoreBell / scoreRand)\n",
    "    print(\"distance\")\n",
    "    print(model.diff(modelBell))"
   ]
  },
  {
   "cell_type": "code",
   "execution_count": 14,
   "id": "cc405a16-6a62-470a-8e5b-993f1387efa6",
   "metadata": {},
   "outputs": [
    {
     "name": "stdout",
     "output_type": "stream",
     "text": [
      "[[[4.29939900e-01 1.77871993e-01 1.96554645e-01 1.95633462e-01]\n",
      "  [2.32958155e-01 2.32958119e-01 3.01125610e-01 2.32958116e-01]\n",
      "  [3.31306128e-26 3.34014303e-01 3.32992802e-01 3.32992895e-01]]\n",
      "\n",
      " [[1.28653130e-01 1.28650753e-01 1.28650753e-01 6.14045363e-01]\n",
      "  [3.33475528e-01 3.33515479e-01 1.38269912e-07 3.33008855e-01]\n",
      "  [0.00000000e+00 0.00000000e+00 1.00000000e+00 0.00000000e+00]]\n",
      "\n",
      " [[1.00000000e+00 1.57813896e-10 1.21738303e-10 1.21711074e-10]\n",
      "  [3.74112621e-01 2.51745269e-01 3.74142110e-01 0.00000000e+00]\n",
      "  [1.00000000e+00 8.71486596e-74 8.71486668e-74 0.00000000e+00]]\n",
      "\n",
      " [[4.56766321e-08 9.99999906e-01 0.00000000e+00 4.79458771e-08]\n",
      "  [5.95334276e-12 1.00000000e+00 1.04743474e-12 7.18298397e-11]\n",
      "  [3.35126712e-01 3.28768090e-01 9.78502254e-04 3.35126696e-01]]]\n",
      "[-0.81671681  1.46971386  0.44813686 -0.77318491]\n",
      "bellman vs random\n",
      "2069.669167296298\n",
      "1232.706751203575\n",
      "ratio\n",
      "1.6789631153358573\n",
      "distance\n",
      "3.7055958469869537\n"
     ]
    }
   ],
   "source": [
    "benchBell()"
   ]
  },
  {
   "cell_type": "code",
   "execution_count": null,
   "id": "db2be168-f3e5-4142-b447-160fa59dec90",
   "metadata": {},
   "outputs": [],
   "source": []
  }
 ],
 "metadata": {
  "kernelspec": {
   "display_name": "torch",
   "language": "python",
   "name": "torch"
  },
  "language_info": {
   "codemirror_mode": {
    "name": "ipython",
    "version": 3
   },
   "file_extension": ".py",
   "mimetype": "text/x-python",
   "name": "python",
   "nbconvert_exporter": "python",
   "pygments_lexer": "ipython3",
   "version": "3.10.4"
  }
 },
 "nbformat": 4,
 "nbformat_minor": 5
}
