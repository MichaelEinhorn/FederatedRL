{
 "cells": [
  {
   "cell_type": "code",
   "execution_count": 1,
   "id": "4941b777-6bb4-43fb-972f-1c03bce7aa8d",
   "metadata": {},
   "outputs": [],
   "source": [
    "library(ggplot2)"
   ]
  },
  {
   "cell_type": "code",
   "execution_count": 2,
   "id": "8bb19988-88ea-435f-aac3-cd75c64a5995",
   "metadata": {},
   "outputs": [
    {
     "name": "stdout",
     "output_type": "stream",
     "text": [
      "[1] \"rows\"\n"
     ]
    },
    {
     "data": {
      "text/html": [
       "95874"
      ],
      "text/latex": [
       "95874"
      ],
      "text/markdown": [
       "95874"
      ],
      "text/plain": [
       "[1] 95874"
      ]
     },
     "metadata": {},
     "output_type": "display_data"
    },
    {
     "name": "stdout",
     "output_type": "stream",
     "text": [
      "[1] \"cols\"\n"
     ]
    },
    {
     "data": {
      "text/html": [
       "23"
      ],
      "text/latex": [
       "23"
      ],
      "text/markdown": [
       "23"
      ],
      "text/plain": [
       "[1] 23"
      ]
     },
     "metadata": {},
     "output_type": "display_data"
    },
    {
     "name": "stdout",
     "output_type": "stream",
     "text": [
      "[1] \"unique alpha\"\n"
     ]
    },
    {
     "data": {
      "text/html": [
       "<style>\n",
       ".list-inline {list-style: none; margin:0; padding: 0}\n",
       ".list-inline>li {display: inline-block}\n",
       ".list-inline>li:not(:last-child)::after {content: \"\\00b7\"; padding: 0 .5ex}\n",
       "</style>\n",
       "<ol class=list-inline><li>0.001</li><li>0.002</li><li>0.004</li><li>0.005</li><li>0.008</li><li>0.01</li><li>0.016</li><li>0.02</li><li>0.032</li><li>0.04</li><li>0.05</li><li>0.08</li><li>0.1</li><li>0.16</li><li>0.2</li><li>0.32</li><li>0.4</li><li>0.5</li><li>0.8</li><li>1</li></ol>\n"
      ],
      "text/latex": [
       "\\begin{enumerate*}\n",
       "\\item 0.001\n",
       "\\item 0.002\n",
       "\\item 0.004\n",
       "\\item 0.005\n",
       "\\item 0.008\n",
       "\\item 0.01\n",
       "\\item 0.016\n",
       "\\item 0.02\n",
       "\\item 0.032\n",
       "\\item 0.04\n",
       "\\item 0.05\n",
       "\\item 0.08\n",
       "\\item 0.1\n",
       "\\item 0.16\n",
       "\\item 0.2\n",
       "\\item 0.32\n",
       "\\item 0.4\n",
       "\\item 0.5\n",
       "\\item 0.8\n",
       "\\item 1\n",
       "\\end{enumerate*}\n"
      ],
      "text/markdown": [
       "1. 0.001\n",
       "2. 0.002\n",
       "3. 0.004\n",
       "4. 0.005\n",
       "5. 0.008\n",
       "6. 0.01\n",
       "7. 0.016\n",
       "8. 0.02\n",
       "9. 0.032\n",
       "10. 0.04\n",
       "11. 0.05\n",
       "12. 0.08\n",
       "13. 0.1\n",
       "14. 0.16\n",
       "15. 0.2\n",
       "16. 0.32\n",
       "17. 0.4\n",
       "18. 0.5\n",
       "19. 0.8\n",
       "20. 1\n",
       "\n",
       "\n"
      ],
      "text/plain": [
       " [1] 0.001 0.002 0.004 0.005 0.008 0.010 0.016 0.020 0.032 0.040 0.050 0.080\n",
       "[13] 0.100 0.160 0.200 0.320 0.400 0.500 0.800 1.000"
      ]
     },
     "metadata": {},
     "output_type": "display_data"
    },
    {
     "data": {
      "text/html": [
       "<table class=\"dataframe\">\n",
       "<caption>A data.frame: 2 × 23</caption>\n",
       "<thead>\n",
       "\t<tr><th></th><th scope=col>convN</th><th scope=col>alpha</th><th scope=col>discount</th><th scope=col>epsilon</th><th scope=col>fedP</th><th scope=col>syncBackups</th><th scope=col>stochasticPolicy</th><th scope=col>envSeed</th><th scope=col>trial</th><th scope=col>sims</th><th scope=col>⋯</th><th scope=col>episodes</th><th scope=col>endScoreBell</th><th scope=col>endScoreRand</th><th scope=col>aggs</th><th scope=col>backups</th><th scope=col>endScoreStochBell</th><th scope=col>endScore</th><th scope=col>diffs</th><th scope=col>avgRewArr</th><th scope=col>epsToBackup</th></tr>\n",
       "\t<tr><th></th><th scope=col>&lt;int&gt;</th><th scope=col>&lt;dbl&gt;</th><th scope=col>&lt;dbl&gt;</th><th scope=col>&lt;dbl&gt;</th><th scope=col>&lt;int&gt;</th><th scope=col>&lt;int&gt;</th><th scope=col>&lt;chr&gt;</th><th scope=col>&lt;int&gt;</th><th scope=col>&lt;int&gt;</th><th scope=col>&lt;dbl&gt;</th><th scope=col>⋯</th><th scope=col>&lt;dbl&gt;</th><th scope=col>&lt;dbl&gt;</th><th scope=col>&lt;dbl&gt;</th><th scope=col>&lt;dbl&gt;</th><th scope=col>&lt;dbl&gt;</th><th scope=col>&lt;dbl&gt;</th><th scope=col>&lt;dbl&gt;</th><th scope=col>&lt;dbl&gt;</th><th scope=col>&lt;dbl&gt;</th><th scope=col>&lt;dbl&gt;</th></tr>\n",
       "</thead>\n",
       "<tbody>\n",
       "\t<tr><th scope=row>1</th><td>10</td><td>0.8</td><td>0.6</td><td>1</td><td>8</td><td>10</td><td>True</td><td>3701</td><td>0</td><td>30300</td><td>⋯</td><td>300</td><td>3913.433</td><td>1043.424</td><td>3042</td><td>30300</td><td>2155.983</td><td>4074.901</td><td>0.3139591</td><td>15.97664</td><td>1010</td></tr>\n",
       "\t<tr><th scope=row>2</th><td>10</td><td>0.8</td><td>0.6</td><td>1</td><td>8</td><td>10</td><td>True</td><td>3701</td><td>0</td><td>30300</td><td>⋯</td><td>300</td><td>3913.433</td><td>1043.424</td><td>3042</td><td>30300</td><td>2155.983</td><td>4074.901</td><td>0.5767524</td><td>13.42548</td><td>2020</td></tr>\n",
       "</tbody>\n",
       "</table>\n"
      ],
      "text/latex": [
       "A data.frame: 2 × 23\n",
       "\\begin{tabular}{r|lllllllllllllllllllll}\n",
       "  & convN & alpha & discount & epsilon & fedP & syncBackups & stochasticPolicy & envSeed & trial & sims & ⋯ & episodes & endScoreBell & endScoreRand & aggs & backups & endScoreStochBell & endScore & diffs & avgRewArr & epsToBackup\\\\\n",
       "  & <int> & <dbl> & <dbl> & <dbl> & <int> & <int> & <chr> & <int> & <int> & <dbl> & ⋯ & <dbl> & <dbl> & <dbl> & <dbl> & <dbl> & <dbl> & <dbl> & <dbl> & <dbl> & <dbl>\\\\\n",
       "\\hline\n",
       "\t1 & 10 & 0.8 & 0.6 & 1 & 8 & 10 & True & 3701 & 0 & 30300 & ⋯ & 300 & 3913.433 & 1043.424 & 3042 & 30300 & 2155.983 & 4074.901 & 0.3139591 & 15.97664 & 1010\\\\\n",
       "\t2 & 10 & 0.8 & 0.6 & 1 & 8 & 10 & True & 3701 & 0 & 30300 & ⋯ & 300 & 3913.433 & 1043.424 & 3042 & 30300 & 2155.983 & 4074.901 & 0.5767524 & 13.42548 & 2020\\\\\n",
       "\\end{tabular}\n"
      ],
      "text/markdown": [
       "\n",
       "A data.frame: 2 × 23\n",
       "\n",
       "| <!--/--> | convN &lt;int&gt; | alpha &lt;dbl&gt; | discount &lt;dbl&gt; | epsilon &lt;dbl&gt; | fedP &lt;int&gt; | syncBackups &lt;int&gt; | stochasticPolicy &lt;chr&gt; | envSeed &lt;int&gt; | trial &lt;int&gt; | sims &lt;dbl&gt; | ⋯ ⋯ | episodes &lt;dbl&gt; | endScoreBell &lt;dbl&gt; | endScoreRand &lt;dbl&gt; | aggs &lt;dbl&gt; | backups &lt;dbl&gt; | endScoreStochBell &lt;dbl&gt; | endScore &lt;dbl&gt; | diffs &lt;dbl&gt; | avgRewArr &lt;dbl&gt; | epsToBackup &lt;dbl&gt; |\n",
       "|---|---|---|---|---|---|---|---|---|---|---|---|---|---|---|---|---|---|---|---|---|---|\n",
       "| 1 | 10 | 0.8 | 0.6 | 1 | 8 | 10 | True | 3701 | 0 | 30300 | ⋯ | 300 | 3913.433 | 1043.424 | 3042 | 30300 | 2155.983 | 4074.901 | 0.3139591 | 15.97664 | 1010 |\n",
       "| 2 | 10 | 0.8 | 0.6 | 1 | 8 | 10 | True | 3701 | 0 | 30300 | ⋯ | 300 | 3913.433 | 1043.424 | 3042 | 30300 | 2155.983 | 4074.901 | 0.5767524 | 13.42548 | 2020 |\n",
       "\n"
      ],
      "text/plain": [
       "  convN alpha discount epsilon fedP syncBackups stochasticPolicy envSeed trial\n",
       "1 10    0.8   0.6      1       8    10          True             3701    0    \n",
       "2 10    0.8   0.6      1       8    10          True             3701    0    \n",
       "  sims  ⋯ episodes endScoreBell endScoreRand aggs backups endScoreStochBell\n",
       "1 30300 ⋯ 300      3913.433     1043.424     3042 30300   2155.983         \n",
       "2 30300 ⋯ 300      3913.433     1043.424     3042 30300   2155.983         \n",
       "  endScore diffs     avgRewArr epsToBackup\n",
       "1 4074.901 0.3139591 15.97664  1010       \n",
       "2 4074.901 0.5767524 13.42548  2020       "
      ]
     },
     "metadata": {},
     "output_type": "display_data"
    }
   ],
   "source": [
    "dataFull <- read.csv(\"mdpv4Traj.csv\", header=TRUE)\n",
    "dataFull <- dataFull[dataFull$alpha <= 1, ]\n",
    "print(\"rows\")\n",
    "nrow(dataFull)\n",
    "print(\"cols\")\n",
    "ncol(dataFull)\n",
    "print(\"unique alpha\")\n",
    "sort(unique(dataFull$alpha))\n",
    "\n",
    "head(dataFull, 2)"
   ]
  },
  {
   "cell_type": "code",
   "execution_count": 3,
   "id": "4a43312e-c6b2-4d28-a520-4c5ce3476cb2",
   "metadata": {},
   "outputs": [
    {
     "data": {
      "text/html": [
       "6"
      ],
      "text/latex": [
       "6"
      ],
      "text/markdown": [
       "6"
      ],
      "text/plain": [
       "[1] 6"
      ]
     },
     "metadata": {},
     "output_type": "display_data"
    },
    {
     "data": {
      "image/png": "[encoded data removed]",
      "text/plain": [
       "plot without title"
      ]
     },
     "metadata": {
      "image/png": {
       "height": 420,
       "width": 420
      }
     },
     "output_type": "display_data"
    }
   ],
   "source": [
    "a = 0.001\n",
    "title <- paste(\"Training Curve for alpha \", a)\n",
    "data <- dataFull[dataFull$alpha == a & (dataFull$syncBackups == 1 | dataFull$syncBackups == -1) & dataFull$fedP == 1,]\n",
    "nrow(data[data$epsToBackup == 1010,])\n",
    "sqDiff = data$diffs ** 2\n",
    "\n",
    "avgDiffs = c()\n",
    "\n",
    "for (trial in unique(data$trial)){\n",
    "    for (eps in unique(data$epsilon)){\n",
    "        temp <- data[data$trial == trial & data$epsilon == eps,]\n",
    "        tempTime <- max(temp$epsToBackup)\n",
    "        temp <- temp[temp$epsToBackup > tempTime - 10 * 1010,]\n",
    "        diff <- mean(temp$diffs ** 2)\n",
    "        avgDiffs = append(avgDiffs, diff)\n",
    "    }\n",
    "}\n",
    "# print(mean(avgDiffs))\n",
    "# print(sd(avgDiffs))\n",
    "\n",
    "time <- data$epsToBackup\n",
    "p <- ggplot(data, aes(x=log10(time), y=log10(sqDiff)))\n",
    "p <- p + ggtitle(title)\n",
    "p <- p + geom_point(aes(colour = epsilon))\n",
    "p <- p + xlab(\"Time Log Scale\") + ylab(\"Error Log Scale\")\n",
    "p <- p + scale_color_gradientn(colors = c(\"black\", \"green\"))\n",
    "p <- p + ylim(NA, log10(15) + 0.1) # needed to keep top line not grayed out\n",
    "p <- p + geom_hline(yintercept=log10(0.1)) + annotate(geom=\"text\", x=3.5, y=log10(0.1) + 0.1, label=\"Threshold\")\n",
    "p <- p + geom_hline(yintercept=log10(13.731440581206959)) + annotate(geom=\"text\", x=3.5, y=log10(13.731440581206959) + 0.1, label=\"Start\")\n",
    "p <- p + geom_hline(yintercept=log10(mean(avgDiffs)), color=\"red\") + annotate(geom=\"text\", x=3.5, y=log10(mean(avgDiffs)) + 0.1, label=\"Steady State Error\")\n",
    "p <- p + geom_rect(data=data[1,], inherit.aes=FALSE, xmin=0, xmax=Inf, ymin=log10(mean(avgDiffs) - sd(avgDiffs)), ymax=log10(mean(avgDiffs) + sd(avgDiffs)), fill=\"red\", alpha=0.1) # steady state error sd\n",
    "p\n",
    "\n",
    "# ggsave(filename=paste(\"graphs/\", title, \".png\"), plot=p, device=\"png\")"
   ]
  },
  {
   "cell_type": "code",
   "execution_count": 4,
   "id": "daba472c-e510-448f-b780-55262bad611d",
   "metadata": {},
   "outputs": [
    {
     "data": {
      "text/html": [
       "6"
      ],
      "text/latex": [
       "6"
      ],
      "text/markdown": [
       "6"
      ],
      "text/plain": [
       "[1] 6"
      ]
     },
     "metadata": {},
     "output_type": "display_data"
    },
    {
     "data": {
      "image/png": "[encoded data removed]",
      "text/plain": [
       "plot without title"
      ]
     },
     "metadata": {
      "image/png": {
       "height": 420,
       "width": 420
      }
     },
     "output_type": "display_data"
    }
   ],
   "source": [
    "a = 0.005\n",
    "N = 16\n",
    "title <- paste(\"Training Curve for alpha \", a, \" N \", N)\n",
    "data <- dataFull[dataFull$alpha == a & (dataFull$syncBackups == 1 | dataFull$syncBackups == -1) & dataFull$fedP == N,]\n",
    "nrow(data[data$epsToBackup == 1010,])\n",
    "sqDiff = data$diffs ** 2\n",
    "\n",
    "avgDiffs = c()\n",
    "for (trial in unique(data$trial)){\n",
    "    for (eps in unique(data$epsilon)){\n",
    "        temp <- data[data$trial == trial & data$epsilon == eps,]\n",
    "        tempTime <- max(temp$epsToBackup)\n",
    "        temp <- temp[temp$epsToBackup > tempTime - 10 * 1010,]\n",
    "        diff <- mean(temp$diffs ** 2)\n",
    "        avgDiffs = append(avgDiffs, diff)\n",
    "    }\n",
    "}\n",
    "\n",
    "time <- data$epsToBackup\n",
    "p <- ggplot(data, aes(x=log10(time), y=log10(sqDiff)))\n",
    "p <- p + ggtitle(title)\n",
    "p <- p + geom_point(aes(colour = epsilon))\n",
    "p <- p + xlab(\"Time Log Scale\") + ylab(\"Error Log Scale\")\n",
    "p <- p + scale_color_gradientn(colors = c(\"black\", \"green\"))\n",
    "p <- p + ylim(NA, log10(15) + 0.1) # needed to keep top line not grayed out\n",
    "p <- p + geom_hline(yintercept=log10(0.1)) + annotate(geom=\"text\", x=3.5, y=log10(0.1) + 0.1, label=\"Threshold\")\n",
    "p <- p + geom_hline(yintercept=log10(13.731440581206959)) + annotate(geom=\"text\", x=3.5, y=log10(13.731440581206959) + 0.1, label=\"Start\")\n",
    "p <- p + geom_hline(yintercept=log10(mean(avgDiffs)), color=\"red\") + annotate(geom=\"text\", x=3.5, y=log10(mean(avgDiffs)) + 0.1, label=\"Steady State Error\")\n",
    "p <- p + geom_rect(data=data[1,], inherit.aes=FALSE, xmin=0, xmax=Inf, ymin=log10(mean(avgDiffs) - sd(avgDiffs)), ymax=log10(mean(avgDiffs) + sd(avgDiffs)), fill=\"red\", alpha=0.1) # steady state error sd\n",
    "p"
   ]
  },
  {
   "cell_type": "code",
   "execution_count": 5,
   "id": "b5618509-a6b3-4c86-ab29-f8cfa72e9732",
   "metadata": {},
   "outputs": [
    {
     "data": {
      "text/html": [
       "6"
      ],
      "text/latex": [
       "6"
      ],
      "text/markdown": [
       "6"
      ],
      "text/plain": [
       "[1] 6"
      ]
     },
     "metadata": {},
     "output_type": "display_data"
    },
    {
     "data": {
      "image/png": "[encoded data removed]",
      "text/plain": [
       "plot without title"
      ]
     },
     "metadata": {
      "image/png": {
       "height": 420,
       "width": 420
      }
     },
     "output_type": "display_data"
    }
   ],
   "source": [
    "a = 0.005\n",
    "N = 1\n",
    "title <- paste(\"Training Curve for alpha \", a, \" N \", N)\n",
    "data <- dataFull[dataFull$alpha == a & (dataFull$syncBackups == 1 | dataFull$syncBackups == -1) & dataFull$fedP == N,]\n",
    "nrow(data[data$epsToBackup == 1010,])\n",
    "sqDiff = data$diffs ** 2\n",
    "\n",
    "avgDiffs = c()\n",
    "for (trial in unique(data$trial)){\n",
    "    for (eps in unique(data$epsilon)){\n",
    "        temp <- data[data$trial == trial & data$epsilon == eps,]\n",
    "        tempTime <- max(temp$epsToBackup)\n",
    "        temp <- temp[temp$epsToBackup > tempTime - 10 * 1010,]\n",
    "        diff <- mean(temp$diffs ** 2)\n",
    "        avgDiffs = append(avgDiffs, diff)\n",
    "    }\n",
    "}\n",
    "\n",
    "time <- data$epsToBackup\n",
    "p <- ggplot(data, aes(x=log10(time), y=log10(sqDiff)))\n",
    "p <- p + ggtitle(title)\n",
    "p <- p + geom_point(aes(colour = epsilon))\n",
    "p <- p + xlab(\"Time Log Scale\") + ylab(\"Error Log Scale\")\n",
    "p <- p + scale_color_gradientn(colors = c(\"black\", \"green\"))\n",
    "p <- p + ylim(NA, log10(15) + 0.1) # needed to keep top line not grayed out\n",
    "p <- p + geom_hline(yintercept=log10(0.1)) + annotate(geom=\"text\", x=3.5, y=log10(0.1) + 0.1, label=\"Threshold\")\n",
    "p <- p + geom_hline(yintercept=log10(13.731440581206959)) + annotate(geom=\"text\", x=3.5, y=log10(13.731440581206959) + 0.1, label=\"Start\")\n",
    "p <- p + geom_hline(yintercept=log10(mean(avgDiffs)), color=\"red\") + annotate(geom=\"text\", x=3.5, y=log10(mean(avgDiffs)) + 0.1, label=\"Steady State Error\")\n",
    "p <- p + geom_rect(data=data[1,], inherit.aes=FALSE, xmin=0, xmax=Inf, ymin=log10(mean(avgDiffs) - sd(avgDiffs)), ymax=log10(mean(avgDiffs) + sd(avgDiffs)), fill=\"red\", alpha=0.1) # steady state error sd\n",
    "p"
   ]
  },
  {
   "cell_type": "code",
   "execution_count": 6,
   "id": "be013f53-4b23-4bac-abdb-9865db00e5b9",
   "metadata": {},
   "outputs": [
    {
     "data": {
      "text/html": [
       "6"
      ],
      "text/latex": [
       "6"
      ],
      "text/markdown": [
       "6"
      ],
      "text/plain": [
       "[1] 6"
      ]
     },
     "metadata": {},
     "output_type": "display_data"
    },
    {
     "data": {
      "image/png": "[encoded data removed]",
      "text/plain": [
       "plot without title"
      ]
     },
     "metadata": {
      "image/png": {
       "height": 420,
       "width": 420
      }
     },
     "output_type": "display_data"
    }
   ],
   "source": [
    "a = 0.08\n",
    "N = 16\n",
    "title <- paste(\"Training Curve for alpha \", a, \" N \", N)\n",
    "data <- dataFull[dataFull$alpha == a & (dataFull$syncBackups == 1 | dataFull$syncBackups == -1) & dataFull$fedP == N,]\n",
    "nrow(data[data$epsToBackup == 1010,])\n",
    "sqDiff = data$diffs ** 2\n",
    "\n",
    "avgDiffs = c()\n",
    "for (trial in unique(data$trial)){\n",
    "    for (eps in unique(data$epsilon)){\n",
    "        temp <- data[data$trial == trial & data$epsilon == eps,]\n",
    "        tempTime <- max(temp$epsToBackup)\n",
    "        temp <- temp[temp$epsToBackup > tempTime - 10 * 1010,]\n",
    "        diff <- mean(temp$diffs ** 2)\n",
    "        avgDiffs = append(avgDiffs, diff)\n",
    "    }\n",
    "}\n",
    "\n",
    "time <- data$epsToBackup\n",
    "p <- ggplot(data, aes(x=log10(time), y=log10(sqDiff)))\n",
    "p <- p + ggtitle(title)\n",
    "p <- p + geom_point(aes(colour = epsilon))\n",
    "p <- p + xlab(\"Time Log Scale\") + ylab(\"Error Log Scale\")\n",
    "p <- p + scale_color_gradientn(colors = c(\"black\", \"green\"))\n",
    "p <- p + ylim(NA, log10(15) + 0.1) # needed to keep top line not grayed out\n",
    "p <- p + geom_hline(yintercept=log10(0.1)) + annotate(geom=\"text\", x=3.5, y=log10(0.1) + 0.1, label=\"Threshold\")\n",
    "p <- p + geom_hline(yintercept=log10(13.731440581206959)) + annotate(geom=\"text\", x=3.5, y=log10(13.731440581206959) + 0.1, label=\"Start\")\n",
    "p <- p + geom_hline(yintercept=log10(mean(avgDiffs)), color=\"red\") + annotate(geom=\"text\", x=3.5, y=log10(mean(avgDiffs)) + 0.1, label=\"Steady State Error\")\n",
    "p <- p + geom_rect(data=data[1,], inherit.aes=FALSE, xmin=0, xmax=Inf, ymin=log10(mean(avgDiffs) - sd(avgDiffs)), ymax=log10(mean(avgDiffs) + sd(avgDiffs)), fill=\"red\", alpha=0.1) # steady state error sd\n",
    "p"
   ]
  },
  {
   "cell_type": "code",
   "execution_count": 7,
   "id": "7463d64b-3c18-4cf7-90f0-fd5581b5f993",
   "metadata": {},
   "outputs": [
    {
     "data": {
      "text/html": [
       "6"
      ],
      "text/latex": [
       "6"
      ],
      "text/markdown": [
       "6"
      ],
      "text/plain": [
       "[1] 6"
      ]
     },
     "metadata": {},
     "output_type": "display_data"
    },
    {
     "data": {
      "image/png": "[encoded data removed]",
      "text/plain": [
       "plot without title"
      ]
     },
     "metadata": {
      "image/png": {
       "height": 420,
       "width": 420
      }
     },
     "output_type": "display_data"
    }
   ],
   "source": [
    "a = 0.002\n",
    "N = 16\n",
    "K = 10000\n",
    "# a = a * N\n",
    "title <- paste(\"Training Curve for alpha \", a, \" N \", N, \" K \", K)\n",
    "data <- dataFull[dataFull$alpha == a & (dataFull$syncBackups == K | dataFull$syncBackups == -1) & dataFull$fedP == N,]\n",
    "nrow(data[data$epsToBackup == 1010,])\n",
    "sqDiff = data$diffs ** 2\n",
    "\n",
    "avgDiffs = c()\n",
    "for (trial in unique(data$trial)){\n",
    "    for (eps in unique(data$epsilon)){\n",
    "        temp <- data[data$trial == trial & data$epsilon == eps,]\n",
    "        tempTime <- max(temp$epsToBackup)\n",
    "        temp <- temp[temp$epsToBackup > tempTime - 10 * 1010,]\n",
    "        diff <- mean(temp$diffs ** 2)\n",
    "        avgDiffs = append(avgDiffs, diff)\n",
    "    }\n",
    "}\n",
    "\n",
    "time <- data$epsToBackup\n",
    "p <- ggplot(data, aes(x=log10(time), y=log10(sqDiff)))\n",
    "p <- p + ggtitle(title)\n",
    "p <- p + geom_point(aes(colour = epsilon))\n",
    "p <- p + xlab(\"Time Log Scale\") + ylab(\"Error Log Scale\")\n",
    "p <- p + scale_color_gradientn(colors = c(\"black\", \"green\"))\n",
    "p <- p + ylim(NA, log10(15) + 0.1) # needed to keep top line not grayed out\n",
    "p <- p + geom_hline(yintercept=log10(0.1)) + annotate(geom=\"text\", x=3.5, y=log10(0.1) + 0.1, label=\"Threshold\")\n",
    "p <- p + geom_hline(yintercept=log10(13.731440581206959)) + annotate(geom=\"text\", x=3.5, y=log10(13.731440581206959) + 0.1, label=\"Start\")\n",
    "p <- p + geom_hline(yintercept=log10(mean(avgDiffs)), color=\"red\") + annotate(geom=\"text\", x=3.5, y=log10(mean(avgDiffs)) + 0.1, label=\"Steady State Error\")\n",
    "p <- p + geom_rect(data=data[1,], inherit.aes=FALSE, xmin=0, xmax=Inf, ymin=log10(mean(avgDiffs) - sd(avgDiffs)), ymax=log10(mean(avgDiffs) + sd(avgDiffs)), fill=\"red\", alpha=0.1) # steady state error sd\n",
    "p"
   ]
  },
  {
   "cell_type": "code",
   "execution_count": 8,
   "id": "e91f65f0-fe84-41a1-b818-fdc92ad10b5f",
   "metadata": {},
   "outputs": [
    {
     "data": {
      "text/html": [
       "15"
      ],
      "text/latex": [
       "15"
      ],
      "text/markdown": [
       "15"
      ],
      "text/plain": [
       "[1] 15"
      ]
     },
     "metadata": {},
     "output_type": "display_data"
    },
    {
     "data": {
      "image/png": "[encoded data removed]",
      "text/plain": [
       "plot without title"
      ]
     },
     "metadata": {
      "image/png": {
       "height": 420,
       "width": 420
      }
     },
     "output_type": "display_data"
    }
   ],
   "source": [
    "a = 0.01\n",
    "N = 16\n",
    "# a = a * N\n",
    "title <- paste(\"Training Curve for different K, alpha \", a, \" N \", N)\n",
    "data <- dataFull[dataFull$alpha == a & dataFull$fedP == N & dataFull$epsilon == 1,]\n",
    "data$syncBackups[data$syncBackups == -1] <- 1\n",
    "nrow(data[data$epsToBackup == 1010,])\n",
    "sqDiff = data$diffs ** 2\n",
    "\n",
    "avgDiffs = c()\n",
    "for (trial in unique(data$trial)){\n",
    "    for (eps in unique(data$epsilon)){\n",
    "        temp <- data[data$trial == trial & data$epsilon == eps,]\n",
    "        tempTime <- max(temp$epsToBackup)\n",
    "        temp <- temp[temp$epsToBackup > tempTime - 10 * 1010,]\n",
    "        diff <- mean(temp$diffs ** 2)\n",
    "        avgDiffs = append(avgDiffs, diff)\n",
    "    }\n",
    "}\n",
    "\n",
    "time <- data$epsToBackup\n",
    "p <- ggplot(data, aes(x=log10(time), y=log10(sqDiff)))\n",
    "p <- p + ggtitle(title)\n",
    "p <- p + geom_point(aes(colour = log10(syncBackups)))\n",
    "p <- p + xlab(\"Time Log Scale\") + ylab(\"Error Log Scale\")\n",
    "p <- p + scale_color_gradientn(colors = c(\"black\", \"blue\"))\n",
    "p <- p + ylim(NA, log10(15) + 0.1) # needed to keep top line not grayed out\n",
    "p <- p + geom_hline(yintercept=log10(0.1)) + annotate(geom=\"text\", x=3.5, y=log10(0.1) + 0.1, label=\"Threshold\")\n",
    "p <- p + geom_hline(yintercept=log10(13.731440581206959)) + annotate(geom=\"text\", x=3.5, y=log10(13.731440581206959) + 0.1, label=\"Start\")\n",
    "p <- p + geom_hline(yintercept=log10(mean(avgDiffs)), color=\"red\") + annotate(geom=\"text\", x=3.5, y=log10(mean(avgDiffs)) + 0.1, label=\"Steady State Error\")\n",
    "p <- p + geom_rect(data=data[1,], inherit.aes=FALSE, xmin=0, xmax=Inf, ymin=log10(mean(avgDiffs) - sd(avgDiffs)), ymax=log10(mean(avgDiffs) + sd(avgDiffs)), fill=\"red\", alpha=0.1) # steady state error sd\n",
    "p"
   ]
  },
  {
   "cell_type": "code",
   "execution_count": 9,
   "id": "e68d4706-9ebc-497f-8d0d-f61202a04891",
   "metadata": {},
   "outputs": [
    {
     "name": "stderr",
     "output_type": "stream",
     "text": [
      "\u001b[1m\u001b[22mSaving 6.67 x 6.67 in image\n",
      "\u001b[1m\u001b[22mSaving 6.67 x 6.67 in image\n",
      "Warning message in list2(linejoin = linejoin, na.rm = na.rm, ...):\n",
      "\"NaNs produced\"\n",
      "\u001b[1m\u001b[22mSaving 6.67 x 6.67 in image\n",
      "Warning message:\n",
      "\"\u001b[1m\u001b[22mRemoved 1 rows containing missing values (`geom_rect()`).\"\n",
      "\u001b[1m\u001b[22mSaving 6.67 x 6.67 in image\n",
      "\u001b[1m\u001b[22mSaving 6.67 x 6.67 in image\n",
      "\u001b[1m\u001b[22mSaving 6.67 x 6.67 in image\n",
      "\u001b[1m\u001b[22mSaving 6.67 x 6.67 in image\n",
      "\u001b[1m\u001b[22mSaving 6.67 x 6.67 in image\n",
      "\u001b[1m\u001b[22mSaving 6.67 x 6.67 in image\n",
      "\u001b[1m\u001b[22mSaving 6.67 x 6.67 in image\n",
      "\u001b[1m\u001b[22mSaving 6.67 x 6.67 in image\n",
      "\u001b[1m\u001b[22mSaving 6.67 x 6.67 in image\n",
      "\u001b[1m\u001b[22mSaving 6.67 x 6.67 in image\n",
      "\u001b[1m\u001b[22mSaving 6.67 x 6.67 in image\n",
      "\u001b[1m\u001b[22mSaving 6.67 x 6.67 in image\n",
      "\u001b[1m\u001b[22mSaving 6.67 x 6.67 in image\n",
      "\u001b[1m\u001b[22mSaving 6.67 x 6.67 in image\n",
      "\u001b[1m\u001b[22mSaving 6.67 x 6.67 in image\n",
      "\u001b[1m\u001b[22mSaving 6.67 x 6.67 in image\n",
      "\u001b[1m\u001b[22mSaving 6.67 x 6.67 in image\n",
      "\u001b[1m\u001b[22mSaving 6.67 x 6.67 in image\n",
      "\u001b[1m\u001b[22mSaving 6.67 x 6.67 in image\n",
      "\u001b[1m\u001b[22mSaving 6.67 x 6.67 in image\n",
      "\u001b[1m\u001b[22mSaving 6.67 x 6.67 in image\n",
      "\u001b[1m\u001b[22mSaving 6.67 x 6.67 in image\n",
      "Warning message in list2(linejoin = linejoin, na.rm = na.rm, ...):\n",
      "\"NaNs produced\"\n",
      "\u001b[1m\u001b[22mSaving 6.67 x 6.67 in image\n",
      "Warning message:\n",
      "\"\u001b[1m\u001b[22mRemoved 1 rows containing missing values (`geom_rect()`).\"\n",
      "\u001b[1m\u001b[22mSaving 6.67 x 6.67 in image\n",
      "\u001b[1m\u001b[22mSaving 6.67 x 6.67 in image\n",
      "\u001b[1m\u001b[22mSaving 6.67 x 6.67 in image\n",
      "\u001b[1m\u001b[22mSaving 6.67 x 6.67 in image\n",
      "\u001b[1m\u001b[22mSaving 6.67 x 6.67 in image\n",
      "\u001b[1m\u001b[22mSaving 6.67 x 6.67 in image\n",
      "\u001b[1m\u001b[22mSaving 6.67 x 6.67 in image\n",
      "\u001b[1m\u001b[22mSaving 6.67 x 6.67 in image\n",
      "\u001b[1m\u001b[22mSaving 6.67 x 6.67 in image\n",
      "\u001b[1m\u001b[22mSaving 6.67 x 6.67 in image\n",
      "\u001b[1m\u001b[22mSaving 6.67 x 6.67 in image\n",
      "\u001b[1m\u001b[22mSaving 6.67 x 6.67 in image\n",
      "\u001b[1m\u001b[22mSaving 6.67 x 6.67 in image\n",
      "\u001b[1m\u001b[22mSaving 6.67 x 6.67 in image\n",
      "\u001b[1m\u001b[22mSaving 6.67 x 6.67 in image\n",
      "\u001b[1m\u001b[22mSaving 6.67 x 6.67 in image\n",
      "\u001b[1m\u001b[22mSaving 6.67 x 6.67 in image\n",
      "\u001b[1m\u001b[22mSaving 6.67 x 6.67 in image\n",
      "\u001b[1m\u001b[22mSaving 6.67 x 6.67 in image\n",
      "\u001b[1m\u001b[22mSaving 6.67 x 6.67 in image\n",
      "\u001b[1m\u001b[22mSaving 6.67 x 6.67 in image\n",
      "\u001b[1m\u001b[22mSaving 6.67 x 6.67 in image\n",
      "\u001b[1m\u001b[22mSaving 6.67 x 6.67 in image\n",
      "\u001b[1m\u001b[22mSaving 6.67 x 6.67 in image\n",
      "\u001b[1m\u001b[22mSaving 6.67 x 6.67 in image\n",
      "\u001b[1m\u001b[22mSaving 6.67 x 6.67 in image\n",
      "\u001b[1m\u001b[22mSaving 6.67 x 6.67 in image\n",
      "\u001b[1m\u001b[22mSaving 6.67 x 6.67 in image\n",
      "\u001b[1m\u001b[22mSaving 6.67 x 6.67 in image\n",
      "\u001b[1m\u001b[22mSaving 6.67 x 6.67 in image\n",
      "\u001b[1m\u001b[22mSaving 6.67 x 6.67 in image\n",
      "\u001b[1m\u001b[22mSaving 6.67 x 6.67 in image\n",
      "\u001b[1m\u001b[22mSaving 6.67 x 6.67 in image\n",
      "\u001b[1m\u001b[22mSaving 6.67 x 6.67 in image\n",
      "\u001b[1m\u001b[22mSaving 6.67 x 6.67 in image\n",
      "\u001b[1m\u001b[22mSaving 6.67 x 6.67 in image\n",
      "\u001b[1m\u001b[22mSaving 6.67 x 6.67 in image\n",
      "\u001b[1m\u001b[22mSaving 6.67 x 6.67 in image\n",
      "\u001b[1m\u001b[22mSaving 6.67 x 6.67 in image\n",
      "\u001b[1m\u001b[22mSaving 6.67 x 6.67 in image\n",
      "\u001b[1m\u001b[22mSaving 6.67 x 6.67 in image\n",
      "\u001b[1m\u001b[22mSaving 6.67 x 6.67 in image\n",
      "\u001b[1m\u001b[22mSaving 6.67 x 6.67 in image\n",
      "\u001b[1m\u001b[22mSaving 6.67 x 6.67 in image\n",
      "\u001b[1m\u001b[22mSaving 6.67 x 6.67 in image\n",
      "\u001b[1m\u001b[22mSaving 6.67 x 6.67 in image\n",
      "\u001b[1m\u001b[22mSaving 6.67 x 6.67 in image\n",
      "\u001b[1m\u001b[22mSaving 6.67 x 6.67 in image\n",
      "\u001b[1m\u001b[22mSaving 6.67 x 6.67 in image\n",
      "\u001b[1m\u001b[22mSaving 6.67 x 6.67 in image\n",
      "\u001b[1m\u001b[22mSaving 6.67 x 6.67 in image\n",
      "\u001b[1m\u001b[22mSaving 6.67 x 6.67 in image\n",
      "\u001b[1m\u001b[22mSaving 6.67 x 6.67 in image\n",
      "\u001b[1m\u001b[22mSaving 6.67 x 6.67 in image\n",
      "\u001b[1m\u001b[22mSaving 6.67 x 6.67 in image\n",
      "\u001b[1m\u001b[22mSaving 6.67 x 6.67 in image\n",
      "\u001b[1m\u001b[22mSaving 6.67 x 6.67 in image\n",
      "\u001b[1m\u001b[22mSaving 6.67 x 6.67 in image\n",
      "\u001b[1m\u001b[22mSaving 6.67 x 6.67 in image\n",
      "\u001b[1m\u001b[22mSaving 6.67 x 6.67 in image\n",
      "\u001b[1m\u001b[22mSaving 6.67 x 6.67 in image\n",
      "\u001b[1m\u001b[22mSaving 6.67 x 6.67 in image\n",
      "\u001b[1m\u001b[22mSaving 6.67 x 6.67 in image\n",
      "\u001b[1m\u001b[22mSaving 6.67 x 6.67 in image\n",
      "\u001b[1m\u001b[22mSaving 6.67 x 6.67 in image\n",
      "\u001b[1m\u001b[22mSaving 6.67 x 6.67 in image\n",
      "\u001b[1m\u001b[22mSaving 6.67 x 6.67 in image\n",
      "\u001b[1m\u001b[22mSaving 6.67 x 6.67 in image\n",
      "\u001b[1m\u001b[22mSaving 6.67 x 6.67 in image\n",
      "\u001b[1m\u001b[22mSaving 6.67 x 6.67 in image\n",
      "\u001b[1m\u001b[22mSaving 6.67 x 6.67 in image\n",
      "\u001b[1m\u001b[22mSaving 6.67 x 6.67 in image\n",
      "\u001b[1m\u001b[22mSaving 6.67 x 6.67 in image\n",
      "\u001b[1m\u001b[22mSaving 6.67 x 6.67 in image\n",
      "\u001b[1m\u001b[22mSaving 6.67 x 6.67 in image\n",
      "\u001b[1m\u001b[22mSaving 6.67 x 6.67 in image\n",
      "\u001b[1m\u001b[22mSaving 6.67 x 6.67 in image\n",
      "\u001b[1m\u001b[22mSaving 6.67 x 6.67 in image\n",
      "\u001b[1m\u001b[22mSaving 6.67 x 6.67 in image\n",
      "\u001b[1m\u001b[22mSaving 6.67 x 6.67 in image\n",
      "\u001b[1m\u001b[22mSaving 6.67 x 6.67 in image\n",
      "\u001b[1m\u001b[22mSaving 6.67 x 6.67 in image\n",
      "\u001b[1m\u001b[22mSaving 6.67 x 6.67 in image\n",
      "\u001b[1m\u001b[22mSaving 6.67 x 6.67 in image\n",
      "\u001b[1m\u001b[22mSaving 6.67 x 6.67 in image\n",
      "\u001b[1m\u001b[22mSaving 6.67 x 6.67 in image\n",
      "\u001b[1m\u001b[22mSaving 6.67 x 6.67 in image\n",
      "\u001b[1m\u001b[22mSaving 6.67 x 6.67 in image\n",
      "\u001b[1m\u001b[22mSaving 6.67 x 6.67 in image\n",
      "\u001b[1m\u001b[22mSaving 6.67 x 6.67 in image\n",
      "\u001b[1m\u001b[22mSaving 6.67 x 6.67 in image\n",
      "\u001b[1m\u001b[22mSaving 6.67 x 6.67 in image\n",
      "\u001b[1m\u001b[22mSaving 6.67 x 6.67 in image\n",
      "\u001b[1m\u001b[22mSaving 6.67 x 6.67 in image\n",
      "\u001b[1m\u001b[22mSaving 6.67 x 6.67 in image\n",
      "\u001b[1m\u001b[22mSaving 6.67 x 6.67 in image\n",
      "\u001b[1m\u001b[22mSaving 6.67 x 6.67 in image\n",
      "\u001b[1m\u001b[22mSaving 6.67 x 6.67 in image\n",
      "\u001b[1m\u001b[22mSaving 6.67 x 6.67 in image\n",
      "\u001b[1m\u001b[22mSaving 6.67 x 6.67 in image\n",
      "\u001b[1m\u001b[22mSaving 6.67 x 6.67 in image\n",
      "\u001b[1m\u001b[22mSaving 6.67 x 6.67 in image\n",
      "\u001b[1m\u001b[22mSaving 6.67 x 6.67 in image\n",
      "\u001b[1m\u001b[22mSaving 6.67 x 6.67 in image\n",
      "\u001b[1m\u001b[22mSaving 6.67 x 6.67 in image\n",
      "\u001b[1m\u001b[22mSaving 6.67 x 6.67 in image\n",
      "\u001b[1m\u001b[22mSaving 6.67 x 6.67 in image\n",
      "\u001b[1m\u001b[22mSaving 6.67 x 6.67 in image\n",
      "\u001b[1m\u001b[22mSaving 6.67 x 6.67 in image\n",
      "\u001b[1m\u001b[22mSaving 6.67 x 6.67 in image\n",
      "\u001b[1m\u001b[22mSaving 6.67 x 6.67 in image\n",
      "\u001b[1m\u001b[22mSaving 6.67 x 6.67 in image\n",
      "\u001b[1m\u001b[22mSaving 6.67 x 6.67 in image\n",
      "\u001b[1m\u001b[22mSaving 6.67 x 6.67 in image\n",
      "\u001b[1m\u001b[22mSaving 6.67 x 6.67 in image\n",
      "\u001b[1m\u001b[22mSaving 6.67 x 6.67 in image\n",
      "\u001b[1m\u001b[22mSaving 6.67 x 6.67 in image\n",
      "\u001b[1m\u001b[22mSaving 6.67 x 6.67 in image\n",
      "\u001b[1m\u001b[22mSaving 6.67 x 6.67 in image\n",
      "\u001b[1m\u001b[22mSaving 6.67 x 6.67 in image\n",
      "\u001b[1m\u001b[22mSaving 6.67 x 6.67 in image\n",
      "\u001b[1m\u001b[22mSaving 6.67 x 6.67 in image\n",
      "Warning message:\n",
      "\"\u001b[1m\u001b[22mRemoved 12 rows containing missing values (`geom_point()`).\"\n",
      "\u001b[1m\u001b[22mSaving 6.67 x 6.67 in image\n",
      "\u001b[1m\u001b[22mSaving 6.67 x 6.67 in image\n",
      "Warning message:\n",
      "\"\u001b[1m\u001b[22mRemoved 3 rows containing missing values (`geom_point()`).\"\n",
      "\u001b[1m\u001b[22mSaving 6.67 x 6.67 in image\n",
      "Warning message:\n",
      "\"\u001b[1m\u001b[22mRemoved 9 rows containing missing values (`geom_point()`).\"\n",
      "\u001b[1m\u001b[22mSaving 6.67 x 6.67 in image\n",
      "Warning message:\n",
      "\"\u001b[1m\u001b[22mRemoved 9 rows containing missing values (`geom_point()`).\"\n",
      "\u001b[1m\u001b[22mSaving 6.67 x 6.67 in image\n",
      "Warning message:\n",
      "\"\u001b[1m\u001b[22mRemoved 9 rows containing missing values (`geom_point()`).\"\n",
      "\u001b[1m\u001b[22mSaving 6.67 x 6.67 in image\n",
      "\u001b[1m\u001b[22mSaving 6.67 x 6.67 in image\n",
      "\u001b[1m\u001b[22mSaving 6.67 x 6.67 in image\n",
      "Warning message:\n",
      "\"\u001b[1m\u001b[22mRemoved 5 rows containing missing values (`geom_point()`).\"\n",
      "\u001b[1m\u001b[22mSaving 6.67 x 6.67 in image\n",
      "Warning message:\n",
      "\"\u001b[1m\u001b[22mRemoved 6 rows containing missing values (`geom_point()`).\"\n",
      "\u001b[1m\u001b[22mSaving 6.67 x 6.67 in image\n",
      "Warning message:\n",
      "\"\u001b[1m\u001b[22mRemoved 8 rows containing missing values (`geom_point()`).\"\n",
      "\u001b[1m\u001b[22mSaving 6.67 x 6.67 in image\n",
      "\u001b[1m\u001b[22mSaving 6.67 x 6.67 in image\n",
      "\u001b[1m\u001b[22mSaving 6.67 x 6.67 in image\n",
      "Warning message:\n",
      "\"\u001b[1m\u001b[22mRemoved 3 rows containing missing values (`geom_point()`).\"\n",
      "\u001b[1m\u001b[22mSaving 6.67 x 6.67 in image\n",
      "Warning message:\n",
      "\"\u001b[1m\u001b[22mRemoved 6 rows containing missing values (`geom_point()`).\"\n",
      "\u001b[1m\u001b[22mSaving 6.67 x 6.67 in image\n",
      "Warning message:\n",
      "\"\u001b[1m\u001b[22mRemoved 11 rows containing missing values (`geom_point()`).\"\n",
      "\u001b[1m\u001b[22mSaving 6.67 x 6.67 in image\n",
      "\u001b[1m\u001b[22mSaving 6.67 x 6.67 in image\n",
      "\u001b[1m\u001b[22mSaving 6.67 x 6.67 in image\n",
      "Warning message:\n",
      "\"\u001b[1m\u001b[22mRemoved 7 rows containing missing values (`geom_point()`).\"\n",
      "\u001b[1m\u001b[22mSaving 6.67 x 6.67 in image\n",
      "Warning message:\n",
      "\"\u001b[1m\u001b[22mRemoved 11 rows containing missing values (`geom_point()`).\"\n",
      "\u001b[1m\u001b[22mSaving 6.67 x 6.67 in image\n",
      "Warning message:\n",
      "\"\u001b[1m\u001b[22mRemoved 12 rows containing missing values (`geom_point()`).\"\n",
      "\u001b[1m\u001b[22mSaving 6.67 x 6.67 in image\n",
      "\u001b[1m\u001b[22mSaving 6.67 x 6.67 in image\n",
      "\u001b[1m\u001b[22mSaving 6.67 x 6.67 in image\n",
      "\u001b[1m\u001b[22mSaving 6.67 x 6.67 in image\n",
      "\u001b[1m\u001b[22mSaving 6.67 x 6.67 in image\n",
      "\u001b[1m\u001b[22mSaving 6.67 x 6.67 in image\n",
      "\u001b[1m\u001b[22mSaving 6.67 x 6.67 in image\n",
      "\u001b[1m\u001b[22mSaving 6.67 x 6.67 in image\n",
      "\u001b[1m\u001b[22mSaving 6.67 x 6.67 in image\n",
      "\u001b[1m\u001b[22mSaving 6.67 x 6.67 in image\n",
      "\u001b[1m\u001b[22mSaving 6.67 x 6.67 in image\n",
      "\u001b[1m\u001b[22mSaving 6.67 x 6.67 in image\n",
      "\u001b[1m\u001b[22mSaving 6.67 x 6.67 in image\n",
      "\u001b[1m\u001b[22mSaving 6.67 x 6.67 in image\n",
      "\u001b[1m\u001b[22mSaving 6.67 x 6.67 in image\n",
      "\u001b[1m\u001b[22mSaving 6.67 x 6.67 in image\n",
      "\u001b[1m\u001b[22mSaving 6.67 x 6.67 in image\n",
      "\u001b[1m\u001b[22mSaving 6.67 x 6.67 in image\n",
      "\u001b[1m\u001b[22mSaving 6.67 x 6.67 in image\n",
      "\u001b[1m\u001b[22mSaving 6.67 x 6.67 in image\n",
      "\u001b[1m\u001b[22mSaving 6.67 x 6.67 in image\n",
      "\u001b[1m\u001b[22mSaving 6.67 x 6.67 in image\n",
      "\u001b[1m\u001b[22mSaving 6.67 x 6.67 in image\n",
      "\u001b[1m\u001b[22mSaving 6.67 x 6.67 in image\n",
      "\u001b[1m\u001b[22mSaving 6.67 x 6.67 in image\n",
      "\u001b[1m\u001b[22mSaving 6.67 x 6.67 in image\n",
      "\u001b[1m\u001b[22mSaving 6.67 x 6.67 in image\n",
      "\u001b[1m\u001b[22mSaving 6.67 x 6.67 in image\n",
      "\u001b[1m\u001b[22mSaving 6.67 x 6.67 in image\n",
      "\u001b[1m\u001b[22mSaving 6.67 x 6.67 in image\n",
      "\u001b[1m\u001b[22mSaving 6.67 x 6.67 in image\n",
      "\u001b[1m\u001b[22mSaving 6.67 x 6.67 in image\n",
      "\u001b[1m\u001b[22mSaving 6.67 x 6.67 in image\n",
      "\u001b[1m\u001b[22mSaving 6.67 x 6.67 in image\n",
      "\u001b[1m\u001b[22mSaving 6.67 x 6.67 in image\n",
      "\u001b[1m\u001b[22mSaving 6.67 x 6.67 in image\n",
      "\u001b[1m\u001b[22mSaving 6.67 x 6.67 in image\n",
      "\u001b[1m\u001b[22mSaving 6.67 x 6.67 in image\n",
      "\u001b[1m\u001b[22mSaving 6.67 x 6.67 in image\n",
      "\u001b[1m\u001b[22mSaving 6.67 x 6.67 in image\n",
      "\u001b[1m\u001b[22mSaving 6.67 x 6.67 in image\n",
      "\u001b[1m\u001b[22mSaving 6.67 x 6.67 in image\n",
      "\u001b[1m\u001b[22mSaving 6.67 x 6.67 in image\n",
      "\u001b[1m\u001b[22mSaving 6.67 x 6.67 in image\n",
      "\u001b[1m\u001b[22mSaving 6.67 x 6.67 in image\n",
      "\u001b[1m\u001b[22mSaving 6.67 x 6.67 in image\n",
      "\u001b[1m\u001b[22mSaving 6.67 x 6.67 in image\n",
      "\u001b[1m\u001b[22mSaving 6.67 x 6.67 in image\n",
      "\u001b[1m\u001b[22mSaving 6.67 x 6.67 in image\n",
      "\u001b[1m\u001b[22mSaving 6.67 x 6.67 in image\n",
      "\u001b[1m\u001b[22mSaving 6.67 x 6.67 in image\n",
      "\u001b[1m\u001b[22mSaving 6.67 x 6.67 in image\n",
      "\u001b[1m\u001b[22mSaving 6.67 x 6.67 in image\n",
      "\u001b[1m\u001b[22mSaving 6.67 x 6.67 in image\n",
      "\u001b[1m\u001b[22mSaving 6.67 x 6.67 in image\n",
      "\u001b[1m\u001b[22mSaving 6.67 x 6.67 in image\n",
      "\u001b[1m\u001b[22mSaving 6.67 x 6.67 in image\n",
      "\u001b[1m\u001b[22mSaving 6.67 x 6.67 in image\n",
      "\u001b[1m\u001b[22mSaving 6.67 x 6.67 in image\n",
      "\u001b[1m\u001b[22mSaving 6.67 x 6.67 in image\n",
      "\u001b[1m\u001b[22mSaving 6.67 x 6.67 in image\n",
      "\u001b[1m\u001b[22mSaving 6.67 x 6.67 in image\n",
      "\u001b[1m\u001b[22mSaving 6.67 x 6.67 in image\n",
      "\u001b[1m\u001b[22mSaving 6.67 x 6.67 in image\n",
      "\u001b[1m\u001b[22mSaving 6.67 x 6.67 in image\n",
      "\u001b[1m\u001b[22mSaving 6.67 x 6.67 in image\n",
      "\u001b[1m\u001b[22mSaving 6.67 x 6.67 in image\n",
      "\u001b[1m\u001b[22mSaving 6.67 x 6.67 in image\n",
      "\u001b[1m\u001b[22mSaving 6.67 x 6.67 in image\n",
      "\u001b[1m\u001b[22mSaving 6.67 x 6.67 in image\n",
      "\u001b[1m\u001b[22mSaving 6.67 x 6.67 in image\n",
      "\u001b[1m\u001b[22mSaving 6.67 x 6.67 in image\n",
      "\u001b[1m\u001b[22mSaving 6.67 x 6.67 in image\n",
      "\u001b[1m\u001b[22mSaving 6.67 x 6.67 in image\n",
      "\u001b[1m\u001b[22mSaving 6.67 x 6.67 in image\n",
      "\u001b[1m\u001b[22mSaving 6.67 x 6.67 in image\n",
      "\u001b[1m\u001b[22mSaving 6.67 x 6.67 in image\n",
      "\u001b[1m\u001b[22mSaving 6.67 x 6.67 in image\n",
      "\u001b[1m\u001b[22mSaving 6.67 x 6.67 in image\n",
      "\u001b[1m\u001b[22mSaving 6.67 x 6.67 in image\n",
      "\u001b[1m\u001b[22mSaving 6.67 x 6.67 in image\n",
      "\u001b[1m\u001b[22mSaving 6.67 x 6.67 in image\n",
      "\u001b[1m\u001b[22mSaving 6.67 x 6.67 in image\n",
      "\u001b[1m\u001b[22mSaving 6.67 x 6.67 in image\n",
      "\u001b[1m\u001b[22mSaving 6.67 x 6.67 in image\n",
      "\u001b[1m\u001b[22mSaving 6.67 x 6.67 in image\n",
      "\u001b[1m\u001b[22mSaving 6.67 x 6.67 in image\n",
      "\u001b[1m\u001b[22mSaving 6.67 x 6.67 in image\n",
      "\u001b[1m\u001b[22mSaving 6.67 x 6.67 in image\n",
      "\u001b[1m\u001b[22mSaving 6.67 x 6.67 in image\n",
      "\u001b[1m\u001b[22mSaving 6.67 x 6.67 in image\n",
      "\u001b[1m\u001b[22mSaving 6.67 x 6.67 in image\n",
      "\u001b[1m\u001b[22mSaving 6.67 x 6.67 in image\n",
      "Warning message:\n",
      "\"\u001b[1m\u001b[22mRemoved 1 rows containing missing values (`geom_point()`).\"\n",
      "\u001b[1m\u001b[22mSaving 6.67 x 6.67 in image\n",
      "\u001b[1m\u001b[22mSaving 6.67 x 6.67 in image\n",
      "\u001b[1m\u001b[22mSaving 6.67 x 6.67 in image\n",
      "\u001b[1m\u001b[22mSaving 6.67 x 6.67 in image\n",
      "\u001b[1m\u001b[22mSaving 6.67 x 6.67 in image\n",
      "\u001b[1m\u001b[22mSaving 6.67 x 6.67 in image\n",
      "\u001b[1m\u001b[22mSaving 6.67 x 6.67 in image\n",
      "\u001b[1m\u001b[22mSaving 6.67 x 6.67 in image\n",
      "\u001b[1m\u001b[22mSaving 6.67 x 6.67 in image\n",
      "\u001b[1m\u001b[22mSaving 6.67 x 6.67 in image\n",
      "\u001b[1m\u001b[22mSaving 6.67 x 6.67 in image\n",
      "\u001b[1m\u001b[22mSaving 6.67 x 6.67 in image\n",
      "\u001b[1m\u001b[22mSaving 6.67 x 6.67 in image\n",
      "\u001b[1m\u001b[22mSaving 6.67 x 6.67 in image\n",
      "\u001b[1m\u001b[22mSaving 6.67 x 6.67 in image\n",
      "Warning message:\n",
      "\"\u001b[1m\u001b[22mRemoved 2 rows containing missing values (`geom_point()`).\"\n",
      "\u001b[1m\u001b[22mSaving 6.67 x 6.67 in image\n",
      "\u001b[1m\u001b[22mSaving 6.67 x 6.67 in image\n",
      "Warning message:\n",
      "\"\u001b[1m\u001b[22mRemoved 2 rows containing missing values (`geom_point()`).\"\n"
     ]
    }
   ],
   "source": [
    "as = list(0.001, 0.002, 0.005, 0.01, 0.02, 0.05, 0.1, 1)\n",
    "Ns = list(1, 2, 4, 8, 16)\n",
    "Ks = list(1, 10, 100, 1000, 10000)\n",
    "\n",
    "for (a in as){\n",
    "    for (N in Ns){\n",
    "        for (K in Ks) {\n",
    "# a = a * N\n",
    "            if (N == 1 & K != 1){\n",
    "                next\n",
    "            }\n",
    "            title <- paste(\"Training Curve for alpha \", a, \" N \", N, \" K \", K)\n",
    "            data <- dataFull[dataFull$alpha == a & (dataFull$syncBackups == K | dataFull$syncBackups == -1) & dataFull$fedP == N,]\n",
    "            nrow(data[data$epsToBackup == 1010,])\n",
    "            sqDiff = data$diffs ** 2\n",
    "            \n",
    "            avgDiffs = c()\n",
    "            for (trial in unique(data$trial)){\n",
    "                for (eps in unique(data$epsilon)){\n",
    "                    temp <- data[data$trial == trial & data$epsilon == eps,]\n",
    "                    tempTime <- max(temp$epsToBackup)\n",
    "                    temp <- temp[temp$epsToBackup > tempTime - 10 * 1010,]\n",
    "                    diff <- mean(temp$diffs ** 2)\n",
    "                    avgDiffs = append(avgDiffs, diff)\n",
    "                }\n",
    "            }\n",
    "\n",
    "            time <- data$epsToBackup\n",
    "            p <- ggplot(data, aes(x=log10(time), y=log10(sqDiff)))\n",
    "            p <- p + ggtitle(title)\n",
    "            p <- p + geom_point(aes(colour = epsilon))\n",
    "            p <- p + xlab(\"Time Log Scale\") + ylab(\"Error Log Scale\")\n",
    "            p <- p + scale_color_gradientn(colors = c(\"black\", \"green\"))\n",
    "            p <- p + ylim(NA, log10(15) + 0.1) # needed to keep top line not grayed out\n",
    "            p <- p + geom_hline(yintercept=log10(0.1)) + annotate(geom=\"text\", x=3.5, y=log10(0.1) + 0.1, label=\"Threshold\")\n",
    "            p <- p + geom_hline(yintercept=log10(13.731440581206959)) + annotate(geom=\"text\", x=3.5, y=log10(13.731440581206959) + 0.1, label=\"Start\")\n",
    "            p <- p + geom_hline(yintercept=log10(mean(avgDiffs)), color=\"red\") + annotate(geom=\"text\", x=3.5, y=log10(mean(avgDiffs)) + 0.1, label=\"Steady State Error\")\n",
    "            p <- p + geom_rect(data=data[1,], inherit.aes=FALSE, xmin=0, xmax=Inf, ymin=log10(mean(avgDiffs) - sd(avgDiffs)), ymax=log10(mean(avgDiffs) + sd(avgDiffs)), fill=\"red\", alpha=0.1) # steady state error sd\n",
    "            ggsave(filename=paste(\"graphs/\", title, \".png\"), plot=p, device=\"png\")\n",
    "            \n",
    "        }\n",
    "    }\n",
    "}\n",
    "\n",
    "for (at in as){\n",
    "    for (N in Ns){\n",
    "        a = at * N\n",
    "        if (a >= 1 | a %in% as)\n",
    "            next\n",
    "        \n",
    "        for (K in Ks) {\n",
    "            \n",
    "            if (N == 1 & K != 1){\n",
    "                next\n",
    "            }\n",
    "# a = a * N\n",
    "            title <- paste(\"Training Curve for alpha \", a, \" N \", N, \" K \", K)\n",
    "            data <- dataFull[dataFull$alpha == a & (dataFull$syncBackups == K | dataFull$syncBackups == -1) & dataFull$fedP == N,]\n",
    "            nrow(data[data$epsToBackup == 1010,])\n",
    "            sqDiff = data$diffs ** 2\n",
    "            \n",
    "            avgDiffs = c()\n",
    "            for (trial in unique(data$trial)){\n",
    "                for (eps in unique(data$epsilon)){\n",
    "                    temp <- data[data$trial == trial & data$epsilon == eps,]\n",
    "                    tempTime <- max(temp$epsToBackup)\n",
    "                    temp <- temp[temp$epsToBackup > tempTime - 10 * 1010,]\n",
    "                    diff <- mean(temp$diffs ** 2)\n",
    "                    avgDiffs = append(avgDiffs, diff)\n",
    "                }\n",
    "            }\n",
    "\n",
    "            time <- data$epsToBackup\n",
    "            p <- ggplot(data, aes(x=log10(time), y=log10(sqDiff)))\n",
    "            p <- p + ggtitle(title)\n",
    "            p <- p + geom_point(aes(colour = epsilon))\n",
    "            p <- p + xlab(\"Time Log Scale\") + ylab(\"Error Log Scale\")\n",
    "            p <- p + scale_color_gradientn(colors = c(\"black\", \"green\"))\n",
    "            p <- p + ylim(NA, log10(15) + 0.1) # needed to keep top line not grayed out\n",
    "            p <- p + geom_hline(yintercept=log10(0.1)) + annotate(geom=\"text\", x=3.5, y=log10(0.1) + 0.1, label=\"Threshold\")\n",
    "            p <- p + geom_hline(yintercept=log10(13.731440581206959)) + annotate(geom=\"text\", x=3.5, y=log10(13.731440581206959) + 0.1, label=\"Start\")\n",
    "            p <- p + geom_hline(yintercept=log10(mean(avgDiffs)), color=\"red\") + annotate(geom=\"text\", x=3.5, y=log10(mean(avgDiffs)) + 0.1, label=\"Steady State Error\")\n",
    "            p <- p + geom_rect(data=data[1,], inherit.aes=FALSE, xmin=0, xmax=Inf, ymin=log10(mean(avgDiffs) - sd(avgDiffs)), ymax=log10(mean(avgDiffs) + sd(avgDiffs)), fill=\"red\", alpha=0.1) # steady state error sd\n",
    "            ggsave(filename=paste(\"graphs/\", title, \".png\"), plot=p, device=\"png\")\n",
    "            \n",
    "        }\n",
    "    }\n",
    "}"
   ]
  },
  {
   "cell_type": "code",
   "execution_count": null,
   "id": "015120b8-f801-4752-979c-506445c46ee8",
   "metadata": {},
   "outputs": [],
   "source": []
  }
 ],
 "metadata": {
  "kernelspec": {
   "display_name": "R",
   "language": "R",
   "name": "ir"
  },
  "language_info": {
   "codemirror_mode": "r",
   "file_extension": ".r",
   "mimetype": "text/x-r-source",
   "name": "R",
   "pygments_lexer": "r",
   "version": "4.2.2"
  }
 },
 "nbformat": 4,
 "nbformat_minor": 5
}
