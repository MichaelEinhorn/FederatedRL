{
 "cells": [
  {
   "cell_type": "code",
   "execution_count": 11,
   "id": "4941b777-6bb4-43fb-972f-1c03bce7aa8d",
   "metadata": {},
   "outputs": [],
   "source": [
    "library(ggplot2)"
   ]
  },
  {
   "cell_type": "code",
   "execution_count": 12,
   "id": "8bb19988-88ea-435f-aac3-cd75c64a5995",
   "metadata": {},
   "outputs": [
    {
     "name": "stdout",
     "output_type": "stream",
     "text": [
      "[1] \"rows\"\n"
     ]
    },
    {
     "data": {
      "text/html": [
       "95874"
      ],
      "text/latex": [
       "95874"
      ],
      "text/markdown": [
       "95874"
      ],
      "text/plain": [
       "[1] 95874"
      ]
     },
     "metadata": {},
     "output_type": "display_data"
    },
    {
     "name": "stdout",
     "output_type": "stream",
     "text": [
      "[1] \"cols\"\n"
     ]
    },
    {
     "data": {
      "text/html": [
       "23"
      ],
      "text/latex": [
       "23"
      ],
      "text/markdown": [
       "23"
      ],
      "text/plain": [
       "[1] 23"
      ]
     },
     "metadata": {},
     "output_type": "display_data"
    },
    {
     "name": "stdout",
     "output_type": "stream",
     "text": [
      "[1] \"unique alpha\"\n"
     ]
    },
    {
     "data": {
      "text/html": [
       "<style>\n",
       ".list-inline {list-style: none; margin:0; padding: 0}\n",
       ".list-inline>li {display: inline-block}\n",
       ".list-inline>li:not(:last-child)::after {content: \"\\00b7\"; padding: 0 .5ex}\n",
       "</style>\n",
       "<ol class=list-inline><li>0.001</li><li>0.002</li><li>0.004</li><li>0.005</li><li>0.008</li><li>0.01</li><li>0.016</li><li>0.02</li><li>0.032</li><li>0.04</li><li>0.05</li><li>0.08</li><li>0.1</li><li>0.16</li><li>0.2</li><li>0.32</li><li>0.4</li><li>0.5</li><li>0.8</li><li>1</li></ol>\n"
      ],
      "text/latex": [
       "\\begin{enumerate*}\n",
       "\\item 0.001\n",
       "\\item 0.002\n",
       "\\item 0.004\n",
       "\\item 0.005\n",
       "\\item 0.008\n",
       "\\item 0.01\n",
       "\\item 0.016\n",
       "\\item 0.02\n",
       "\\item 0.032\n",
       "\\item 0.04\n",
       "\\item 0.05\n",
       "\\item 0.08\n",
       "\\item 0.1\n",
       "\\item 0.16\n",
       "\\item 0.2\n",
       "\\item 0.32\n",
       "\\item 0.4\n",
       "\\item 0.5\n",
       "\\item 0.8\n",
       "\\item 1\n",
       "\\end{enumerate*}\n"
      ],
      "text/markdown": [
       "1. 0.001\n",
       "2. 0.002\n",
       "3. 0.004\n",
       "4. 0.005\n",
       "5. 0.008\n",
       "6. 0.01\n",
       "7. 0.016\n",
       "8. 0.02\n",
       "9. 0.032\n",
       "10. 0.04\n",
       "11. 0.05\n",
       "12. 0.08\n",
       "13. 0.1\n",
       "14. 0.16\n",
       "15. 0.2\n",
       "16. 0.32\n",
       "17. 0.4\n",
       "18. 0.5\n",
       "19. 0.8\n",
       "20. 1\n",
       "\n",
       "\n"
      ],
      "text/plain": [
       " [1] 0.001 0.002 0.004 0.005 0.008 0.010 0.016 0.020 0.032 0.040 0.050 0.080\n",
       "[13] 0.100 0.160 0.200 0.320 0.400 0.500 0.800 1.000"
      ]
     },
     "metadata": {},
     "output_type": "display_data"
    },
    {
     "data": {
      "text/html": [
       "<table class=\"dataframe\">\n",
       "<caption>A data.frame: 2 × 23</caption>\n",
       "<thead>\n",
       "\t<tr><th></th><th scope=col>convN</th><th scope=col>alpha</th><th scope=col>discount</th><th scope=col>epsilon</th><th scope=col>fedP</th><th scope=col>syncBackups</th><th scope=col>stochasticPolicy</th><th scope=col>envSeed</th><th scope=col>trial</th><th scope=col>sims</th><th scope=col>⋯</th><th scope=col>episodes</th><th scope=col>endScoreBell</th><th scope=col>endScoreRand</th><th scope=col>aggs</th><th scope=col>backups</th><th scope=col>endScoreStochBell</th><th scope=col>endScore</th><th scope=col>diffs</th><th scope=col>avgRewArr</th><th scope=col>epsToBackup</th></tr>\n",
       "\t<tr><th></th><th scope=col>&lt;int&gt;</th><th scope=col>&lt;dbl&gt;</th><th scope=col>&lt;dbl&gt;</th><th scope=col>&lt;dbl&gt;</th><th scope=col>&lt;int&gt;</th><th scope=col>&lt;int&gt;</th><th scope=col>&lt;chr&gt;</th><th scope=col>&lt;int&gt;</th><th scope=col>&lt;int&gt;</th><th scope=col>&lt;dbl&gt;</th><th scope=col>⋯</th><th scope=col>&lt;dbl&gt;</th><th scope=col>&lt;dbl&gt;</th><th scope=col>&lt;dbl&gt;</th><th scope=col>&lt;dbl&gt;</th><th scope=col>&lt;dbl&gt;</th><th scope=col>&lt;dbl&gt;</th><th scope=col>&lt;dbl&gt;</th><th scope=col>&lt;dbl&gt;</th><th scope=col>&lt;dbl&gt;</th><th scope=col>&lt;dbl&gt;</th></tr>\n",
       "</thead>\n",
       "<tbody>\n",
       "\t<tr><th scope=row>2208</th><td>10</td><td>0.001</td><td>0.6</td><td>1</td><td>1</td><td>-1</td><td>True</td><td>3701</td><td>0</td><td>141400</td><td>⋯</td><td>1400</td><td>3899.844</td><td>1232.687</td><td>0</td><td>141400</td><td>2237.686</td><td>3935.034</td><td>3.705596</td><td> 0.00000</td><td>   0</td></tr>\n",
       "\t<tr><th scope=row>2209</th><td>10</td><td>0.001</td><td>0.6</td><td>1</td><td>1</td><td>-1</td><td>True</td><td>3701</td><td>0</td><td>141400</td><td>⋯</td><td>1400</td><td>3899.844</td><td>1232.687</td><td>0</td><td>141400</td><td>2237.686</td><td>3935.034</td><td>3.583829</td><td>11.77784</td><td>1010</td></tr>\n",
       "</tbody>\n",
       "</table>\n"
      ],
      "text/latex": [
       "A data.frame: 2 × 23\n",
       "\\begin{tabular}{r|lllllllllllllllllllll}\n",
       "  & convN & alpha & discount & epsilon & fedP & syncBackups & stochasticPolicy & envSeed & trial & sims & ⋯ & episodes & endScoreBell & endScoreRand & aggs & backups & endScoreStochBell & endScore & diffs & avgRewArr & epsToBackup\\\\\n",
       "  & <int> & <dbl> & <dbl> & <dbl> & <int> & <int> & <chr> & <int> & <int> & <dbl> & ⋯ & <dbl> & <dbl> & <dbl> & <dbl> & <dbl> & <dbl> & <dbl> & <dbl> & <dbl> & <dbl>\\\\\n",
       "\\hline\n",
       "\t2208 & 10 & 0.001 & 0.6 & 1 & 1 & -1 & True & 3701 & 0 & 141400 & ⋯ & 1400 & 3899.844 & 1232.687 & 0 & 141400 & 2237.686 & 3935.034 & 3.705596 &  0.00000 &    0\\\\\n",
       "\t2209 & 10 & 0.001 & 0.6 & 1 & 1 & -1 & True & 3701 & 0 & 141400 & ⋯ & 1400 & 3899.844 & 1232.687 & 0 & 141400 & 2237.686 & 3935.034 & 3.583829 & 11.77784 & 1010\\\\\n",
       "\\end{tabular}\n"
      ],
      "text/markdown": [
       "\n",
       "A data.frame: 2 × 23\n",
       "\n",
       "| <!--/--> | convN &lt;int&gt; | alpha &lt;dbl&gt; | discount &lt;dbl&gt; | epsilon &lt;dbl&gt; | fedP &lt;int&gt; | syncBackups &lt;int&gt; | stochasticPolicy &lt;chr&gt; | envSeed &lt;int&gt; | trial &lt;int&gt; | sims &lt;dbl&gt; | ⋯ ⋯ | episodes &lt;dbl&gt; | endScoreBell &lt;dbl&gt; | endScoreRand &lt;dbl&gt; | aggs &lt;dbl&gt; | backups &lt;dbl&gt; | endScoreStochBell &lt;dbl&gt; | endScore &lt;dbl&gt; | diffs &lt;dbl&gt; | avgRewArr &lt;dbl&gt; | epsToBackup &lt;dbl&gt; |\n",
       "|---|---|---|---|---|---|---|---|---|---|---|---|---|---|---|---|---|---|---|---|---|---|\n",
       "| 2208 | 10 | 0.001 | 0.6 | 1 | 1 | -1 | True | 3701 | 0 | 141400 | ⋯ | 1400 | 3899.844 | 1232.687 | 0 | 141400 | 2237.686 | 3935.034 | 3.705596 |  0.00000 |    0 |\n",
       "| 2209 | 10 | 0.001 | 0.6 | 1 | 1 | -1 | True | 3701 | 0 | 141400 | ⋯ | 1400 | 3899.844 | 1232.687 | 0 | 141400 | 2237.686 | 3935.034 | 3.583829 | 11.77784 | 1010 |\n",
       "\n"
      ],
      "text/plain": [
       "     convN alpha discount epsilon fedP syncBackups stochasticPolicy envSeed\n",
       "2208 10    0.001 0.6      1       1    -1          True             3701   \n",
       "2209 10    0.001 0.6      1       1    -1          True             3701   \n",
       "     trial sims   ⋯ episodes endScoreBell endScoreRand aggs backups\n",
       "2208 0     141400 ⋯ 1400     3899.844     1232.687     0    141400 \n",
       "2209 0     141400 ⋯ 1400     3899.844     1232.687     0    141400 \n",
       "     endScoreStochBell endScore diffs    avgRewArr epsToBackup\n",
       "2208 2237.686          3935.034 3.705596  0.00000     0       \n",
       "2209 2237.686          3935.034 3.583829 11.77784  1010       "
      ]
     },
     "metadata": {},
     "output_type": "display_data"
    }
   ],
   "source": [
    "dataFull <- read.csv(\"mdpv4Traj.csv\", header=TRUE)\n",
    "dataFull <- dataFull[dataFull$alpha <= 1, ]\n",
    "print(\"rows\")\n",
    "nrow(dataFull)\n",
    "print(\"cols\")\n",
    "ncol(dataFull)\n",
    "print(\"unique alpha\")\n",
    "sort(unique(dataFull$alpha))\n",
    "head(data, 2)"
   ]
  },
  {
   "cell_type": "code",
   "execution_count": 15,
   "id": "4a43312e-c6b2-4d28-a520-4c5ce3476cb2",
   "metadata": {},
   "outputs": [
    {
     "data": {
      "text/html": [
       "6"
      ],
      "text/latex": [
       "6"
      ],
      "text/markdown": [
       "6"
      ],
      "text/plain": [
       "[1] 6"
      ]
     },
     "metadata": {},
     "output_type": "display_data"
    },
    {
     "data": {
      "image/png": "[encoded data removed]",
      "text/plain": [
       "plot without title"
      ]
     },
     "metadata": {
      "image/png": {
       "height": 420,
       "width": 420
      }
     },
     "output_type": "display_data"
    }
   ],
   "source": [
    "a = 0.001\n",
    "title <- paste(\"training curve for alpha \", a)\n",
    "data <- dataFull[dataFull$alpha == a & (dataFull$syncBackups == 1 | dataFull$syncBackups == -1) & dataFull$fedP == 1,]\n",
    "nrow(data[data$epsToBackup == 1010,])\n",
    "sqDiff = data$diffs ** 2\n",
    "\n",
    "time <- data$epsToBackup\n",
    "p <- ggplot(data, aes(x=log10(time + 1), y=log10(sqDiff)))\n",
    "p <- p + ggtitle(title)\n",
    "p <- p + geom_point(aes(colour = epsilon))\n",
    "p <- p + scale_color_gradientn(colors = c(\"black\", \"green\"))\n",
    "p <- p + geom_hline(yintercept=log10(0.5))\n",
    "p <- p + geom_hline(yintercept=log10(13.731440581206959)) # starting distance squared\n",
    "p\n",
    "\n",
    "# ggsave(filename=paste(\"graphs/\", title, \".png\"), plot=p, device=\"png\")"
   ]
  },
  {
   "cell_type": "code",
   "execution_count": 16,
   "id": "daba472c-e510-448f-b780-55262bad611d",
   "metadata": {},
   "outputs": [
    {
     "data": {
      "text/html": [
       "6"
      ],
      "text/latex": [
       "6"
      ],
      "text/markdown": [
       "6"
      ],
      "text/plain": [
       "[1] 6"
      ]
     },
     "metadata": {},
     "output_type": "display_data"
    },
    {
     "data": {
      "image/png": "[encoded data removed]",
      "text/plain": [
       "plot without title"
      ]
     },
     "metadata": {
      "image/png": {
       "height": 420,
       "width": 420
      }
     },
     "output_type": "display_data"
    }
   ],
   "source": [
    "a = 0.001\n",
    "N = 16\n",
    "a = a * N\n",
    "title <- paste(\"training curve for alpha \", a, \" N \", N)\n",
    "data <- dataFull[dataFull$alpha == a & (dataFull$syncBackups == 1 | dataFull$syncBackups == -1) & dataFull$fedP == N,]\n",
    "nrow(data[data$epsToBackup == 1010,])\n",
    "sqDiff = data$diffs ** 2\n",
    "\n",
    "time <- data$epsToBackup\n",
    "p <- ggplot(data, aes(x=log10(time), y=log10(sqDiff)))\n",
    "p <- p + ggtitle(title)\n",
    "p <- p + geom_point(aes(colour = epsilon))\n",
    "p <- p + scale_color_gradientn(colors = c(\"black\", \"green\"))\n",
    "p <- p + geom_hline(yintercept=log10(0.5))\n",
    "p <- p + geom_hline(yintercept=log10(13.731440581206959)) # starting distance squared\n",
    "p"
   ]
  },
  {
   "cell_type": "code",
   "execution_count": 19,
   "id": "7463d64b-3c18-4cf7-90f0-fd5581b5f993",
   "metadata": {},
   "outputs": [
    {
     "data": {
      "text/html": [
       "6"
      ],
      "text/latex": [
       "6"
      ],
      "text/markdown": [
       "6"
      ],
      "text/plain": [
       "[1] 6"
      ]
     },
     "metadata": {},
     "output_type": "display_data"
    },
    {
     "data": {
      "image/png": "[encoded data removed]",
      "text/plain": [
       "plot without title"
      ]
     },
     "metadata": {
      "image/png": {
       "height": 420,
       "width": 420
      }
     },
     "output_type": "display_data"
    }
   ],
   "source": [
    "a = 0.002\n",
    "N = 1\n",
    "K = 10000\n",
    "# a = a * N\n",
    "title <- paste(\"training curve for alpha \", a, \" N \", N, \" K \", K)\n",
    "data <- dataFull[dataFull$alpha == a & (dataFull$syncBackups == K | dataFull$syncBackups == -1) & dataFull$fedP == N,]\n",
    "nrow(data[data$epsToBackup == 1010,])\n",
    "sqDiff = data$diffs ** 2\n",
    "\n",
    "time <- data$epsToBackup\n",
    "p <- ggplot(data, aes(x=log10(time), y=log10(sqDiff)))\n",
    "p <- p + ggtitle(title)\n",
    "p <- p + geom_point(aes(colour = epsilon))\n",
    "p <- p + scale_color_gradientn(colors = c(\"black\", \"green\"))\n",
    "p <- p + geom_hline(yintercept=log10(0.5))\n",
    "p <- p + geom_hline(yintercept=log10(13.731440581206959)) # starting distance squared\n",
    "p"
   ]
  },
  {
   "cell_type": "code",
   "execution_count": null,
   "id": "e68d4706-9ebc-497f-8d0d-f61202a04891",
   "metadata": {},
   "outputs": [],
   "source": [
    "as = list(0.001, 0.002, 0.005, 0.01, 0.02, 0.05, 0.1, 1)\n",
    "Ns = list(2, 4, 8, 16)\n",
    "Ks = list(1, 10, 100, 1000, 10000)\n",
    "\n",
    "for (a in as){\n",
    "    for (N in Ns){\n",
    "        for (K in Ks) {\n",
    "# a = a * N\n",
    "            title <- paste(\"training curve for alpha \", a, \" N \", N, \" K \", K)\n",
    "            data <- dataFull[dataFull$alpha == a & (dataFull$syncBackups == K | dataFull$syncBackups == -1) & dataFull$fedP == N,]\n",
    "            nrow(data[data$epsToBackup == 1010,])\n",
    "            sqDiff = data$diffs ** 2\n",
    "\n",
    "            time <- data$epsToBackup\n",
    "            p <- ggplot(data, aes(x=log10(time), y=log10(sqDiff)))\n",
    "            p <- p + ggtitle(title)\n",
    "            p <- p + geom_point(aes(colour = epsilon))\n",
    "            p <- p + scale_color_gradientn(colors = c(\"black\", \"green\"))\n",
    "            p <- p + geom_hline(yintercept=log10(0.5))\n",
    "            ggsave(filename=paste(\"graphs/\", title, \".png\"), plot=p, device=\"png\")\n",
    "            \n",
    "        }\n",
    "    }\n",
    "}\n",
    "\n",
    "for (at in as){\n",
    "    for (N in Ns){\n",
    "        a = at * N\n",
    "        if (a >= 1 | a %in% as)\n",
    "            next\n",
    "        \n",
    "        for (K in Ks) {\n",
    "# a = a * N\n",
    "            title <- paste(\"training curve for alpha \", a, \" N \", N, \" K \", K)\n",
    "            data <- dataFull[dataFull$alpha == a & (dataFull$syncBackups == K | dataFull$syncBackups == -1) & dataFull$fedP == N,]\n",
    "            nrow(data[data$epsToBackup == 1010,])\n",
    "            sqDiff = data$diffs ** 2\n",
    "\n",
    "            time <- data$epsToBackup\n",
    "            p <- ggplot(data, aes(x=log10(time), y=log10(sqDiff)))\n",
    "            p <- p + ggtitle(title)\n",
    "            p <- p + geom_point(aes(colour = epsilon))\n",
    "            p <- p + scale_color_gradientn(colors = c(\"black\", \"green\"))\n",
    "            p <- p + geom_hline(yintercept=log10(0.5))\n",
    "            ggsave(filename=paste(\"graphs/\", title, \".png\"), plot=p, device=\"png\")\n",
    "            \n",
    "        }\n",
    "    }\n",
    "}"
   ]
  },
  {
   "cell_type": "code",
   "execution_count": null,
   "id": "015120b8-f801-4752-979c-506445c46ee8",
   "metadata": {},
   "outputs": [],
   "source": []
  }
 ],
 "metadata": {
  "kernelspec": {
   "display_name": "R",
   "language": "R",
   "name": "ir"
  },
  "language_info": {
   "codemirror_mode": "r",
   "file_extension": ".r",
   "mimetype": "text/x-r-source",
   "name": "R",
   "pygments_lexer": "r",
   "version": "4.2.2"
  }
 },
 "nbformat": 4,
 "nbformat_minor": 5
}
