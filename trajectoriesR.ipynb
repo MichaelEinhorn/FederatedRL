{
 "cells": [
  {
   "cell_type": "code",
   "execution_count": 1,
   "id": "4941b777-6bb4-43fb-972f-1c03bce7aa8d",
   "metadata": {},
   "outputs": [],
   "source": [
    "library(ggplot2)"
   ]
  },
  {
   "cell_type": "code",
   "execution_count": 2,
   "id": "8bb19988-88ea-435f-aac3-cd75c64a5995",
   "metadata": {},
   "outputs": [
    {
     "name": "stdout",
     "output_type": "stream",
     "text": [
      "[1] \"rows\"\n"
     ]
    },
    {
     "data": {
      "text/html": [
       "95874"
      ],
      "text/latex": [
       "95874"
      ],
      "text/markdown": [
       "95874"
      ],
      "text/plain": [
       "[1] 95874"
      ]
     },
     "metadata": {},
     "output_type": "display_data"
    },
    {
     "name": "stdout",
     "output_type": "stream",
     "text": [
      "[1] \"cols\"\n"
     ]
    },
    {
     "data": {
      "text/html": [
       "23"
      ],
      "text/latex": [
       "23"
      ],
      "text/markdown": [
       "23"
      ],
      "text/plain": [
       "[1] 23"
      ]
     },
     "metadata": {},
     "output_type": "display_data"
    },
    {
     "name": "stdout",
     "output_type": "stream",
     "text": [
      "[1] \"unique alpha\"\n"
     ]
    },
    {
     "data": {
      "text/html": [
       "<style>\n",
       ".list-inline {list-style: none; margin:0; padding: 0}\n",
       ".list-inline>li {display: inline-block}\n",
       ".list-inline>li:not(:last-child)::after {content: \"\\00b7\"; padding: 0 .5ex}\n",
       "</style>\n",
       "<ol class=list-inline><li>0.001</li><li>0.002</li><li>0.004</li><li>0.005</li><li>0.008</li><li>0.01</li><li>0.016</li><li>0.02</li><li>0.032</li><li>0.04</li><li>0.05</li><li>0.08</li><li>0.1</li><li>0.16</li><li>0.2</li><li>0.32</li><li>0.4</li><li>0.5</li><li>0.8</li><li>1</li></ol>\n"
      ],
      "text/latex": [
       "\\begin{enumerate*}\n",
       "\\item 0.001\n",
       "\\item 0.002\n",
       "\\item 0.004\n",
       "\\item 0.005\n",
       "\\item 0.008\n",
       "\\item 0.01\n",
       "\\item 0.016\n",
       "\\item 0.02\n",
       "\\item 0.032\n",
       "\\item 0.04\n",
       "\\item 0.05\n",
       "\\item 0.08\n",
       "\\item 0.1\n",
       "\\item 0.16\n",
       "\\item 0.2\n",
       "\\item 0.32\n",
       "\\item 0.4\n",
       "\\item 0.5\n",
       "\\item 0.8\n",
       "\\item 1\n",
       "\\end{enumerate*}\n"
      ],
      "text/markdown": [
       "1. 0.001\n",
       "2. 0.002\n",
       "3. 0.004\n",
       "4. 0.005\n",
       "5. 0.008\n",
       "6. 0.01\n",
       "7. 0.016\n",
       "8. 0.02\n",
       "9. 0.032\n",
       "10. 0.04\n",
       "11. 0.05\n",
       "12. 0.08\n",
       "13. 0.1\n",
       "14. 0.16\n",
       "15. 0.2\n",
       "16. 0.32\n",
       "17. 0.4\n",
       "18. 0.5\n",
       "19. 0.8\n",
       "20. 1\n",
       "\n",
       "\n"
      ],
      "text/plain": [
       " [1] 0.001 0.002 0.004 0.005 0.008 0.010 0.016 0.020 0.032 0.040 0.050 0.080\n",
       "[13] 0.100 0.160 0.200 0.320 0.400 0.500 0.800 1.000"
      ]
     },
     "metadata": {},
     "output_type": "display_data"
    },
    {
     "data": {
      "text/plain": [
       "                                                                            \n",
       "1 function (..., list = character(), package = NULL, lib.loc = NULL,        \n",
       "2     verbose = getOption(\"verbose\"), envir = .GlobalEnv, overwrite = TRUE) "
      ]
     },
     "metadata": {},
     "output_type": "display_data"
    }
   ],
   "source": [
    "dataFull <- read.csv(\"mdpv4Traj.csv\", header=TRUE)\n",
    "dataFull <- dataFull[dataFull$alpha <= 1, ]\n",
    "print(\"rows\")\n",
    "nrow(dataFull)\n",
    "print(\"cols\")\n",
    "ncol(dataFull)\n",
    "print(\"unique alpha\")\n",
    "sort(unique(dataFull$alpha))\n",
    "head(data, 2)"
   ]
  },
  {
   "cell_type": "code",
   "execution_count": 3,
   "id": "4a43312e-c6b2-4d28-a520-4c5ce3476cb2",
   "metadata": {},
   "outputs": [
    {
     "data": {
      "text/html": [
       "6"
      ],
      "text/latex": [
       "6"
      ],
      "text/markdown": [
       "6"
      ],
      "text/plain": [
       "[1] 6"
      ]
     },
     "metadata": {},
     "output_type": "display_data"
    },
    {
     "data": {
      "image/png": "[encoded data removed]",
      "text/plain": [
       "plot without title"
      ]
     },
     "metadata": {
      "image/png": {
       "height": 420,
       "width": 420
      }
     },
     "output_type": "display_data"
    }
   ],
   "source": [
    "a = 0.001\n",
    "title <- paste(\"Training Curve for alpha \", a)\n",
    "data <- dataFull[dataFull$alpha == a & (dataFull$syncBackups == 1 | dataFull$syncBackups == -1) & dataFull$fedP == 1,]\n",
    "nrow(data[data$epsToBackup == 1010,])\n",
    "sqDiff = data$diffs ** 2\n",
    "\n",
    "time <- data$epsToBackup\n",
    "p <- ggplot(data, aes(x=log10(time), y=log10(sqDiff)))\n",
    "p <- p + ggtitle(title)\n",
    "p <- p + geom_point(aes(colour = epsilon))\n",
    "p <- p + xlab(\"Time Log Scale\") + ylab(\"Error Log Scale\")\n",
    "p <- p + scale_color_gradientn(colors = c(\"black\", \"green\"))\n",
    "p <- p + ylim(NA, log10(15)) # needed to keep top line not grayed out\n",
    "p <- p + geom_hline(yintercept=log10(0.1))\n",
    "p <- p + geom_hline(yintercept=log10(13.731440581206959)) # starting distance squared\n",
    "p\n",
    "\n",
    "# ggsave(filename=paste(\"graphs/\", title, \".png\"), plot=p, device=\"png\")"
   ]
  },
  {
   "cell_type": "code",
   "execution_count": 4,
   "id": "daba472c-e510-448f-b780-55262bad611d",
   "metadata": {},
   "outputs": [
    {
     "data": {
      "text/html": [
       "6"
      ],
      "text/latex": [
       "6"
      ],
      "text/markdown": [
       "6"
      ],
      "text/plain": [
       "[1] 6"
      ]
     },
     "metadata": {},
     "output_type": "display_data"
    },
    {
     "data": {
      "image/png": "[encoded data removed]",
      "text/plain": [
       "plot without title"
      ]
     },
     "metadata": {
      "image/png": {
       "height": 420,
       "width": 420
      }
     },
     "output_type": "display_data"
    }
   ],
   "source": [
    "a = 0.005\n",
    "N = 16\n",
    "title <- paste(\"Training Curve for alpha \", a, \" N \", N)\n",
    "data <- dataFull[dataFull$alpha == a & (dataFull$syncBackups == 1 | dataFull$syncBackups == -1) & dataFull$fedP == N,]\n",
    "nrow(data[data$epsToBackup == 1010,])\n",
    "sqDiff = data$diffs ** 2\n",
    "\n",
    "time <- data$epsToBackup\n",
    "p <- ggplot(data, aes(x=log10(time), y=log10(sqDiff)))\n",
    "p <- p + ggtitle(title)\n",
    "p <- p + geom_point(aes(colour = epsilon))\n",
    "p <- p + xlab(\"Time Log Scale\") + ylab(\"Error Log Scale\")\n",
    "p <- p + scale_color_gradientn(colors = c(\"black\", \"green\"))\n",
    "p <- p + ylim(-4.5, log10(15)) # needed to keep top line not grayed out\n",
    "p <- p + geom_hline(yintercept=log10(0.1), color=\"black\")\n",
    "p <- p + geom_hline(yintercept=log10(13.731440581206959), color=\"black\") # starting distance squared\n",
    "p"
   ]
  },
  {
   "cell_type": "code",
   "execution_count": 5,
   "id": "b5618509-a6b3-4c86-ab29-f8cfa72e9732",
   "metadata": {},
   "outputs": [
    {
     "data": {
      "text/html": [
       "6"
      ],
      "text/latex": [
       "6"
      ],
      "text/markdown": [
       "6"
      ],
      "text/plain": [
       "[1] 6"
      ]
     },
     "metadata": {},
     "output_type": "display_data"
    },
    {
     "data": {
      "image/png": "[encoded data removed]",
      "text/plain": [
       "plot without title"
      ]
     },
     "metadata": {
      "image/png": {
       "height": 420,
       "width": 420
      }
     },
     "output_type": "display_data"
    }
   ],
   "source": [
    "a = 0.005\n",
    "N = 1\n",
    "title <- paste(\"Training Curve for alpha \", a, \" N \", N)\n",
    "data <- dataFull[dataFull$alpha == a & (dataFull$syncBackups == 1 | dataFull$syncBackups == -1) & dataFull$fedP == N,]\n",
    "nrow(data[data$epsToBackup == 1010,])\n",
    "sqDiff = data$diffs ** 2\n",
    "\n",
    "time <- data$epsToBackup\n",
    "p <- ggplot(data, aes(x=log10(time), y=log10(sqDiff)))\n",
    "p <- p + ggtitle(title)\n",
    "p <- p + geom_point(aes(colour = epsilon))\n",
    "p <- p + xlab(\"Time Log Scale\") + ylab(\"Error Log Scale\")\n",
    "p <- p + scale_color_gradientn(colors = c(\"black\", \"green\"))\n",
    "p <- p + ylim(-3, log10(15)) # needed to keep top line not grayed out\n",
    "p <- p + geom_hline(yintercept=log10(0.1), color=\"black\")\n",
    "p <- p + geom_hline(yintercept=log10(13.731440581206959), color=\"black\") # starting distance squared\n",
    "p"
   ]
  },
  {
   "cell_type": "code",
   "execution_count": 6,
   "id": "be013f53-4b23-4bac-abdb-9865db00e5b9",
   "metadata": {},
   "outputs": [
    {
     "data": {
      "text/html": [
       "6"
      ],
      "text/latex": [
       "6"
      ],
      "text/markdown": [
       "6"
      ],
      "text/plain": [
       "[1] 6"
      ]
     },
     "metadata": {},
     "output_type": "display_data"
    },
    {
     "data": {
      "image/png": "[encoded data removed]",
      "text/plain": [
       "plot without title"
      ]
     },
     "metadata": {
      "image/png": {
       "height": 420,
       "width": 420
      }
     },
     "output_type": "display_data"
    }
   ],
   "source": [
    "a = 0.08\n",
    "N = 16\n",
    "title <- paste(\"Training Curve for alpha \", a, \" N \", N)\n",
    "data <- dataFull[dataFull$alpha == a & (dataFull$syncBackups == 1 | dataFull$syncBackups == -1) & dataFull$fedP == N,]\n",
    "nrow(data[data$epsToBackup == 1010,])\n",
    "sqDiff = data$diffs ** 2\n",
    "\n",
    "time <- data$epsToBackup\n",
    "p <- ggplot(data, aes(x=log10(time), y=log10(sqDiff)))\n",
    "p <- p + ggtitle(title)\n",
    "p <- p + geom_point(aes(colour = epsilon))\n",
    "p <- p + xlab(\"Time Log Scale\") + ylab(\"Error Log Scale\")\n",
    "p <- p + scale_color_gradientn(colors = c(\"black\", \"green\"))\n",
    "p <- p + ylim(NA, log10(15)) # needed to keep top line not grayed out\n",
    "p <- p + geom_hline(yintercept=log10(0.1), color=\"black\")\n",
    "p <- p + geom_hline(yintercept=log10(13.731440581206959), color=\"black\") # starting distance squared\n",
    "p"
   ]
  },
  {
   "cell_type": "code",
   "execution_count": 7,
   "id": "7463d64b-3c18-4cf7-90f0-fd5581b5f993",
   "metadata": {},
   "outputs": [
    {
     "data": {
      "text/html": [
       "6"
      ],
      "text/latex": [
       "6"
      ],
      "text/markdown": [
       "6"
      ],
      "text/plain": [
       "[1] 6"
      ]
     },
     "metadata": {},
     "output_type": "display_data"
    },
    {
     "data": {
      "image/png": "[encoded data removed]",
      "text/plain": [
       "plot without title"
      ]
     },
     "metadata": {
      "image/png": {
       "height": 420,
       "width": 420
      }
     },
     "output_type": "display_data"
    }
   ],
   "source": [
    "a = 0.002\n",
    "N = 16\n",
    "K = 10000\n",
    "# a = a * N\n",
    "title <- paste(\"Training Curve for alpha \", a, \" N \", N, \" K \", K)\n",
    "data <- dataFull[dataFull$alpha == a & (dataFull$syncBackups == K | dataFull$syncBackups == -1) & dataFull$fedP == N,]\n",
    "nrow(data[data$epsToBackup == 1010,])\n",
    "sqDiff = data$diffs ** 2\n",
    "\n",
    "time <- data$epsToBackup\n",
    "p <- ggplot(data, aes(x=log10(time), y=log10(sqDiff)))\n",
    "p <- p + ggtitle(title)\n",
    "p <- p + geom_point(aes(colour = epsilon))\n",
    "p <- p + xlab(\"Time Log Scale\") + ylab(\"Error Log Scale\")\n",
    "p <- p + scale_color_gradientn(colors = c(\"black\", \"green\"))\n",
    "p <- p + ylim(NA, log10(15)) # needed to keep top line not grayed out\n",
    "p <- p + geom_hline(yintercept=log10(0.1))\n",
    "p <- p + geom_hline(yintercept=log10(13.731440581206959)) # starting distance squared\n",
    "p"
   ]
  },
  {
   "cell_type": "code",
   "execution_count": 8,
   "id": "e91f65f0-fe84-41a1-b818-fdc92ad10b5f",
   "metadata": {},
   "outputs": [
    {
     "data": {
      "text/html": [
       "15"
      ],
      "text/latex": [
       "15"
      ],
      "text/markdown": [
       "15"
      ],
      "text/plain": [
       "[1] 15"
      ]
     },
     "metadata": {},
     "output_type": "display_data"
    },
    {
     "data": {
      "image/png": "[encoded data removed]",
      "text/plain": [
       "plot without title"
      ]
     },
     "metadata": {
      "image/png": {
       "height": 420,
       "width": 420
      }
     },
     "output_type": "display_data"
    }
   ],
   "source": [
    "a = 0.01\n",
    "N = 16\n",
    "# a = a * N\n",
    "title <- paste(\"Training Curve for different K, alpha \", a, \" N \", N)\n",
    "data <- dataFull[dataFull$alpha == a & dataFull$fedP == N & dataFull$epsilon == 1,]\n",
    "data$syncBackups[data$syncBackups == -1] <- 1\n",
    "nrow(data[data$epsToBackup == 1010,])\n",
    "sqDiff = data$diffs ** 2\n",
    "\n",
    "time <- data$epsToBackup\n",
    "p <- ggplot(data, aes(x=log10(time), y=log10(sqDiff)))\n",
    "p <- p + ggtitle(title)\n",
    "p <- p + geom_point(aes(colour = log10(syncBackups)))\n",
    "p <- p + xlab(\"Time Log Scale\") + ylab(\"Error Log Scale\")\n",
    "p <- p + scale_color_gradientn(colors = c(\"black\", \"blue\"))\n",
    "p <- p + ylim(NA, log10(15)) # needed to keep top line not grayed out\n",
    "p <- p + geom_hline(yintercept=log10(0.1))\n",
    "p <- p + geom_hline(yintercept=log10(13.731440581206959)) # starting distance squared\n",
    "p"
   ]
  },
  {
   "cell_type": "code",
   "execution_count": 10,
   "id": "e68d4706-9ebc-497f-8d0d-f61202a04891",
   "metadata": {},
   "outputs": [
    {
     "name": "stderr",
     "output_type": "stream",
     "text": [
      "\u001b[1m\u001b[22mSaving 6.67 x 6.67 in image\n",
      "\u001b[1m\u001b[22mSaving 6.67 x 6.67 in image\n",
      "\u001b[1m\u001b[22mSaving 6.67 x 6.67 in image\n",
      "\u001b[1m\u001b[22mSaving 6.67 x 6.67 in image\n",
      "\u001b[1m\u001b[22mSaving 6.67 x 6.67 in image\n",
      "\u001b[1m\u001b[22mSaving 6.67 x 6.67 in image\n",
      "\u001b[1m\u001b[22mSaving 6.67 x 6.67 in image\n",
      "\u001b[1m\u001b[22mSaving 6.67 x 6.67 in image\n",
      "\u001b[1m\u001b[22mSaving 6.67 x 6.67 in image\n",
      "\u001b[1m\u001b[22mSaving 6.67 x 6.67 in image\n",
      "\u001b[1m\u001b[22mSaving 6.67 x 6.67 in image\n",
      "\u001b[1m\u001b[22mSaving 6.67 x 6.67 in image\n",
      "\u001b[1m\u001b[22mSaving 6.67 x 6.67 in image\n",
      "\u001b[1m\u001b[22mSaving 6.67 x 6.67 in image\n",
      "\u001b[1m\u001b[22mSaving 6.67 x 6.67 in image\n",
      "\u001b[1m\u001b[22mSaving 6.67 x 6.67 in image\n",
      "\u001b[1m\u001b[22mSaving 6.67 x 6.67 in image\n",
      "\u001b[1m\u001b[22mSaving 6.67 x 6.67 in image\n",
      "\u001b[1m\u001b[22mSaving 6.67 x 6.67 in image\n",
      "\u001b[1m\u001b[22mSaving 6.67 x 6.67 in image\n",
      "\u001b[1m\u001b[22mSaving 6.67 x 6.67 in image\n",
      "\u001b[1m\u001b[22mSaving 6.67 x 6.67 in image\n",
      "\u001b[1m\u001b[22mSaving 6.67 x 6.67 in image\n",
      "\u001b[1m\u001b[22mSaving 6.67 x 6.67 in image\n",
      "\u001b[1m\u001b[22mSaving 6.67 x 6.67 in image\n",
      "\u001b[1m\u001b[22mSaving 6.67 x 6.67 in image\n",
      "\u001b[1m\u001b[22mSaving 6.67 x 6.67 in image\n",
      "\u001b[1m\u001b[22mSaving 6.67 x 6.67 in image\n",
      "\u001b[1m\u001b[22mSaving 6.67 x 6.67 in image\n",
      "\u001b[1m\u001b[22mSaving 6.67 x 6.67 in image\n",
      "\u001b[1m\u001b[22mSaving 6.67 x 6.67 in image\n",
      "\u001b[1m\u001b[22mSaving 6.67 x 6.67 in image\n",
      "\u001b[1m\u001b[22mSaving 6.67 x 6.67 in image\n",
      "\u001b[1m\u001b[22mSaving 6.67 x 6.67 in image\n",
      "\u001b[1m\u001b[22mSaving 6.67 x 6.67 in image\n",
      "\u001b[1m\u001b[22mSaving 6.67 x 6.67 in image\n",
      "\u001b[1m\u001b[22mSaving 6.67 x 6.67 in image\n",
      "\u001b[1m\u001b[22mSaving 6.67 x 6.67 in image\n",
      "\u001b[1m\u001b[22mSaving 6.67 x 6.67 in image\n",
      "\u001b[1m\u001b[22mSaving 6.67 x 6.67 in image\n",
      "\u001b[1m\u001b[22mSaving 6.67 x 6.67 in image\n",
      "\u001b[1m\u001b[22mSaving 6.67 x 6.67 in image\n",
      "\u001b[1m\u001b[22mSaving 6.67 x 6.67 in image\n",
      "\u001b[1m\u001b[22mSaving 6.67 x 6.67 in image\n",
      "\u001b[1m\u001b[22mSaving 6.67 x 6.67 in image\n",
      "\u001b[1m\u001b[22mSaving 6.67 x 6.67 in image\n",
      "\u001b[1m\u001b[22mSaving 6.67 x 6.67 in image\n",
      "\u001b[1m\u001b[22mSaving 6.67 x 6.67 in image\n",
      "\u001b[1m\u001b[22mSaving 6.67 x 6.67 in image\n",
      "\u001b[1m\u001b[22mSaving 6.67 x 6.67 in image\n",
      "\u001b[1m\u001b[22mSaving 6.67 x 6.67 in image\n",
      "\u001b[1m\u001b[22mSaving 6.67 x 6.67 in image\n",
      "\u001b[1m\u001b[22mSaving 6.67 x 6.67 in image\n",
      "\u001b[1m\u001b[22mSaving 6.67 x 6.67 in image\n",
      "\u001b[1m\u001b[22mSaving 6.67 x 6.67 in image\n",
      "\u001b[1m\u001b[22mSaving 6.67 x 6.67 in image\n",
      "\u001b[1m\u001b[22mSaving 6.67 x 6.67 in image\n",
      "\u001b[1m\u001b[22mSaving 6.67 x 6.67 in image\n",
      "\u001b[1m\u001b[22mSaving 6.67 x 6.67 in image\n",
      "\u001b[1m\u001b[22mSaving 6.67 x 6.67 in image\n",
      "\u001b[1m\u001b[22mSaving 6.67 x 6.67 in image\n",
      "\u001b[1m\u001b[22mSaving 6.67 x 6.67 in image\n",
      "\u001b[1m\u001b[22mSaving 6.67 x 6.67 in image\n",
      "\u001b[1m\u001b[22mSaving 6.67 x 6.67 in image\n",
      "\u001b[1m\u001b[22mSaving 6.67 x 6.67 in image\n",
      "\u001b[1m\u001b[22mSaving 6.67 x 6.67 in image\n",
      "\u001b[1m\u001b[22mSaving 6.67 x 6.67 in image\n",
      "\u001b[1m\u001b[22mSaving 6.67 x 6.67 in image\n",
      "\u001b[1m\u001b[22mSaving 6.67 x 6.67 in image\n",
      "\u001b[1m\u001b[22mSaving 6.67 x 6.67 in image\n",
      "\u001b[1m\u001b[22mSaving 6.67 x 6.67 in image\n",
      "\u001b[1m\u001b[22mSaving 6.67 x 6.67 in image\n",
      "\u001b[1m\u001b[22mSaving 6.67 x 6.67 in image\n",
      "\u001b[1m\u001b[22mSaving 6.67 x 6.67 in image\n",
      "\u001b[1m\u001b[22mSaving 6.67 x 6.67 in image\n",
      "\u001b[1m\u001b[22mSaving 6.67 x 6.67 in image\n",
      "\u001b[1m\u001b[22mSaving 6.67 x 6.67 in image\n",
      "\u001b[1m\u001b[22mSaving 6.67 x 6.67 in image\n",
      "\u001b[1m\u001b[22mSaving 6.67 x 6.67 in image\n",
      "\u001b[1m\u001b[22mSaving 6.67 x 6.67 in image\n",
      "\u001b[1m\u001b[22mSaving 6.67 x 6.67 in image\n",
      "\u001b[1m\u001b[22mSaving 6.67 x 6.67 in image\n",
      "\u001b[1m\u001b[22mSaving 6.67 x 6.67 in image\n",
      "\u001b[1m\u001b[22mSaving 6.67 x 6.67 in image\n",
      "\u001b[1m\u001b[22mSaving 6.67 x 6.67 in image\n",
      "\u001b[1m\u001b[22mSaving 6.67 x 6.67 in image\n",
      "\u001b[1m\u001b[22mSaving 6.67 x 6.67 in image\n",
      "\u001b[1m\u001b[22mSaving 6.67 x 6.67 in image\n",
      "\u001b[1m\u001b[22mSaving 6.67 x 6.67 in image\n",
      "\u001b[1m\u001b[22mSaving 6.67 x 6.67 in image\n",
      "\u001b[1m\u001b[22mSaving 6.67 x 6.67 in image\n",
      "\u001b[1m\u001b[22mSaving 6.67 x 6.67 in image\n",
      "\u001b[1m\u001b[22mSaving 6.67 x 6.67 in image\n",
      "\u001b[1m\u001b[22mSaving 6.67 x 6.67 in image\n",
      "\u001b[1m\u001b[22mSaving 6.67 x 6.67 in image\n",
      "\u001b[1m\u001b[22mSaving 6.67 x 6.67 in image\n",
      "\u001b[1m\u001b[22mSaving 6.67 x 6.67 in image\n",
      "\u001b[1m\u001b[22mSaving 6.67 x 6.67 in image\n",
      "\u001b[1m\u001b[22mSaving 6.67 x 6.67 in image\n",
      "\u001b[1m\u001b[22mSaving 6.67 x 6.67 in image\n",
      "\u001b[1m\u001b[22mSaving 6.67 x 6.67 in image\n",
      "\u001b[1m\u001b[22mSaving 6.67 x 6.67 in image\n",
      "\u001b[1m\u001b[22mSaving 6.67 x 6.67 in image\n",
      "\u001b[1m\u001b[22mSaving 6.67 x 6.67 in image\n",
      "\u001b[1m\u001b[22mSaving 6.67 x 6.67 in image\n",
      "\u001b[1m\u001b[22mSaving 6.67 x 6.67 in image\n",
      "\u001b[1m\u001b[22mSaving 6.67 x 6.67 in image\n",
      "\u001b[1m\u001b[22mSaving 6.67 x 6.67 in image\n",
      "\u001b[1m\u001b[22mSaving 6.67 x 6.67 in image\n",
      "\u001b[1m\u001b[22mSaving 6.67 x 6.67 in image\n",
      "\u001b[1m\u001b[22mSaving 6.67 x 6.67 in image\n",
      "\u001b[1m\u001b[22mSaving 6.67 x 6.67 in image\n",
      "\u001b[1m\u001b[22mSaving 6.67 x 6.67 in image\n",
      "\u001b[1m\u001b[22mSaving 6.67 x 6.67 in image\n",
      "\u001b[1m\u001b[22mSaving 6.67 x 6.67 in image\n",
      "\u001b[1m\u001b[22mSaving 6.67 x 6.67 in image\n",
      "\u001b[1m\u001b[22mSaving 6.67 x 6.67 in image\n",
      "\u001b[1m\u001b[22mSaving 6.67 x 6.67 in image\n",
      "\u001b[1m\u001b[22mSaving 6.67 x 6.67 in image\n",
      "\u001b[1m\u001b[22mSaving 6.67 x 6.67 in image\n",
      "\u001b[1m\u001b[22mSaving 6.67 x 6.67 in image\n",
      "\u001b[1m\u001b[22mSaving 6.67 x 6.67 in image\n",
      "\u001b[1m\u001b[22mSaving 6.67 x 6.67 in image\n",
      "\u001b[1m\u001b[22mSaving 6.67 x 6.67 in image\n",
      "\u001b[1m\u001b[22mSaving 6.67 x 6.67 in image\n",
      "\u001b[1m\u001b[22mSaving 6.67 x 6.67 in image\n",
      "\u001b[1m\u001b[22mSaving 6.67 x 6.67 in image\n",
      "\u001b[1m\u001b[22mSaving 6.67 x 6.67 in image\n",
      "\u001b[1m\u001b[22mSaving 6.67 x 6.67 in image\n",
      "\u001b[1m\u001b[22mSaving 6.67 x 6.67 in image\n",
      "\u001b[1m\u001b[22mSaving 6.67 x 6.67 in image\n",
      "\u001b[1m\u001b[22mSaving 6.67 x 6.67 in image\n",
      "\u001b[1m\u001b[22mSaving 6.67 x 6.67 in image\n",
      "\u001b[1m\u001b[22mSaving 6.67 x 6.67 in image\n",
      "\u001b[1m\u001b[22mSaving 6.67 x 6.67 in image\n",
      "\u001b[1m\u001b[22mSaving 6.67 x 6.67 in image\n",
      "\u001b[1m\u001b[22mSaving 6.67 x 6.67 in image\n",
      "\u001b[1m\u001b[22mSaving 6.67 x 6.67 in image\n",
      "\u001b[1m\u001b[22mSaving 6.67 x 6.67 in image\n",
      "\u001b[1m\u001b[22mSaving 6.67 x 6.67 in image\n",
      "\u001b[1m\u001b[22mSaving 6.67 x 6.67 in image\n",
      "\u001b[1m\u001b[22mSaving 6.67 x 6.67 in image\n",
      "\u001b[1m\u001b[22mSaving 6.67 x 6.67 in image\n",
      "\u001b[1m\u001b[22mSaving 6.67 x 6.67 in image\n",
      "\u001b[1m\u001b[22mSaving 6.67 x 6.67 in image\n",
      "\u001b[1m\u001b[22mSaving 6.67 x 6.67 in image\n",
      "\u001b[1m\u001b[22mSaving 6.67 x 6.67 in image\n",
      "\u001b[1m\u001b[22mSaving 6.67 x 6.67 in image\n",
      "Warning message:\n",
      "\"\u001b[1m\u001b[22mRemoved 24 rows containing missing values (`geom_point()`).\"\n",
      "\u001b[1m\u001b[22mSaving 6.67 x 6.67 in image\n",
      "\u001b[1m\u001b[22mSaving 6.67 x 6.67 in image\n",
      "Warning message:\n",
      "\"\u001b[1m\u001b[22mRemoved 6 rows containing missing values (`geom_point()`).\"\n",
      "\u001b[1m\u001b[22mSaving 6.67 x 6.67 in image\n",
      "Warning message:\n",
      "\"\u001b[1m\u001b[22mRemoved 17 rows containing missing values (`geom_point()`).\"\n",
      "\u001b[1m\u001b[22mSaving 6.67 x 6.67 in image\n",
      "Warning message:\n",
      "\"\u001b[1m\u001b[22mRemoved 17 rows containing missing values (`geom_point()`).\"\n",
      "\u001b[1m\u001b[22mSaving 6.67 x 6.67 in image\n",
      "Warning message:\n",
      "\"\u001b[1m\u001b[22mRemoved 24 rows containing missing values (`geom_point()`).\"\n",
      "\u001b[1m\u001b[22mSaving 6.67 x 6.67 in image\n",
      "\u001b[1m\u001b[22mSaving 6.67 x 6.67 in image\n",
      "\u001b[1m\u001b[22mSaving 6.67 x 6.67 in image\n",
      "Warning message:\n",
      "\"\u001b[1m\u001b[22mRemoved 15 rows containing missing values (`geom_point()`).\"\n",
      "\u001b[1m\u001b[22mSaving 6.67 x 6.67 in image\n",
      "Warning message:\n",
      "\"\u001b[1m\u001b[22mRemoved 22 rows containing missing values (`geom_point()`).\"\n",
      "\u001b[1m\u001b[22mSaving 6.67 x 6.67 in image\n",
      "Warning message:\n",
      "\"\u001b[1m\u001b[22mRemoved 14 rows containing missing values (`geom_point()`).\"\n",
      "\u001b[1m\u001b[22mSaving 6.67 x 6.67 in image\n",
      "\u001b[1m\u001b[22mSaving 6.67 x 6.67 in image\n",
      "\u001b[1m\u001b[22mSaving 6.67 x 6.67 in image\n",
      "Warning message:\n",
      "\"\u001b[1m\u001b[22mRemoved 7 rows containing missing values (`geom_point()`).\"\n",
      "\u001b[1m\u001b[22mSaving 6.67 x 6.67 in image\n",
      "Warning message:\n",
      "\"\u001b[1m\u001b[22mRemoved 15 rows containing missing values (`geom_point()`).\"\n",
      "\u001b[1m\u001b[22mSaving 6.67 x 6.67 in image\n",
      "Warning message:\n",
      "\"\u001b[1m\u001b[22mRemoved 15 rows containing missing values (`geom_point()`).\"\n",
      "\u001b[1m\u001b[22mSaving 6.67 x 6.67 in image\n",
      "\u001b[1m\u001b[22mSaving 6.67 x 6.67 in image\n",
      "\u001b[1m\u001b[22mSaving 6.67 x 6.67 in image\n",
      "Warning message:\n",
      "\"\u001b[1m\u001b[22mRemoved 11 rows containing missing values (`geom_point()`).\"\n",
      "\u001b[1m\u001b[22mSaving 6.67 x 6.67 in image\n",
      "Warning message:\n",
      "\"\u001b[1m\u001b[22mRemoved 16 rows containing missing values (`geom_point()`).\"\n",
      "\u001b[1m\u001b[22mSaving 6.67 x 6.67 in image\n",
      "Warning message:\n",
      "\"\u001b[1m\u001b[22mRemoved 19 rows containing missing values (`geom_point()`).\"\n",
      "\u001b[1m\u001b[22mSaving 6.67 x 6.67 in image\n",
      "\u001b[1m\u001b[22mSaving 6.67 x 6.67 in image\n",
      "\u001b[1m\u001b[22mSaving 6.67 x 6.67 in image\n",
      "\u001b[1m\u001b[22mSaving 6.67 x 6.67 in image\n",
      "\u001b[1m\u001b[22mSaving 6.67 x 6.67 in image\n",
      "\u001b[1m\u001b[22mSaving 6.67 x 6.67 in image\n",
      "\u001b[1m\u001b[22mSaving 6.67 x 6.67 in image\n",
      "\u001b[1m\u001b[22mSaving 6.67 x 6.67 in image\n",
      "\u001b[1m\u001b[22mSaving 6.67 x 6.67 in image\n",
      "\u001b[1m\u001b[22mSaving 6.67 x 6.67 in image\n",
      "\u001b[1m\u001b[22mSaving 6.67 x 6.67 in image\n",
      "\u001b[1m\u001b[22mSaving 6.67 x 6.67 in image\n",
      "\u001b[1m\u001b[22mSaving 6.67 x 6.67 in image\n",
      "\u001b[1m\u001b[22mSaving 6.67 x 6.67 in image\n",
      "\u001b[1m\u001b[22mSaving 6.67 x 6.67 in image\n",
      "\u001b[1m\u001b[22mSaving 6.67 x 6.67 in image\n",
      "\u001b[1m\u001b[22mSaving 6.67 x 6.67 in image\n",
      "\u001b[1m\u001b[22mSaving 6.67 x 6.67 in image\n",
      "\u001b[1m\u001b[22mSaving 6.67 x 6.67 in image\n",
      "\u001b[1m\u001b[22mSaving 6.67 x 6.67 in image\n",
      "\u001b[1m\u001b[22mSaving 6.67 x 6.67 in image\n",
      "\u001b[1m\u001b[22mSaving 6.67 x 6.67 in image\n",
      "\u001b[1m\u001b[22mSaving 6.67 x 6.67 in image\n",
      "\u001b[1m\u001b[22mSaving 6.67 x 6.67 in image\n",
      "\u001b[1m\u001b[22mSaving 6.67 x 6.67 in image\n",
      "\u001b[1m\u001b[22mSaving 6.67 x 6.67 in image\n",
      "\u001b[1m\u001b[22mSaving 6.67 x 6.67 in image\n",
      "\u001b[1m\u001b[22mSaving 6.67 x 6.67 in image\n",
      "\u001b[1m\u001b[22mSaving 6.67 x 6.67 in image\n",
      "\u001b[1m\u001b[22mSaving 6.67 x 6.67 in image\n",
      "\u001b[1m\u001b[22mSaving 6.67 x 6.67 in image\n",
      "\u001b[1m\u001b[22mSaving 6.67 x 6.67 in image\n",
      "\u001b[1m\u001b[22mSaving 6.67 x 6.67 in image\n",
      "\u001b[1m\u001b[22mSaving 6.67 x 6.67 in image\n",
      "\u001b[1m\u001b[22mSaving 6.67 x 6.67 in image\n",
      "\u001b[1m\u001b[22mSaving 6.67 x 6.67 in image\n",
      "\u001b[1m\u001b[22mSaving 6.67 x 6.67 in image\n",
      "\u001b[1m\u001b[22mSaving 6.67 x 6.67 in image\n",
      "\u001b[1m\u001b[22mSaving 6.67 x 6.67 in image\n",
      "\u001b[1m\u001b[22mSaving 6.67 x 6.67 in image\n",
      "\u001b[1m\u001b[22mSaving 6.67 x 6.67 in image\n",
      "\u001b[1m\u001b[22mSaving 6.67 x 6.67 in image\n",
      "\u001b[1m\u001b[22mSaving 6.67 x 6.67 in image\n",
      "\u001b[1m\u001b[22mSaving 6.67 x 6.67 in image\n",
      "\u001b[1m\u001b[22mSaving 6.67 x 6.67 in image\n",
      "\u001b[1m\u001b[22mSaving 6.67 x 6.67 in image\n",
      "\u001b[1m\u001b[22mSaving 6.67 x 6.67 in image\n",
      "\u001b[1m\u001b[22mSaving 6.67 x 6.67 in image\n",
      "\u001b[1m\u001b[22mSaving 6.67 x 6.67 in image\n",
      "\u001b[1m\u001b[22mSaving 6.67 x 6.67 in image\n",
      "\u001b[1m\u001b[22mSaving 6.67 x 6.67 in image\n",
      "\u001b[1m\u001b[22mSaving 6.67 x 6.67 in image\n",
      "\u001b[1m\u001b[22mSaving 6.67 x 6.67 in image\n",
      "\u001b[1m\u001b[22mSaving 6.67 x 6.67 in image\n",
      "\u001b[1m\u001b[22mSaving 6.67 x 6.67 in image\n",
      "\u001b[1m\u001b[22mSaving 6.67 x 6.67 in image\n",
      "\u001b[1m\u001b[22mSaving 6.67 x 6.67 in image\n",
      "\u001b[1m\u001b[22mSaving 6.67 x 6.67 in image\n",
      "\u001b[1m\u001b[22mSaving 6.67 x 6.67 in image\n",
      "\u001b[1m\u001b[22mSaving 6.67 x 6.67 in image\n",
      "\u001b[1m\u001b[22mSaving 6.67 x 6.67 in image\n",
      "\u001b[1m\u001b[22mSaving 6.67 x 6.67 in image\n",
      "\u001b[1m\u001b[22mSaving 6.67 x 6.67 in image\n",
      "\u001b[1m\u001b[22mSaving 6.67 x 6.67 in image\n",
      "\u001b[1m\u001b[22mSaving 6.67 x 6.67 in image\n",
      "\u001b[1m\u001b[22mSaving 6.67 x 6.67 in image\n",
      "\u001b[1m\u001b[22mSaving 6.67 x 6.67 in image\n",
      "\u001b[1m\u001b[22mSaving 6.67 x 6.67 in image\n",
      "\u001b[1m\u001b[22mSaving 6.67 x 6.67 in image\n",
      "\u001b[1m\u001b[22mSaving 6.67 x 6.67 in image\n",
      "\u001b[1m\u001b[22mSaving 6.67 x 6.67 in image\n",
      "\u001b[1m\u001b[22mSaving 6.67 x 6.67 in image\n",
      "\u001b[1m\u001b[22mSaving 6.67 x 6.67 in image\n",
      "\u001b[1m\u001b[22mSaving 6.67 x 6.67 in image\n",
      "\u001b[1m\u001b[22mSaving 6.67 x 6.67 in image\n",
      "\u001b[1m\u001b[22mSaving 6.67 x 6.67 in image\n",
      "\u001b[1m\u001b[22mSaving 6.67 x 6.67 in image\n",
      "\u001b[1m\u001b[22mSaving 6.67 x 6.67 in image\n",
      "\u001b[1m\u001b[22mSaving 6.67 x 6.67 in image\n",
      "\u001b[1m\u001b[22mSaving 6.67 x 6.67 in image\n",
      "\u001b[1m\u001b[22mSaving 6.67 x 6.67 in image\n",
      "\u001b[1m\u001b[22mSaving 6.67 x 6.67 in image\n",
      "\u001b[1m\u001b[22mSaving 6.67 x 6.67 in image\n",
      "\u001b[1m\u001b[22mSaving 6.67 x 6.67 in image\n",
      "\u001b[1m\u001b[22mSaving 6.67 x 6.67 in image\n",
      "\u001b[1m\u001b[22mSaving 6.67 x 6.67 in image\n",
      "\u001b[1m\u001b[22mSaving 6.67 x 6.67 in image\n",
      "\u001b[1m\u001b[22mSaving 6.67 x 6.67 in image\n",
      "\u001b[1m\u001b[22mSaving 6.67 x 6.67 in image\n",
      "\u001b[1m\u001b[22mSaving 6.67 x 6.67 in image\n",
      "\u001b[1m\u001b[22mSaving 6.67 x 6.67 in image\n",
      "\u001b[1m\u001b[22mSaving 6.67 x 6.67 in image\n",
      "\u001b[1m\u001b[22mSaving 6.67 x 6.67 in image\n",
      "Warning message:\n",
      "\"\u001b[1m\u001b[22mRemoved 2 rows containing missing values (`geom_point()`).\"\n",
      "\u001b[1m\u001b[22mSaving 6.67 x 6.67 in image\n",
      "Warning message:\n",
      "\"\u001b[1m\u001b[22mRemoved 3 rows containing missing values (`geom_point()`).\"\n",
      "\u001b[1m\u001b[22mSaving 6.67 x 6.67 in image\n",
      "Warning message:\n",
      "\"\u001b[1m\u001b[22mRemoved 1 rows containing missing values (`geom_point()`).\"\n",
      "\u001b[1m\u001b[22mSaving 6.67 x 6.67 in image\n",
      "\u001b[1m\u001b[22mSaving 6.67 x 6.67 in image\n",
      "\u001b[1m\u001b[22mSaving 6.67 x 6.67 in image\n",
      "\u001b[1m\u001b[22mSaving 6.67 x 6.67 in image\n",
      "\u001b[1m\u001b[22mSaving 6.67 x 6.67 in image\n",
      "\u001b[1m\u001b[22mSaving 6.67 x 6.67 in image\n",
      "\u001b[1m\u001b[22mSaving 6.67 x 6.67 in image\n",
      "\u001b[1m\u001b[22mSaving 6.67 x 6.67 in image\n",
      "\u001b[1m\u001b[22mSaving 6.67 x 6.67 in image\n",
      "\u001b[1m\u001b[22mSaving 6.67 x 6.67 in image\n",
      "\u001b[1m\u001b[22mSaving 6.67 x 6.67 in image\n",
      "\u001b[1m\u001b[22mSaving 6.67 x 6.67 in image\n",
      "\u001b[1m\u001b[22mSaving 6.67 x 6.67 in image\n",
      "Warning message:\n",
      "\"\u001b[1m\u001b[22mRemoved 2 rows containing missing values (`geom_point()`).\"\n",
      "\u001b[1m\u001b[22mSaving 6.67 x 6.67 in image\n",
      "Warning message:\n",
      "\"\u001b[1m\u001b[22mRemoved 1 rows containing missing values (`geom_point()`).\"\n",
      "\u001b[1m\u001b[22mSaving 6.67 x 6.67 in image\n",
      "Warning message:\n",
      "\"\u001b[1m\u001b[22mRemoved 4 rows containing missing values (`geom_point()`).\"\n"
     ]
    }
   ],
   "source": [
    "as = list(0.001, 0.002, 0.005, 0.01, 0.02, 0.05, 0.1, 1)\n",
    "Ns = list(1, 2, 4, 8, 16)\n",
    "Ks = list(1, 10, 100, 1000, 10000)\n",
    "\n",
    "for (a in as){\n",
    "    for (N in Ns){\n",
    "        for (K in Ks) {\n",
    "# a = a * N\n",
    "            if (N == 1 & K != 1){\n",
    "                next\n",
    "            }\n",
    "            title <- paste(\"Training Curve for alpha \", a, \" N \", N, \" K \", K)\n",
    "            data <- dataFull[dataFull$alpha == a & (dataFull$syncBackups == K | dataFull$syncBackups == -1) & dataFull$fedP == N,]\n",
    "            nrow(data[data$epsToBackup == 1010,])\n",
    "            sqDiff = data$diffs ** 2\n",
    "\n",
    "            time <- data$epsToBackup\n",
    "            p <- ggplot(data, aes(x=log10(time), y=log10(sqDiff)))\n",
    "            p <- p + ggtitle(title)\n",
    "            p <- p + geom_point(aes(colour = epsilon))\n",
    "            p <- p + xlab(\"Time Log Scale\") + ylab(\"Error Log Scale\")\n",
    "            p <- p + scale_color_gradientn(colors = c(\"black\", \"green\"))\n",
    "            p <- p + ylim(NA, log10(15)) # needed to keep top line not grayed out\n",
    "            p <- p + geom_hline(yintercept=log10(0.1))\n",
    "            p <- p + geom_hline(yintercept=log10(13.731440581206959)) # starting distance squared\n",
    "            ggsave(filename=paste(\"graphs/\", title, \".png\"), plot=p, device=\"png\")\n",
    "            \n",
    "        }\n",
    "    }\n",
    "}\n",
    "\n",
    "for (at in as){\n",
    "    for (N in Ns){\n",
    "        a = at * N\n",
    "        if (a >= 1 | a %in% as)\n",
    "            next\n",
    "        \n",
    "        for (K in Ks) {\n",
    "            \n",
    "            if (N == 1 & K != 1){\n",
    "                next\n",
    "            }\n",
    "# a = a * N\n",
    "            title <- paste(\"Training Curve for alpha \", a, \" N \", N, \" K \", K)\n",
    "            data <- dataFull[dataFull$alpha == a & (dataFull$syncBackups == K | dataFull$syncBackups == -1) & dataFull$fedP == N,]\n",
    "            nrow(data[data$epsToBackup == 1010,])\n",
    "            sqDiff = data$diffs ** 2\n",
    "\n",
    "            time <- data$epsToBackup\n",
    "            p <- ggplot(data, aes(x=log10(time), y=log10(sqDiff)))\n",
    "            p <- p + ggtitle(title)\n",
    "            p <- p + geom_point(aes(colour = epsilon))\n",
    "            p <- p + xlab(\"Time Log Scale\") + ylab(\"Error Log Scale\")\n",
    "            p <- p + scale_color_gradientn(colors = c(\"black\", \"green\"))\n",
    "            p <- p + ylim(NA, log10(15)) # needed to keep top line not grayed out\n",
    "            p <- p + geom_hline(yintercept=log10(0.1))\n",
    "            p <- p + geom_hline(yintercept=log10(13.731440581206959)) # starting distance squared\n",
    "            ggsave(filename=paste(\"graphs/\", title, \".png\"), plot=p, device=\"png\")\n",
    "            \n",
    "        }\n",
    "    }\n",
    "}"
   ]
  },
  {
   "cell_type": "code",
   "execution_count": null,
   "id": "015120b8-f801-4752-979c-506445c46ee8",
   "metadata": {},
   "outputs": [],
   "source": []
  }
 ],
 "metadata": {
  "kernelspec": {
   "display_name": "R",
   "language": "R",
   "name": "ir"
  },
  "language_info": {
   "codemirror_mode": "r",
   "file_extension": ".r",
   "mimetype": "text/x-r-source",
   "name": "R",
   "pygments_lexer": "r",
   "version": "4.2.2"
  }
 },
 "nbformat": 4,
 "nbformat_minor": 5
}
