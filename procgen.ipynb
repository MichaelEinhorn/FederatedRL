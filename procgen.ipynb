{
 "cells": [
  {
   "cell_type": "code",
   "execution_count": 1,
   "metadata": {},
   "outputs": [
    {
     "name": "stdout",
     "output_type": "stream",
     "text": [
      "cuda:0\n"
     ]
    }
   ],
   "source": [
    "import torch\n",
    "from procgen import ProcgenGym3Env\n",
    "from torchinfo import summary\n",
    "import core\n",
    "\n",
    "device = torch.device(\"cuda:0\" if torch.cuda.is_available() else \"cpu\")\n",
    "print(device)\n",
    "\n",
    "model = None\n",
    "player = None\n",
    "ppo = None\n",
    "env= None\n",
    "envKW = {}\n",
    "\n",
    "modelPath = \"models/\"\n",
    "def loadAll(fname, loadEnv=True):\n",
    "    model.load_state_dict(torch.load(modelPath + fname + \"/model.pth\"))\n",
    "    player.load_state_dict(torch.load(modelPath + fname + \"/player.pth\"))\n",
    "    ppo.load_state_dict(torch.load(modelPath + fname + \"/ppo.pth\"))\n",
    "    if loadEnv:\n",
    "        envKW = torch.load(modelPath + fname + \"/envKW.pth\")\n",
    "        env = ProcgenGym3Env(**envKW)\n",
    "        env.callmethod(\"set_state\", torch.load(modelPath + fname + \"/env_states.pth\"))\n",
    "    else:\n",
    "        player.reset()\n",
    "\n",
    "def saveAll(fname):\n",
    "    import os\n",
    "    os.makedirs(modelPath + fname, exist_ok=True)\n",
    "    torch.save(model.state_dict(), modelPath + fname + \"/model.pth\")\n",
    "    torch.save(player.state_dict(), modelPath + fname + \"/player.pth\")\n",
    "    torch.save(ppo.state_dict(), modelPath + fname + \"/ppo.pth\")\n",
    "    torch.save(envKW, modelPath + fname + \"/envKW.pth\")\n",
    "    torch.save(env.callmethod(\"get_state\"), modelPath + fname + \"/env_states.pth\")\n",
    "    torch.save(ppo.all_stats, modelPath + fname + \"/stats.pth\")\n"
   ]
  },
  {
   "cell_type": "code",
   "execution_count": 2,
   "metadata": {},
   "outputs": [
    {
     "name": "stdout",
     "output_type": "stream",
     "text": [
      "Dict(rgb=D256[64,64,3])\n",
      "D15[]\n"
     ]
    }
   ],
   "source": [
    "num_agents = 64\n",
    "epoch_steps = 256\n",
    "envKW = core.getKW(num=num_agents, env_name=\"coinrun\", distribution_mode=\"easy\", paint_vel_info=True, use_backgrounds=False, restrict_themes=True)\n",
    "env = ProcgenGym3Env(**envKW)\n",
    "print(env.ob_space)\n",
    "print(env.ac_space)"
   ]
  },
  {
   "cell_type": "code",
   "execution_count": 3,
   "metadata": {},
   "outputs": [
    {
     "data": {
      "text/plain": [
       "==========================================================================================\n",
       "Layer (type:depth-idx)                   Output Shape              Param #\n",
       "==========================================================================================\n",
       "ImpalaValue                              [2, 15]                   --\n",
       "├─ImpalaModel: 1-1                       [2, 256]                  --\n",
       "│    └─ImpalaBlock: 2-1                  [2, 16, 32, 32]           --\n",
       "│    │    └─Conv2d: 3-1                  [2, 16, 64, 64]           448\n",
       "│    │    └─ResidualBlock: 3-2           [2, 16, 32, 32]           4,640\n",
       "│    │    └─ResidualBlock: 3-3           [2, 16, 32, 32]           4,640\n",
       "│    └─ImpalaBlock: 2-2                  [2, 32, 16, 16]           --\n",
       "│    │    └─Conv2d: 3-4                  [2, 32, 32, 32]           4,640\n",
       "│    │    └─ResidualBlock: 3-5           [2, 32, 16, 16]           18,496\n",
       "│    │    └─ResidualBlock: 3-6           [2, 32, 16, 16]           18,496\n",
       "│    └─ImpalaBlock: 2-3                  [2, 32, 8, 8]             --\n",
       "│    │    └─Conv2d: 3-7                  [2, 32, 16, 16]           9,248\n",
       "│    │    └─ResidualBlock: 3-8           [2, 32, 8, 8]             18,496\n",
       "│    │    └─ResidualBlock: 3-9           [2, 32, 8, 8]             18,496\n",
       "│    └─Flatten: 2-4                      [2, 2048]                 --\n",
       "│    └─Linear: 2-5                       [2, 256]                  524,544\n",
       "├─Linear: 1-2                            [2, 15]                   3,855\n",
       "├─ValueHead: 1-3                         [2, 1]                    --\n",
       "│    └─Linear: 2-6                       [2, 1]                    257\n",
       "==========================================================================================\n",
       "Total params: 626,256\n",
       "Trainable params: 626,256\n",
       "Non-trainable params: 0\n",
       "Total mult-adds (M): 61.65\n",
       "==========================================================================================\n",
       "Input size (MB): 0.10\n",
       "Forward/backward pass size (MB): 3.41\n",
       "Params size (MB): 2.51\n",
       "Estimated Total Size (MB): 6.02\n",
       "=========================================================================================="
      ]
     },
     "execution_count": 3,
     "metadata": {},
     "output_type": "execute_result"
    }
   ],
   "source": [
    "from CVModels import CNNAgent, ViTValue, ImpalaValue\n",
    "modelName = \"Impala\"\n",
    "if modelName == \"Impala\":\n",
    "    model = ImpalaValue().to(device)\n",
    "elif modelName == \"ViT60\":\n",
    "    model = ViTValue(depth=4, num_heads=4, embed_dim=32, mlp_ratio=4, valueHeadLayers=1).to(device)\n",
    "elif modelName == \"ViT15\":\n",
    "    model = ViTValue(depth=3, num_heads=4, embed_dim=16, mlp_ratio=4, valueHeadLayers=1).to(device)\n",
    "elif modelName == \"resnet\":\n",
    "    model = CNNAgent([64, 64, 3], 15, channels=16, layers=[1,1,1,1], scale=[1,1,1,1], vheadLayers=1).to(device)\n",
    "model.train()\n",
    "summary(model, input_size=(2, 3, 64, 64))"
   ]
  },
  {
   "cell_type": "code",
   "execution_count": 4,
   "metadata": {},
   "outputs": [],
   "source": [
    "# model.load_state_dict(torch.load(modelPath + \"vitNegT8BigFin\" + \"/model.pth\"))"
   ]
  },
  {
   "cell_type": "code",
   "execution_count": 5,
   "metadata": {},
   "outputs": [
    {
     "name": "stdout",
     "output_type": "stream",
     "text": [
      "terminateReward 0.0 livingReward -0.001 discountedSumLiving -0.09999999999999991\n"
     ]
    },
    {
     "name": "stderr",
     "output_type": "stream",
     "text": [
      "c:\\ProgramData\\Miniconda3\\envs\\torch\\lib\\site-packages\\transformers\\optimization.py:306: FutureWarning: This implementation of AdamW is deprecated and will be removed in a future version. Use the PyTorch implementation torch.optim.AdamW instead, or set `no_deprecation_warning=True` to disable this warning\n",
      "  warnings.warn(\n"
     ]
    }
   ],
   "source": [
    "from PPO import PPO\n",
    "import ProcgenPlayer\n",
    "\n",
    "gamma = 0.99\n",
    "# gamma = 0.999\n",
    "rewardScale = 10\n",
    "terminateReward = 1 - 10.0 / rewardScale\n",
    "\n",
    "# livingReward = 0\n",
    "livingReward = -1e-3\n",
    "# lr = 1e-3\n",
    "lr = 2.5e-4\n",
    "# ent_coef = 0\n",
    "ent_coef = 1e-2\n",
    "print(\"terminateReward\", terminateReward, \"livingReward\", livingReward, \"discountedSumLiving\", livingReward / (1 - gamma)) # if terminate reward > discountedSumLiving the agent will perfer to run into obstacles.\n",
    "player = ProcgenPlayer.Player(env, num_agents=num_agents, \n",
    "                              epsilon=0, epsilon_decay=1, \n",
    "                              rewardScale=rewardScale, livingReward=livingReward, terminateReward=terminateReward, \n",
    "                              finishedOnly=True, maxStaleSteps=64)\n",
    "ppo = PPO(model, env, num_agents=num_agents, player=player, \n",
    "          lr=lr, gamma=gamma, weight_decay=0.0, ent_coef=ent_coef, \n",
    "          warmup_steps=10, train_steps=1000, epoch_steps=epoch_steps, \n",
    "          batch_size=1, epochs_per_game=3)"
   ]
  },
  {
   "cell_type": "code",
   "execution_count": 6,
   "metadata": {},
   "outputs": [],
   "source": [
    "# ppo.runGame()\n",
    "# loss = ppo.train(debug=True)\n",
    "# print(loss)\n",
    "# import torchviz\n",
    "# torchviz.make_dot(loss, params=dict(model.named_parameters()))"
   ]
  },
  {
   "cell_type": "code",
   "execution_count": 7,
   "metadata": {},
   "outputs": [
    {
     "name": "stdout",
     "output_type": "stream",
     "text": [
      "{'alg_name': 'ppo', 'lr': 0.00025, 'gamma': 0.99, 'lam': 0.95, 'whiten': True, 'cliprange': 0.2, 'cliprange_value': 0.2, 'vf_coef': 0.5, 'epoch_steps': 256, 'epochs_per_game': 3, 'ent_coef': 0.01, 'weight_decay': 0.0, 'warmup_steps': 10, 'train_steps': 1000, 'batch_size': 1}\n",
      "{'alg_name': 'ppo', 'epsilon': 0, 'epsilon_decay': 1, 'rewardScale': 10, 'livingReward': -0.001, 'terminateReward': 0.0, 'finishedOnly': True, 'maxStaleSteps': 64}\n",
      "{'num': 64, 'env_name': 'coinrun', 'distribution_mode': 'easy', 'paint_vel_info': True, 'use_backgrounds': False, 'restrict_themes': True}\n"
     ]
    }
   ],
   "source": [
    "# loadAll(\"vitBig50RS10G0.99LvFalse_4-5\")\n",
    "print(ppo.params)\n",
    "print(player.params)\n",
    "print(envKW)"
   ]
  },
  {
   "cell_type": "code",
   "execution_count": 8,
   "metadata": {},
   "outputs": [
    {
     "name": "stdout",
     "output_type": "stream",
     "text": [
      "episodeLength 206.8182 episodeReward -0.2068 epoch 2 steps 16384 loss -0.0311 policy -0.0043 value 0.0002 entropy 2.6977 stale 0              \n",
      "episodeLength 582.6429 episodeReward -0.4041 epoch 32 steps 180224 loss -0.0332 policy -0.0069 value 0.0002 entropy 2.6522 stale 64              \n",
      "episodeLength 118.8370 episodeReward 0.3997 epoch 62 steps 344064 loss -0.0439 policy -0.0191 value 0.0007 entropy 2.5453 stale 64               \n",
      "episodeLength 81.9381 episodeReward 0.4232 epoch 92 steps 507904 loss -0.0408 policy -0.0175 value 0.0010 entropy 2.4264 stale 64               \n",
      "episodeLength 56.2983 episodeReward 0.4522 epoch 122 steps 671744 loss -0.0416 policy -0.0198 value 0.0013 entropy 2.3108 stale 64              \n",
      "episodeLength 65.0197 episodeReward 0.3720 epoch 152 steps 835584 loss -0.0454 policy -0.0232 value 0.0012 entropy 2.3416 stale 64              \n",
      "episodeLength 63.7679 episodeReward 0.4130 epoch 182 steps 999424 loss -0.0396 policy -0.0177 value 0.0014 entropy 2.3287 stale 64              \n",
      "episodeLength 68.3147 episodeReward 0.3779 epoch 212 steps 1163264 loss -0.0437 policy -0.0217 value 0.0013 entropy 2.3312 stale 64              \n",
      "episodeLength 64.1042 episodeReward 0.3876 epoch 242 steps 1327104 loss -0.0434 policy -0.0218 value 0.0013 entropy 2.2823 stale 64              \n",
      "episodeLength 74.3379 episodeReward 0.4325 epoch 272 steps 1490944 loss -0.0406 policy -0.0196 value 0.0013 entropy 2.2320 stale 64              \n",
      "episodeLength 79.8953 episodeReward 0.3861 epoch 299 steps 1638400 loss -0.0438 policy -0.0223 value 0.0012 entropy 2.2655 stale 64              \r"
     ]
    }
   ],
   "source": [
    "for i in range(300 // ppo.params['epochs_per_game']):\n",
    "    ppo.runGame()\n",
    "    ppo.train()\n",
    "    if i % 10 == 0:\n",
    "        # print(\"episodeLength\", ppo.all_stats[-1][\"game/episodeLength\"], \"episodeReward\", ppo.all_stats[-1][\"game/episodeReward\"],\n",
    "        #       \"epoch\", ppo.all_stats[-1][\"epoch\"], \"steps\", ppo.all_stats[-1][\"steps\"], \n",
    "        #       \"\\nloss\", ppo.all_stats[-1][\"ppo/loss/total\"].item(), \"policy\", ppo.all_stats[-1][\"ppo/loss/policy\"].item(), \n",
    "        #       \"value\", ppo.all_stats[-1][\"ppo/loss/value\"].item(),\n",
    "        #       \"entropy\", ppo.all_stats[-1][\"ppo/policy/entropy\"].item())\n",
    "        print(f\"episodeLength {ppo.all_stats[-1]['game/episodeLength']:.4f} episodeReward {ppo.all_stats[-1]['game/episodeReward']:.4f} \" + \n",
    "              f\"epoch {ppo.all_stats[-1]['epoch']} steps {ppo.all_stats[-1]['steps']} \" +\n",
    "              f\"loss {ppo.all_stats[-1]['ppo/loss/total'].item():.4f} policy {ppo.all_stats[-1]['ppo/loss/policy'].item():.4f} \" +\n",
    "              f\"value {ppo.all_stats[-1]['ppo/loss/value'].item():.4f} entropy {ppo.all_stats[-1]['ppo/policy/entropy'].item():.4f} \" +\n",
    "              f\"stale {ppo.all_stats[-1]['game/staleSteps']}              \")\n",
    "        # print(ppo.all_stats[-1])\n",
    "    else:\n",
    "        print(f\"episodeLength {ppo.all_stats[-1]['game/episodeLength']:.4f} episodeReward {ppo.all_stats[-1]['game/episodeReward']:.4f} \" + \n",
    "              f\"epoch {ppo.all_stats[-1]['epoch']} steps {ppo.all_stats[-1]['steps']} \" +\n",
    "              f\"loss {ppo.all_stats[-1]['ppo/loss/total'].item():.4f} policy {ppo.all_stats[-1]['ppo/loss/policy'].item():.4f} \" +\n",
    "              f\"value {ppo.all_stats[-1]['ppo/loss/value'].item():.4f} entropy {ppo.all_stats[-1]['ppo/policy/entropy'].item():.4f} \" +\n",
    "              f\"stale {ppo.all_stats[-1]['game/staleSteps']}              \", end=\"\\r\")\n",
    "        \n",
    "    if i % (50 // ppo.params['epochs_per_game']) == 0:\n",
    "        saveAll(f\"{modelName}{ppo.all_stats[-1]['epoch']}RS{rewardScale}G{gamma}Lv{livingReward!=0}_4-6\")\n",
    "    # if i % 100 == 0:\n",
    "    #     stats = ppo.all_stats[-1]\n",
    "    #     for k, v in stats.items():\n",
    "    #         # if \"time\" in k:\n",
    "    #         print(k, v)"
   ]
  },
  {
   "cell_type": "code",
   "execution_count": 9,
   "metadata": {},
   "outputs": [],
   "source": [
    "# saveAll(\"vitNegT8BigFinG999Lv400_4-5\")"
   ]
  },
  {
   "cell_type": "code",
   "execution_count": 24,
   "metadata": {},
   "outputs": [
    {
     "data": {
      "image/png": "[encoded data removed]",
      "text/plain": [
       "<Figure size 432x288 with 1 Axes>"
      ]
     },
     "metadata": {
      "needs_background": "light"
     },
     "output_type": "display_data"
    }
   ],
   "source": [
    "import matplotlib.pyplot as plt\n",
    "# graph all episode lengths and episode rewards over steps\n",
    "plt.scatter([s[\"steps\"] for s in ppo.all_stats], [s[\"game/episodeLength\"] for s in ppo.all_stats], label=\"length\", color=\"blue\", marker=\"x\")\n",
    "plt.xlabel(\"training steps\")\n",
    "plt.ylabel(\"steps per episode\")\n",
    "plt.legend()\n",
    "plt.title(\"episode length over steps\")\n",
    "plt.show()"
   ]
  },
  {
   "cell_type": "code",
   "execution_count": 25,
   "metadata": {},
   "outputs": [
    {
     "data": {
      "image/png": "[encoded data removed]",
      "text/plain": [
       "<Figure size 432x288 with 1 Axes>"
      ]
     },
     "metadata": {
      "needs_background": "light"
     },
     "output_type": "display_data"
    }
   ],
   "source": [
    "plt.scatter([s[\"steps\"] for s in ppo.all_stats], [s[\"game/nonZeroReward\"] for s in ppo.all_stats], label=\"coins\", color=\"red\", marker=\"x\")\n",
    "plt.xlabel(\"steps\")\n",
    "plt.ylabel(\"coins\")\n",
    "plt.legend()\n",
    "plt.title(\"coins per episode over steps\")\n",
    "plt.show()\n",
    "\n",
    "# per episode discounted cumulative reward. don't count steps. One point per episode, show every episode. Store data from every episode.\n",
    "\n",
    "# check ppo paper for metrics.\n",
    "# average reward per episode over entire training period favors fast learning\n",
    "# average reward per episode over last 100 episodes of training favors final performance\n",
    "# We scored each run of the algorithm by computing the average total reward of the last 100 episodes."
   ]
  },
  {
   "attachments": {},
   "cell_type": "markdown",
   "metadata": {},
   "source": [
    "Experiment Notes\n",
    "\n",
    "1. coin run hard\n",
    "\n",
    "Higher reward per episode is better, and shorter episodes are better. Not sure if reward per timestep consolidates these.\n",
    "The model can learn, and actively persue the reward but get lower reward because it now dies more. Though this is clearly better than headslamming a wall for several hundred  timesteps before randomly jumping into a coin. Shorter episodes also means higher sample size on reward per episode.\n",
    "\n",
    "1.1 VIT 15k\n",
    "\n",
    "LR 1e-3 warmup and cosine decay\n",
    "\n",
    "Weight decay 0.01, living reward -0.001\n",
    "Doesn't like to jump doesn't seem to avoid enemies.\n",
    "\n",
    "Weight decay 0.01\n",
    "Doesn't like to jump\n",
    "\n",
    "No wd or livrew\n",
    "Gets stuck going right\n",
    "\n",
    "Removed Background and theme variation\n",
    "got up to 87% rewards, though most epochs are ~70%\n",
    "Very jumpy, spends almost no time on ground\n",
    "Does not seem to avoid obstacles, always jump appears to be a passive strategy\n",
    "\n",
    "Negative terminate reward. +1 for coin, -1 for enemy or timeout.\n",
    "never got better than -1 reward.\n",
    "\n",
    "Negative terminate reward. +1 for coin, -0.25 for enemy or timeout.\n",
    "Improves for 200 epochs, gets worse around 350. Gets to around 0.5 which is 75% of coins.\n",
    "\n",
    "1.2 VIT 60k\n",
    "2 Layer value head degrades performance, is about 2k extra params. Vf loss gets larger when training.\n",
    "\n",
    "Negative terminate reward. +1 for coin, -0.25 for enemy or timeout.\n",
    "Did well until an over 1k step episode, spiked vf error.\n",
    "\n",
    "Keep running environment on extra steps until every episode finishes.\n",
    "Stale steps started very high around 90, but by epoch 70 it was down to 140. 256 steps per epoch, so a value higher than 256 is an entirely stale epoch.\n",
    "Was considering capping the amount of stale steps, but it seems to work without this after a bit.\n",
    "Reward is steadily increasing.\n",
    "Still very jumpy but not as much as other models. Stays on ground for a few frames. Does not seem to actively avoid obstacles, though appears to be favoring landing on boxes over the ground which are always safe.\n",
    "400 epochs, doesn't favor boxes as much, might be a bit better at jumping over gaps and avoiding obstacles.\n",
    "\n",
    "Add living reward, train from previous model.\n",
    "Discounted Sum of infinite living rewards is less than half the terminate reward so the agent should not perfer to hit an obstacle and end the episode.\n",
    "Reduced high episode lenght faster by epoch 50\n",
    "1000 step episodes at epoch 140 and derailed\n",
    "\n",
    "For all above there was an issue with compute advantages where the first advantage of an episode would be set to zero. Probably had little impact.\n",
    "\n",
    "3/31\n",
    "Multiple tests with -0.001 living reward failed to learn. Vf loss went to 0, but episode length stayed at 1000 and reward at -1.25.\n",
    "Removing living reward appears to work better at first and then back to failing. Not sure what changed since last living reward run.\n",
    "\n",
    "Increase warmup to 40 epochs. At 50 epochs, reward was back to -0.25\n",
    "\n",
    "Hyperparams from openai train-procgen\n",
    "lr 5e-4, ent 0.01, gamma 0.999\n",
    "Did better at first fell back to zero\n",
    "\n",
    "1e-4 never gets above 0.\n",
    "\n",
    "3 ppo epochs per game loop. Worked until epoch 242 and then all zeros.\n",
    "-1e-4 living reward did not help, -0.25 term reward did not help.\n",
    "\n",
    "maxStaleSteps 64, same\n",
    "1 agent, same\n",
    "\n",
    "squeeze in player potentially causing collapse to 0 reward 1k step episodes.\n",
    "\n",
    "Running on new version without this squeeze does not get stuck, but also appears pretty random.\n",
    "\n",
    "Running without ent bonus, with eps 0.01, gamma 0.999 living reward\n",
    "gets better until around epoch 130 and then gets worse\n",
    "\n",
    "squeeze values causes collapse to 0 reward 1k step episodes, \n",
    "without squeeze values the shapes of the advantages become agent x agent which is wrong\n",
    "this probably mixed values across the batch and added a bunch of erronous loss terms, 1 x agent * agent x 1\n",
    "Everything above had either one of these issues. Fixed below.\n",
    "\n",
    "1 reward for coin, 0 otherwise\n",
    "{'alg_name': 'ppo', 'lr': 0.00025, 'gamma': 0.99, 'lam': 0.95, 'whiten': True, 'cliprange': 0.2, 'cliprange_value': 0.2, 'vf_coef': 0.5, 'epoch_steps': 256, 'epochs_per_game': 3, 'ent_coef': 0.01, 'weight_decay': 0.0, 'warmup_steps': 10, 'train_steps': 1000, 'batch_size': 1}\n",
    "{'alg_name': 'ppo', 'epsilon': 0, 'epsilon_decay': 1, 'rewardScale': 10, 'livingReward': 0, 'terminateReward': 0.0, 'finishedOnly': True, 'maxStaleSteps': 64}\n",
    "{'num': 64, 'env_name': 'coinrun', 'distribution_mode': 'easy', 'paint_vel_info': True, 'use_backgrounds': False, 'restrict_themes': True}\n",
    "gets better than initialization, but isn't that great\n",
    "\n",
    "Impala from train-procgen 600k param CNN\n",
    "{'alg_name': 'ppo', 'lr': 0.00025, 'gamma': 0.99, 'lam': 0.95, 'whiten': True, 'cliprange': 0.2, 'cliprange_value': 0.2, 'vf_coef': 0.5, 'epoch_steps': 256, 'epochs_per_game': 3, 'ent_coef': 0.01, 'weight_decay': 0.0, 'warmup_steps': 10, 'train_steps': 1000, 'batch_size': 1}\n",
    "{'alg_name': 'ppo', 'epsilon': 0, 'epsilon_decay': 1, 'rewardScale': 10, 'livingReward': 0, 'terminateReward': 0.0, 'finishedOnly': True, 'maxStaleSteps': 64}\n",
    "{'num': 64, 'env_name': 'coinrun', 'distribution_mode': 'easy', 'paint_vel_info': True, 'use_backgrounds': False, 'restrict_themes': True}\n",
    "Gets stuck at 0 reward, and exactly 0 vf error.\n",
    "\n",
    "Impalla with terminate reward and living reward\n",
    "gets stuck at 0 reward.\n",
    "\n",
    "Impalla with living reward \n",
    "Hangs out at the start for a bit, and then moves right to coin. Does not avoid obstacles.\n",
    "\n",
    "vitWide no living reward\n",
    "stuck at 1000.\n",
    "\n",
    "vitdeep no living\n",
    "stuck at 1000\n",
    "\n",
    "impala no living\n",
    "near stuck at 1000, but still some rewards\n",
    "\n",
    "impala no eps\n",
    "stuck at 0.4 rew after 2146304 steps\n",
    "\n",
    "impala eps 0.01\n",
    "0.4 rew at 1654784 steps, stuck at 1000 after 2473984 steps\n",
    "\n",
    "\n",
    "\n"
   ]
  },
  {
   "cell_type": "markdown",
   "metadata": {},
   "source": []
  }
 ],
 "metadata": {
  "kernelspec": {
   "display_name": "torch",
   "language": "python",
   "name": "python3"
  },
  "language_info": {
   "codemirror_mode": {
    "name": "ipython",
    "version": 3
   },
   "file_extension": ".py",
   "mimetype": "text/x-python",
   "name": "python",
   "nbconvert_exporter": "python",
   "pygments_lexer": "ipython3",
   "version": "3.10.4"
  },
  "orig_nbformat": 4,
  "vscode": {
   "interpreter": {
    "hash": "ac488eaa353570522d4c04bd2cd8e3c67c3437ec54aafb89a01cbc7941828458"
   }
  }
 },
 "nbformat": 4,
 "nbformat_minor": 2
}
