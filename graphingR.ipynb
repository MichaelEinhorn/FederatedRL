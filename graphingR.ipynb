{
 "cells": [
  {
   "cell_type": "code",
   "execution_count": 1,
   "metadata": {
    "scrolled": true,
    "vscode": {
     "languageId": "r"
    }
   },
   "outputs": [],
   "source": [
    "# install.packages(\"tidyverse\")\n",
    "library(ggplot2)"
   ]
  },
  {
   "cell_type": "code",
   "execution_count": 2,
   "metadata": {
    "vscode": {
     "languageId": "r"
    }
   },
   "outputs": [],
   "source": [
    "dataFull <- read.csv(\"mdpv4.csv\", header=TRUE)\n",
    "dataFull <- dataFull[dataFull$alpha <= 1, ]"
   ]
  },
  {
   "cell_type": "code",
   "execution_count": 3,
   "metadata": {
    "vscode": {
     "languageId": "r"
    }
   },
   "outputs": [],
   "source": [
    "# data0 <- data[data$trial == 0,]\n",
    "# data1 <- data[data$trial == 1,]\n",
    "# data2 <- data[data$trial == 2,]\n",
    "\n",
    "data <- dataFull[dataFull$envSeed == 3701 & dataFull$alpha == 0.4 & dataFull$syncBackups == 1,]"
   ]
  },
  {
   "cell_type": "code",
   "execution_count": 4,
   "metadata": {
    "vscode": {
     "languageId": "r"
    }
   },
   "outputs": [
    {
     "data": {
      "text/html": [
       "<table class=\"dataframe\">\n",
       "<caption>A data.frame: 2 × 25</caption>\n",
       "<thead>\n",
       "\t<tr><th></th><th scope=col>convN</th><th scope=col>alpha</th><th scope=col>discount</th><th scope=col>epsilon</th><th scope=col>fedP</th><th scope=col>syncBackups</th><th scope=col>stochasticPolicy</th><th scope=col>envSeed</th><th scope=col>trial</th><th scope=col>sims</th><th scope=col>⋯</th><th scope=col>endScoreRand</th><th scope=col>aggs</th><th scope=col>backups</th><th scope=col>endScoreStochBell</th><th scope=col>endScore</th><th scope=col>finalDiff</th><th scope=col>threshDiff</th><th scope=col>threshRew</th><th scope=col>threshEp</th><th scope=col>threshBack</th></tr>\n",
       "\t<tr><th></th><th scope=col>&lt;int&gt;</th><th scope=col>&lt;dbl&gt;</th><th scope=col>&lt;dbl&gt;</th><th scope=col>&lt;dbl&gt;</th><th scope=col>&lt;int&gt;</th><th scope=col>&lt;int&gt;</th><th scope=col>&lt;chr&gt;</th><th scope=col>&lt;int&gt;</th><th scope=col>&lt;int&gt;</th><th scope=col>&lt;dbl&gt;</th><th scope=col>⋯</th><th scope=col>&lt;dbl&gt;</th><th scope=col>&lt;dbl&gt;</th><th scope=col>&lt;dbl&gt;</th><th scope=col>&lt;dbl&gt;</th><th scope=col>&lt;dbl&gt;</th><th scope=col>&lt;dbl&gt;</th><th scope=col>&lt;dbl&gt;</th><th scope=col>&lt;dbl&gt;</th><th scope=col>&lt;int&gt;</th><th scope=col>&lt;dbl&gt;</th></tr>\n",
       "</thead>\n",
       "<tbody>\n",
       "\t<tr><th scope=row>181</th><td>10</td><td>0.4</td><td>0.6</td><td>0</td><td>4</td><td>1</td><td>True</td><td>3701</td><td>0</td><td>30300</td><td>⋯</td><td>1275.329</td><td>30294</td><td>30300</td><td>2119.566</td><td>4074.901</td><td>0.4650989</td><td>0.2937817</td><td>22.51547</td><td>10</td><td>2020</td></tr>\n",
       "\t<tr><th scope=row>296</th><td>10</td><td>0.4</td><td>0.6</td><td>0</td><td>8</td><td>1</td><td>True</td><td>3701</td><td>1</td><td>30300</td><td>⋯</td><td>1211.888</td><td>30235</td><td>30300</td><td>2105.508</td><td>3898.605</td><td>0.5170388</td><td>0.2622585</td><td>23.96695</td><td> 0</td><td>1010</td></tr>\n",
       "</tbody>\n",
       "</table>\n"
      ],
      "text/latex": [
       "A data.frame: 2 × 25\n",
       "\\begin{tabular}{r|lllllllllllllllllllll}\n",
       "  & convN & alpha & discount & epsilon & fedP & syncBackups & stochasticPolicy & envSeed & trial & sims & ⋯ & endScoreRand & aggs & backups & endScoreStochBell & endScore & finalDiff & threshDiff & threshRew & threshEp & threshBack\\\\\n",
       "  & <int> & <dbl> & <dbl> & <dbl> & <int> & <int> & <chr> & <int> & <int> & <dbl> & ⋯ & <dbl> & <dbl> & <dbl> & <dbl> & <dbl> & <dbl> & <dbl> & <dbl> & <int> & <dbl>\\\\\n",
       "\\hline\n",
       "\t181 & 10 & 0.4 & 0.6 & 0 & 4 & 1 & True & 3701 & 0 & 30300 & ⋯ & 1275.329 & 30294 & 30300 & 2119.566 & 4074.901 & 0.4650989 & 0.2937817 & 22.51547 & 10 & 2020\\\\\n",
       "\t296 & 10 & 0.4 & 0.6 & 0 & 8 & 1 & True & 3701 & 1 & 30300 & ⋯ & 1211.888 & 30235 & 30300 & 2105.508 & 3898.605 & 0.5170388 & 0.2622585 & 23.96695 &  0 & 1010\\\\\n",
       "\\end{tabular}\n"
      ],
      "text/markdown": [
       "\n",
       "A data.frame: 2 × 25\n",
       "\n",
       "| <!--/--> | convN &lt;int&gt; | alpha &lt;dbl&gt; | discount &lt;dbl&gt; | epsilon &lt;dbl&gt; | fedP &lt;int&gt; | syncBackups &lt;int&gt; | stochasticPolicy &lt;chr&gt; | envSeed &lt;int&gt; | trial &lt;int&gt; | sims &lt;dbl&gt; | ⋯ ⋯ | endScoreRand &lt;dbl&gt; | aggs &lt;dbl&gt; | backups &lt;dbl&gt; | endScoreStochBell &lt;dbl&gt; | endScore &lt;dbl&gt; | finalDiff &lt;dbl&gt; | threshDiff &lt;dbl&gt; | threshRew &lt;dbl&gt; | threshEp &lt;int&gt; | threshBack &lt;dbl&gt; |\n",
       "|---|---|---|---|---|---|---|---|---|---|---|---|---|---|---|---|---|---|---|---|---|---|\n",
       "| 181 | 10 | 0.4 | 0.6 | 0 | 4 | 1 | True | 3701 | 0 | 30300 | ⋯ | 1275.329 | 30294 | 30300 | 2119.566 | 4074.901 | 0.4650989 | 0.2937817 | 22.51547 | 10 | 2020 |\n",
       "| 296 | 10 | 0.4 | 0.6 | 0 | 8 | 1 | True | 3701 | 1 | 30300 | ⋯ | 1211.888 | 30235 | 30300 | 2105.508 | 3898.605 | 0.5170388 | 0.2622585 | 23.96695 |  0 | 1010 |\n",
       "\n"
      ],
      "text/plain": [
       "    convN alpha discount epsilon fedP syncBackups stochasticPolicy envSeed\n",
       "181 10    0.4   0.6      0       4    1           True             3701   \n",
       "296 10    0.4   0.6      0       8    1           True             3701   \n",
       "    trial sims  ⋯ endScoreRand aggs  backups endScoreStochBell endScore\n",
       "181 0     30300 ⋯ 1275.329     30294 30300   2119.566          4074.901\n",
       "296 1     30300 ⋯ 1211.888     30235 30300   2105.508          3898.605\n",
       "    finalDiff threshDiff threshRew threshEp threshBack\n",
       "181 0.4650989 0.2937817  22.51547  10       2020      \n",
       "296 0.5170388 0.2622585  23.96695   0       1010      "
      ]
     },
     "metadata": {},
     "output_type": "display_data"
    },
    {
     "name": "stdout",
     "output_type": "stream",
     "text": [
      "[1] \"rows\"\n"
     ]
    },
    {
     "data": {
      "text/html": [
       "1920"
      ],
      "text/latex": [
       "1920"
      ],
      "text/markdown": [
       "1920"
      ],
      "text/plain": [
       "[1] 1920"
      ]
     },
     "metadata": {},
     "output_type": "display_data"
    },
    {
     "name": "stdout",
     "output_type": "stream",
     "text": [
      "[1] \"cols\"\n"
     ]
    },
    {
     "data": {
      "text/html": [
       "25"
      ],
      "text/latex": [
       "25"
      ],
      "text/markdown": [
       "25"
      ],
      "text/plain": [
       "[1] 25"
      ]
     },
     "metadata": {},
     "output_type": "display_data"
    },
    {
     "name": "stdout",
     "output_type": "stream",
     "text": [
      "[1] \"unique alpha\"\n"
     ]
    },
    {
     "data": {
      "text/html": [
       "<style>\n",
       ".list-inline {list-style: none; margin:0; padding: 0}\n",
       ".list-inline>li {display: inline-block}\n",
       ".list-inline>li:not(:last-child)::after {content: \"\\00b7\"; padding: 0 .5ex}\n",
       "</style>\n",
       "<ol class=list-inline><li>0.001</li><li>0.002</li><li>0.004</li><li>0.005</li><li>0.008</li><li>0.01</li><li>0.016</li><li>0.02</li><li>0.032</li><li>0.04</li><li>0.05</li><li>0.08</li><li>0.1</li><li>0.16</li><li>0.2</li><li>0.32</li><li>0.4</li><li>0.5</li><li>0.8</li><li>1</li></ol>\n"
      ],
      "text/latex": [
       "\\begin{enumerate*}\n",
       "\\item 0.001\n",
       "\\item 0.002\n",
       "\\item 0.004\n",
       "\\item 0.005\n",
       "\\item 0.008\n",
       "\\item 0.01\n",
       "\\item 0.016\n",
       "\\item 0.02\n",
       "\\item 0.032\n",
       "\\item 0.04\n",
       "\\item 0.05\n",
       "\\item 0.08\n",
       "\\item 0.1\n",
       "\\item 0.16\n",
       "\\item 0.2\n",
       "\\item 0.32\n",
       "\\item 0.4\n",
       "\\item 0.5\n",
       "\\item 0.8\n",
       "\\item 1\n",
       "\\end{enumerate*}\n"
      ],
      "text/markdown": [
       "1. 0.001\n",
       "2. 0.002\n",
       "3. 0.004\n",
       "4. 0.005\n",
       "5. 0.008\n",
       "6. 0.01\n",
       "7. 0.016\n",
       "8. 0.02\n",
       "9. 0.032\n",
       "10. 0.04\n",
       "11. 0.05\n",
       "12. 0.08\n",
       "13. 0.1\n",
       "14. 0.16\n",
       "15. 0.2\n",
       "16. 0.32\n",
       "17. 0.4\n",
       "18. 0.5\n",
       "19. 0.8\n",
       "20. 1\n",
       "\n",
       "\n"
      ],
      "text/plain": [
       " [1] 0.001 0.002 0.004 0.005 0.008 0.010 0.016 0.020 0.032 0.040 0.050 0.080\n",
       "[13] 0.100 0.160 0.200 0.320 0.400 0.500 0.800 1.000"
      ]
     },
     "metadata": {},
     "output_type": "display_data"
    }
   ],
   "source": [
    "head(data, 2)\n",
    "print(\"rows\")\n",
    "nrow(dataFull)\n",
    "print(\"cols\")\n",
    "ncol(dataFull)\n",
    "print(\"unique alpha\")\n",
    "sort(unique(dataFull$alpha))"
   ]
  },
  {
   "cell_type": "raw",
   "metadata": {},
   "source": [
    "for N = 1, show D^2 over time, 5 orders of magnitude decrease from initial distance.\n",
    "training curve for N = 1-16\n",
    "\n",
    "Multiple trajectories with same initial condition average curve to smooth if needed.\n",
    "\n",
    "y axis D^2 x axis N. loglog plot\n",
    "\n",
    "Fix epsilon error find first T where D^2 < error\n",
    "\n",
    "log y = log c - m log x\n",
    "log log better to distinguish 1/n and 1/n^2\n",
    "\n",
    "linear speed up only if alpha is increased by a factor of N"
   ]
  },
  {
   "cell_type": "code",
   "execution_count": 5,
   "metadata": {},
   "outputs": [
    {
     "data": {
      "text/plain": [
       "\n",
       "Call:\n",
       "lm(formula = sqDiff ~ ifedP, data = data)\n",
       "\n",
       "Residuals:\n",
       "      Min        1Q    Median        3Q       Max \n",
       "-0.201081 -0.042080 -0.005922  0.003471  0.310982 \n",
       "\n",
       "Coefficients:\n",
       "            Estimate Std. Error t value Pr(>|t|)    \n",
       "(Intercept)  0.01031    0.02941   0.351    0.729    \n",
       "ifedP        0.28535    0.05699   5.007 2.72e-05 ***\n",
       "---\n",
       "Signif. codes:  0 '***' 0.001 '**' 0.01 '*' 0.05 '.' 0.1 ' ' 1\n",
       "\n",
       "Residual standard error: 0.1064 on 28 degrees of freedom\n",
       "Multiple R-squared:  0.4724,\tAdjusted R-squared:  0.4536 \n",
       "F-statistic: 25.07 on 1 and 28 DF,  p-value: 2.718e-05\n"
      ]
     },
     "metadata": {},
     "output_type": "display_data"
    },
    {
     "data": {
      "image/png": "[encoded data removed]",
      "text/plain": [
       "plot without title"
      ]
     },
     "metadata": {
      "image/png": {
       "height": 420,
       "width": 420
      }
     },
     "output_type": "display_data"
    }
   ],
   "source": [
    "title <- \"final difference from bellman with epsilon greedy exploration\"\n",
    "data <- dataFull[dataFull$alpha == 0.1 & (dataFull$syncBackups == 1 | dataFull$syncBackups == -1),]\n",
    "ifedP = 1/data$fedP\n",
    "sqDiff = data$finalDiff ** 2\n",
    "model <- lm(sqDiff ~ ifedP, data)\n",
    "summary(model)\n",
    "predict <- cbind(data, predict(model, interval='confidence', newdata=data))\n",
    "\n",
    "p <- ggplot(predict, aes(x=1 / fedP, y=finalDiff ** 2))\n",
    "p <- p + ggtitle(title)\n",
    "p <- p + geom_point(aes(colour = epsilon))\n",
    "p <- p + scale_color_gradientn(colors = c(\"black\", \"green\"))\n",
    "p <- p + geom_line(aes(1 / fedP, fit))\n",
    "p <- p + geom_ribbon(aes(ymin=lwr,ymax=upr), alpha=0.2)\n",
    "p"
   ]
  },
  {
   "cell_type": "code",
   "execution_count": 6,
   "metadata": {},
   "outputs": [
    {
     "name": "stderr",
     "output_type": "stream",
     "text": [
      "Warning message in log(data$syncBackups):\n",
      "\"NaNs produced\"\n"
     ]
    },
    {
     "data": {
      "text/plain": [
       "\n",
       "Call:\n",
       "lm(formula = sqDiff ~ ifedP * syncLog, data = data)\n",
       "\n",
       "Residuals:\n",
       "     Min       1Q   Median       3Q      Max \n",
       "-0.28769 -0.09472 -0.03824  0.05984  0.51588 \n",
       "\n",
       "Coefficients:\n",
       "               Estimate Std. Error t value Pr(>|t|)    \n",
       "(Intercept)   -0.053712   0.031771  -1.691  0.09346 .  \n",
       "ifedP          0.358368   0.070581   5.077 1.39e-06 ***\n",
       "syncLog        0.044900   0.006106   7.353 2.44e-11 ***\n",
       "ifedP:syncLog -0.049052   0.017285  -2.838  0.00532 ** \n",
       "---\n",
       "Signif. codes:  0 '***' 0.001 '**' 0.01 '*' 0.05 '.' 0.1 ' ' 1\n",
       "\n",
       "Residual standard error: 0.1443 on 122 degrees of freedom\n",
       "Multiple R-squared:  0.3934,\tAdjusted R-squared:  0.3784 \n",
       "F-statistic: 26.37 on 3 and 122 DF,  p-value: 3.228e-13\n"
      ]
     },
     "metadata": {},
     "output_type": "display_data"
    },
    {
     "data": {
      "image/png": "[encoded data removed]",
      "text/plain": [
       "plot without title"
      ]
     },
     "metadata": {
      "image/png": {
       "height": 420,
       "width": 420
      }
     },
     "output_type": "display_data"
    }
   ],
   "source": [
    "title <- \"final difference from bellman with different sync frequencies\"\n",
    "data <- dataFull[dataFull$alpha == 0.1,]\n",
    "ifedP = 1/data$fedP\n",
    "sqDiff = data$finalDiff ** 2\n",
    "syncLog <- log(data$syncBackups)\n",
    "syncLog[is.nan(syncLog)] <- 0\n",
    "model <- lm(sqDiff ~ ifedP*syncLog, data)\n",
    "summary(model)\n",
    "predict <- cbind(data, predict(model, interval='confidence', newdata=data))\n",
    "\n",
    "p <- ggplot(predict, aes(x=1 / fedP, y=finalDiff ** 2))\n",
    "p <- p + ggtitle(title)\n",
    "p <- p + geom_point(aes(color = syncLog))\n",
    "p <- p + scale_color_gradientn(colors = c(\"black\", \"cyan\"))\n",
    "p"
   ]
  },
  {
   "cell_type": "code",
   "execution_count": 7,
   "metadata": {},
   "outputs": [
    {
     "data": {
      "text/plain": [
       "\n",
       "Call:\n",
       "lm(formula = sqDiff ~ ifedP * alpha, data = data)\n",
       "\n",
       "Residuals:\n",
       "    Min      1Q  Median      3Q     Max \n",
       "-4.6321 -0.0434 -0.0004  0.1248 21.9416 \n",
       "\n",
       "Coefficients:\n",
       "            Estimate Std. Error t value Pr(>|t|)    \n",
       "(Intercept)  0.08677    0.10291   0.843 0.399613    \n",
       "ifedP       -0.54654    0.22458  -2.434 0.015357 *  \n",
       "alpha       -0.96270    0.28688  -3.356 0.000862 ***\n",
       "ifedP:alpha 10.89425    0.62573  17.411  < 2e-16 ***\n",
       "---\n",
       "Signif. codes:  0 '***' 0.001 '**' 0.01 '*' 0.05 '.' 0.1 ' ' 1\n",
       "\n",
       "Residual standard error: 1.213 on 428 degrees of freedom\n",
       "Multiple R-squared:  0.5619,\tAdjusted R-squared:  0.5588 \n",
       "F-statistic:   183 on 3 and 428 DF,  p-value: < 2.2e-16\n"
      ]
     },
     "metadata": {},
     "output_type": "display_data"
    },
    {
     "data": {
      "image/png": "[encoded data removed]",
      "text/plain": [
       "plot without title"
      ]
     },
     "metadata": {
      "image/png": {
       "height": 420,
       "width": 420
      }
     },
     "output_type": "display_data"
    }
   ],
   "source": [
    "title <- \"final difference from bellman with different alpha\"\n",
    "data <- dataFull[(dataFull$syncBackups == 1 | dataFull$syncBackups == -1),]\n",
    "ifedP = 1/data$fedP\n",
    "sqDiff = data$finalDiff ** 2\n",
    "model <- lm(sqDiff ~ ifedP*alpha, data)\n",
    "summary(model)\n",
    "predict <- cbind(data, predict(model, interval='confidence', newdata=data))\n",
    "\n",
    "p <- ggplot(predict, aes(x=1 / fedP, y=finalDiff ** 2))\n",
    "p <- p + ggtitle(title)\n",
    "p <- p + geom_point(aes(color = alpha)) \n",
    "p <- p + scale_color_gradientn(colors = c(\"black\", \"red\"))\n",
    "p"
   ]
  },
  {
   "cell_type": "code",
   "execution_count": 8,
   "metadata": {},
   "outputs": [
    {
     "data": {
      "text/plain": [
       "\n",
       "Call:\n",
       "lm(formula = sqDiff ~ alphaifedP, data = data)\n",
       "\n",
       "Residuals:\n",
       "    Min      1Q  Median      3Q     Max \n",
       "-4.1572 -0.0119  0.1396  0.1679 22.4165 \n",
       "\n",
       "Coefficients:\n",
       "            Estimate Std. Error t value Pr(>|t|)    \n",
       "(Intercept) -0.17402    0.06414  -2.713  0.00693 ** \n",
       "alphaifedP   9.17087    0.40092  22.875  < 2e-16 ***\n",
       "---\n",
       "Signif. codes:  0 '***' 0.001 '**' 0.01 '*' 0.05 '.' 0.1 ' ' 1\n",
       "\n",
       "Residual standard error: 1.228 on 430 degrees of freedom\n",
       "Multiple R-squared:  0.5489,\tAdjusted R-squared:  0.5479 \n",
       "F-statistic: 523.2 on 1 and 430 DF,  p-value: < 2.2e-16\n"
      ]
     },
     "metadata": {},
     "output_type": "display_data"
    },
    {
     "data": {
      "image/png": "[encoded data removed]",
      "text/plain": [
       "plot without title"
      ]
     },
     "metadata": {
      "image/png": {
       "height": 420,
       "width": 420
      }
     },
     "output_type": "display_data"
    }
   ],
   "source": [
    "title <- \"final difference from bellman with different alpha\"\n",
    "data <- dataFull[(dataFull$syncBackups == 1 | dataFull$syncBackups == -1),]\n",
    "alphaifedP = data$alpha/data$fedP\n",
    "sqDiff = data$finalDiff ** 2\n",
    "model <- lm(sqDiff ~ alphaifedP, data)\n",
    "summary(model)\n",
    "predict <- cbind(data, predict(model, interval='confidence', newdata=data))\n",
    "\n",
    "p <- ggplot(predict, aes(x=alpha/fedP, y=finalDiff ** 2))\n",
    "p <- p + ggtitle(title)\n",
    "p <- p + geom_point(aes(color = alpha)) \n",
    "p <- p + scale_color_gradientn(colors = c(\"black\", \"red\"))\n",
    "p <- p + geom_line(aes(alphaifedP, fit))\n",
    "p <- p + geom_ribbon(aes(ymin=lwr,ymax=upr), alpha=0.2)\n",
    "p"
   ]
  },
  {
   "cell_type": "code",
   "execution_count": 9,
   "metadata": {},
   "outputs": [
    {
     "data": {
      "text/html": [
       "<table class=\"dataframe\">\n",
       "<caption>A data.frame: 30 × 25</caption>\n",
       "<thead>\n",
       "\t<tr><th></th><th scope=col>convN</th><th scope=col>alpha</th><th scope=col>discount</th><th scope=col>epsilon</th><th scope=col>fedP</th><th scope=col>syncBackups</th><th scope=col>stochasticPolicy</th><th scope=col>envSeed</th><th scope=col>trial</th><th scope=col>sims</th><th scope=col>⋯</th><th scope=col>endScoreRand</th><th scope=col>aggs</th><th scope=col>backups</th><th scope=col>endScoreStochBell</th><th scope=col>endScore</th><th scope=col>finalDiff</th><th scope=col>threshDiff</th><th scope=col>threshRew</th><th scope=col>threshEp</th><th scope=col>threshBack</th></tr>\n",
       "\t<tr><th></th><th scope=col>&lt;int&gt;</th><th scope=col>&lt;dbl&gt;</th><th scope=col>&lt;dbl&gt;</th><th scope=col>&lt;dbl&gt;</th><th scope=col>&lt;int&gt;</th><th scope=col>&lt;int&gt;</th><th scope=col>&lt;chr&gt;</th><th scope=col>&lt;int&gt;</th><th scope=col>&lt;int&gt;</th><th scope=col>&lt;dbl&gt;</th><th scope=col>⋯</th><th scope=col>&lt;dbl&gt;</th><th scope=col>&lt;dbl&gt;</th><th scope=col>&lt;dbl&gt;</th><th scope=col>&lt;dbl&gt;</th><th scope=col>&lt;dbl&gt;</th><th scope=col>&lt;dbl&gt;</th><th scope=col>&lt;dbl&gt;</th><th scope=col>&lt;dbl&gt;</th><th scope=col>&lt;int&gt;</th><th scope=col>&lt;dbl&gt;</th></tr>\n",
       "</thead>\n",
       "<tbody>\n",
       "\t<tr><th scope=row>32</th><td>10</td><td>0.005</td><td>0.6</td><td>0</td><td>16</td><td> 1</td><td>True</td><td>3701</td><td>0</td><td>80800</td><td>⋯</td><td>1185.387</td><td>80596</td><td>80800</td><td>2132.373</td><td>3898.605</td><td>0.046355344</td><td>0.6923270</td><td>22.594047</td><td> 90</td><td>10100</td></tr>\n",
       "\t<tr><th scope=row>59</th><td>10</td><td>0.005</td><td>0.6</td><td>0</td><td> 1</td><td>-1</td><td>True</td><td>3701</td><td>0</td><td>50500</td><td>⋯</td><td>1310.680</td><td>    0</td><td>50500</td><td>2147.475</td><td>3835.729</td><td>0.050978605</td><td>0.6329385</td><td>23.099771</td><td> 90</td><td>10100</td></tr>\n",
       "\t<tr><th scope=row>210</th><td>10</td><td>0.005</td><td>0.6</td><td>0</td><td> 4</td><td> 1</td><td>True</td><td>3701</td><td>1</td><td>70700</td><td>⋯</td><td>1312.867</td><td>70674</td><td>70700</td><td>2198.647</td><td>3898.605</td><td>0.076964535</td><td>0.6628927</td><td>20.272297</td><td> 90</td><td>10100</td></tr>\n",
       "\t<tr><th scope=row>241</th><td>10</td><td>0.005</td><td>0.6</td><td>1</td><td> 8</td><td> 1</td><td>True</td><td>3701</td><td>0</td><td>50500</td><td>⋯</td><td>1135.738</td><td>50443</td><td>50500</td><td>2190.005</td><td>3898.605</td><td>0.023955653</td><td>0.5989624</td><td>14.092454</td><td>100</td><td>11110</td></tr>\n",
       "\t<tr><th scope=row>274</th><td>10</td><td>0.005</td><td>0.6</td><td>1</td><td>16</td><td> 1</td><td>True</td><td>3701</td><td>2</td><td>50500</td><td>⋯</td><td>1327.228</td><td>50335</td><td>50500</td><td>2168.222</td><td>3898.605</td><td>0.031215578</td><td>0.7064840</td><td>12.151424</td><td> 90</td><td>10100</td></tr>\n",
       "\t<tr><th scope=row>456</th><td>10</td><td>0.005</td><td>0.6</td><td>1</td><td> 4</td><td> 1</td><td>True</td><td>3701</td><td>1</td><td>50500</td><td>⋯</td><td>1221.823</td><td>52510</td><td>50500</td><td>2109.417</td><td>3898.605</td><td>0.085942564</td><td>0.6733250</td><td>12.772860</td><td> 80</td><td> 9090</td></tr>\n",
       "\t<tr><th scope=row>577</th><td>10</td><td>0.005</td><td>0.6</td><td>1</td><td> 1</td><td>-1</td><td>True</td><td>3701</td><td>0</td><td>40400</td><td>⋯</td><td>1190.662</td><td>    0</td><td>40400</td><td>2126.969</td><td>3885.501</td><td>0.050852535</td><td>0.7055919</td><td>10.424412</td><td> 90</td><td>10100</td></tr>\n",
       "\t<tr><th scope=row>649</th><td>10</td><td>0.005</td><td>0.6</td><td>1</td><td> 8</td><td> 1</td><td>True</td><td>3701</td><td>2</td><td>60600</td><td>⋯</td><td>1150.744</td><td>60482</td><td>60600</td><td>2060.283</td><td>3898.605</td><td>0.048335307</td><td>0.6325500</td><td>12.444319</td><td>100</td><td>11110</td></tr>\n",
       "\t<tr><th scope=row>672</th><td>10</td><td>0.005</td><td>0.6</td><td>0</td><td> 4</td><td> 1</td><td>True</td><td>3701</td><td>0</td><td>60600</td><td>⋯</td><td>1348.077</td><td>60585</td><td>60600</td><td>2129.140</td><td>3898.605</td><td>0.046621370</td><td>0.6585394</td><td>22.086867</td><td> 90</td><td>10100</td></tr>\n",
       "\t<tr><th scope=row>720</th><td>10</td><td>0.005</td><td>0.6</td><td>1</td><td>16</td><td> 1</td><td>True</td><td>3701</td><td>0</td><td>49490</td><td>⋯</td><td>1170.932</td><td>49585</td><td>49490</td><td>2083.762</td><td>3898.605</td><td>0.008755543</td><td>0.7042348</td><td>12.016207</td><td> 90</td><td>10100</td></tr>\n",
       "\t<tr><th scope=row>733</th><td>10</td><td>0.005</td><td>0.6</td><td>1</td><td> 8</td><td> 1</td><td>True</td><td>3701</td><td>1</td><td>50500</td><td>⋯</td><td>1209.872</td><td>50273</td><td>50500</td><td>2207.602</td><td>3898.605</td><td>0.040787927</td><td>0.6127014</td><td>10.309195</td><td>100</td><td>11110</td></tr>\n",
       "\t<tr><th scope=row>796</th><td>10</td><td>0.005</td><td>0.6</td><td>0</td><td>16</td><td> 1</td><td>True</td><td>3701</td><td>2</td><td>60600</td><td>⋯</td><td>1249.183</td><td>60469</td><td>60600</td><td>2195.820</td><td>3898.605</td><td>0.040303698</td><td>0.7061166</td><td>19.386623</td><td> 90</td><td>10100</td></tr>\n",
       "\t<tr><th scope=row>817</th><td>10</td><td>0.005</td><td>0.6</td><td>0</td><td> 1</td><td>-1</td><td>True</td><td>3701</td><td>1</td><td>50500</td><td>⋯</td><td>1352.417</td><td>    0</td><td>50500</td><td>2244.677</td><td>3835.729</td><td>0.105724867</td><td>0.7006054</td><td>20.574693</td><td>100</td><td>11110</td></tr>\n",
       "\t<tr><th scope=row>843</th><td>10</td><td>0.005</td><td>0.6</td><td>0</td><td> 8</td><td> 1</td><td>True</td><td>3701</td><td>0</td><td>70700</td><td>⋯</td><td>1257.754</td><td>70478</td><td>70700</td><td>2101.623</td><td>3898.605</td><td>0.035550442</td><td>0.7016735</td><td>19.474734</td><td> 90</td><td>10100</td></tr>\n",
       "\t<tr><th scope=row>875</th><td>10</td><td>0.005</td><td>0.6</td><td>1</td><td> 4</td><td> 1</td><td>True</td><td>3701</td><td>2</td><td>50500</td><td>⋯</td><td>1242.874</td><td>48832</td><td>50500</td><td>2124.033</td><td>3898.605</td><td>0.086236657</td><td>0.6367209</td><td>10.884260</td><td> 90</td><td>10100</td></tr>\n",
       "\t<tr><th scope=row>901</th><td>10</td><td>0.005</td><td>0.6</td><td>1</td><td> 2</td><td> 1</td><td>True</td><td>3701</td><td>0</td><td>50500</td><td>⋯</td><td>1375.755</td><td>50297</td><td>50500</td><td>2145.364</td><td>3898.605</td><td>0.082315659</td><td>0.6992084</td><td>10.565221</td><td>100</td><td>11110</td></tr>\n",
       "\t<tr><th scope=row>927</th><td>10</td><td>0.005</td><td>0.6</td><td>0</td><td> 8</td><td> 1</td><td>True</td><td>3701</td><td>1</td><td>70700</td><td>⋯</td><td>1130.447</td><td>70547</td><td>70700</td><td>2101.436</td><td>3898.605</td><td>0.056010045</td><td>0.6416338</td><td>20.910894</td><td>100</td><td>11110</td></tr>\n",
       "\t<tr><th scope=row>1361</th><td>10</td><td>0.005</td><td>0.6</td><td>1</td><td> 2</td><td> 1</td><td>True</td><td>3701</td><td>2</td><td>40400</td><td>⋯</td><td>1062.582</td><td>40293</td><td>40400</td><td>2159.491</td><td>3898.605</td><td>0.098776855</td><td>0.6443354</td><td>11.636040</td><td>100</td><td>11110</td></tr>\n",
       "\t<tr><th scope=row>1374</th><td>10</td><td>0.005</td><td>0.6</td><td>0</td><td> 4</td><td> 1</td><td>True</td><td>3701</td><td>2</td><td>60600</td><td>⋯</td><td>1217.249</td><td>59230</td><td>60600</td><td>2062.244</td><td>3898.605</td><td>0.093287882</td><td>0.6826679</td><td>21.929666</td><td>100</td><td>11110</td></tr>\n",
       "\t<tr><th scope=row>1381</th><td>10</td><td>0.005</td><td>0.6</td><td>1</td><td> 1</td><td>-1</td><td>True</td><td>3701</td><td>2</td><td>50500</td><td>⋯</td><td>1282.355</td><td>    0</td><td>50500</td><td>2164.419</td><td>3835.729</td><td>0.219801236</td><td>0.6511783</td><td> 8.931962</td><td>110</td><td>12120</td></tr>\n",
       "\t<tr><th scope=row>1387</th><td>10</td><td>0.005</td><td>0.6</td><td>1</td><td>16</td><td> 1</td><td>True</td><td>3701</td><td>1</td><td>50500</td><td>⋯</td><td>1207.742</td><td>50149</td><td>50500</td><td>2082.630</td><td>3898.605</td><td>0.038223512</td><td>0.6099969</td><td>11.835475</td><td>100</td><td>11110</td></tr>\n",
       "\t<tr><th scope=row>1425</th><td>10</td><td>0.005</td><td>0.6</td><td>0</td><td>16</td><td> 1</td><td>True</td><td>3701</td><td>1</td><td>80800</td><td>⋯</td><td>1231.009</td><td>80361</td><td>80800</td><td>2205.906</td><td>3898.605</td><td>0.025802441</td><td>0.6869914</td><td>24.941448</td><td> 90</td><td>10100</td></tr>\n",
       "\t<tr><th scope=row>1464</th><td>10</td><td>0.005</td><td>0.6</td><td>1</td><td> 4</td><td> 1</td><td>True</td><td>3701</td><td>0</td><td>40400</td><td>⋯</td><td>1215.979</td><td>40384</td><td>40400</td><td>2222.474</td><td>3898.605</td><td>0.105430013</td><td>0.5960146</td><td>17.855186</td><td>100</td><td>11110</td></tr>\n",
       "\t<tr><th scope=row>1513</th><td>10</td><td>0.005</td><td>0.6</td><td>0</td><td> 2</td><td> 1</td><td>True</td><td>3701</td><td>1</td><td>50500</td><td>⋯</td><td>1281.597</td><td>50439</td><td>50500</td><td>2216.810</td><td>3898.605</td><td>0.110130326</td><td>0.6675576</td><td>24.997487</td><td> 90</td><td>10100</td></tr>\n",
       "\t<tr><th scope=row>1556</th><td>10</td><td>0.005</td><td>0.6</td><td>1</td><td> 1</td><td>-1</td><td>True</td><td>3701</td><td>1</td><td>50500</td><td>⋯</td><td>1169.088</td><td>    0</td><td>50500</td><td>2133.852</td><td>3835.729</td><td>0.191606570</td><td>0.6441963</td><td>10.399834</td><td>100</td><td>11110</td></tr>\n",
       "\t<tr><th scope=row>1581</th><td>10</td><td>0.005</td><td>0.6</td><td>0</td><td> 8</td><td> 1</td><td>True</td><td>3701</td><td>2</td><td>70700</td><td>⋯</td><td>1230.077</td><td>70706</td><td>70700</td><td>2065.647</td><td>3898.605</td><td>0.037339816</td><td>0.6567052</td><td>24.730218</td><td> 90</td><td>10100</td></tr>\n",
       "\t<tr><th scope=row>1608</th><td>10</td><td>0.005</td><td>0.6</td><td>1</td><td> 2</td><td> 1</td><td>True</td><td>3701</td><td>1</td><td>40400</td><td>⋯</td><td>1175.993</td><td>40364</td><td>40400</td><td>2010.959</td><td>3898.605</td><td>0.066823267</td><td>0.6196819</td><td>16.140765</td><td>100</td><td>11110</td></tr>\n",
       "\t<tr><th scope=row>1633</th><td>10</td><td>0.005</td><td>0.6</td><td>0</td><td> 2</td><td> 1</td><td>True</td><td>3701</td><td>0</td><td>60600</td><td>⋯</td><td>1254.416</td><td>60072</td><td>60600</td><td>2035.256</td><td>3898.605</td><td>0.113955475</td><td>0.6156833</td><td>22.106289</td><td>100</td><td>11110</td></tr>\n",
       "\t<tr><th scope=row>1881</th><td>10</td><td>0.005</td><td>0.6</td><td>0</td><td> 2</td><td> 1</td><td>True</td><td>3701</td><td>2</td><td>50500</td><td>⋯</td><td>1276.038</td><td>50282</td><td>50500</td><td>2164.055</td><td>3898.605</td><td>0.088619374</td><td>0.6472417</td><td>22.862363</td><td>100</td><td>11110</td></tr>\n",
       "\t<tr><th scope=row>1922</th><td>10</td><td>0.005</td><td>0.6</td><td>0</td><td> 1</td><td>-1</td><td>True</td><td>3701</td><td>2</td><td>40400</td><td>⋯</td><td>1324.606</td><td>    0</td><td>40400</td><td>2183.837</td><td>3885.501</td><td>0.105543248</td><td>0.6442128</td><td>23.928577</td><td> 90</td><td>10100</td></tr>\n",
       "</tbody>\n",
       "</table>\n"
      ],
      "text/latex": [
       "A data.frame: 30 × 25\n",
       "\\begin{tabular}{r|lllllllllllllllllllll}\n",
       "  & convN & alpha & discount & epsilon & fedP & syncBackups & stochasticPolicy & envSeed & trial & sims & ⋯ & endScoreRand & aggs & backups & endScoreStochBell & endScore & finalDiff & threshDiff & threshRew & threshEp & threshBack\\\\\n",
       "  & <int> & <dbl> & <dbl> & <dbl> & <int> & <int> & <chr> & <int> & <int> & <dbl> & ⋯ & <dbl> & <dbl> & <dbl> & <dbl> & <dbl> & <dbl> & <dbl> & <dbl> & <int> & <dbl>\\\\\n",
       "\\hline\n",
       "\t32 & 10 & 0.005 & 0.6 & 0 & 16 &  1 & True & 3701 & 0 & 80800 & ⋯ & 1185.387 & 80596 & 80800 & 2132.373 & 3898.605 & 0.046355344 & 0.6923270 & 22.594047 &  90 & 10100\\\\\n",
       "\t59 & 10 & 0.005 & 0.6 & 0 &  1 & -1 & True & 3701 & 0 & 50500 & ⋯ & 1310.680 &     0 & 50500 & 2147.475 & 3835.729 & 0.050978605 & 0.6329385 & 23.099771 &  90 & 10100\\\\\n",
       "\t210 & 10 & 0.005 & 0.6 & 0 &  4 &  1 & True & 3701 & 1 & 70700 & ⋯ & 1312.867 & 70674 & 70700 & 2198.647 & 3898.605 & 0.076964535 & 0.6628927 & 20.272297 &  90 & 10100\\\\\n",
       "\t241 & 10 & 0.005 & 0.6 & 1 &  8 &  1 & True & 3701 & 0 & 50500 & ⋯ & 1135.738 & 50443 & 50500 & 2190.005 & 3898.605 & 0.023955653 & 0.5989624 & 14.092454 & 100 & 11110\\\\\n",
       "\t274 & 10 & 0.005 & 0.6 & 1 & 16 &  1 & True & 3701 & 2 & 50500 & ⋯ & 1327.228 & 50335 & 50500 & 2168.222 & 3898.605 & 0.031215578 & 0.7064840 & 12.151424 &  90 & 10100\\\\\n",
       "\t456 & 10 & 0.005 & 0.6 & 1 &  4 &  1 & True & 3701 & 1 & 50500 & ⋯ & 1221.823 & 52510 & 50500 & 2109.417 & 3898.605 & 0.085942564 & 0.6733250 & 12.772860 &  80 &  9090\\\\\n",
       "\t577 & 10 & 0.005 & 0.6 & 1 &  1 & -1 & True & 3701 & 0 & 40400 & ⋯ & 1190.662 &     0 & 40400 & 2126.969 & 3885.501 & 0.050852535 & 0.7055919 & 10.424412 &  90 & 10100\\\\\n",
       "\t649 & 10 & 0.005 & 0.6 & 1 &  8 &  1 & True & 3701 & 2 & 60600 & ⋯ & 1150.744 & 60482 & 60600 & 2060.283 & 3898.605 & 0.048335307 & 0.6325500 & 12.444319 & 100 & 11110\\\\\n",
       "\t672 & 10 & 0.005 & 0.6 & 0 &  4 &  1 & True & 3701 & 0 & 60600 & ⋯ & 1348.077 & 60585 & 60600 & 2129.140 & 3898.605 & 0.046621370 & 0.6585394 & 22.086867 &  90 & 10100\\\\\n",
       "\t720 & 10 & 0.005 & 0.6 & 1 & 16 &  1 & True & 3701 & 0 & 49490 & ⋯ & 1170.932 & 49585 & 49490 & 2083.762 & 3898.605 & 0.008755543 & 0.7042348 & 12.016207 &  90 & 10100\\\\\n",
       "\t733 & 10 & 0.005 & 0.6 & 1 &  8 &  1 & True & 3701 & 1 & 50500 & ⋯ & 1209.872 & 50273 & 50500 & 2207.602 & 3898.605 & 0.040787927 & 0.6127014 & 10.309195 & 100 & 11110\\\\\n",
       "\t796 & 10 & 0.005 & 0.6 & 0 & 16 &  1 & True & 3701 & 2 & 60600 & ⋯ & 1249.183 & 60469 & 60600 & 2195.820 & 3898.605 & 0.040303698 & 0.7061166 & 19.386623 &  90 & 10100\\\\\n",
       "\t817 & 10 & 0.005 & 0.6 & 0 &  1 & -1 & True & 3701 & 1 & 50500 & ⋯ & 1352.417 &     0 & 50500 & 2244.677 & 3835.729 & 0.105724867 & 0.7006054 & 20.574693 & 100 & 11110\\\\\n",
       "\t843 & 10 & 0.005 & 0.6 & 0 &  8 &  1 & True & 3701 & 0 & 70700 & ⋯ & 1257.754 & 70478 & 70700 & 2101.623 & 3898.605 & 0.035550442 & 0.7016735 & 19.474734 &  90 & 10100\\\\\n",
       "\t875 & 10 & 0.005 & 0.6 & 1 &  4 &  1 & True & 3701 & 2 & 50500 & ⋯ & 1242.874 & 48832 & 50500 & 2124.033 & 3898.605 & 0.086236657 & 0.6367209 & 10.884260 &  90 & 10100\\\\\n",
       "\t901 & 10 & 0.005 & 0.6 & 1 &  2 &  1 & True & 3701 & 0 & 50500 & ⋯ & 1375.755 & 50297 & 50500 & 2145.364 & 3898.605 & 0.082315659 & 0.6992084 & 10.565221 & 100 & 11110\\\\\n",
       "\t927 & 10 & 0.005 & 0.6 & 0 &  8 &  1 & True & 3701 & 1 & 70700 & ⋯ & 1130.447 & 70547 & 70700 & 2101.436 & 3898.605 & 0.056010045 & 0.6416338 & 20.910894 & 100 & 11110\\\\\n",
       "\t1361 & 10 & 0.005 & 0.6 & 1 &  2 &  1 & True & 3701 & 2 & 40400 & ⋯ & 1062.582 & 40293 & 40400 & 2159.491 & 3898.605 & 0.098776855 & 0.6443354 & 11.636040 & 100 & 11110\\\\\n",
       "\t1374 & 10 & 0.005 & 0.6 & 0 &  4 &  1 & True & 3701 & 2 & 60600 & ⋯ & 1217.249 & 59230 & 60600 & 2062.244 & 3898.605 & 0.093287882 & 0.6826679 & 21.929666 & 100 & 11110\\\\\n",
       "\t1381 & 10 & 0.005 & 0.6 & 1 &  1 & -1 & True & 3701 & 2 & 50500 & ⋯ & 1282.355 &     0 & 50500 & 2164.419 & 3835.729 & 0.219801236 & 0.6511783 &  8.931962 & 110 & 12120\\\\\n",
       "\t1387 & 10 & 0.005 & 0.6 & 1 & 16 &  1 & True & 3701 & 1 & 50500 & ⋯ & 1207.742 & 50149 & 50500 & 2082.630 & 3898.605 & 0.038223512 & 0.6099969 & 11.835475 & 100 & 11110\\\\\n",
       "\t1425 & 10 & 0.005 & 0.6 & 0 & 16 &  1 & True & 3701 & 1 & 80800 & ⋯ & 1231.009 & 80361 & 80800 & 2205.906 & 3898.605 & 0.025802441 & 0.6869914 & 24.941448 &  90 & 10100\\\\\n",
       "\t1464 & 10 & 0.005 & 0.6 & 1 &  4 &  1 & True & 3701 & 0 & 40400 & ⋯ & 1215.979 & 40384 & 40400 & 2222.474 & 3898.605 & 0.105430013 & 0.5960146 & 17.855186 & 100 & 11110\\\\\n",
       "\t1513 & 10 & 0.005 & 0.6 & 0 &  2 &  1 & True & 3701 & 1 & 50500 & ⋯ & 1281.597 & 50439 & 50500 & 2216.810 & 3898.605 & 0.110130326 & 0.6675576 & 24.997487 &  90 & 10100\\\\\n",
       "\t1556 & 10 & 0.005 & 0.6 & 1 &  1 & -1 & True & 3701 & 1 & 50500 & ⋯ & 1169.088 &     0 & 50500 & 2133.852 & 3835.729 & 0.191606570 & 0.6441963 & 10.399834 & 100 & 11110\\\\\n",
       "\t1581 & 10 & 0.005 & 0.6 & 0 &  8 &  1 & True & 3701 & 2 & 70700 & ⋯ & 1230.077 & 70706 & 70700 & 2065.647 & 3898.605 & 0.037339816 & 0.6567052 & 24.730218 &  90 & 10100\\\\\n",
       "\t1608 & 10 & 0.005 & 0.6 & 1 &  2 &  1 & True & 3701 & 1 & 40400 & ⋯ & 1175.993 & 40364 & 40400 & 2010.959 & 3898.605 & 0.066823267 & 0.6196819 & 16.140765 & 100 & 11110\\\\\n",
       "\t1633 & 10 & 0.005 & 0.6 & 0 &  2 &  1 & True & 3701 & 0 & 60600 & ⋯ & 1254.416 & 60072 & 60600 & 2035.256 & 3898.605 & 0.113955475 & 0.6156833 & 22.106289 & 100 & 11110\\\\\n",
       "\t1881 & 10 & 0.005 & 0.6 & 0 &  2 &  1 & True & 3701 & 2 & 50500 & ⋯ & 1276.038 & 50282 & 50500 & 2164.055 & 3898.605 & 0.088619374 & 0.6472417 & 22.862363 & 100 & 11110\\\\\n",
       "\t1922 & 10 & 0.005 & 0.6 & 0 &  1 & -1 & True & 3701 & 2 & 40400 & ⋯ & 1324.606 &     0 & 40400 & 2183.837 & 3885.501 & 0.105543248 & 0.6442128 & 23.928577 &  90 & 10100\\\\\n",
       "\\end{tabular}\n"
      ],
      "text/markdown": [
       "\n",
       "A data.frame: 30 × 25\n",
       "\n",
       "| <!--/--> | convN &lt;int&gt; | alpha &lt;dbl&gt; | discount &lt;dbl&gt; | epsilon &lt;dbl&gt; | fedP &lt;int&gt; | syncBackups &lt;int&gt; | stochasticPolicy &lt;chr&gt; | envSeed &lt;int&gt; | trial &lt;int&gt; | sims &lt;dbl&gt; | ⋯ ⋯ | endScoreRand &lt;dbl&gt; | aggs &lt;dbl&gt; | backups &lt;dbl&gt; | endScoreStochBell &lt;dbl&gt; | endScore &lt;dbl&gt; | finalDiff &lt;dbl&gt; | threshDiff &lt;dbl&gt; | threshRew &lt;dbl&gt; | threshEp &lt;int&gt; | threshBack &lt;dbl&gt; |\n",
       "|---|---|---|---|---|---|---|---|---|---|---|---|---|---|---|---|---|---|---|---|---|---|\n",
       "| 32 | 10 | 0.005 | 0.6 | 0 | 16 |  1 | True | 3701 | 0 | 80800 | ⋯ | 1185.387 | 80596 | 80800 | 2132.373 | 3898.605 | 0.046355344 | 0.6923270 | 22.594047 |  90 | 10100 |\n",
       "| 59 | 10 | 0.005 | 0.6 | 0 |  1 | -1 | True | 3701 | 0 | 50500 | ⋯ | 1310.680 |     0 | 50500 | 2147.475 | 3835.729 | 0.050978605 | 0.6329385 | 23.099771 |  90 | 10100 |\n",
       "| 210 | 10 | 0.005 | 0.6 | 0 |  4 |  1 | True | 3701 | 1 | 70700 | ⋯ | 1312.867 | 70674 | 70700 | 2198.647 | 3898.605 | 0.076964535 | 0.6628927 | 20.272297 |  90 | 10100 |\n",
       "| 241 | 10 | 0.005 | 0.6 | 1 |  8 |  1 | True | 3701 | 0 | 50500 | ⋯ | 1135.738 | 50443 | 50500 | 2190.005 | 3898.605 | 0.023955653 | 0.5989624 | 14.092454 | 100 | 11110 |\n",
       "| 274 | 10 | 0.005 | 0.6 | 1 | 16 |  1 | True | 3701 | 2 | 50500 | ⋯ | 1327.228 | 50335 | 50500 | 2168.222 | 3898.605 | 0.031215578 | 0.7064840 | 12.151424 |  90 | 10100 |\n",
       "| 456 | 10 | 0.005 | 0.6 | 1 |  4 |  1 | True | 3701 | 1 | 50500 | ⋯ | 1221.823 | 52510 | 50500 | 2109.417 | 3898.605 | 0.085942564 | 0.6733250 | 12.772860 |  80 |  9090 |\n",
       "| 577 | 10 | 0.005 | 0.6 | 1 |  1 | -1 | True | 3701 | 0 | 40400 | ⋯ | 1190.662 |     0 | 40400 | 2126.969 | 3885.501 | 0.050852535 | 0.7055919 | 10.424412 |  90 | 10100 |\n",
       "| 649 | 10 | 0.005 | 0.6 | 1 |  8 |  1 | True | 3701 | 2 | 60600 | ⋯ | 1150.744 | 60482 | 60600 | 2060.283 | 3898.605 | 0.048335307 | 0.6325500 | 12.444319 | 100 | 11110 |\n",
       "| 672 | 10 | 0.005 | 0.6 | 0 |  4 |  1 | True | 3701 | 0 | 60600 | ⋯ | 1348.077 | 60585 | 60600 | 2129.140 | 3898.605 | 0.046621370 | 0.6585394 | 22.086867 |  90 | 10100 |\n",
       "| 720 | 10 | 0.005 | 0.6 | 1 | 16 |  1 | True | 3701 | 0 | 49490 | ⋯ | 1170.932 | 49585 | 49490 | 2083.762 | 3898.605 | 0.008755543 | 0.7042348 | 12.016207 |  90 | 10100 |\n",
       "| 733 | 10 | 0.005 | 0.6 | 1 |  8 |  1 | True | 3701 | 1 | 50500 | ⋯ | 1209.872 | 50273 | 50500 | 2207.602 | 3898.605 | 0.040787927 | 0.6127014 | 10.309195 | 100 | 11110 |\n",
       "| 796 | 10 | 0.005 | 0.6 | 0 | 16 |  1 | True | 3701 | 2 | 60600 | ⋯ | 1249.183 | 60469 | 60600 | 2195.820 | 3898.605 | 0.040303698 | 0.7061166 | 19.386623 |  90 | 10100 |\n",
       "| 817 | 10 | 0.005 | 0.6 | 0 |  1 | -1 | True | 3701 | 1 | 50500 | ⋯ | 1352.417 |     0 | 50500 | 2244.677 | 3835.729 | 0.105724867 | 0.7006054 | 20.574693 | 100 | 11110 |\n",
       "| 843 | 10 | 0.005 | 0.6 | 0 |  8 |  1 | True | 3701 | 0 | 70700 | ⋯ | 1257.754 | 70478 | 70700 | 2101.623 | 3898.605 | 0.035550442 | 0.7016735 | 19.474734 |  90 | 10100 |\n",
       "| 875 | 10 | 0.005 | 0.6 | 1 |  4 |  1 | True | 3701 | 2 | 50500 | ⋯ | 1242.874 | 48832 | 50500 | 2124.033 | 3898.605 | 0.086236657 | 0.6367209 | 10.884260 |  90 | 10100 |\n",
       "| 901 | 10 | 0.005 | 0.6 | 1 |  2 |  1 | True | 3701 | 0 | 50500 | ⋯ | 1375.755 | 50297 | 50500 | 2145.364 | 3898.605 | 0.082315659 | 0.6992084 | 10.565221 | 100 | 11110 |\n",
       "| 927 | 10 | 0.005 | 0.6 | 0 |  8 |  1 | True | 3701 | 1 | 70700 | ⋯ | 1130.447 | 70547 | 70700 | 2101.436 | 3898.605 | 0.056010045 | 0.6416338 | 20.910894 | 100 | 11110 |\n",
       "| 1361 | 10 | 0.005 | 0.6 | 1 |  2 |  1 | True | 3701 | 2 | 40400 | ⋯ | 1062.582 | 40293 | 40400 | 2159.491 | 3898.605 | 0.098776855 | 0.6443354 | 11.636040 | 100 | 11110 |\n",
       "| 1374 | 10 | 0.005 | 0.6 | 0 |  4 |  1 | True | 3701 | 2 | 60600 | ⋯ | 1217.249 | 59230 | 60600 | 2062.244 | 3898.605 | 0.093287882 | 0.6826679 | 21.929666 | 100 | 11110 |\n",
       "| 1381 | 10 | 0.005 | 0.6 | 1 |  1 | -1 | True | 3701 | 2 | 50500 | ⋯ | 1282.355 |     0 | 50500 | 2164.419 | 3835.729 | 0.219801236 | 0.6511783 |  8.931962 | 110 | 12120 |\n",
       "| 1387 | 10 | 0.005 | 0.6 | 1 | 16 |  1 | True | 3701 | 1 | 50500 | ⋯ | 1207.742 | 50149 | 50500 | 2082.630 | 3898.605 | 0.038223512 | 0.6099969 | 11.835475 | 100 | 11110 |\n",
       "| 1425 | 10 | 0.005 | 0.6 | 0 | 16 |  1 | True | 3701 | 1 | 80800 | ⋯ | 1231.009 | 80361 | 80800 | 2205.906 | 3898.605 | 0.025802441 | 0.6869914 | 24.941448 |  90 | 10100 |\n",
       "| 1464 | 10 | 0.005 | 0.6 | 1 |  4 |  1 | True | 3701 | 0 | 40400 | ⋯ | 1215.979 | 40384 | 40400 | 2222.474 | 3898.605 | 0.105430013 | 0.5960146 | 17.855186 | 100 | 11110 |\n",
       "| 1513 | 10 | 0.005 | 0.6 | 0 |  2 |  1 | True | 3701 | 1 | 50500 | ⋯ | 1281.597 | 50439 | 50500 | 2216.810 | 3898.605 | 0.110130326 | 0.6675576 | 24.997487 |  90 | 10100 |\n",
       "| 1556 | 10 | 0.005 | 0.6 | 1 |  1 | -1 | True | 3701 | 1 | 50500 | ⋯ | 1169.088 |     0 | 50500 | 2133.852 | 3835.729 | 0.191606570 | 0.6441963 | 10.399834 | 100 | 11110 |\n",
       "| 1581 | 10 | 0.005 | 0.6 | 0 |  8 |  1 | True | 3701 | 2 | 70700 | ⋯ | 1230.077 | 70706 | 70700 | 2065.647 | 3898.605 | 0.037339816 | 0.6567052 | 24.730218 |  90 | 10100 |\n",
       "| 1608 | 10 | 0.005 | 0.6 | 1 |  2 |  1 | True | 3701 | 1 | 40400 | ⋯ | 1175.993 | 40364 | 40400 | 2010.959 | 3898.605 | 0.066823267 | 0.6196819 | 16.140765 | 100 | 11110 |\n",
       "| 1633 | 10 | 0.005 | 0.6 | 0 |  2 |  1 | True | 3701 | 0 | 60600 | ⋯ | 1254.416 | 60072 | 60600 | 2035.256 | 3898.605 | 0.113955475 | 0.6156833 | 22.106289 | 100 | 11110 |\n",
       "| 1881 | 10 | 0.005 | 0.6 | 0 |  2 |  1 | True | 3701 | 2 | 50500 | ⋯ | 1276.038 | 50282 | 50500 | 2164.055 | 3898.605 | 0.088619374 | 0.6472417 | 22.862363 | 100 | 11110 |\n",
       "| 1922 | 10 | 0.005 | 0.6 | 0 |  1 | -1 | True | 3701 | 2 | 40400 | ⋯ | 1324.606 |     0 | 40400 | 2183.837 | 3885.501 | 0.105543248 | 0.6442128 | 23.928577 |  90 | 10100 |\n",
       "\n"
      ],
      "text/plain": [
       "     convN alpha discount epsilon fedP syncBackups stochasticPolicy envSeed\n",
       "32   10    0.005 0.6      0       16    1          True             3701   \n",
       "59   10    0.005 0.6      0        1   -1          True             3701   \n",
       "210  10    0.005 0.6      0        4    1          True             3701   \n",
       "241  10    0.005 0.6      1        8    1          True             3701   \n",
       "274  10    0.005 0.6      1       16    1          True             3701   \n",
       "456  10    0.005 0.6      1        4    1          True             3701   \n",
       "577  10    0.005 0.6      1        1   -1          True             3701   \n",
       "649  10    0.005 0.6      1        8    1          True             3701   \n",
       "672  10    0.005 0.6      0        4    1          True             3701   \n",
       "720  10    0.005 0.6      1       16    1          True             3701   \n",
       "733  10    0.005 0.6      1        8    1          True             3701   \n",
       "796  10    0.005 0.6      0       16    1          True             3701   \n",
       "817  10    0.005 0.6      0        1   -1          True             3701   \n",
       "843  10    0.005 0.6      0        8    1          True             3701   \n",
       "875  10    0.005 0.6      1        4    1          True             3701   \n",
       "901  10    0.005 0.6      1        2    1          True             3701   \n",
       "927  10    0.005 0.6      0        8    1          True             3701   \n",
       "1361 10    0.005 0.6      1        2    1          True             3701   \n",
       "1374 10    0.005 0.6      0        4    1          True             3701   \n",
       "1381 10    0.005 0.6      1        1   -1          True             3701   \n",
       "1387 10    0.005 0.6      1       16    1          True             3701   \n",
       "1425 10    0.005 0.6      0       16    1          True             3701   \n",
       "1464 10    0.005 0.6      1        4    1          True             3701   \n",
       "1513 10    0.005 0.6      0        2    1          True             3701   \n",
       "1556 10    0.005 0.6      1        1   -1          True             3701   \n",
       "1581 10    0.005 0.6      0        8    1          True             3701   \n",
       "1608 10    0.005 0.6      1        2    1          True             3701   \n",
       "1633 10    0.005 0.6      0        2    1          True             3701   \n",
       "1881 10    0.005 0.6      0        2    1          True             3701   \n",
       "1922 10    0.005 0.6      0        1   -1          True             3701   \n",
       "     trial sims  ⋯ endScoreRand aggs  backups endScoreStochBell endScore\n",
       "32   0     80800 ⋯ 1185.387     80596 80800   2132.373          3898.605\n",
       "59   0     50500 ⋯ 1310.680         0 50500   2147.475          3835.729\n",
       "210  1     70700 ⋯ 1312.867     70674 70700   2198.647          3898.605\n",
       "241  0     50500 ⋯ 1135.738     50443 50500   2190.005          3898.605\n",
       "274  2     50500 ⋯ 1327.228     50335 50500   2168.222          3898.605\n",
       "456  1     50500 ⋯ 1221.823     52510 50500   2109.417          3898.605\n",
       "577  0     40400 ⋯ 1190.662         0 40400   2126.969          3885.501\n",
       "649  2     60600 ⋯ 1150.744     60482 60600   2060.283          3898.605\n",
       "672  0     60600 ⋯ 1348.077     60585 60600   2129.140          3898.605\n",
       "720  0     49490 ⋯ 1170.932     49585 49490   2083.762          3898.605\n",
       "733  1     50500 ⋯ 1209.872     50273 50500   2207.602          3898.605\n",
       "796  2     60600 ⋯ 1249.183     60469 60600   2195.820          3898.605\n",
       "817  1     50500 ⋯ 1352.417         0 50500   2244.677          3835.729\n",
       "843  0     70700 ⋯ 1257.754     70478 70700   2101.623          3898.605\n",
       "875  2     50500 ⋯ 1242.874     48832 50500   2124.033          3898.605\n",
       "901  0     50500 ⋯ 1375.755     50297 50500   2145.364          3898.605\n",
       "927  1     70700 ⋯ 1130.447     70547 70700   2101.436          3898.605\n",
       "1361 2     40400 ⋯ 1062.582     40293 40400   2159.491          3898.605\n",
       "1374 2     60600 ⋯ 1217.249     59230 60600   2062.244          3898.605\n",
       "1381 2     50500 ⋯ 1282.355         0 50500   2164.419          3835.729\n",
       "1387 1     50500 ⋯ 1207.742     50149 50500   2082.630          3898.605\n",
       "1425 1     80800 ⋯ 1231.009     80361 80800   2205.906          3898.605\n",
       "1464 0     40400 ⋯ 1215.979     40384 40400   2222.474          3898.605\n",
       "1513 1     50500 ⋯ 1281.597     50439 50500   2216.810          3898.605\n",
       "1556 1     50500 ⋯ 1169.088         0 50500   2133.852          3835.729\n",
       "1581 2     70700 ⋯ 1230.077     70706 70700   2065.647          3898.605\n",
       "1608 1     40400 ⋯ 1175.993     40364 40400   2010.959          3898.605\n",
       "1633 0     60600 ⋯ 1254.416     60072 60600   2035.256          3898.605\n",
       "1881 2     50500 ⋯ 1276.038     50282 50500   2164.055          3898.605\n",
       "1922 2     40400 ⋯ 1324.606         0 40400   2183.837          3885.501\n",
       "     finalDiff   threshDiff threshRew threshEp threshBack\n",
       "32   0.046355344 0.6923270  22.594047  90      10100     \n",
       "59   0.050978605 0.6329385  23.099771  90      10100     \n",
       "210  0.076964535 0.6628927  20.272297  90      10100     \n",
       "241  0.023955653 0.5989624  14.092454 100      11110     \n",
       "274  0.031215578 0.7064840  12.151424  90      10100     \n",
       "456  0.085942564 0.6733250  12.772860  80       9090     \n",
       "577  0.050852535 0.7055919  10.424412  90      10100     \n",
       "649  0.048335307 0.6325500  12.444319 100      11110     \n",
       "672  0.046621370 0.6585394  22.086867  90      10100     \n",
       "720  0.008755543 0.7042348  12.016207  90      10100     \n",
       "733  0.040787927 0.6127014  10.309195 100      11110     \n",
       "796  0.040303698 0.7061166  19.386623  90      10100     \n",
       "817  0.105724867 0.7006054  20.574693 100      11110     \n",
       "843  0.035550442 0.7016735  19.474734  90      10100     \n",
       "875  0.086236657 0.6367209  10.884260  90      10100     \n",
       "901  0.082315659 0.6992084  10.565221 100      11110     \n",
       "927  0.056010045 0.6416338  20.910894 100      11110     \n",
       "1361 0.098776855 0.6443354  11.636040 100      11110     \n",
       "1374 0.093287882 0.6826679  21.929666 100      11110     \n",
       "1381 0.219801236 0.6511783   8.931962 110      12120     \n",
       "1387 0.038223512 0.6099969  11.835475 100      11110     \n",
       "1425 0.025802441 0.6869914  24.941448  90      10100     \n",
       "1464 0.105430013 0.5960146  17.855186 100      11110     \n",
       "1513 0.110130326 0.6675576  24.997487  90      10100     \n",
       "1556 0.191606570 0.6441963  10.399834 100      11110     \n",
       "1581 0.037339816 0.6567052  24.730218  90      10100     \n",
       "1608 0.066823267 0.6196819  16.140765 100      11110     \n",
       "1633 0.113955475 0.6156833  22.106289 100      11110     \n",
       "1881 0.088619374 0.6472417  22.862363 100      11110     \n",
       "1922 0.105543248 0.6442128  23.928577  90      10100     "
      ]
     },
     "metadata": {},
     "output_type": "display_data"
    },
    {
     "data": {
      "text/plain": [
       "\n",
       "Call:\n",
       "lm(formula = threshBack ~ ifedP, data = data)\n",
       "\n",
       "Residuals:\n",
       "     Min       1Q   Median       3Q      Max \n",
       "-1455.27  -431.69   -62.45   537.58  1248.92 \n",
       "\n",
       "Coefficients:\n",
       "            Estimate Std. Error t value Pr(>|t|)    \n",
       "(Intercept)  10436.7      173.8   60.05   <2e-16 ***\n",
       "ifedP          434.4      336.7    1.29    0.208    \n",
       "---\n",
       "Signif. codes:  0 '***' 0.001 '**' 0.01 '*' 0.05 '.' 0.1 ' ' 1\n",
       "\n",
       "Residual standard error: 628.9 on 28 degrees of freedom\n",
       "Multiple R-squared:  0.0561,\tAdjusted R-squared:  0.02239 \n",
       "F-statistic: 1.664 on 1 and 28 DF,  p-value: 0.2076\n"
      ]
     },
     "metadata": {},
     "output_type": "display_data"
    },
    {
     "data": {
      "image/png": "[encoded data removed]",
      "text/plain": [
       "plot without title"
      ]
     },
     "metadata": {
      "image/png": {
       "height": 420,
       "width": 420
      }
     },
     "output_type": "display_data"
    }
   ],
   "source": [
    "title <- \"time to reach a threshold distance, fixed alpha\"\n",
    "data <- dataFull[(dataFull$syncBackups == 1 | dataFull$syncBackups == -1) & dataFull$threshDiff ** 2 <= 0.5 & dataFull$alpha == 0.005,]\n",
    "data\n",
    "\n",
    "ifedP = 1/data$fedP\n",
    "model <- lm(threshBack ~ ifedP, data)\n",
    "summary(model)\n",
    "predict <- cbind(data, predict(model, interval='confidence', newdata=data))\n",
    "\n",
    "\n",
    "p <- ggplot(predict, aes(x=1/fedP, y=threshBack))\n",
    "p <- p + ggtitle(title)\n",
    "p <- p + geom_point(aes(color = alpha)) \n",
    "p <- p + scale_color_gradientn(colors = c(\"black\", \"red\"))\n",
    "p <- p + geom_line(aes(ifedP, fit))\n",
    "p <- p + geom_ribbon(aes(ymin=lwr,ymax=upr), alpha=0.2)\n",
    "p"
   ]
  },
  {
   "cell_type": "code",
   "execution_count": 10,
   "metadata": {},
   "outputs": [
    {
     "data": {
      "text/html": [
       "<table class=\"dataframe\">\n",
       "<caption>A data.frame: 30 × 25</caption>\n",
       "<thead>\n",
       "\t<tr><th></th><th scope=col>convN</th><th scope=col>alpha</th><th scope=col>discount</th><th scope=col>epsilon</th><th scope=col>fedP</th><th scope=col>syncBackups</th><th scope=col>stochasticPolicy</th><th scope=col>envSeed</th><th scope=col>trial</th><th scope=col>sims</th><th scope=col>⋯</th><th scope=col>endScoreRand</th><th scope=col>aggs</th><th scope=col>backups</th><th scope=col>endScoreStochBell</th><th scope=col>endScore</th><th scope=col>finalDiff</th><th scope=col>threshDiff</th><th scope=col>threshRew</th><th scope=col>threshEp</th><th scope=col>threshBack</th></tr>\n",
       "\t<tr><th></th><th scope=col>&lt;int&gt;</th><th scope=col>&lt;dbl&gt;</th><th scope=col>&lt;dbl&gt;</th><th scope=col>&lt;dbl&gt;</th><th scope=col>&lt;int&gt;</th><th scope=col>&lt;int&gt;</th><th scope=col>&lt;chr&gt;</th><th scope=col>&lt;int&gt;</th><th scope=col>&lt;int&gt;</th><th scope=col>&lt;dbl&gt;</th><th scope=col>⋯</th><th scope=col>&lt;dbl&gt;</th><th scope=col>&lt;dbl&gt;</th><th scope=col>&lt;dbl&gt;</th><th scope=col>&lt;dbl&gt;</th><th scope=col>&lt;dbl&gt;</th><th scope=col>&lt;dbl&gt;</th><th scope=col>&lt;dbl&gt;</th><th scope=col>&lt;dbl&gt;</th><th scope=col>&lt;int&gt;</th><th scope=col>&lt;dbl&gt;</th></tr>\n",
       "</thead>\n",
       "<tbody>\n",
       "\t<tr><th scope=row>59</th><td>10</td><td>0.005</td><td>0.6</td><td>0</td><td> 1</td><td>-1</td><td>True</td><td>3701</td><td>0</td><td>50500</td><td>⋯</td><td>1310.680</td><td>    0</td><td>50500</td><td>2147.475</td><td>3835.729</td><td>0.05097861</td><td>0.6329385</td><td>23.099771</td><td> 90</td><td>10100</td></tr>\n",
       "\t<tr><th scope=row>140</th><td>10</td><td>0.010</td><td>0.6</td><td>0</td><td> 2</td><td> 1</td><td>True</td><td>3701</td><td>1</td><td>50500</td><td>⋯</td><td>1280.225</td><td>50366</td><td>50500</td><td>2067.246</td><td>3898.605</td><td>0.09233517</td><td>0.6228670</td><td>19.485508</td><td> 50</td><td> 6060</td></tr>\n",
       "\t<tr><th scope=row>147</th><td>10</td><td>0.080</td><td>0.6</td><td>1</td><td>16</td><td> 1</td><td>True</td><td>3701</td><td>1</td><td>40400</td><td>⋯</td><td>1174.775</td><td>40251</td><td>40400</td><td>2141.773</td><td>3898.605</td><td>0.14811655</td><td>0.3072197</td><td>11.514895</td><td>  0</td><td> 1010</td></tr>\n",
       "\t<tr><th scope=row>151</th><td>10</td><td>0.020</td><td>0.6</td><td>0</td><td> 4</td><td> 1</td><td>True</td><td>3701</td><td>1</td><td>30300</td><td>⋯</td><td>1222.580</td><td>30059</td><td>30300</td><td>2155.027</td><td>3898.605</td><td>0.08561739</td><td>0.5852561</td><td>24.416277</td><td> 20</td><td> 3030</td></tr>\n",
       "\t<tr><th scope=row>288</th><td>10</td><td>0.080</td><td>0.6</td><td>0</td><td>16</td><td> 1</td><td>True</td><td>3701</td><td>1</td><td>30300</td><td>⋯</td><td>1198.584</td><td>30225</td><td>30300</td><td>2186.137</td><td>3898.605</td><td>0.14485435</td><td>0.2377868</td><td>17.035205</td><td>  0</td><td> 1010</td></tr>\n",
       "\t<tr><th scope=row>550</th><td>10</td><td>0.080</td><td>0.6</td><td>1</td><td>16</td><td> 1</td><td>True</td><td>3701</td><td>0</td><td>30300</td><td>⋯</td><td>1253.069</td><td>30164</td><td>30300</td><td>2114.114</td><td>3898.605</td><td>0.11190317</td><td>0.3124606</td><td>12.610502</td><td>  0</td><td> 1010</td></tr>\n",
       "\t<tr><th scope=row>577</th><td>10</td><td>0.005</td><td>0.6</td><td>1</td><td> 1</td><td>-1</td><td>True</td><td>3701</td><td>0</td><td>40400</td><td>⋯</td><td>1190.662</td><td>    0</td><td>40400</td><td>2126.969</td><td>3885.501</td><td>0.05085253</td><td>0.7055919</td><td>10.424412</td><td> 90</td><td>10100</td></tr>\n",
       "\t<tr><th scope=row>669</th><td>10</td><td>0.010</td><td>0.6</td><td>0</td><td> 2</td><td> 1</td><td>True</td><td>3701</td><td>2</td><td>50500</td><td>⋯</td><td>1069.512</td><td>51270</td><td>50500</td><td>2101.165</td><td>3898.605</td><td>0.16935395</td><td>0.6424748</td><td>21.925531</td><td> 40</td><td> 5050</td></tr>\n",
       "\t<tr><th scope=row>745</th><td>10</td><td>0.040</td><td>0.6</td><td>1</td><td> 8</td><td> 1</td><td>True</td><td>3701</td><td>1</td><td>30300</td><td>⋯</td><td>1133.126</td><td>30212</td><td>30300</td><td>2169.852</td><td>3898.605</td><td>0.12860771</td><td>0.1883133</td><td>15.907769</td><td> 10</td><td> 2020</td></tr>\n",
       "\t<tr><th scope=row>770</th><td>10</td><td>0.080</td><td>0.6</td><td>0</td><td>16</td><td> 1</td><td>True</td><td>3701</td><td>2</td><td>30300</td><td>⋯</td><td>1299.307</td><td>30189</td><td>30300</td><td>2117.329</td><td>3898.605</td><td>0.10870108</td><td>0.3660784</td><td>20.326293</td><td>  0</td><td> 1010</td></tr>\n",
       "\t<tr><th scope=row>817</th><td>10</td><td>0.005</td><td>0.6</td><td>0</td><td> 1</td><td>-1</td><td>True</td><td>3701</td><td>1</td><td>50500</td><td>⋯</td><td>1352.417</td><td>    0</td><td>50500</td><td>2244.677</td><td>3835.729</td><td>0.10572487</td><td>0.7006054</td><td>20.574693</td><td>100</td><td>11110</td></tr>\n",
       "\t<tr><th scope=row>856</th><td>10</td><td>0.010</td><td>0.6</td><td>1</td><td> 2</td><td> 1</td><td>True</td><td>3701</td><td>1</td><td>40400</td><td>⋯</td><td>1265.099</td><td>40367</td><td>40400</td><td>2254.217</td><td>3898.605</td><td>0.11010905</td><td>0.6780575</td><td>11.800624</td><td> 40</td><td> 5050</td></tr>\n",
       "\t<tr><th scope=row>876</th><td>10</td><td>0.020</td><td>0.6</td><td>1</td><td> 4</td><td> 1</td><td>True</td><td>3701</td><td>1</td><td>30300</td><td>⋯</td><td>1218.561</td><td>29238</td><td>30300</td><td>2109.755</td><td>3898.605</td><td>0.19859323</td><td>0.4507800</td><td>13.613185</td><td> 20</td><td> 3030</td></tr>\n",
       "\t<tr><th scope=row>897</th><td>10</td><td>0.080</td><td>0.6</td><td>1</td><td>16</td><td> 1</td><td>True</td><td>3701</td><td>2</td><td>30300</td><td>⋯</td><td>1207.274</td><td>30274</td><td>30300</td><td>2210.848</td><td>3898.605</td><td>0.13372898</td><td>0.1908090</td><td>16.622873</td><td>  0</td><td> 1010</td></tr>\n",
       "\t<tr><th scope=row>922</th><td>10</td><td>0.040</td><td>0.6</td><td>0</td><td> 8</td><td> 1</td><td>True</td><td>3701</td><td>0</td><td>30300</td><td>⋯</td><td>1167.352</td><td>30225</td><td>30300</td><td>2166.076</td><td>3898.605</td><td>0.16552861</td><td>0.2552258</td><td>24.782205</td><td> 10</td><td> 2020</td></tr>\n",
       "\t<tr><th scope=row>1010</th><td>10</td><td>0.040</td><td>0.6</td><td>0</td><td> 8</td><td> 1</td><td>True</td><td>3701</td><td>2</td><td>30300</td><td>⋯</td><td>1212.566</td><td>30143</td><td>30300</td><td>2174.120</td><td>3898.605</td><td>0.09222107</td><td>0.3896245</td><td>21.861807</td><td> 10</td><td> 2020</td></tr>\n",
       "\t<tr><th scope=row>1265</th><td>10</td><td>0.080</td><td>0.6</td><td>0</td><td>16</td><td> 1</td><td>True</td><td>3701</td><td>0</td><td>30300</td><td>⋯</td><td>1176.076</td><td>30232</td><td>30300</td><td>2047.176</td><td>3898.605</td><td>0.14901131</td><td>0.3928907</td><td>19.097094</td><td>  0</td><td> 1010</td></tr>\n",
       "\t<tr><th scope=row>1279</th><td>10</td><td>0.040</td><td>0.6</td><td>1</td><td> 8</td><td> 1</td><td>True</td><td>3701</td><td>0</td><td>40400</td><td>⋯</td><td>1105.518</td><td>40259</td><td>40400</td><td>2094.083</td><td>3898.605</td><td>0.05744603</td><td>0.2092228</td><td>10.184777</td><td> 10</td><td> 2020</td></tr>\n",
       "\t<tr><th scope=row>1359</th><td>10</td><td>0.010</td><td>0.6</td><td>1</td><td> 2</td><td> 1</td><td>True</td><td>3701</td><td>2</td><td>40400</td><td>⋯</td><td>1128.823</td><td>39999</td><td>40400</td><td>2081.849</td><td>3898.605</td><td>0.07993072</td><td>0.6545262</td><td>15.481449</td><td> 40</td><td> 5050</td></tr>\n",
       "\t<tr><th scope=row>1381</th><td>10</td><td>0.005</td><td>0.6</td><td>1</td><td> 1</td><td>-1</td><td>True</td><td>3701</td><td>2</td><td>50500</td><td>⋯</td><td>1282.355</td><td>    0</td><td>50500</td><td>2164.419</td><td>3835.729</td><td>0.21980124</td><td>0.6511783</td><td> 8.931962</td><td>110</td><td>12120</td></tr>\n",
       "\t<tr><th scope=row>1501</th><td>10</td><td>0.020</td><td>0.6</td><td>1</td><td> 4</td><td> 1</td><td>True</td><td>3701</td><td>0</td><td>30300</td><td>⋯</td><td>1171.617</td><td>30438</td><td>30300</td><td>2094.980</td><td>3898.605</td><td>0.15820085</td><td>0.5500188</td><td>13.689441</td><td> 20</td><td> 3030</td></tr>\n",
       "\t<tr><th scope=row>1520</th><td>10</td><td>0.010</td><td>0.6</td><td>1</td><td> 2</td><td> 1</td><td>True</td><td>3701</td><td>0</td><td>30300</td><td>⋯</td><td>1120.784</td><td>30656</td><td>30300</td><td>2161.066</td><td>3898.605</td><td>0.16297348</td><td>0.5616333</td><td>12.817848</td><td> 40</td><td> 5050</td></tr>\n",
       "\t<tr><th scope=row>1543</th><td>10</td><td>0.010</td><td>0.6</td><td>0</td><td> 2</td><td> 1</td><td>True</td><td>3701</td><td>0</td><td>40400</td><td>⋯</td><td>1346.272</td><td>40417</td><td>40400</td><td>2084.678</td><td>3898.605</td><td>0.08336721</td><td>0.4632346</td><td>22.739762</td><td> 50</td><td> 6060</td></tr>\n",
       "\t<tr><th scope=row>1556</th><td>10</td><td>0.005</td><td>0.6</td><td>1</td><td> 1</td><td>-1</td><td>True</td><td>3701</td><td>1</td><td>50500</td><td>⋯</td><td>1169.088</td><td>    0</td><td>50500</td><td>2133.852</td><td>3835.729</td><td>0.19160657</td><td>0.6441963</td><td>10.399834</td><td>100</td><td>11110</td></tr>\n",
       "\t<tr><th scope=row>1643</th><td>10</td><td>0.020</td><td>0.6</td><td>0</td><td> 4</td><td> 1</td><td>True</td><td>3701</td><td>0</td><td>40400</td><td>⋯</td><td>1145.079</td><td>40395</td><td>40400</td><td>2104.550</td><td>3898.605</td><td>0.07290729</td><td>0.5237915</td><td>21.859956</td><td> 20</td><td> 3030</td></tr>\n",
       "\t<tr><th scope=row>1774</th><td>10</td><td>0.040</td><td>0.6</td><td>1</td><td> 8</td><td> 1</td><td>True</td><td>3701</td><td>2</td><td>30300</td><td>⋯</td><td>1347.888</td><td>30247</td><td>30300</td><td>2146.452</td><td>3898.605</td><td>0.13503843</td><td>0.2291211</td><td>15.327053</td><td> 10</td><td> 2020</td></tr>\n",
       "\t<tr><th scope=row>1795</th><td>10</td><td>0.020</td><td>0.6</td><td>0</td><td> 4</td><td> 1</td><td>True</td><td>3701</td><td>2</td><td>30300</td><td>⋯</td><td>1195.524</td><td>30297</td><td>30300</td><td>2045.500</td><td>3898.605</td><td>0.10279244</td><td>0.5253498</td><td>19.937637</td><td> 20</td><td> 3030</td></tr>\n",
       "\t<tr><th scope=row>1820</th><td>10</td><td>0.040</td><td>0.6</td><td>0</td><td> 8</td><td> 1</td><td>True</td><td>3701</td><td>1</td><td>40400</td><td>⋯</td><td>1253.001</td><td>40424</td><td>40400</td><td>2100.739</td><td>3898.605</td><td>0.17325572</td><td>0.3591609</td><td>19.432248</td><td> 10</td><td> 2020</td></tr>\n",
       "\t<tr><th scope=row>1875</th><td>10</td><td>0.020</td><td>0.6</td><td>1</td><td> 4</td><td> 1</td><td>True</td><td>3701</td><td>2</td><td>40400</td><td>⋯</td><td>1229.252</td><td>40000</td><td>40400</td><td>2144.191</td><td>3898.605</td><td>0.16296047</td><td>0.5785098</td><td>14.266825</td><td> 20</td><td> 3030</td></tr>\n",
       "\t<tr><th scope=row>1922</th><td>10</td><td>0.005</td><td>0.6</td><td>0</td><td> 1</td><td>-1</td><td>True</td><td>3701</td><td>2</td><td>40400</td><td>⋯</td><td>1324.606</td><td>    0</td><td>40400</td><td>2183.837</td><td>3885.501</td><td>0.10554325</td><td>0.6442128</td><td>23.928577</td><td> 90</td><td>10100</td></tr>\n",
       "</tbody>\n",
       "</table>\n"
      ],
      "text/latex": [
       "A data.frame: 30 × 25\n",
       "\\begin{tabular}{r|lllllllllllllllllllll}\n",
       "  & convN & alpha & discount & epsilon & fedP & syncBackups & stochasticPolicy & envSeed & trial & sims & ⋯ & endScoreRand & aggs & backups & endScoreStochBell & endScore & finalDiff & threshDiff & threshRew & threshEp & threshBack\\\\\n",
       "  & <int> & <dbl> & <dbl> & <dbl> & <int> & <int> & <chr> & <int> & <int> & <dbl> & ⋯ & <dbl> & <dbl> & <dbl> & <dbl> & <dbl> & <dbl> & <dbl> & <dbl> & <int> & <dbl>\\\\\n",
       "\\hline\n",
       "\t59 & 10 & 0.005 & 0.6 & 0 &  1 & -1 & True & 3701 & 0 & 50500 & ⋯ & 1310.680 &     0 & 50500 & 2147.475 & 3835.729 & 0.05097861 & 0.6329385 & 23.099771 &  90 & 10100\\\\\n",
       "\t140 & 10 & 0.010 & 0.6 & 0 &  2 &  1 & True & 3701 & 1 & 50500 & ⋯ & 1280.225 & 50366 & 50500 & 2067.246 & 3898.605 & 0.09233517 & 0.6228670 & 19.485508 &  50 &  6060\\\\\n",
       "\t147 & 10 & 0.080 & 0.6 & 1 & 16 &  1 & True & 3701 & 1 & 40400 & ⋯ & 1174.775 & 40251 & 40400 & 2141.773 & 3898.605 & 0.14811655 & 0.3072197 & 11.514895 &   0 &  1010\\\\\n",
       "\t151 & 10 & 0.020 & 0.6 & 0 &  4 &  1 & True & 3701 & 1 & 30300 & ⋯ & 1222.580 & 30059 & 30300 & 2155.027 & 3898.605 & 0.08561739 & 0.5852561 & 24.416277 &  20 &  3030\\\\\n",
       "\t288 & 10 & 0.080 & 0.6 & 0 & 16 &  1 & True & 3701 & 1 & 30300 & ⋯ & 1198.584 & 30225 & 30300 & 2186.137 & 3898.605 & 0.14485435 & 0.2377868 & 17.035205 &   0 &  1010\\\\\n",
       "\t550 & 10 & 0.080 & 0.6 & 1 & 16 &  1 & True & 3701 & 0 & 30300 & ⋯ & 1253.069 & 30164 & 30300 & 2114.114 & 3898.605 & 0.11190317 & 0.3124606 & 12.610502 &   0 &  1010\\\\\n",
       "\t577 & 10 & 0.005 & 0.6 & 1 &  1 & -1 & True & 3701 & 0 & 40400 & ⋯ & 1190.662 &     0 & 40400 & 2126.969 & 3885.501 & 0.05085253 & 0.7055919 & 10.424412 &  90 & 10100\\\\\n",
       "\t669 & 10 & 0.010 & 0.6 & 0 &  2 &  1 & True & 3701 & 2 & 50500 & ⋯ & 1069.512 & 51270 & 50500 & 2101.165 & 3898.605 & 0.16935395 & 0.6424748 & 21.925531 &  40 &  5050\\\\\n",
       "\t745 & 10 & 0.040 & 0.6 & 1 &  8 &  1 & True & 3701 & 1 & 30300 & ⋯ & 1133.126 & 30212 & 30300 & 2169.852 & 3898.605 & 0.12860771 & 0.1883133 & 15.907769 &  10 &  2020\\\\\n",
       "\t770 & 10 & 0.080 & 0.6 & 0 & 16 &  1 & True & 3701 & 2 & 30300 & ⋯ & 1299.307 & 30189 & 30300 & 2117.329 & 3898.605 & 0.10870108 & 0.3660784 & 20.326293 &   0 &  1010\\\\\n",
       "\t817 & 10 & 0.005 & 0.6 & 0 &  1 & -1 & True & 3701 & 1 & 50500 & ⋯ & 1352.417 &     0 & 50500 & 2244.677 & 3835.729 & 0.10572487 & 0.7006054 & 20.574693 & 100 & 11110\\\\\n",
       "\t856 & 10 & 0.010 & 0.6 & 1 &  2 &  1 & True & 3701 & 1 & 40400 & ⋯ & 1265.099 & 40367 & 40400 & 2254.217 & 3898.605 & 0.11010905 & 0.6780575 & 11.800624 &  40 &  5050\\\\\n",
       "\t876 & 10 & 0.020 & 0.6 & 1 &  4 &  1 & True & 3701 & 1 & 30300 & ⋯ & 1218.561 & 29238 & 30300 & 2109.755 & 3898.605 & 0.19859323 & 0.4507800 & 13.613185 &  20 &  3030\\\\\n",
       "\t897 & 10 & 0.080 & 0.6 & 1 & 16 &  1 & True & 3701 & 2 & 30300 & ⋯ & 1207.274 & 30274 & 30300 & 2210.848 & 3898.605 & 0.13372898 & 0.1908090 & 16.622873 &   0 &  1010\\\\\n",
       "\t922 & 10 & 0.040 & 0.6 & 0 &  8 &  1 & True & 3701 & 0 & 30300 & ⋯ & 1167.352 & 30225 & 30300 & 2166.076 & 3898.605 & 0.16552861 & 0.2552258 & 24.782205 &  10 &  2020\\\\\n",
       "\t1010 & 10 & 0.040 & 0.6 & 0 &  8 &  1 & True & 3701 & 2 & 30300 & ⋯ & 1212.566 & 30143 & 30300 & 2174.120 & 3898.605 & 0.09222107 & 0.3896245 & 21.861807 &  10 &  2020\\\\\n",
       "\t1265 & 10 & 0.080 & 0.6 & 0 & 16 &  1 & True & 3701 & 0 & 30300 & ⋯ & 1176.076 & 30232 & 30300 & 2047.176 & 3898.605 & 0.14901131 & 0.3928907 & 19.097094 &   0 &  1010\\\\\n",
       "\t1279 & 10 & 0.040 & 0.6 & 1 &  8 &  1 & True & 3701 & 0 & 40400 & ⋯ & 1105.518 & 40259 & 40400 & 2094.083 & 3898.605 & 0.05744603 & 0.2092228 & 10.184777 &  10 &  2020\\\\\n",
       "\t1359 & 10 & 0.010 & 0.6 & 1 &  2 &  1 & True & 3701 & 2 & 40400 & ⋯ & 1128.823 & 39999 & 40400 & 2081.849 & 3898.605 & 0.07993072 & 0.6545262 & 15.481449 &  40 &  5050\\\\\n",
       "\t1381 & 10 & 0.005 & 0.6 & 1 &  1 & -1 & True & 3701 & 2 & 50500 & ⋯ & 1282.355 &     0 & 50500 & 2164.419 & 3835.729 & 0.21980124 & 0.6511783 &  8.931962 & 110 & 12120\\\\\n",
       "\t1501 & 10 & 0.020 & 0.6 & 1 &  4 &  1 & True & 3701 & 0 & 30300 & ⋯ & 1171.617 & 30438 & 30300 & 2094.980 & 3898.605 & 0.15820085 & 0.5500188 & 13.689441 &  20 &  3030\\\\\n",
       "\t1520 & 10 & 0.010 & 0.6 & 1 &  2 &  1 & True & 3701 & 0 & 30300 & ⋯ & 1120.784 & 30656 & 30300 & 2161.066 & 3898.605 & 0.16297348 & 0.5616333 & 12.817848 &  40 &  5050\\\\\n",
       "\t1543 & 10 & 0.010 & 0.6 & 0 &  2 &  1 & True & 3701 & 0 & 40400 & ⋯ & 1346.272 & 40417 & 40400 & 2084.678 & 3898.605 & 0.08336721 & 0.4632346 & 22.739762 &  50 &  6060\\\\\n",
       "\t1556 & 10 & 0.005 & 0.6 & 1 &  1 & -1 & True & 3701 & 1 & 50500 & ⋯ & 1169.088 &     0 & 50500 & 2133.852 & 3835.729 & 0.19160657 & 0.6441963 & 10.399834 & 100 & 11110\\\\\n",
       "\t1643 & 10 & 0.020 & 0.6 & 0 &  4 &  1 & True & 3701 & 0 & 40400 & ⋯ & 1145.079 & 40395 & 40400 & 2104.550 & 3898.605 & 0.07290729 & 0.5237915 & 21.859956 &  20 &  3030\\\\\n",
       "\t1774 & 10 & 0.040 & 0.6 & 1 &  8 &  1 & True & 3701 & 2 & 30300 & ⋯ & 1347.888 & 30247 & 30300 & 2146.452 & 3898.605 & 0.13503843 & 0.2291211 & 15.327053 &  10 &  2020\\\\\n",
       "\t1795 & 10 & 0.020 & 0.6 & 0 &  4 &  1 & True & 3701 & 2 & 30300 & ⋯ & 1195.524 & 30297 & 30300 & 2045.500 & 3898.605 & 0.10279244 & 0.5253498 & 19.937637 &  20 &  3030\\\\\n",
       "\t1820 & 10 & 0.040 & 0.6 & 0 &  8 &  1 & True & 3701 & 1 & 40400 & ⋯ & 1253.001 & 40424 & 40400 & 2100.739 & 3898.605 & 0.17325572 & 0.3591609 & 19.432248 &  10 &  2020\\\\\n",
       "\t1875 & 10 & 0.020 & 0.6 & 1 &  4 &  1 & True & 3701 & 2 & 40400 & ⋯ & 1229.252 & 40000 & 40400 & 2144.191 & 3898.605 & 0.16296047 & 0.5785098 & 14.266825 &  20 &  3030\\\\\n",
       "\t1922 & 10 & 0.005 & 0.6 & 0 &  1 & -1 & True & 3701 & 2 & 40400 & ⋯ & 1324.606 &     0 & 40400 & 2183.837 & 3885.501 & 0.10554325 & 0.6442128 & 23.928577 &  90 & 10100\\\\\n",
       "\\end{tabular}\n"
      ],
      "text/markdown": [
       "\n",
       "A data.frame: 30 × 25\n",
       "\n",
       "| <!--/--> | convN &lt;int&gt; | alpha &lt;dbl&gt; | discount &lt;dbl&gt; | epsilon &lt;dbl&gt; | fedP &lt;int&gt; | syncBackups &lt;int&gt; | stochasticPolicy &lt;chr&gt; | envSeed &lt;int&gt; | trial &lt;int&gt; | sims &lt;dbl&gt; | ⋯ ⋯ | endScoreRand &lt;dbl&gt; | aggs &lt;dbl&gt; | backups &lt;dbl&gt; | endScoreStochBell &lt;dbl&gt; | endScore &lt;dbl&gt; | finalDiff &lt;dbl&gt; | threshDiff &lt;dbl&gt; | threshRew &lt;dbl&gt; | threshEp &lt;int&gt; | threshBack &lt;dbl&gt; |\n",
       "|---|---|---|---|---|---|---|---|---|---|---|---|---|---|---|---|---|---|---|---|---|---|\n",
       "| 59 | 10 | 0.005 | 0.6 | 0 |  1 | -1 | True | 3701 | 0 | 50500 | ⋯ | 1310.680 |     0 | 50500 | 2147.475 | 3835.729 | 0.05097861 | 0.6329385 | 23.099771 |  90 | 10100 |\n",
       "| 140 | 10 | 0.010 | 0.6 | 0 |  2 |  1 | True | 3701 | 1 | 50500 | ⋯ | 1280.225 | 50366 | 50500 | 2067.246 | 3898.605 | 0.09233517 | 0.6228670 | 19.485508 |  50 |  6060 |\n",
       "| 147 | 10 | 0.080 | 0.6 | 1 | 16 |  1 | True | 3701 | 1 | 40400 | ⋯ | 1174.775 | 40251 | 40400 | 2141.773 | 3898.605 | 0.14811655 | 0.3072197 | 11.514895 |   0 |  1010 |\n",
       "| 151 | 10 | 0.020 | 0.6 | 0 |  4 |  1 | True | 3701 | 1 | 30300 | ⋯ | 1222.580 | 30059 | 30300 | 2155.027 | 3898.605 | 0.08561739 | 0.5852561 | 24.416277 |  20 |  3030 |\n",
       "| 288 | 10 | 0.080 | 0.6 | 0 | 16 |  1 | True | 3701 | 1 | 30300 | ⋯ | 1198.584 | 30225 | 30300 | 2186.137 | 3898.605 | 0.14485435 | 0.2377868 | 17.035205 |   0 |  1010 |\n",
       "| 550 | 10 | 0.080 | 0.6 | 1 | 16 |  1 | True | 3701 | 0 | 30300 | ⋯ | 1253.069 | 30164 | 30300 | 2114.114 | 3898.605 | 0.11190317 | 0.3124606 | 12.610502 |   0 |  1010 |\n",
       "| 577 | 10 | 0.005 | 0.6 | 1 |  1 | -1 | True | 3701 | 0 | 40400 | ⋯ | 1190.662 |     0 | 40400 | 2126.969 | 3885.501 | 0.05085253 | 0.7055919 | 10.424412 |  90 | 10100 |\n",
       "| 669 | 10 | 0.010 | 0.6 | 0 |  2 |  1 | True | 3701 | 2 | 50500 | ⋯ | 1069.512 | 51270 | 50500 | 2101.165 | 3898.605 | 0.16935395 | 0.6424748 | 21.925531 |  40 |  5050 |\n",
       "| 745 | 10 | 0.040 | 0.6 | 1 |  8 |  1 | True | 3701 | 1 | 30300 | ⋯ | 1133.126 | 30212 | 30300 | 2169.852 | 3898.605 | 0.12860771 | 0.1883133 | 15.907769 |  10 |  2020 |\n",
       "| 770 | 10 | 0.080 | 0.6 | 0 | 16 |  1 | True | 3701 | 2 | 30300 | ⋯ | 1299.307 | 30189 | 30300 | 2117.329 | 3898.605 | 0.10870108 | 0.3660784 | 20.326293 |   0 |  1010 |\n",
       "| 817 | 10 | 0.005 | 0.6 | 0 |  1 | -1 | True | 3701 | 1 | 50500 | ⋯ | 1352.417 |     0 | 50500 | 2244.677 | 3835.729 | 0.10572487 | 0.7006054 | 20.574693 | 100 | 11110 |\n",
       "| 856 | 10 | 0.010 | 0.6 | 1 |  2 |  1 | True | 3701 | 1 | 40400 | ⋯ | 1265.099 | 40367 | 40400 | 2254.217 | 3898.605 | 0.11010905 | 0.6780575 | 11.800624 |  40 |  5050 |\n",
       "| 876 | 10 | 0.020 | 0.6 | 1 |  4 |  1 | True | 3701 | 1 | 30300 | ⋯ | 1218.561 | 29238 | 30300 | 2109.755 | 3898.605 | 0.19859323 | 0.4507800 | 13.613185 |  20 |  3030 |\n",
       "| 897 | 10 | 0.080 | 0.6 | 1 | 16 |  1 | True | 3701 | 2 | 30300 | ⋯ | 1207.274 | 30274 | 30300 | 2210.848 | 3898.605 | 0.13372898 | 0.1908090 | 16.622873 |   0 |  1010 |\n",
       "| 922 | 10 | 0.040 | 0.6 | 0 |  8 |  1 | True | 3701 | 0 | 30300 | ⋯ | 1167.352 | 30225 | 30300 | 2166.076 | 3898.605 | 0.16552861 | 0.2552258 | 24.782205 |  10 |  2020 |\n",
       "| 1010 | 10 | 0.040 | 0.6 | 0 |  8 |  1 | True | 3701 | 2 | 30300 | ⋯ | 1212.566 | 30143 | 30300 | 2174.120 | 3898.605 | 0.09222107 | 0.3896245 | 21.861807 |  10 |  2020 |\n",
       "| 1265 | 10 | 0.080 | 0.6 | 0 | 16 |  1 | True | 3701 | 0 | 30300 | ⋯ | 1176.076 | 30232 | 30300 | 2047.176 | 3898.605 | 0.14901131 | 0.3928907 | 19.097094 |   0 |  1010 |\n",
       "| 1279 | 10 | 0.040 | 0.6 | 1 |  8 |  1 | True | 3701 | 0 | 40400 | ⋯ | 1105.518 | 40259 | 40400 | 2094.083 | 3898.605 | 0.05744603 | 0.2092228 | 10.184777 |  10 |  2020 |\n",
       "| 1359 | 10 | 0.010 | 0.6 | 1 |  2 |  1 | True | 3701 | 2 | 40400 | ⋯ | 1128.823 | 39999 | 40400 | 2081.849 | 3898.605 | 0.07993072 | 0.6545262 | 15.481449 |  40 |  5050 |\n",
       "| 1381 | 10 | 0.005 | 0.6 | 1 |  1 | -1 | True | 3701 | 2 | 50500 | ⋯ | 1282.355 |     0 | 50500 | 2164.419 | 3835.729 | 0.21980124 | 0.6511783 |  8.931962 | 110 | 12120 |\n",
       "| 1501 | 10 | 0.020 | 0.6 | 1 |  4 |  1 | True | 3701 | 0 | 30300 | ⋯ | 1171.617 | 30438 | 30300 | 2094.980 | 3898.605 | 0.15820085 | 0.5500188 | 13.689441 |  20 |  3030 |\n",
       "| 1520 | 10 | 0.010 | 0.6 | 1 |  2 |  1 | True | 3701 | 0 | 30300 | ⋯ | 1120.784 | 30656 | 30300 | 2161.066 | 3898.605 | 0.16297348 | 0.5616333 | 12.817848 |  40 |  5050 |\n",
       "| 1543 | 10 | 0.010 | 0.6 | 0 |  2 |  1 | True | 3701 | 0 | 40400 | ⋯ | 1346.272 | 40417 | 40400 | 2084.678 | 3898.605 | 0.08336721 | 0.4632346 | 22.739762 |  50 |  6060 |\n",
       "| 1556 | 10 | 0.005 | 0.6 | 1 |  1 | -1 | True | 3701 | 1 | 50500 | ⋯ | 1169.088 |     0 | 50500 | 2133.852 | 3835.729 | 0.19160657 | 0.6441963 | 10.399834 | 100 | 11110 |\n",
       "| 1643 | 10 | 0.020 | 0.6 | 0 |  4 |  1 | True | 3701 | 0 | 40400 | ⋯ | 1145.079 | 40395 | 40400 | 2104.550 | 3898.605 | 0.07290729 | 0.5237915 | 21.859956 |  20 |  3030 |\n",
       "| 1774 | 10 | 0.040 | 0.6 | 1 |  8 |  1 | True | 3701 | 2 | 30300 | ⋯ | 1347.888 | 30247 | 30300 | 2146.452 | 3898.605 | 0.13503843 | 0.2291211 | 15.327053 |  10 |  2020 |\n",
       "| 1795 | 10 | 0.020 | 0.6 | 0 |  4 |  1 | True | 3701 | 2 | 30300 | ⋯ | 1195.524 | 30297 | 30300 | 2045.500 | 3898.605 | 0.10279244 | 0.5253498 | 19.937637 |  20 |  3030 |\n",
       "| 1820 | 10 | 0.040 | 0.6 | 0 |  8 |  1 | True | 3701 | 1 | 40400 | ⋯ | 1253.001 | 40424 | 40400 | 2100.739 | 3898.605 | 0.17325572 | 0.3591609 | 19.432248 |  10 |  2020 |\n",
       "| 1875 | 10 | 0.020 | 0.6 | 1 |  4 |  1 | True | 3701 | 2 | 40400 | ⋯ | 1229.252 | 40000 | 40400 | 2144.191 | 3898.605 | 0.16296047 | 0.5785098 | 14.266825 |  20 |  3030 |\n",
       "| 1922 | 10 | 0.005 | 0.6 | 0 |  1 | -1 | True | 3701 | 2 | 40400 | ⋯ | 1324.606 |     0 | 40400 | 2183.837 | 3885.501 | 0.10554325 | 0.6442128 | 23.928577 |  90 | 10100 |\n",
       "\n"
      ],
      "text/plain": [
       "     convN alpha discount epsilon fedP syncBackups stochasticPolicy envSeed\n",
       "59   10    0.005 0.6      0        1   -1          True             3701   \n",
       "140  10    0.010 0.6      0        2    1          True             3701   \n",
       "147  10    0.080 0.6      1       16    1          True             3701   \n",
       "151  10    0.020 0.6      0        4    1          True             3701   \n",
       "288  10    0.080 0.6      0       16    1          True             3701   \n",
       "550  10    0.080 0.6      1       16    1          True             3701   \n",
       "577  10    0.005 0.6      1        1   -1          True             3701   \n",
       "669  10    0.010 0.6      0        2    1          True             3701   \n",
       "745  10    0.040 0.6      1        8    1          True             3701   \n",
       "770  10    0.080 0.6      0       16    1          True             3701   \n",
       "817  10    0.005 0.6      0        1   -1          True             3701   \n",
       "856  10    0.010 0.6      1        2    1          True             3701   \n",
       "876  10    0.020 0.6      1        4    1          True             3701   \n",
       "897  10    0.080 0.6      1       16    1          True             3701   \n",
       "922  10    0.040 0.6      0        8    1          True             3701   \n",
       "1010 10    0.040 0.6      0        8    1          True             3701   \n",
       "1265 10    0.080 0.6      0       16    1          True             3701   \n",
       "1279 10    0.040 0.6      1        8    1          True             3701   \n",
       "1359 10    0.010 0.6      1        2    1          True             3701   \n",
       "1381 10    0.005 0.6      1        1   -1          True             3701   \n",
       "1501 10    0.020 0.6      1        4    1          True             3701   \n",
       "1520 10    0.010 0.6      1        2    1          True             3701   \n",
       "1543 10    0.010 0.6      0        2    1          True             3701   \n",
       "1556 10    0.005 0.6      1        1   -1          True             3701   \n",
       "1643 10    0.020 0.6      0        4    1          True             3701   \n",
       "1774 10    0.040 0.6      1        8    1          True             3701   \n",
       "1795 10    0.020 0.6      0        4    1          True             3701   \n",
       "1820 10    0.040 0.6      0        8    1          True             3701   \n",
       "1875 10    0.020 0.6      1        4    1          True             3701   \n",
       "1922 10    0.005 0.6      0        1   -1          True             3701   \n",
       "     trial sims  ⋯ endScoreRand aggs  backups endScoreStochBell endScore\n",
       "59   0     50500 ⋯ 1310.680         0 50500   2147.475          3835.729\n",
       "140  1     50500 ⋯ 1280.225     50366 50500   2067.246          3898.605\n",
       "147  1     40400 ⋯ 1174.775     40251 40400   2141.773          3898.605\n",
       "151  1     30300 ⋯ 1222.580     30059 30300   2155.027          3898.605\n",
       "288  1     30300 ⋯ 1198.584     30225 30300   2186.137          3898.605\n",
       "550  0     30300 ⋯ 1253.069     30164 30300   2114.114          3898.605\n",
       "577  0     40400 ⋯ 1190.662         0 40400   2126.969          3885.501\n",
       "669  2     50500 ⋯ 1069.512     51270 50500   2101.165          3898.605\n",
       "745  1     30300 ⋯ 1133.126     30212 30300   2169.852          3898.605\n",
       "770  2     30300 ⋯ 1299.307     30189 30300   2117.329          3898.605\n",
       "817  1     50500 ⋯ 1352.417         0 50500   2244.677          3835.729\n",
       "856  1     40400 ⋯ 1265.099     40367 40400   2254.217          3898.605\n",
       "876  1     30300 ⋯ 1218.561     29238 30300   2109.755          3898.605\n",
       "897  2     30300 ⋯ 1207.274     30274 30300   2210.848          3898.605\n",
       "922  0     30300 ⋯ 1167.352     30225 30300   2166.076          3898.605\n",
       "1010 2     30300 ⋯ 1212.566     30143 30300   2174.120          3898.605\n",
       "1265 0     30300 ⋯ 1176.076     30232 30300   2047.176          3898.605\n",
       "1279 0     40400 ⋯ 1105.518     40259 40400   2094.083          3898.605\n",
       "1359 2     40400 ⋯ 1128.823     39999 40400   2081.849          3898.605\n",
       "1381 2     50500 ⋯ 1282.355         0 50500   2164.419          3835.729\n",
       "1501 0     30300 ⋯ 1171.617     30438 30300   2094.980          3898.605\n",
       "1520 0     30300 ⋯ 1120.784     30656 30300   2161.066          3898.605\n",
       "1543 0     40400 ⋯ 1346.272     40417 40400   2084.678          3898.605\n",
       "1556 1     50500 ⋯ 1169.088         0 50500   2133.852          3835.729\n",
       "1643 0     40400 ⋯ 1145.079     40395 40400   2104.550          3898.605\n",
       "1774 2     30300 ⋯ 1347.888     30247 30300   2146.452          3898.605\n",
       "1795 2     30300 ⋯ 1195.524     30297 30300   2045.500          3898.605\n",
       "1820 1     40400 ⋯ 1253.001     40424 40400   2100.739          3898.605\n",
       "1875 2     40400 ⋯ 1229.252     40000 40400   2144.191          3898.605\n",
       "1922 2     40400 ⋯ 1324.606         0 40400   2183.837          3885.501\n",
       "     finalDiff  threshDiff threshRew threshEp threshBack\n",
       "59   0.05097861 0.6329385  23.099771  90      10100     \n",
       "140  0.09233517 0.6228670  19.485508  50       6060     \n",
       "147  0.14811655 0.3072197  11.514895   0       1010     \n",
       "151  0.08561739 0.5852561  24.416277  20       3030     \n",
       "288  0.14485435 0.2377868  17.035205   0       1010     \n",
       "550  0.11190317 0.3124606  12.610502   0       1010     \n",
       "577  0.05085253 0.7055919  10.424412  90      10100     \n",
       "669  0.16935395 0.6424748  21.925531  40       5050     \n",
       "745  0.12860771 0.1883133  15.907769  10       2020     \n",
       "770  0.10870108 0.3660784  20.326293   0       1010     \n",
       "817  0.10572487 0.7006054  20.574693 100      11110     \n",
       "856  0.11010905 0.6780575  11.800624  40       5050     \n",
       "876  0.19859323 0.4507800  13.613185  20       3030     \n",
       "897  0.13372898 0.1908090  16.622873   0       1010     \n",
       "922  0.16552861 0.2552258  24.782205  10       2020     \n",
       "1010 0.09222107 0.3896245  21.861807  10       2020     \n",
       "1265 0.14901131 0.3928907  19.097094   0       1010     \n",
       "1279 0.05744603 0.2092228  10.184777  10       2020     \n",
       "1359 0.07993072 0.6545262  15.481449  40       5050     \n",
       "1381 0.21980124 0.6511783   8.931962 110      12120     \n",
       "1501 0.15820085 0.5500188  13.689441  20       3030     \n",
       "1520 0.16297348 0.5616333  12.817848  40       5050     \n",
       "1543 0.08336721 0.4632346  22.739762  50       6060     \n",
       "1556 0.19160657 0.6441963  10.399834 100      11110     \n",
       "1643 0.07290729 0.5237915  21.859956  20       3030     \n",
       "1774 0.13503843 0.2291211  15.327053  10       2020     \n",
       "1795 0.10279244 0.5253498  19.937637  20       3030     \n",
       "1820 0.17325572 0.3591609  19.432248  10       2020     \n",
       "1875 0.16296047 0.5785098  14.266825  20       3030     \n",
       "1922 0.10554325 0.6442128  23.928577  90      10100     "
      ]
     },
     "metadata": {},
     "output_type": "display_data"
    },
    {
     "data": {
      "text/plain": [
       "\n",
       "Call:\n",
       "lm(formula = threshBack ~ ifedP, data = data)\n",
       "\n",
       "Residuals:\n",
       "    Min      1Q  Median      3Q     Max \n",
       "-592.33 -118.56  -11.31  253.86 1427.67 \n",
       "\n",
       "Coefficients:\n",
       "            Estimate Std. Error t value Pr(>|t|)    \n",
       "(Intercept)    491.0      122.8   3.999 0.000421 ***\n",
       "ifedP        10201.4      237.8  42.892  < 2e-16 ***\n",
       "---\n",
       "Signif. codes:  0 '***' 0.001 '**' 0.01 '*' 0.05 '.' 0.1 ' ' 1\n",
       "\n",
       "Residual standard error: 444.2 on 28 degrees of freedom\n",
       "Multiple R-squared:  0.985,\tAdjusted R-squared:  0.9845 \n",
       "F-statistic:  1840 on 1 and 28 DF,  p-value: < 2.2e-16\n"
      ]
     },
     "metadata": {},
     "output_type": "display_data"
    },
    {
     "data": {
      "image/png": "[encoded data removed]",
      "text/plain": [
       "plot without title"
      ]
     },
     "metadata": {
      "image/png": {
       "height": 420,
       "width": 420
      }
     },
     "output_type": "display_data"
    }
   ],
   "source": [
    "title <- \"time to reach a threshold distance, alpha adjusted by N\"\n",
    "data <- dataFull[(dataFull$syncBackups == 1 | dataFull$syncBackups == -1) & dataFull$threshDiff ** 2 <= 0.5 & dataFull$alpha == 0.005 * dataFull$fedP,]\n",
    "data\n",
    "\n",
    "ifedP = 1/data$fedP\n",
    "model <- lm(threshBack ~ ifedP, data)\n",
    "summary(model)\n",
    "predict <- cbind(data, predict(model, interval='confidence', newdata=data))\n",
    "\n",
    "\n",
    "p <- ggplot(predict, aes(x=1/fedP, y=threshBack))\n",
    "p <- p + ggtitle(title)\n",
    "p <- p + geom_point(aes(color = alpha)) \n",
    "p <- p + scale_color_gradientn(colors = c(\"black\", \"red\"))\n",
    "p <- p + geom_line(aes(ifedP, fit))\n",
    "p <- p + geom_ribbon(aes(ymin=lwr,ymax=upr), alpha=0.2)\n",
    "p"
   ]
  },
  {
   "cell_type": "markdown",
   "metadata": {},
   "source": [
    "$D^2 <= (1 – \\alpha)^T + \\frac{\\alpha}{N} + (K-1) \\alpha ^2$"
   ]
  },
  {
   "cell_type": "code",
   "execution_count": 11,
   "metadata": {},
   "outputs": [
    {
     "name": "stdout",
     "output_type": "stream",
     "text": [
      "[1] \"theoretical model\"\n"
     ]
    },
    {
     "data": {
      "text/plain": [
       "\n",
       "Call:\n",
       "lm(formula = sqDiff ~ NTerm + KTerm, data = data)\n",
       "\n",
       "Residuals:\n",
       "    Min      1Q  Median      3Q     Max \n",
       "-7.7457 -0.1258 -0.0407 -0.0300 24.4566 \n",
       "\n",
       "Coefficients:\n",
       "             Estimate Std. Error t value Pr(>|t|)    \n",
       "(Intercept) 3.009e-02  3.482e-02   0.864    0.388    \n",
       "NTerm       9.068e+00  3.213e-01  28.228   <2e-16 ***\n",
       "KTerm       7.324e-04  2.515e-05  29.115   <2e-16 ***\n",
       "---\n",
       "Signif. codes:  0 '***' 0.001 '**' 0.01 '*' 0.05 '.' 0.1 ' ' 1\n",
       "\n",
       "Residual standard error: 1.383 on 1917 degrees of freedom\n",
       "Multiple R-squared:  0.5364,\tAdjusted R-squared:  0.5359 \n",
       "F-statistic:  1109 on 2 and 1917 DF,  p-value: < 2.2e-16\n"
      ]
     },
     "metadata": {},
     "output_type": "display_data"
    },
    {
     "name": "stdout",
     "output_type": "stream",
     "text": [
      "[1] \"added other variables\"\n"
     ]
    },
    {
     "data": {
      "text/plain": [
       "\n",
       "Call:\n",
       "lm(formula = sqDiff ~ NTerm + KTerm + alpha * ifedP * syncBackups * \n",
       "    epsilon, data = data)\n",
       "\n",
       "Residuals:\n",
       "    Min      1Q  Median      3Q     Max \n",
       "-9.3742 -0.1761  0.0326  0.1011 23.1058 \n",
       "\n",
       "Coefficients: (1 not defined because of singularities)\n",
       "                                  Estimate Std. Error t value Pr(>|t|)    \n",
       "(Intercept)                     -5.252e-02  8.576e-02  -0.612 0.540302    \n",
       "NTerm                            4.335e+00  7.127e-01   6.083 1.42e-09 ***\n",
       "KTerm                            1.029e-03  8.532e-05  12.066  < 2e-16 ***\n",
       "alpha                            1.434e+00  2.390e-01   6.001 2.34e-09 ***\n",
       "ifedP                           -1.290e-01  2.523e-01  -0.511 0.609070    \n",
       "syncBackups                      3.485e-05  2.168e-05   1.607 0.108205    \n",
       "epsilon                          3.363e-02  1.213e-01   0.277 0.781580    \n",
       "alpha:ifedP                             NA         NA      NA       NA    \n",
       "alpha:syncBackups               -4.326e-04  9.634e-05  -4.490 7.54e-06 ***\n",
       "ifedP:syncBackups               -1.625e-06  7.442e-05  -0.022 0.982584    \n",
       "alpha:epsilon                   -5.905e-01  3.380e-01  -1.747 0.080777 .  \n",
       "ifedP:epsilon                   -4.243e-01  3.568e-01  -1.189 0.234475    \n",
       "syncBackups:epsilon             -3.738e-05  3.000e-05  -1.246 0.212822    \n",
       "alpha:ifedP:syncBackups         -4.223e-04  2.155e-04  -1.960 0.050195 .  \n",
       "alpha:ifedP:epsilon              7.389e+00  1.008e+00   7.331 3.37e-13 ***\n",
       "alpha:syncBackups:epsilon        5.405e-04  8.431e-05   6.410 1.82e-10 ***\n",
       "ifedP:syncBackups:epsilon        7.145e-05  1.052e-04   0.679 0.497247    \n",
       "alpha:ifedP:syncBackups:epsilon -1.134e-03  3.048e-04  -3.720 0.000205 ***\n",
       "---\n",
       "Signif. codes:  0 '***' 0.001 '**' 0.01 '*' 0.05 '.' 0.1 ' ' 1\n",
       "\n",
       "Residual standard error: 1.266 on 1903 degrees of freedom\n",
       "Multiple R-squared:  0.6141,\tAdjusted R-squared:  0.6108 \n",
       "F-statistic: 189.2 on 16 and 1903 DF,  p-value: < 2.2e-16\n"
      ]
     },
     "metadata": {},
     "output_type": "display_data"
    },
    {
     "data": {
      "image/png": "[encoded data removed]",
      "text/plain": [
       "plot without title"
      ]
     },
     "metadata": {
      "image/png": {
       "height": 420,
       "width": 420
      }
     },
     "output_type": "display_data"
    }
   ],
   "source": [
    "title <- \"full dataset\"\n",
    "data <- dataFull\n",
    "data$syncBackups[data$syncBackups == -1] <- 1\n",
    "\n",
    "ifedP = 1/data$fedP\n",
    "NTerm = data$alpha/data$fedP\n",
    "KTerm = (data$syncBackups - 1) * (data$alpha ** 2)\n",
    "sqDiff = data$finalDiff ** 2\n",
    "model <- lm(sqDiff ~ NTerm + KTerm, data)\n",
    "print(\"theoretical model\")\n",
    "summary(model)\n",
    "predict <- cbind(data, predict(model, interval='confidence', newdata=data))\n",
    "\n",
    "print(\"added other variables\")\n",
    "modelCofounded <- lm(sqDiff ~ NTerm + KTerm + alpha * ifedP * syncBackups * epsilon, data)\n",
    "summary(modelCofounded)\n",
    "\n",
    "\n",
    "p <- ggplot(predict, aes(x=NTerm, y=KTerm))\n",
    "p <- p + ggtitle(title)\n",
    "p <- p + geom_point(aes(color = log(sqDiff))) \n",
    "p <- p + scale_color_gradientn(colors = c(\"black\", \"cyan\"))\n",
    "p"
   ]
  },
  {
   "cell_type": "code",
   "execution_count": null,
   "metadata": {},
   "outputs": [],
   "source": []
  }
 ],
 "metadata": {
  "kernelspec": {
   "display_name": "R",
   "language": "R",
   "name": "ir"
  },
  "language_info": {
   "codemirror_mode": "r",
   "file_extension": ".r",
   "mimetype": "text/x-r-source",
   "name": "R",
   "pygments_lexer": "r",
   "version": "4.2.2"
  },
  "vscode": {
   "interpreter": {
    "hash": "3b839153e13da8333e687d0fea12db3ad5ee8992974d226aeda93e4063c64179"
   }
  }
 },
 "nbformat": 4,
 "nbformat_minor": 4
}
