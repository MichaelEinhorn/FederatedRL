{
 "cells": [
  {
   "cell_type": "code",
   "execution_count": 1,
   "metadata": {
    "scrolled": true,
    "vscode": {
     "languageId": "r"
    }
   },
   "outputs": [],
   "source": [
    "# install.packages(\"tidyverse\")\n",
    "library(ggplot2)"
   ]
  },
  {
   "cell_type": "code",
   "execution_count": 2,
   "metadata": {},
   "outputs": [],
   "source": [
    "# functions\n",
    "lm_eqn <- function(m){\n",
    "    eq <- substitute(italic(y) == a + b * italic(x)*\",\"~~italic(r)^2~\"=\"~r2, \n",
    "         list(a = format(unname(coef(m)[1]), digits = 5),\n",
    "              b = format(unname(coef(m)[2]), digits = 5),\n",
    "             r2 = format(summary(m)$r.squared, digits = 3)))\n",
    "    as.character(as.expression(eq));\n",
    "}"
   ]
  },
  {
   "cell_type": "code",
   "execution_count": 3,
   "metadata": {
    "vscode": {
     "languageId": "r"
    }
   },
   "outputs": [],
   "source": [
    "dataFull <- read.csv(\"mdpv4.csv\", header=TRUE)\n",
    "dataFull <- dataFull[dataFull$alpha <= 1, ]"
   ]
  },
  {
   "cell_type": "code",
   "execution_count": 4,
   "metadata": {
    "vscode": {
     "languageId": "r"
    }
   },
   "outputs": [],
   "source": [
    "# data0 <- data[data$trial == 0,]\n",
    "# data1 <- data[data$trial == 1,]\n",
    "# data2 <- data[data$trial == 2,]\n",
    "\n",
    "data <- dataFull[dataFull$envSeed == 3701 & dataFull$alpha == 0.4 & dataFull$syncBackups == 1,]"
   ]
  },
  {
   "cell_type": "code",
   "execution_count": 5,
   "metadata": {
    "vscode": {
     "languageId": "r"
    }
   },
   "outputs": [
    {
     "data": {
      "text/html": [
       "<table class=\"dataframe\">\n",
       "<caption>A data.frame: 2 × 25</caption>\n",
       "<thead>\n",
       "\t<tr><th></th><th scope=col>convN</th><th scope=col>alpha</th><th scope=col>discount</th><th scope=col>epsilon</th><th scope=col>fedP</th><th scope=col>syncBackups</th><th scope=col>stochasticPolicy</th><th scope=col>envSeed</th><th scope=col>trial</th><th scope=col>sims</th><th scope=col>⋯</th><th scope=col>endScoreRand</th><th scope=col>aggs</th><th scope=col>backups</th><th scope=col>endScoreStochBell</th><th scope=col>endScore</th><th scope=col>finalDiff</th><th scope=col>threshDiff</th><th scope=col>threshRew</th><th scope=col>threshEp</th><th scope=col>threshBack</th></tr>\n",
       "\t<tr><th></th><th scope=col>&lt;int&gt;</th><th scope=col>&lt;dbl&gt;</th><th scope=col>&lt;dbl&gt;</th><th scope=col>&lt;dbl&gt;</th><th scope=col>&lt;int&gt;</th><th scope=col>&lt;int&gt;</th><th scope=col>&lt;chr&gt;</th><th scope=col>&lt;int&gt;</th><th scope=col>&lt;int&gt;</th><th scope=col>&lt;dbl&gt;</th><th scope=col>⋯</th><th scope=col>&lt;dbl&gt;</th><th scope=col>&lt;dbl&gt;</th><th scope=col>&lt;dbl&gt;</th><th scope=col>&lt;dbl&gt;</th><th scope=col>&lt;dbl&gt;</th><th scope=col>&lt;dbl&gt;</th><th scope=col>&lt;dbl&gt;</th><th scope=col>&lt;dbl&gt;</th><th scope=col>&lt;int&gt;</th><th scope=col>&lt;dbl&gt;</th></tr>\n",
       "</thead>\n",
       "<tbody>\n",
       "\t<tr><th scope=row>181</th><td>10</td><td>0.4</td><td>0.6</td><td>0</td><td>4</td><td>1</td><td>True</td><td>3701</td><td>0</td><td>30300</td><td>⋯</td><td>1275.329</td><td>30294</td><td>30300</td><td>2119.566</td><td>4074.901</td><td>0.4650989</td><td>0.2937817</td><td>22.51547</td><td>10</td><td>2020</td></tr>\n",
       "\t<tr><th scope=row>296</th><td>10</td><td>0.4</td><td>0.6</td><td>0</td><td>8</td><td>1</td><td>True</td><td>3701</td><td>1</td><td>30300</td><td>⋯</td><td>1211.888</td><td>30235</td><td>30300</td><td>2105.508</td><td>3898.605</td><td>0.5170388</td><td>0.2622585</td><td>23.96695</td><td> 0</td><td>1010</td></tr>\n",
       "</tbody>\n",
       "</table>\n"
      ],
      "text/latex": [
       "A data.frame: 2 × 25\n",
       "\\begin{tabular}{r|lllllllllllllllllllll}\n",
       "  & convN & alpha & discount & epsilon & fedP & syncBackups & stochasticPolicy & envSeed & trial & sims & ⋯ & endScoreRand & aggs & backups & endScoreStochBell & endScore & finalDiff & threshDiff & threshRew & threshEp & threshBack\\\\\n",
       "  & <int> & <dbl> & <dbl> & <dbl> & <int> & <int> & <chr> & <int> & <int> & <dbl> & ⋯ & <dbl> & <dbl> & <dbl> & <dbl> & <dbl> & <dbl> & <dbl> & <dbl> & <int> & <dbl>\\\\\n",
       "\\hline\n",
       "\t181 & 10 & 0.4 & 0.6 & 0 & 4 & 1 & True & 3701 & 0 & 30300 & ⋯ & 1275.329 & 30294 & 30300 & 2119.566 & 4074.901 & 0.4650989 & 0.2937817 & 22.51547 & 10 & 2020\\\\\n",
       "\t296 & 10 & 0.4 & 0.6 & 0 & 8 & 1 & True & 3701 & 1 & 30300 & ⋯ & 1211.888 & 30235 & 30300 & 2105.508 & 3898.605 & 0.5170388 & 0.2622585 & 23.96695 &  0 & 1010\\\\\n",
       "\\end{tabular}\n"
      ],
      "text/markdown": [
       "\n",
       "A data.frame: 2 × 25\n",
       "\n",
       "| <!--/--> | convN &lt;int&gt; | alpha &lt;dbl&gt; | discount &lt;dbl&gt; | epsilon &lt;dbl&gt; | fedP &lt;int&gt; | syncBackups &lt;int&gt; | stochasticPolicy &lt;chr&gt; | envSeed &lt;int&gt; | trial &lt;int&gt; | sims &lt;dbl&gt; | ⋯ ⋯ | endScoreRand &lt;dbl&gt; | aggs &lt;dbl&gt; | backups &lt;dbl&gt; | endScoreStochBell &lt;dbl&gt; | endScore &lt;dbl&gt; | finalDiff &lt;dbl&gt; | threshDiff &lt;dbl&gt; | threshRew &lt;dbl&gt; | threshEp &lt;int&gt; | threshBack &lt;dbl&gt; |\n",
       "|---|---|---|---|---|---|---|---|---|---|---|---|---|---|---|---|---|---|---|---|---|---|\n",
       "| 181 | 10 | 0.4 | 0.6 | 0 | 4 | 1 | True | 3701 | 0 | 30300 | ⋯ | 1275.329 | 30294 | 30300 | 2119.566 | 4074.901 | 0.4650989 | 0.2937817 | 22.51547 | 10 | 2020 |\n",
       "| 296 | 10 | 0.4 | 0.6 | 0 | 8 | 1 | True | 3701 | 1 | 30300 | ⋯ | 1211.888 | 30235 | 30300 | 2105.508 | 3898.605 | 0.5170388 | 0.2622585 | 23.96695 |  0 | 1010 |\n",
       "\n"
      ],
      "text/plain": [
       "    convN alpha discount epsilon fedP syncBackups stochasticPolicy envSeed\n",
       "181 10    0.4   0.6      0       4    1           True             3701   \n",
       "296 10    0.4   0.6      0       8    1           True             3701   \n",
       "    trial sims  ⋯ endScoreRand aggs  backups endScoreStochBell endScore\n",
       "181 0     30300 ⋯ 1275.329     30294 30300   2119.566          4074.901\n",
       "296 1     30300 ⋯ 1211.888     30235 30300   2105.508          3898.605\n",
       "    finalDiff threshDiff threshRew threshEp threshBack\n",
       "181 0.4650989 0.2937817  22.51547  10       2020      \n",
       "296 0.5170388 0.2622585  23.96695   0       1010      "
      ]
     },
     "metadata": {},
     "output_type": "display_data"
    },
    {
     "name": "stdout",
     "output_type": "stream",
     "text": [
      "[1] \"rows\"\n"
     ]
    },
    {
     "data": {
      "text/html": [
       "1920"
      ],
      "text/latex": [
       "1920"
      ],
      "text/markdown": [
       "1920"
      ],
      "text/plain": [
       "[1] 1920"
      ]
     },
     "metadata": {},
     "output_type": "display_data"
    },
    {
     "name": "stdout",
     "output_type": "stream",
     "text": [
      "[1] \"cols\"\n"
     ]
    },
    {
     "data": {
      "text/html": [
       "25"
      ],
      "text/latex": [
       "25"
      ],
      "text/markdown": [
       "25"
      ],
      "text/plain": [
       "[1] 25"
      ]
     },
     "metadata": {},
     "output_type": "display_data"
    },
    {
     "name": "stdout",
     "output_type": "stream",
     "text": [
      "[1] \"unique alpha\"\n"
     ]
    },
    {
     "data": {
      "text/html": [
       "<style>\n",
       ".list-inline {list-style: none; margin:0; padding: 0}\n",
       ".list-inline>li {display: inline-block}\n",
       ".list-inline>li:not(:last-child)::after {content: \"\\00b7\"; padding: 0 .5ex}\n",
       "</style>\n",
       "<ol class=list-inline><li>0.001</li><li>0.002</li><li>0.004</li><li>0.005</li><li>0.008</li><li>0.01</li><li>0.016</li><li>0.02</li><li>0.032</li><li>0.04</li><li>0.05</li><li>0.08</li><li>0.1</li><li>0.16</li><li>0.2</li><li>0.32</li><li>0.4</li><li>0.5</li><li>0.8</li><li>1</li></ol>\n"
      ],
      "text/latex": [
       "\\begin{enumerate*}\n",
       "\\item 0.001\n",
       "\\item 0.002\n",
       "\\item 0.004\n",
       "\\item 0.005\n",
       "\\item 0.008\n",
       "\\item 0.01\n",
       "\\item 0.016\n",
       "\\item 0.02\n",
       "\\item 0.032\n",
       "\\item 0.04\n",
       "\\item 0.05\n",
       "\\item 0.08\n",
       "\\item 0.1\n",
       "\\item 0.16\n",
       "\\item 0.2\n",
       "\\item 0.32\n",
       "\\item 0.4\n",
       "\\item 0.5\n",
       "\\item 0.8\n",
       "\\item 1\n",
       "\\end{enumerate*}\n"
      ],
      "text/markdown": [
       "1. 0.001\n",
       "2. 0.002\n",
       "3. 0.004\n",
       "4. 0.005\n",
       "5. 0.008\n",
       "6. 0.01\n",
       "7. 0.016\n",
       "8. 0.02\n",
       "9. 0.032\n",
       "10. 0.04\n",
       "11. 0.05\n",
       "12. 0.08\n",
       "13. 0.1\n",
       "14. 0.16\n",
       "15. 0.2\n",
       "16. 0.32\n",
       "17. 0.4\n",
       "18. 0.5\n",
       "19. 0.8\n",
       "20. 1\n",
       "\n",
       "\n"
      ],
      "text/plain": [
       " [1] 0.001 0.002 0.004 0.005 0.008 0.010 0.016 0.020 0.032 0.040 0.050 0.080\n",
       "[13] 0.100 0.160 0.200 0.320 0.400 0.500 0.800 1.000"
      ]
     },
     "metadata": {},
     "output_type": "display_data"
    },
    {
     "name": "stdout",
     "output_type": "stream",
     "text": [
      "[1] \"random score 1275.32935695992 bellman score 3913.43256758843\"\n"
     ]
    }
   ],
   "source": [
    "head(data, 2)\n",
    "print(\"rows\")\n",
    "nrow(dataFull)\n",
    "print(\"cols\")\n",
    "ncol(dataFull)\n",
    "print(\"unique alpha\")\n",
    "sort(unique(dataFull$alpha))\n",
    "\n",
    "print(paste(\"random score\", head(data, 1)$endScoreRand, \"bellman score\", head(data, 1)$endScoreBell))"
   ]
  },
  {
   "cell_type": "raw",
   "metadata": {},
   "source": [
    "for N = 1, show D^2 over time, 5 orders of magnitude decrease from initial distance.\n",
    "training curve for N = 1-16\n",
    "\n",
    "Multiple trajectories with same initial condition average curve to smooth if needed.\n",
    "\n",
    "y axis D^2 x axis N. loglog plot\n",
    "\n",
    "Fix epsilon error find first T where D^2 < error\n",
    "\n",
    "log y = log c - m log x\n",
    "log log better to distinguish 1/n and 1/n^2\n",
    "\n",
    "linear speed up only if alpha is increased by a factor of N"
   ]
  },
  {
   "cell_type": "code",
   "execution_count": 6,
   "metadata": {},
   "outputs": [
    {
     "data": {
      "text/plain": [
       "\n",
       "Call:\n",
       "lm(formula = log10(sqDiff) ~ log10(N), data = data)\n",
       "\n",
       "Residuals:\n",
       "     Min       1Q   Median       3Q      Max \n",
       "-0.41442 -0.13977  0.01081  0.15042  0.38395 \n",
       "\n",
       "Coefficients:\n",
       "            Estimate Std. Error t value Pr(>|t|)    \n",
       "(Intercept) -1.66172    0.06947 -23.921  < 2e-16 ***\n",
       "log10(N)    -0.87910    0.09421  -9.331 4.34e-10 ***\n",
       "---\n",
       "Signif. codes:  0 '***' 0.001 '**' 0.01 '*' 0.05 '.' 0.1 ' ' 1\n",
       "\n",
       "Residual standard error: 0.2197 on 28 degrees of freedom\n",
       "Multiple R-squared:  0.7567,\tAdjusted R-squared:  0.748 \n",
       "F-statistic: 87.07 on 1 and 28 DF,  p-value: 4.336e-10\n"
      ]
     },
     "metadata": {},
     "output_type": "display_data"
    },
    {
     "data": {
      "image/png": "[encoded data removed]",
      "text/plain": [
       "plot without title"
      ]
     },
     "metadata": {
      "image/png": {
       "height": 420,
       "width": 420
      }
     },
     "output_type": "display_data"
    }
   ],
   "source": [
    "title <- \"steady state error from bellman with epsilon greedy exploration\"\n",
    "data <- dataFull[dataFull$alpha == 0.01 & (dataFull$syncBackups == 1 | dataFull$syncBackups == -1),]\n",
    "N = data$fedP\n",
    "sqDiff = data$finalDiff ** 2\n",
    "model <- lm(log10(sqDiff) ~ log10(N), data)\n",
    "summary(model)\n",
    "predict <- cbind(data, predict(model, interval='confidence', newdata=data))\n",
    "\n",
    "p <- ggplot(predict, aes(x=log10(N), y=log10(finalDiff ** 2)))\n",
    "p <- p + ggtitle(title)\n",
    "p <- p + geom_point(aes(colour = epsilon))\n",
    "p <- p + scale_color_gradientn(colors = c(\"black\", \"green\"))\n",
    "p <- p + geom_line(aes(log10(fedP), fit))\n",
    "p <- p + geom_ribbon(aes(ymin=lwr,ymax=upr), alpha=0.2)\n",
    "p"
   ]
  },
  {
   "cell_type": "code",
   "execution_count": 7,
   "metadata": {},
   "outputs": [
    {
     "name": "stderr",
     "output_type": "stream",
     "text": [
      "Warning message in eval(expr, envir, enclos):\n",
      "\"NaNs produced\"\n"
     ]
    },
    {
     "data": {
      "text/plain": [
       "\n",
       "Call:\n",
       "lm(formula = log10(sqDiff) ~ log10(N) * syncLog, data = data)\n",
       "\n",
       "Residuals:\n",
       "     Min       1Q   Median       3Q      Max \n",
       "-0.74168 -0.20252  0.03239  0.18016  0.62405 \n",
       "\n",
       "Coefficients:\n",
       "                 Estimate Std. Error t value Pr(>|t|)    \n",
       "(Intercept)      -1.61937    0.07385 -21.926  < 2e-16 ***\n",
       "log10(N)         -1.03819    0.09607 -10.807  < 2e-16 ***\n",
       "syncLog          -0.03283    0.03438  -0.955    0.342    \n",
       "log10(N):syncLog  0.21895    0.04327   5.060  1.5e-06 ***\n",
       "---\n",
       "Signif. codes:  0 '***' 0.001 '**' 0.01 '*' 0.05 '.' 0.1 ' ' 1\n",
       "\n",
       "Residual standard error: 0.2629 on 122 degrees of freedom\n",
       "Multiple R-squared:  0.5856,\tAdjusted R-squared:  0.5754 \n",
       "F-statistic: 57.46 on 3 and 122 DF,  p-value: < 2.2e-16\n"
      ]
     },
     "metadata": {},
     "output_type": "display_data"
    },
    {
     "data": {
      "image/png": "[encoded data removed]",
      "text/plain": [
       "plot without title"
      ]
     },
     "metadata": {
      "image/png": {
       "height": 420,
       "width": 420
      }
     },
     "output_type": "display_data"
    }
   ],
   "source": [
    "title <- \"final difference from bellman with different sync frequencies\"\n",
    "data <- dataFull[dataFull$alpha == 0.01,]\n",
    "N = data$fedP\n",
    "sqDiff = data$finalDiff ** 2\n",
    "syncLog <- log10(data$syncBackups)\n",
    "syncLog[is.nan(syncLog)] <- 0\n",
    "model <- lm(log10(sqDiff) ~ log10(N)*syncLog, data)\n",
    "summary(model)\n",
    "predict <- cbind(data, predict(model, interval='confidence', newdata=data))\n",
    "\n",
    "p <- ggplot(predict, aes(x=log10(N), y=log10(finalDiff ** 2)))\n",
    "p <- p + ggtitle(title)\n",
    "p <- p + geom_point(aes(color = syncLog))\n",
    "p <- p + scale_color_gradientn(colors = c(\"black\", \"cyan\"))\n",
    "p"
   ]
  },
  {
   "cell_type": "code",
   "execution_count": 8,
   "metadata": {},
   "outputs": [
    {
     "data": {
      "text/plain": [
       "\n",
       "Call:\n",
       "lm(formula = log10(sqDiff) ~ log10(N) * log10(alpha), data = data)\n",
       "\n",
       "Residuals:\n",
       "     Min       1Q   Median       3Q      Max \n",
       "-1.12897 -0.18637  0.01422  0.19388  0.89764 \n",
       "\n",
       "Coefficients:\n",
       "                      Estimate Std. Error t value Pr(>|t|)    \n",
       "(Intercept)            0.59947    0.04954  12.101   <2e-16 ***\n",
       "log10(N)              -1.02168    0.06252 -16.342   <2e-16 ***\n",
       "log10(alpha)           1.03655    0.02841  36.480   <2e-16 ***\n",
       "log10(N):log10(alpha) -0.01062    0.03731  -0.285    0.776    \n",
       "---\n",
       "Signif. codes:  0 '***' 0.001 '**' 0.01 '*' 0.05 '.' 0.1 ' ' 1\n",
       "\n",
       "Residual standard error: 0.2884 on 428 degrees of freedom\n",
       "Multiple R-squared:  0.9229,\tAdjusted R-squared:  0.9223 \n",
       "F-statistic:  1707 on 3 and 428 DF,  p-value: < 2.2e-16\n"
      ]
     },
     "metadata": {},
     "output_type": "display_data"
    },
    {
     "data": {
      "image/png": "[encoded data removed]",
      "text/plain": [
       "plot without title"
      ]
     },
     "metadata": {
      "image/png": {
       "height": 420,
       "width": 420
      }
     },
     "output_type": "display_data"
    }
   ],
   "source": [
    "title <- \"final difference from bellman with different alpha\"\n",
    "data <- dataFull[(dataFull$syncBackups == 1 | dataFull$syncBackups == -1),]\n",
    "N = data$fedP\n",
    "sqDiff = data$finalDiff ** 2\n",
    "model <- lm(log10(sqDiff) ~ log10(N)*log10(alpha), data)\n",
    "summary(model)\n",
    "predict <- cbind(data, predict(model, interval='confidence', newdata=data))\n",
    "\n",
    "p <- ggplot(predict, aes(x=log10(N), y=log10(finalDiff ** 2)))\n",
    "p <- p + ggtitle(title)\n",
    "p <- p + geom_point(aes(color = alpha)) \n",
    "p <- p + scale_color_gradientn(colors = c(\"black\", \"red\"))\n",
    "p"
   ]
  },
  {
   "cell_type": "code",
   "execution_count": 9,
   "metadata": {},
   "outputs": [
    {
     "data": {
      "text/plain": [
       "\n",
       "Call:\n",
       "lm(formula = log10(sqDiff) ~ log10(NTerm), data = data)\n",
       "\n",
       "Residuals:\n",
       "     Min       1Q   Median       3Q      Max \n",
       "-1.11574 -0.18473  0.01675  0.19242  0.89894 \n",
       "\n",
       "Coefficients:\n",
       "             Estimate Std. Error t value Pr(>|t|)    \n",
       "(Intercept)   0.59817    0.03259   18.36   <2e-16 ***\n",
       "log10(NTerm)  1.02645    0.01432   71.68   <2e-16 ***\n",
       "---\n",
       "Signif. codes:  0 '***' 0.001 '**' 0.01 '*' 0.05 '.' 0.1 ' ' 1\n",
       "\n",
       "Residual standard error: 0.2879 on 430 degrees of freedom\n",
       "Multiple R-squared:  0.9228,\tAdjusted R-squared:  0.9226 \n",
       "F-statistic:  5138 on 1 and 430 DF,  p-value: < 2.2e-16\n"
      ]
     },
     "metadata": {},
     "output_type": "display_data"
    },
    {
     "name": "stderr",
     "output_type": "stream",
     "text": [
      "\u001b[1m\u001b[22mSaving 6.67 x 6.67 in image\n"
     ]
    },
    {
     "data": {
      "image/png": "[encoded data removed]",
      "text/plain": [
       "plot without title"
      ]
     },
     "metadata": {
      "image/png": {
       "height": 420,
       "width": 420
      }
     },
     "output_type": "display_data"
    }
   ],
   "source": [
    "title <- \"Steady State Error from Bellman Q Value\"\n",
    "data <- dataFull[(dataFull$syncBackups == 1 | dataFull$syncBackups == -1),]\n",
    "NTerm = data$alpha/data$fedP\n",
    "sqDiff = data$finalDiff ** 2\n",
    "model <- lm(log10(sqDiff) ~ log10(NTerm), data)\n",
    "summary(model)\n",
    "predict <- cbind(data, predict(model, interval='confidence', newdata=data))\n",
    "\n",
    "p <- ggplot(predict, aes(x=log10(NTerm), y=log10(finalDiff ** 2)))\n",
    "p <- p + ggtitle(title)\n",
    "p <- p + xlab(\"Alpha/N Log Scale\") + ylab(\"Steady State Error Log Scale\")\n",
    "p <- p + annotate(\"text\", x=-3, y=0.5, label= lm_eqn(model), parse = TRUE)\n",
    "p <- p + geom_point(aes(color = log10(alpha)))\n",
    "p <- p + scale_color_gradientn(colors = c(\"black\", \"red\"))\n",
    "p <- p + geom_line(aes(log10(NTerm), fit))\n",
    "p <- p + geom_ribbon(aes(ymin=lwr,ymax=upr), alpha=0.2)\n",
    "p\n",
    "\n",
    "ggsave(filename=gsub(\" \", \"\", paste(\"featuredGraphs/\", title, \".png\"), fixed = TRUE), plot=p, device=\"png\")"
   ]
  },
  {
   "cell_type": "code",
   "execution_count": 10,
   "metadata": {},
   "outputs": [
    {
     "data": {
      "text/html": [
       "<table class=\"dataframe\">\n",
       "<caption>A data.frame: 30 × 25</caption>\n",
       "<thead>\n",
       "\t<tr><th></th><th scope=col>convN</th><th scope=col>alpha</th><th scope=col>discount</th><th scope=col>epsilon</th><th scope=col>fedP</th><th scope=col>syncBackups</th><th scope=col>stochasticPolicy</th><th scope=col>envSeed</th><th scope=col>trial</th><th scope=col>sims</th><th scope=col>⋯</th><th scope=col>endScoreRand</th><th scope=col>aggs</th><th scope=col>backups</th><th scope=col>endScoreStochBell</th><th scope=col>endScore</th><th scope=col>finalDiff</th><th scope=col>threshDiff</th><th scope=col>threshRew</th><th scope=col>threshEp</th><th scope=col>threshBack</th></tr>\n",
       "\t<tr><th></th><th scope=col>&lt;int&gt;</th><th scope=col>&lt;dbl&gt;</th><th scope=col>&lt;dbl&gt;</th><th scope=col>&lt;dbl&gt;</th><th scope=col>&lt;int&gt;</th><th scope=col>&lt;int&gt;</th><th scope=col>&lt;chr&gt;</th><th scope=col>&lt;int&gt;</th><th scope=col>&lt;int&gt;</th><th scope=col>&lt;dbl&gt;</th><th scope=col>⋯</th><th scope=col>&lt;dbl&gt;</th><th scope=col>&lt;dbl&gt;</th><th scope=col>&lt;dbl&gt;</th><th scope=col>&lt;dbl&gt;</th><th scope=col>&lt;dbl&gt;</th><th scope=col>&lt;dbl&gt;</th><th scope=col>&lt;dbl&gt;</th><th scope=col>&lt;dbl&gt;</th><th scope=col>&lt;int&gt;</th><th scope=col>&lt;dbl&gt;</th></tr>\n",
       "</thead>\n",
       "<tbody>\n",
       "\t<tr><th scope=row>32</th><td>10</td><td>0.005</td><td>0.6</td><td>0</td><td>16</td><td> 1</td><td>True</td><td>3701</td><td>0</td><td>80800</td><td>⋯</td><td>1185.387</td><td>80596</td><td>80800</td><td>2132.373</td><td>3898.605</td><td>0.046355344</td><td>0.3119777</td><td>19.464512</td><td>160</td><td>17170</td></tr>\n",
       "\t<tr><th scope=row>59</th><td>10</td><td>0.005</td><td>0.6</td><td>0</td><td> 1</td><td>-1</td><td>True</td><td>3701</td><td>0</td><td>50500</td><td>⋯</td><td>1310.680</td><td>    0</td><td>50500</td><td>2147.475</td><td>3835.729</td><td>0.050978605</td><td>0.2895518</td><td>20.485319</td><td>160</td><td>17170</td></tr>\n",
       "\t<tr><th scope=row>210</th><td>10</td><td>0.005</td><td>0.6</td><td>0</td><td> 4</td><td> 1</td><td>True</td><td>3701</td><td>1</td><td>70700</td><td>⋯</td><td>1312.867</td><td>70674</td><td>70700</td><td>2198.647</td><td>3898.605</td><td>0.076964535</td><td>0.3036172</td><td>23.420292</td><td>170</td><td>18180</td></tr>\n",
       "\t<tr><th scope=row>241</th><td>10</td><td>0.005</td><td>0.6</td><td>1</td><td> 8</td><td> 1</td><td>True</td><td>3701</td><td>0</td><td>50500</td><td>⋯</td><td>1135.738</td><td>50443</td><td>50500</td><td>2190.005</td><td>3898.605</td><td>0.023955653</td><td>0.2651755</td><td>10.876106</td><td>140</td><td>15150</td></tr>\n",
       "\t<tr><th scope=row>274</th><td>10</td><td>0.005</td><td>0.6</td><td>1</td><td>16</td><td> 1</td><td>True</td><td>3701</td><td>2</td><td>50500</td><td>⋯</td><td>1327.228</td><td>50335</td><td>50500</td><td>2168.222</td><td>3898.605</td><td>0.031215578</td><td>0.3083706</td><td>11.955045</td><td>140</td><td>15150</td></tr>\n",
       "\t<tr><th scope=row>456</th><td>10</td><td>0.005</td><td>0.6</td><td>1</td><td> 4</td><td> 1</td><td>True</td><td>3701</td><td>1</td><td>50500</td><td>⋯</td><td>1221.823</td><td>52510</td><td>50500</td><td>2109.417</td><td>3898.605</td><td>0.085942564</td><td>0.3011236</td><td>12.960507</td><td>130</td><td>14140</td></tr>\n",
       "\t<tr><th scope=row>577</th><td>10</td><td>0.005</td><td>0.6</td><td>1</td><td> 1</td><td>-1</td><td>True</td><td>3701</td><td>0</td><td>40400</td><td>⋯</td><td>1190.662</td><td>    0</td><td>40400</td><td>2126.969</td><td>3885.501</td><td>0.050852535</td><td>0.2830133</td><td>12.940039</td><td>150</td><td>16160</td></tr>\n",
       "\t<tr><th scope=row>649</th><td>10</td><td>0.005</td><td>0.6</td><td>1</td><td> 8</td><td> 1</td><td>True</td><td>3701</td><td>2</td><td>60600</td><td>⋯</td><td>1150.744</td><td>60482</td><td>60600</td><td>2060.283</td><td>3898.605</td><td>0.048335307</td><td>0.3046655</td><td>12.051033</td><td>150</td><td>16160</td></tr>\n",
       "\t<tr><th scope=row>672</th><td>10</td><td>0.005</td><td>0.6</td><td>0</td><td> 4</td><td> 1</td><td>True</td><td>3701</td><td>0</td><td>60600</td><td>⋯</td><td>1348.077</td><td>60585</td><td>60600</td><td>2129.140</td><td>3898.605</td><td>0.046621370</td><td>0.2926458</td><td>24.455698</td><td>160</td><td>17170</td></tr>\n",
       "\t<tr><th scope=row>720</th><td>10</td><td>0.005</td><td>0.6</td><td>1</td><td>16</td><td> 1</td><td>True</td><td>3701</td><td>0</td><td>49490</td><td>⋯</td><td>1170.932</td><td>49585</td><td>49490</td><td>2083.762</td><td>3898.605</td><td>0.008755543</td><td>0.3095780</td><td>15.957446</td><td>140</td><td>15150</td></tr>\n",
       "\t<tr><th scope=row>733</th><td>10</td><td>0.005</td><td>0.6</td><td>1</td><td> 8</td><td> 1</td><td>True</td><td>3701</td><td>1</td><td>50500</td><td>⋯</td><td>1209.872</td><td>50273</td><td>50500</td><td>2207.602</td><td>3898.605</td><td>0.040787927</td><td>0.2726465</td><td>14.060718</td><td>140</td><td>15150</td></tr>\n",
       "\t<tr><th scope=row>796</th><td>10</td><td>0.005</td><td>0.6</td><td>0</td><td>16</td><td> 1</td><td>True</td><td>3701</td><td>2</td><td>60600</td><td>⋯</td><td>1249.183</td><td>60469</td><td>60600</td><td>2195.820</td><td>3898.605</td><td>0.040303698</td><td>0.3120548</td><td>20.348336</td><td>160</td><td>17170</td></tr>\n",
       "\t<tr><th scope=row>817</th><td>10</td><td>0.005</td><td>0.6</td><td>0</td><td> 1</td><td>-1</td><td>True</td><td>3701</td><td>1</td><td>50500</td><td>⋯</td><td>1352.417</td><td>    0</td><td>50500</td><td>2244.677</td><td>3835.729</td><td>0.105724867</td><td>0.2959160</td><td>21.916080</td><td>190</td><td>20200</td></tr>\n",
       "\t<tr><th scope=row>843</th><td>10</td><td>0.005</td><td>0.6</td><td>0</td><td> 8</td><td> 1</td><td>True</td><td>3701</td><td>0</td><td>70700</td><td>⋯</td><td>1257.754</td><td>70478</td><td>70700</td><td>2101.623</td><td>3898.605</td><td>0.035550442</td><td>0.3100019</td><td>23.424151</td><td>160</td><td>17170</td></tr>\n",
       "\t<tr><th scope=row>875</th><td>10</td><td>0.005</td><td>0.6</td><td>1</td><td> 4</td><td> 1</td><td>True</td><td>3701</td><td>2</td><td>50500</td><td>⋯</td><td>1242.874</td><td>48832</td><td>50500</td><td>2124.033</td><td>3898.605</td><td>0.086236657</td><td>0.2909807</td><td>12.637366</td><td>130</td><td>14140</td></tr>\n",
       "\t<tr><th scope=row>901</th><td>10</td><td>0.005</td><td>0.6</td><td>1</td><td> 2</td><td> 1</td><td>True</td><td>3701</td><td>0</td><td>50500</td><td>⋯</td><td>1375.755</td><td>50297</td><td>50500</td><td>2145.364</td><td>3898.605</td><td>0.082315659</td><td>0.3132439</td><td>11.831590</td><td>150</td><td>16160</td></tr>\n",
       "\t<tr><th scope=row>927</th><td>10</td><td>0.005</td><td>0.6</td><td>0</td><td> 8</td><td> 1</td><td>True</td><td>3701</td><td>1</td><td>70700</td><td>⋯</td><td>1130.447</td><td>70547</td><td>70700</td><td>2101.436</td><td>3898.605</td><td>0.056010045</td><td>0.2986040</td><td>23.571598</td><td>180</td><td>19190</td></tr>\n",
       "\t<tr><th scope=row>1361</th><td>10</td><td>0.005</td><td>0.6</td><td>1</td><td> 2</td><td> 1</td><td>True</td><td>3701</td><td>2</td><td>40400</td><td>⋯</td><td>1062.582</td><td>40293</td><td>40400</td><td>2159.491</td><td>3898.605</td><td>0.098776855</td><td>0.2341860</td><td>15.835556</td><td>150</td><td>16160</td></tr>\n",
       "\t<tr><th scope=row>1374</th><td>10</td><td>0.005</td><td>0.6</td><td>0</td><td> 4</td><td> 1</td><td>True</td><td>3701</td><td>2</td><td>60600</td><td>⋯</td><td>1217.249</td><td>59230</td><td>60600</td><td>2062.244</td><td>3898.605</td><td>0.093287882</td><td>0.2998418</td><td>23.558045</td><td>170</td><td>18180</td></tr>\n",
       "\t<tr><th scope=row>1381</th><td>10</td><td>0.005</td><td>0.6</td><td>1</td><td> 1</td><td>-1</td><td>True</td><td>3701</td><td>2</td><td>50500</td><td>⋯</td><td>1282.355</td><td>    0</td><td>50500</td><td>2164.419</td><td>3835.729</td><td>0.219801236</td><td>0.2934290</td><td>13.217337</td><td>160</td><td>17170</td></tr>\n",
       "\t<tr><th scope=row>1387</th><td>10</td><td>0.005</td><td>0.6</td><td>1</td><td>16</td><td> 1</td><td>True</td><td>3701</td><td>1</td><td>50500</td><td>⋯</td><td>1207.742</td><td>50149</td><td>50500</td><td>2082.630</td><td>3898.605</td><td>0.038223512</td><td>0.3032843</td><td> 8.938634</td><td>140</td><td>15150</td></tr>\n",
       "\t<tr><th scope=row>1425</th><td>10</td><td>0.005</td><td>0.6</td><td>0</td><td>16</td><td> 1</td><td>True</td><td>3701</td><td>1</td><td>80800</td><td>⋯</td><td>1231.009</td><td>80361</td><td>80800</td><td>2205.906</td><td>3898.605</td><td>0.025802441</td><td>0.3041744</td><td>21.284950</td><td>160</td><td>17170</td></tr>\n",
       "\t<tr><th scope=row>1464</th><td>10</td><td>0.005</td><td>0.6</td><td>1</td><td> 4</td><td> 1</td><td>True</td><td>3701</td><td>0</td><td>40400</td><td>⋯</td><td>1215.979</td><td>40384</td><td>40400</td><td>2222.474</td><td>3898.605</td><td>0.105430013</td><td>0.3154431</td><td>12.844026</td><td>140</td><td>15150</td></tr>\n",
       "\t<tr><th scope=row>1513</th><td>10</td><td>0.005</td><td>0.6</td><td>0</td><td> 2</td><td> 1</td><td>True</td><td>3701</td><td>1</td><td>50500</td><td>⋯</td><td>1281.597</td><td>50439</td><td>50500</td><td>2216.810</td><td>3898.605</td><td>0.110130326</td><td>0.3089414</td><td>22.162722</td><td>150</td><td>16160</td></tr>\n",
       "\t<tr><th scope=row>1556</th><td>10</td><td>0.005</td><td>0.6</td><td>1</td><td> 1</td><td>-1</td><td>True</td><td>3701</td><td>1</td><td>50500</td><td>⋯</td><td>1169.088</td><td>    0</td><td>50500</td><td>2133.852</td><td>3835.729</td><td>0.191606570</td><td>0.2922142</td><td>11.101694</td><td>150</td><td>16160</td></tr>\n",
       "\t<tr><th scope=row>1581</th><td>10</td><td>0.005</td><td>0.6</td><td>0</td><td> 8</td><td> 1</td><td>True</td><td>3701</td><td>2</td><td>70700</td><td>⋯</td><td>1230.077</td><td>70706</td><td>70700</td><td>2065.647</td><td>3898.605</td><td>0.037339816</td><td>0.2896753</td><td>22.487813</td><td>160</td><td>17170</td></tr>\n",
       "\t<tr><th scope=row>1608</th><td>10</td><td>0.005</td><td>0.6</td><td>1</td><td> 2</td><td> 1</td><td>True</td><td>3701</td><td>1</td><td>40400</td><td>⋯</td><td>1175.993</td><td>40364</td><td>40400</td><td>2010.959</td><td>3898.605</td><td>0.066823267</td><td>0.2320945</td><td>12.945162</td><td>140</td><td>15150</td></tr>\n",
       "\t<tr><th scope=row>1633</th><td>10</td><td>0.005</td><td>0.6</td><td>0</td><td> 2</td><td> 1</td><td>True</td><td>3701</td><td>0</td><td>60600</td><td>⋯</td><td>1254.416</td><td>60072</td><td>60600</td><td>2035.256</td><td>3898.605</td><td>0.113955475</td><td>0.3023845</td><td>23.361942</td><td>190</td><td>20200</td></tr>\n",
       "\t<tr><th scope=row>1881</th><td>10</td><td>0.005</td><td>0.6</td><td>0</td><td> 2</td><td> 1</td><td>True</td><td>3701</td><td>2</td><td>50500</td><td>⋯</td><td>1276.038</td><td>50282</td><td>50500</td><td>2164.055</td><td>3898.605</td><td>0.088619374</td><td>0.2909628</td><td>21.240648</td><td>200</td><td>21210</td></tr>\n",
       "\t<tr><th scope=row>1922</th><td>10</td><td>0.005</td><td>0.6</td><td>0</td><td> 1</td><td>-1</td><td>True</td><td>3701</td><td>2</td><td>40400</td><td>⋯</td><td>1324.606</td><td>    0</td><td>40400</td><td>2183.837</td><td>3885.501</td><td>0.105543248</td><td>0.3120863</td><td>21.737883</td><td>140</td><td>15150</td></tr>\n",
       "</tbody>\n",
       "</table>\n"
      ],
      "text/latex": [
       "A data.frame: 30 × 25\n",
       "\\begin{tabular}{r|lllllllllllllllllllll}\n",
       "  & convN & alpha & discount & epsilon & fedP & syncBackups & stochasticPolicy & envSeed & trial & sims & ⋯ & endScoreRand & aggs & backups & endScoreStochBell & endScore & finalDiff & threshDiff & threshRew & threshEp & threshBack\\\\\n",
       "  & <int> & <dbl> & <dbl> & <dbl> & <int> & <int> & <chr> & <int> & <int> & <dbl> & ⋯ & <dbl> & <dbl> & <dbl> & <dbl> & <dbl> & <dbl> & <dbl> & <dbl> & <int> & <dbl>\\\\\n",
       "\\hline\n",
       "\t32 & 10 & 0.005 & 0.6 & 0 & 16 &  1 & True & 3701 & 0 & 80800 & ⋯ & 1185.387 & 80596 & 80800 & 2132.373 & 3898.605 & 0.046355344 & 0.3119777 & 19.464512 & 160 & 17170\\\\\n",
       "\t59 & 10 & 0.005 & 0.6 & 0 &  1 & -1 & True & 3701 & 0 & 50500 & ⋯ & 1310.680 &     0 & 50500 & 2147.475 & 3835.729 & 0.050978605 & 0.2895518 & 20.485319 & 160 & 17170\\\\\n",
       "\t210 & 10 & 0.005 & 0.6 & 0 &  4 &  1 & True & 3701 & 1 & 70700 & ⋯ & 1312.867 & 70674 & 70700 & 2198.647 & 3898.605 & 0.076964535 & 0.3036172 & 23.420292 & 170 & 18180\\\\\n",
       "\t241 & 10 & 0.005 & 0.6 & 1 &  8 &  1 & True & 3701 & 0 & 50500 & ⋯ & 1135.738 & 50443 & 50500 & 2190.005 & 3898.605 & 0.023955653 & 0.2651755 & 10.876106 & 140 & 15150\\\\\n",
       "\t274 & 10 & 0.005 & 0.6 & 1 & 16 &  1 & True & 3701 & 2 & 50500 & ⋯ & 1327.228 & 50335 & 50500 & 2168.222 & 3898.605 & 0.031215578 & 0.3083706 & 11.955045 & 140 & 15150\\\\\n",
       "\t456 & 10 & 0.005 & 0.6 & 1 &  4 &  1 & True & 3701 & 1 & 50500 & ⋯ & 1221.823 & 52510 & 50500 & 2109.417 & 3898.605 & 0.085942564 & 0.3011236 & 12.960507 & 130 & 14140\\\\\n",
       "\t577 & 10 & 0.005 & 0.6 & 1 &  1 & -1 & True & 3701 & 0 & 40400 & ⋯ & 1190.662 &     0 & 40400 & 2126.969 & 3885.501 & 0.050852535 & 0.2830133 & 12.940039 & 150 & 16160\\\\\n",
       "\t649 & 10 & 0.005 & 0.6 & 1 &  8 &  1 & True & 3701 & 2 & 60600 & ⋯ & 1150.744 & 60482 & 60600 & 2060.283 & 3898.605 & 0.048335307 & 0.3046655 & 12.051033 & 150 & 16160\\\\\n",
       "\t672 & 10 & 0.005 & 0.6 & 0 &  4 &  1 & True & 3701 & 0 & 60600 & ⋯ & 1348.077 & 60585 & 60600 & 2129.140 & 3898.605 & 0.046621370 & 0.2926458 & 24.455698 & 160 & 17170\\\\\n",
       "\t720 & 10 & 0.005 & 0.6 & 1 & 16 &  1 & True & 3701 & 0 & 49490 & ⋯ & 1170.932 & 49585 & 49490 & 2083.762 & 3898.605 & 0.008755543 & 0.3095780 & 15.957446 & 140 & 15150\\\\\n",
       "\t733 & 10 & 0.005 & 0.6 & 1 &  8 &  1 & True & 3701 & 1 & 50500 & ⋯ & 1209.872 & 50273 & 50500 & 2207.602 & 3898.605 & 0.040787927 & 0.2726465 & 14.060718 & 140 & 15150\\\\\n",
       "\t796 & 10 & 0.005 & 0.6 & 0 & 16 &  1 & True & 3701 & 2 & 60600 & ⋯ & 1249.183 & 60469 & 60600 & 2195.820 & 3898.605 & 0.040303698 & 0.3120548 & 20.348336 & 160 & 17170\\\\\n",
       "\t817 & 10 & 0.005 & 0.6 & 0 &  1 & -1 & True & 3701 & 1 & 50500 & ⋯ & 1352.417 &     0 & 50500 & 2244.677 & 3835.729 & 0.105724867 & 0.2959160 & 21.916080 & 190 & 20200\\\\\n",
       "\t843 & 10 & 0.005 & 0.6 & 0 &  8 &  1 & True & 3701 & 0 & 70700 & ⋯ & 1257.754 & 70478 & 70700 & 2101.623 & 3898.605 & 0.035550442 & 0.3100019 & 23.424151 & 160 & 17170\\\\\n",
       "\t875 & 10 & 0.005 & 0.6 & 1 &  4 &  1 & True & 3701 & 2 & 50500 & ⋯ & 1242.874 & 48832 & 50500 & 2124.033 & 3898.605 & 0.086236657 & 0.2909807 & 12.637366 & 130 & 14140\\\\\n",
       "\t901 & 10 & 0.005 & 0.6 & 1 &  2 &  1 & True & 3701 & 0 & 50500 & ⋯ & 1375.755 & 50297 & 50500 & 2145.364 & 3898.605 & 0.082315659 & 0.3132439 & 11.831590 & 150 & 16160\\\\\n",
       "\t927 & 10 & 0.005 & 0.6 & 0 &  8 &  1 & True & 3701 & 1 & 70700 & ⋯ & 1130.447 & 70547 & 70700 & 2101.436 & 3898.605 & 0.056010045 & 0.2986040 & 23.571598 & 180 & 19190\\\\\n",
       "\t1361 & 10 & 0.005 & 0.6 & 1 &  2 &  1 & True & 3701 & 2 & 40400 & ⋯ & 1062.582 & 40293 & 40400 & 2159.491 & 3898.605 & 0.098776855 & 0.2341860 & 15.835556 & 150 & 16160\\\\\n",
       "\t1374 & 10 & 0.005 & 0.6 & 0 &  4 &  1 & True & 3701 & 2 & 60600 & ⋯ & 1217.249 & 59230 & 60600 & 2062.244 & 3898.605 & 0.093287882 & 0.2998418 & 23.558045 & 170 & 18180\\\\\n",
       "\t1381 & 10 & 0.005 & 0.6 & 1 &  1 & -1 & True & 3701 & 2 & 50500 & ⋯ & 1282.355 &     0 & 50500 & 2164.419 & 3835.729 & 0.219801236 & 0.2934290 & 13.217337 & 160 & 17170\\\\\n",
       "\t1387 & 10 & 0.005 & 0.6 & 1 & 16 &  1 & True & 3701 & 1 & 50500 & ⋯ & 1207.742 & 50149 & 50500 & 2082.630 & 3898.605 & 0.038223512 & 0.3032843 &  8.938634 & 140 & 15150\\\\\n",
       "\t1425 & 10 & 0.005 & 0.6 & 0 & 16 &  1 & True & 3701 & 1 & 80800 & ⋯ & 1231.009 & 80361 & 80800 & 2205.906 & 3898.605 & 0.025802441 & 0.3041744 & 21.284950 & 160 & 17170\\\\\n",
       "\t1464 & 10 & 0.005 & 0.6 & 1 &  4 &  1 & True & 3701 & 0 & 40400 & ⋯ & 1215.979 & 40384 & 40400 & 2222.474 & 3898.605 & 0.105430013 & 0.3154431 & 12.844026 & 140 & 15150\\\\\n",
       "\t1513 & 10 & 0.005 & 0.6 & 0 &  2 &  1 & True & 3701 & 1 & 50500 & ⋯ & 1281.597 & 50439 & 50500 & 2216.810 & 3898.605 & 0.110130326 & 0.3089414 & 22.162722 & 150 & 16160\\\\\n",
       "\t1556 & 10 & 0.005 & 0.6 & 1 &  1 & -1 & True & 3701 & 1 & 50500 & ⋯ & 1169.088 &     0 & 50500 & 2133.852 & 3835.729 & 0.191606570 & 0.2922142 & 11.101694 & 150 & 16160\\\\\n",
       "\t1581 & 10 & 0.005 & 0.6 & 0 &  8 &  1 & True & 3701 & 2 & 70700 & ⋯ & 1230.077 & 70706 & 70700 & 2065.647 & 3898.605 & 0.037339816 & 0.2896753 & 22.487813 & 160 & 17170\\\\\n",
       "\t1608 & 10 & 0.005 & 0.6 & 1 &  2 &  1 & True & 3701 & 1 & 40400 & ⋯ & 1175.993 & 40364 & 40400 & 2010.959 & 3898.605 & 0.066823267 & 0.2320945 & 12.945162 & 140 & 15150\\\\\n",
       "\t1633 & 10 & 0.005 & 0.6 & 0 &  2 &  1 & True & 3701 & 0 & 60600 & ⋯ & 1254.416 & 60072 & 60600 & 2035.256 & 3898.605 & 0.113955475 & 0.3023845 & 23.361942 & 190 & 20200\\\\\n",
       "\t1881 & 10 & 0.005 & 0.6 & 0 &  2 &  1 & True & 3701 & 2 & 50500 & ⋯ & 1276.038 & 50282 & 50500 & 2164.055 & 3898.605 & 0.088619374 & 0.2909628 & 21.240648 & 200 & 21210\\\\\n",
       "\t1922 & 10 & 0.005 & 0.6 & 0 &  1 & -1 & True & 3701 & 2 & 40400 & ⋯ & 1324.606 &     0 & 40400 & 2183.837 & 3885.501 & 0.105543248 & 0.3120863 & 21.737883 & 140 & 15150\\\\\n",
       "\\end{tabular}\n"
      ],
      "text/markdown": [
       "\n",
       "A data.frame: 30 × 25\n",
       "\n",
       "| <!--/--> | convN &lt;int&gt; | alpha &lt;dbl&gt; | discount &lt;dbl&gt; | epsilon &lt;dbl&gt; | fedP &lt;int&gt; | syncBackups &lt;int&gt; | stochasticPolicy &lt;chr&gt; | envSeed &lt;int&gt; | trial &lt;int&gt; | sims &lt;dbl&gt; | ⋯ ⋯ | endScoreRand &lt;dbl&gt; | aggs &lt;dbl&gt; | backups &lt;dbl&gt; | endScoreStochBell &lt;dbl&gt; | endScore &lt;dbl&gt; | finalDiff &lt;dbl&gt; | threshDiff &lt;dbl&gt; | threshRew &lt;dbl&gt; | threshEp &lt;int&gt; | threshBack &lt;dbl&gt; |\n",
       "|---|---|---|---|---|---|---|---|---|---|---|---|---|---|---|---|---|---|---|---|---|---|\n",
       "| 32 | 10 | 0.005 | 0.6 | 0 | 16 |  1 | True | 3701 | 0 | 80800 | ⋯ | 1185.387 | 80596 | 80800 | 2132.373 | 3898.605 | 0.046355344 | 0.3119777 | 19.464512 | 160 | 17170 |\n",
       "| 59 | 10 | 0.005 | 0.6 | 0 |  1 | -1 | True | 3701 | 0 | 50500 | ⋯ | 1310.680 |     0 | 50500 | 2147.475 | 3835.729 | 0.050978605 | 0.2895518 | 20.485319 | 160 | 17170 |\n",
       "| 210 | 10 | 0.005 | 0.6 | 0 |  4 |  1 | True | 3701 | 1 | 70700 | ⋯ | 1312.867 | 70674 | 70700 | 2198.647 | 3898.605 | 0.076964535 | 0.3036172 | 23.420292 | 170 | 18180 |\n",
       "| 241 | 10 | 0.005 | 0.6 | 1 |  8 |  1 | True | 3701 | 0 | 50500 | ⋯ | 1135.738 | 50443 | 50500 | 2190.005 | 3898.605 | 0.023955653 | 0.2651755 | 10.876106 | 140 | 15150 |\n",
       "| 274 | 10 | 0.005 | 0.6 | 1 | 16 |  1 | True | 3701 | 2 | 50500 | ⋯ | 1327.228 | 50335 | 50500 | 2168.222 | 3898.605 | 0.031215578 | 0.3083706 | 11.955045 | 140 | 15150 |\n",
       "| 456 | 10 | 0.005 | 0.6 | 1 |  4 |  1 | True | 3701 | 1 | 50500 | ⋯ | 1221.823 | 52510 | 50500 | 2109.417 | 3898.605 | 0.085942564 | 0.3011236 | 12.960507 | 130 | 14140 |\n",
       "| 577 | 10 | 0.005 | 0.6 | 1 |  1 | -1 | True | 3701 | 0 | 40400 | ⋯ | 1190.662 |     0 | 40400 | 2126.969 | 3885.501 | 0.050852535 | 0.2830133 | 12.940039 | 150 | 16160 |\n",
       "| 649 | 10 | 0.005 | 0.6 | 1 |  8 |  1 | True | 3701 | 2 | 60600 | ⋯ | 1150.744 | 60482 | 60600 | 2060.283 | 3898.605 | 0.048335307 | 0.3046655 | 12.051033 | 150 | 16160 |\n",
       "| 672 | 10 | 0.005 | 0.6 | 0 |  4 |  1 | True | 3701 | 0 | 60600 | ⋯ | 1348.077 | 60585 | 60600 | 2129.140 | 3898.605 | 0.046621370 | 0.2926458 | 24.455698 | 160 | 17170 |\n",
       "| 720 | 10 | 0.005 | 0.6 | 1 | 16 |  1 | True | 3701 | 0 | 49490 | ⋯ | 1170.932 | 49585 | 49490 | 2083.762 | 3898.605 | 0.008755543 | 0.3095780 | 15.957446 | 140 | 15150 |\n",
       "| 733 | 10 | 0.005 | 0.6 | 1 |  8 |  1 | True | 3701 | 1 | 50500 | ⋯ | 1209.872 | 50273 | 50500 | 2207.602 | 3898.605 | 0.040787927 | 0.2726465 | 14.060718 | 140 | 15150 |\n",
       "| 796 | 10 | 0.005 | 0.6 | 0 | 16 |  1 | True | 3701 | 2 | 60600 | ⋯ | 1249.183 | 60469 | 60600 | 2195.820 | 3898.605 | 0.040303698 | 0.3120548 | 20.348336 | 160 | 17170 |\n",
       "| 817 | 10 | 0.005 | 0.6 | 0 |  1 | -1 | True | 3701 | 1 | 50500 | ⋯ | 1352.417 |     0 | 50500 | 2244.677 | 3835.729 | 0.105724867 | 0.2959160 | 21.916080 | 190 | 20200 |\n",
       "| 843 | 10 | 0.005 | 0.6 | 0 |  8 |  1 | True | 3701 | 0 | 70700 | ⋯ | 1257.754 | 70478 | 70700 | 2101.623 | 3898.605 | 0.035550442 | 0.3100019 | 23.424151 | 160 | 17170 |\n",
       "| 875 | 10 | 0.005 | 0.6 | 1 |  4 |  1 | True | 3701 | 2 | 50500 | ⋯ | 1242.874 | 48832 | 50500 | 2124.033 | 3898.605 | 0.086236657 | 0.2909807 | 12.637366 | 130 | 14140 |\n",
       "| 901 | 10 | 0.005 | 0.6 | 1 |  2 |  1 | True | 3701 | 0 | 50500 | ⋯ | 1375.755 | 50297 | 50500 | 2145.364 | 3898.605 | 0.082315659 | 0.3132439 | 11.831590 | 150 | 16160 |\n",
       "| 927 | 10 | 0.005 | 0.6 | 0 |  8 |  1 | True | 3701 | 1 | 70700 | ⋯ | 1130.447 | 70547 | 70700 | 2101.436 | 3898.605 | 0.056010045 | 0.2986040 | 23.571598 | 180 | 19190 |\n",
       "| 1361 | 10 | 0.005 | 0.6 | 1 |  2 |  1 | True | 3701 | 2 | 40400 | ⋯ | 1062.582 | 40293 | 40400 | 2159.491 | 3898.605 | 0.098776855 | 0.2341860 | 15.835556 | 150 | 16160 |\n",
       "| 1374 | 10 | 0.005 | 0.6 | 0 |  4 |  1 | True | 3701 | 2 | 60600 | ⋯ | 1217.249 | 59230 | 60600 | 2062.244 | 3898.605 | 0.093287882 | 0.2998418 | 23.558045 | 170 | 18180 |\n",
       "| 1381 | 10 | 0.005 | 0.6 | 1 |  1 | -1 | True | 3701 | 2 | 50500 | ⋯ | 1282.355 |     0 | 50500 | 2164.419 | 3835.729 | 0.219801236 | 0.2934290 | 13.217337 | 160 | 17170 |\n",
       "| 1387 | 10 | 0.005 | 0.6 | 1 | 16 |  1 | True | 3701 | 1 | 50500 | ⋯ | 1207.742 | 50149 | 50500 | 2082.630 | 3898.605 | 0.038223512 | 0.3032843 |  8.938634 | 140 | 15150 |\n",
       "| 1425 | 10 | 0.005 | 0.6 | 0 | 16 |  1 | True | 3701 | 1 | 80800 | ⋯ | 1231.009 | 80361 | 80800 | 2205.906 | 3898.605 | 0.025802441 | 0.3041744 | 21.284950 | 160 | 17170 |\n",
       "| 1464 | 10 | 0.005 | 0.6 | 1 |  4 |  1 | True | 3701 | 0 | 40400 | ⋯ | 1215.979 | 40384 | 40400 | 2222.474 | 3898.605 | 0.105430013 | 0.3154431 | 12.844026 | 140 | 15150 |\n",
       "| 1513 | 10 | 0.005 | 0.6 | 0 |  2 |  1 | True | 3701 | 1 | 50500 | ⋯ | 1281.597 | 50439 | 50500 | 2216.810 | 3898.605 | 0.110130326 | 0.3089414 | 22.162722 | 150 | 16160 |\n",
       "| 1556 | 10 | 0.005 | 0.6 | 1 |  1 | -1 | True | 3701 | 1 | 50500 | ⋯ | 1169.088 |     0 | 50500 | 2133.852 | 3835.729 | 0.191606570 | 0.2922142 | 11.101694 | 150 | 16160 |\n",
       "| 1581 | 10 | 0.005 | 0.6 | 0 |  8 |  1 | True | 3701 | 2 | 70700 | ⋯ | 1230.077 | 70706 | 70700 | 2065.647 | 3898.605 | 0.037339816 | 0.2896753 | 22.487813 | 160 | 17170 |\n",
       "| 1608 | 10 | 0.005 | 0.6 | 1 |  2 |  1 | True | 3701 | 1 | 40400 | ⋯ | 1175.993 | 40364 | 40400 | 2010.959 | 3898.605 | 0.066823267 | 0.2320945 | 12.945162 | 140 | 15150 |\n",
       "| 1633 | 10 | 0.005 | 0.6 | 0 |  2 |  1 | True | 3701 | 0 | 60600 | ⋯ | 1254.416 | 60072 | 60600 | 2035.256 | 3898.605 | 0.113955475 | 0.3023845 | 23.361942 | 190 | 20200 |\n",
       "| 1881 | 10 | 0.005 | 0.6 | 0 |  2 |  1 | True | 3701 | 2 | 50500 | ⋯ | 1276.038 | 50282 | 50500 | 2164.055 | 3898.605 | 0.088619374 | 0.2909628 | 21.240648 | 200 | 21210 |\n",
       "| 1922 | 10 | 0.005 | 0.6 | 0 |  1 | -1 | True | 3701 | 2 | 40400 | ⋯ | 1324.606 |     0 | 40400 | 2183.837 | 3885.501 | 0.105543248 | 0.3120863 | 21.737883 | 140 | 15150 |\n",
       "\n"
      ],
      "text/plain": [
       "     convN alpha discount epsilon fedP syncBackups stochasticPolicy envSeed\n",
       "32   10    0.005 0.6      0       16    1          True             3701   \n",
       "59   10    0.005 0.6      0        1   -1          True             3701   \n",
       "210  10    0.005 0.6      0        4    1          True             3701   \n",
       "241  10    0.005 0.6      1        8    1          True             3701   \n",
       "274  10    0.005 0.6      1       16    1          True             3701   \n",
       "456  10    0.005 0.6      1        4    1          True             3701   \n",
       "577  10    0.005 0.6      1        1   -1          True             3701   \n",
       "649  10    0.005 0.6      1        8    1          True             3701   \n",
       "672  10    0.005 0.6      0        4    1          True             3701   \n",
       "720  10    0.005 0.6      1       16    1          True             3701   \n",
       "733  10    0.005 0.6      1        8    1          True             3701   \n",
       "796  10    0.005 0.6      0       16    1          True             3701   \n",
       "817  10    0.005 0.6      0        1   -1          True             3701   \n",
       "843  10    0.005 0.6      0        8    1          True             3701   \n",
       "875  10    0.005 0.6      1        4    1          True             3701   \n",
       "901  10    0.005 0.6      1        2    1          True             3701   \n",
       "927  10    0.005 0.6      0        8    1          True             3701   \n",
       "1361 10    0.005 0.6      1        2    1          True             3701   \n",
       "1374 10    0.005 0.6      0        4    1          True             3701   \n",
       "1381 10    0.005 0.6      1        1   -1          True             3701   \n",
       "1387 10    0.005 0.6      1       16    1          True             3701   \n",
       "1425 10    0.005 0.6      0       16    1          True             3701   \n",
       "1464 10    0.005 0.6      1        4    1          True             3701   \n",
       "1513 10    0.005 0.6      0        2    1          True             3701   \n",
       "1556 10    0.005 0.6      1        1   -1          True             3701   \n",
       "1581 10    0.005 0.6      0        8    1          True             3701   \n",
       "1608 10    0.005 0.6      1        2    1          True             3701   \n",
       "1633 10    0.005 0.6      0        2    1          True             3701   \n",
       "1881 10    0.005 0.6      0        2    1          True             3701   \n",
       "1922 10    0.005 0.6      0        1   -1          True             3701   \n",
       "     trial sims  ⋯ endScoreRand aggs  backups endScoreStochBell endScore\n",
       "32   0     80800 ⋯ 1185.387     80596 80800   2132.373          3898.605\n",
       "59   0     50500 ⋯ 1310.680         0 50500   2147.475          3835.729\n",
       "210  1     70700 ⋯ 1312.867     70674 70700   2198.647          3898.605\n",
       "241  0     50500 ⋯ 1135.738     50443 50500   2190.005          3898.605\n",
       "274  2     50500 ⋯ 1327.228     50335 50500   2168.222          3898.605\n",
       "456  1     50500 ⋯ 1221.823     52510 50500   2109.417          3898.605\n",
       "577  0     40400 ⋯ 1190.662         0 40400   2126.969          3885.501\n",
       "649  2     60600 ⋯ 1150.744     60482 60600   2060.283          3898.605\n",
       "672  0     60600 ⋯ 1348.077     60585 60600   2129.140          3898.605\n",
       "720  0     49490 ⋯ 1170.932     49585 49490   2083.762          3898.605\n",
       "733  1     50500 ⋯ 1209.872     50273 50500   2207.602          3898.605\n",
       "796  2     60600 ⋯ 1249.183     60469 60600   2195.820          3898.605\n",
       "817  1     50500 ⋯ 1352.417         0 50500   2244.677          3835.729\n",
       "843  0     70700 ⋯ 1257.754     70478 70700   2101.623          3898.605\n",
       "875  2     50500 ⋯ 1242.874     48832 50500   2124.033          3898.605\n",
       "901  0     50500 ⋯ 1375.755     50297 50500   2145.364          3898.605\n",
       "927  1     70700 ⋯ 1130.447     70547 70700   2101.436          3898.605\n",
       "1361 2     40400 ⋯ 1062.582     40293 40400   2159.491          3898.605\n",
       "1374 2     60600 ⋯ 1217.249     59230 60600   2062.244          3898.605\n",
       "1381 2     50500 ⋯ 1282.355         0 50500   2164.419          3835.729\n",
       "1387 1     50500 ⋯ 1207.742     50149 50500   2082.630          3898.605\n",
       "1425 1     80800 ⋯ 1231.009     80361 80800   2205.906          3898.605\n",
       "1464 0     40400 ⋯ 1215.979     40384 40400   2222.474          3898.605\n",
       "1513 1     50500 ⋯ 1281.597     50439 50500   2216.810          3898.605\n",
       "1556 1     50500 ⋯ 1169.088         0 50500   2133.852          3835.729\n",
       "1581 2     70700 ⋯ 1230.077     70706 70700   2065.647          3898.605\n",
       "1608 1     40400 ⋯ 1175.993     40364 40400   2010.959          3898.605\n",
       "1633 0     60600 ⋯ 1254.416     60072 60600   2035.256          3898.605\n",
       "1881 2     50500 ⋯ 1276.038     50282 50500   2164.055          3898.605\n",
       "1922 2     40400 ⋯ 1324.606         0 40400   2183.837          3885.501\n",
       "     finalDiff   threshDiff threshRew threshEp threshBack\n",
       "32   0.046355344 0.3119777  19.464512 160      17170     \n",
       "59   0.050978605 0.2895518  20.485319 160      17170     \n",
       "210  0.076964535 0.3036172  23.420292 170      18180     \n",
       "241  0.023955653 0.2651755  10.876106 140      15150     \n",
       "274  0.031215578 0.3083706  11.955045 140      15150     \n",
       "456  0.085942564 0.3011236  12.960507 130      14140     \n",
       "577  0.050852535 0.2830133  12.940039 150      16160     \n",
       "649  0.048335307 0.3046655  12.051033 150      16160     \n",
       "672  0.046621370 0.2926458  24.455698 160      17170     \n",
       "720  0.008755543 0.3095780  15.957446 140      15150     \n",
       "733  0.040787927 0.2726465  14.060718 140      15150     \n",
       "796  0.040303698 0.3120548  20.348336 160      17170     \n",
       "817  0.105724867 0.2959160  21.916080 190      20200     \n",
       "843  0.035550442 0.3100019  23.424151 160      17170     \n",
       "875  0.086236657 0.2909807  12.637366 130      14140     \n",
       "901  0.082315659 0.3132439  11.831590 150      16160     \n",
       "927  0.056010045 0.2986040  23.571598 180      19190     \n",
       "1361 0.098776855 0.2341860  15.835556 150      16160     \n",
       "1374 0.093287882 0.2998418  23.558045 170      18180     \n",
       "1381 0.219801236 0.2934290  13.217337 160      17170     \n",
       "1387 0.038223512 0.3032843   8.938634 140      15150     \n",
       "1425 0.025802441 0.3041744  21.284950 160      17170     \n",
       "1464 0.105430013 0.3154431  12.844026 140      15150     \n",
       "1513 0.110130326 0.3089414  22.162722 150      16160     \n",
       "1556 0.191606570 0.2922142  11.101694 150      16160     \n",
       "1581 0.037339816 0.2896753  22.487813 160      17170     \n",
       "1608 0.066823267 0.2320945  12.945162 140      15150     \n",
       "1633 0.113955475 0.3023845  23.361942 190      20200     \n",
       "1881 0.088619374 0.2909628  21.240648 200      21210     \n",
       "1922 0.105543248 0.3120863  21.737883 140      15150     "
      ]
     },
     "metadata": {},
     "output_type": "display_data"
    },
    {
     "data": {
      "text/plain": [
       "\n",
       "Call:\n",
       "lm(formula = log10(T) ~ log10(N), data = data)\n",
       "\n",
       "Residuals:\n",
       "     Min       1Q   Median       3Q      Max \n",
       "-0.06997 -0.02770 -0.01198  0.02665  0.09997 \n",
       "\n",
       "Coefficients:\n",
       "            Estimate Std. Error t value Pr(>|t|)    \n",
       "(Intercept)  4.23272    0.01408  300.59   <2e-16 ***\n",
       "log10(N)    -0.02043    0.01910   -1.07    0.294    \n",
       "---\n",
       "Signif. codes:  0 '***' 0.001 '**' 0.01 '*' 0.05 '.' 0.1 ' ' 1\n",
       "\n",
       "Residual standard error: 0.04453 on 28 degrees of freedom\n",
       "Multiple R-squared:  0.03928,\tAdjusted R-squared:  0.004964 \n",
       "F-statistic: 1.145 on 1 and 28 DF,  p-value: 0.2938\n"
      ]
     },
     "metadata": {},
     "output_type": "display_data"
    },
    {
     "data": {
      "image/png": "[encoded data removed]",
      "text/plain": [
       "plot without title"
      ]
     },
     "metadata": {
      "image/png": {
       "height": 420,
       "width": 420
      }
     },
     "output_type": "display_data"
    }
   ],
   "source": [
    "title <- \"time to reach a threshold distance, fixed alpha\"\n",
    "data <- dataFull[(dataFull$syncBackups == 1 | dataFull$syncBackups == -1) & dataFull$threshDiff ** 2 <= 0.5 & dataFull$alpha == 0.005,]\n",
    "data\n",
    "\n",
    "N = data$fedP\n",
    "T = data$threshBack\n",
    "model <- lm(log10(T) ~ log10(N), data)\n",
    "summary(model)\n",
    "predict <- cbind(data, predict(model, interval='confidence', newdata=data))\n",
    "\n",
    "\n",
    "p <- ggplot(predict, aes(x=log10(N), y=log10(T)))\n",
    "p <- p + ggtitle(title)\n",
    "p <- p + xlab(\"Alpha/N Term Log Scale\") + ylab(\"Steady State Error Log Scale\")\n",
    "p <- p + geom_point(aes(color = alpha)) \n",
    "p <- p + scale_color_gradientn(colors = c(\"black\", \"red\"))\n",
    "p <- p + geom_line(aes(log10(N), fit))\n",
    "p <- p + geom_ribbon(aes(ymin=lwr,ymax=upr), alpha=0.2)\n",
    "p"
   ]
  },
  {
   "cell_type": "code",
   "execution_count": 11,
   "metadata": {},
   "outputs": [
    {
     "data": {
      "text/html": [
       "<table class=\"dataframe\">\n",
       "<caption>A data.frame: 2 × 25</caption>\n",
       "<thead>\n",
       "\t<tr><th></th><th scope=col>convN</th><th scope=col>alpha</th><th scope=col>discount</th><th scope=col>epsilon</th><th scope=col>fedP</th><th scope=col>syncBackups</th><th scope=col>stochasticPolicy</th><th scope=col>envSeed</th><th scope=col>trial</th><th scope=col>sims</th><th scope=col>⋯</th><th scope=col>endScoreRand</th><th scope=col>aggs</th><th scope=col>backups</th><th scope=col>endScoreStochBell</th><th scope=col>endScore</th><th scope=col>finalDiff</th><th scope=col>threshDiff</th><th scope=col>threshRew</th><th scope=col>threshEp</th><th scope=col>threshBack</th></tr>\n",
       "\t<tr><th></th><th scope=col>&lt;int&gt;</th><th scope=col>&lt;dbl&gt;</th><th scope=col>&lt;dbl&gt;</th><th scope=col>&lt;dbl&gt;</th><th scope=col>&lt;int&gt;</th><th scope=col>&lt;int&gt;</th><th scope=col>&lt;chr&gt;</th><th scope=col>&lt;int&gt;</th><th scope=col>&lt;int&gt;</th><th scope=col>&lt;dbl&gt;</th><th scope=col>⋯</th><th scope=col>&lt;dbl&gt;</th><th scope=col>&lt;dbl&gt;</th><th scope=col>&lt;dbl&gt;</th><th scope=col>&lt;dbl&gt;</th><th scope=col>&lt;dbl&gt;</th><th scope=col>&lt;dbl&gt;</th><th scope=col>&lt;dbl&gt;</th><th scope=col>&lt;dbl&gt;</th><th scope=col>&lt;int&gt;</th><th scope=col>&lt;dbl&gt;</th></tr>\n",
       "</thead>\n",
       "<tbody>\n",
       "\t<tr><th scope=row>17</th><td>10</td><td>0.016</td><td>0.6</td><td>0</td><td>8</td><td>1</td><td>True</td><td>3701</td><td>1</td><td>40400</td><td>⋯</td><td>1160.608</td><td>40320</td><td>40400</td><td>2007.561</td><td>3898.605</td><td>0.04771012</td><td>0.3139974</td><td>25.56619</td><td>40</td><td>5050</td></tr>\n",
       "\t<tr><th scope=row>20</th><td>10</td><td>0.016</td><td>0.6</td><td>0</td><td>8</td><td>1</td><td>True</td><td>3701</td><td>2</td><td>30300</td><td>⋯</td><td>1274.193</td><td>30151</td><td>30300</td><td>2150.766</td><td>3898.605</td><td>0.05264867</td><td>0.2796279</td><td>20.61795</td><td>50</td><td>6060</td></tr>\n",
       "</tbody>\n",
       "</table>\n"
      ],
      "text/latex": [
       "A data.frame: 2 × 25\n",
       "\\begin{tabular}{r|lllllllllllllllllllll}\n",
       "  & convN & alpha & discount & epsilon & fedP & syncBackups & stochasticPolicy & envSeed & trial & sims & ⋯ & endScoreRand & aggs & backups & endScoreStochBell & endScore & finalDiff & threshDiff & threshRew & threshEp & threshBack\\\\\n",
       "  & <int> & <dbl> & <dbl> & <dbl> & <int> & <int> & <chr> & <int> & <int> & <dbl> & ⋯ & <dbl> & <dbl> & <dbl> & <dbl> & <dbl> & <dbl> & <dbl> & <dbl> & <int> & <dbl>\\\\\n",
       "\\hline\n",
       "\t17 & 10 & 0.016 & 0.6 & 0 & 8 & 1 & True & 3701 & 1 & 40400 & ⋯ & 1160.608 & 40320 & 40400 & 2007.561 & 3898.605 & 0.04771012 & 0.3139974 & 25.56619 & 40 & 5050\\\\\n",
       "\t20 & 10 & 0.016 & 0.6 & 0 & 8 & 1 & True & 3701 & 2 & 30300 & ⋯ & 1274.193 & 30151 & 30300 & 2150.766 & 3898.605 & 0.05264867 & 0.2796279 & 20.61795 & 50 & 6060\\\\\n",
       "\\end{tabular}\n"
      ],
      "text/markdown": [
       "\n",
       "A data.frame: 2 × 25\n",
       "\n",
       "| <!--/--> | convN &lt;int&gt; | alpha &lt;dbl&gt; | discount &lt;dbl&gt; | epsilon &lt;dbl&gt; | fedP &lt;int&gt; | syncBackups &lt;int&gt; | stochasticPolicy &lt;chr&gt; | envSeed &lt;int&gt; | trial &lt;int&gt; | sims &lt;dbl&gt; | ⋯ ⋯ | endScoreRand &lt;dbl&gt; | aggs &lt;dbl&gt; | backups &lt;dbl&gt; | endScoreStochBell &lt;dbl&gt; | endScore &lt;dbl&gt; | finalDiff &lt;dbl&gt; | threshDiff &lt;dbl&gt; | threshRew &lt;dbl&gt; | threshEp &lt;int&gt; | threshBack &lt;dbl&gt; |\n",
       "|---|---|---|---|---|---|---|---|---|---|---|---|---|---|---|---|---|---|---|---|---|---|\n",
       "| 17 | 10 | 0.016 | 0.6 | 0 | 8 | 1 | True | 3701 | 1 | 40400 | ⋯ | 1160.608 | 40320 | 40400 | 2007.561 | 3898.605 | 0.04771012 | 0.3139974 | 25.56619 | 40 | 5050 |\n",
       "| 20 | 10 | 0.016 | 0.6 | 0 | 8 | 1 | True | 3701 | 2 | 30300 | ⋯ | 1274.193 | 30151 | 30300 | 2150.766 | 3898.605 | 0.05264867 | 0.2796279 | 20.61795 | 50 | 6060 |\n",
       "\n"
      ],
      "text/plain": [
       "   convN alpha discount epsilon fedP syncBackups stochasticPolicy envSeed trial\n",
       "17 10    0.016 0.6      0       8    1           True             3701    1    \n",
       "20 10    0.016 0.6      0       8    1           True             3701    2    \n",
       "   sims  ⋯ endScoreRand aggs  backups endScoreStochBell endScore finalDiff \n",
       "17 40400 ⋯ 1160.608     40320 40400   2007.561          3898.605 0.04771012\n",
       "20 30300 ⋯ 1274.193     30151 30300   2150.766          3898.605 0.05264867\n",
       "   threshDiff threshRew threshEp threshBack\n",
       "17 0.3139974  25.56619  40       5050      \n",
       "20 0.2796279  20.61795  50       6060      "
      ]
     },
     "metadata": {},
     "output_type": "display_data"
    },
    {
     "data": {
      "text/plain": [
       "\n",
       "Call:\n",
       "lm(formula = log10(T) ~ log10(N), data = data)\n",
       "\n",
       "Residuals:\n",
       "     Min       1Q   Median       3Q      Max \n",
       "-0.08029 -0.02672  0.01635  0.01843  0.05099 \n",
       "\n",
       "Coefficients:\n",
       "            Estimate Std. Error t value Pr(>|t|)    \n",
       "(Intercept)  4.59907    0.01116  412.27   <2e-16 ***\n",
       "log10(N)    -0.94347    0.01513  -62.36   <2e-16 ***\n",
       "---\n",
       "Signif. codes:  0 '***' 0.001 '**' 0.01 '*' 0.05 '.' 0.1 ' ' 1\n",
       "\n",
       "Residual standard error: 0.03528 on 28 degrees of freedom\n",
       "Multiple R-squared:  0.9929,\tAdjusted R-squared:  0.9926 \n",
       "F-statistic:  3889 on 1 and 28 DF,  p-value: < 2.2e-16\n"
      ]
     },
     "metadata": {},
     "output_type": "display_data"
    },
    {
     "name": "stderr",
     "output_type": "stream",
     "text": [
      "\u001b[1m\u001b[22mSaving 6.67 x 6.67 in image\n"
     ]
    },
    {
     "data": {
      "image/png": "[encoded data removed]",
      "text/plain": [
       "plot without title"
      ]
     },
     "metadata": {
      "image/png": {
       "height": 420,
       "width": 420
      }
     },
     "output_type": "display_data"
    }
   ],
   "source": [
    "title <- \"Linear Speedup for Alpha Adjusted by N\"\n",
    "A <- 0.002\n",
    "data <- dataFull[(dataFull$syncBackups == 1 | dataFull$syncBackups == -1) & dataFull$threshDiff ** 2 <= 0.1 & dataFull$alpha == A * dataFull$fedP,]\n",
    "head(data,2)\n",
    "\n",
    "N = data$fedP\n",
    "T = data$threshBack\n",
    "model <- lm(log10(T) ~ log10(N), data)\n",
    "summary(model)\n",
    "predict <- cbind(data, predict(model, interval='confidence', newdata=data))\n",
    "\n",
    "\n",
    "p <- ggplot(predict, aes(x=log10(N), y=log10(T)))\n",
    "p <- p + ggtitle(title)\n",
    "p <- p + geom_point(aes(color = alpha)) \n",
    "p <- p + scale_color_gradientn(colors = c(\"black\", \"red\"))\n",
    "p <- p + geom_line(aes(log10(N), fit))\n",
    "p <- p + geom_ribbon(aes(ymin=lwr,ymax=upr), alpha=0.2)\n",
    "p\n",
    "\n",
    "ggsave(filename=gsub(\" \", \"\", paste(\"featuredGraphs/\", title, \".png\"), fixed = TRUE), plot=p, device=\"png\")"
   ]
  },
  {
   "cell_type": "code",
   "execution_count": 12,
   "metadata": {},
   "outputs": [
    {
     "data": {
      "text/html": [
       "<table class=\"dataframe\">\n",
       "<caption>A data.frame: 2 × 25</caption>\n",
       "<thead>\n",
       "\t<tr><th></th><th scope=col>convN</th><th scope=col>alpha</th><th scope=col>discount</th><th scope=col>epsilon</th><th scope=col>fedP</th><th scope=col>syncBackups</th><th scope=col>stochasticPolicy</th><th scope=col>envSeed</th><th scope=col>trial</th><th scope=col>sims</th><th scope=col>⋯</th><th scope=col>endScoreRand</th><th scope=col>aggs</th><th scope=col>backups</th><th scope=col>endScoreStochBell</th><th scope=col>endScore</th><th scope=col>finalDiff</th><th scope=col>threshDiff</th><th scope=col>threshRew</th><th scope=col>threshEp</th><th scope=col>threshBack</th></tr>\n",
       "\t<tr><th></th><th scope=col>&lt;int&gt;</th><th scope=col>&lt;dbl&gt;</th><th scope=col>&lt;dbl&gt;</th><th scope=col>&lt;dbl&gt;</th><th scope=col>&lt;int&gt;</th><th scope=col>&lt;int&gt;</th><th scope=col>&lt;chr&gt;</th><th scope=col>&lt;int&gt;</th><th scope=col>&lt;int&gt;</th><th scope=col>&lt;dbl&gt;</th><th scope=col>⋯</th><th scope=col>&lt;dbl&gt;</th><th scope=col>&lt;dbl&gt;</th><th scope=col>&lt;dbl&gt;</th><th scope=col>&lt;dbl&gt;</th><th scope=col>&lt;dbl&gt;</th><th scope=col>&lt;dbl&gt;</th><th scope=col>&lt;dbl&gt;</th><th scope=col>&lt;dbl&gt;</th><th scope=col>&lt;int&gt;</th><th scope=col>&lt;dbl&gt;</th></tr>\n",
       "</thead>\n",
       "<tbody>\n",
       "\t<tr><th scope=row>204</th><td>10</td><td>0.032</td><td>0.6</td><td>0</td><td>16</td><td>10000</td><td>True</td><td>3701</td><td>1</td><td>30300</td><td>⋯</td><td>1206.396</td><td>3</td><td>30300</td><td>2154.848</td><td>3898.605</td><td>0.2949294</td><td>0.1753303</td><td>22.462991</td><td>20</td><td>3030</td></tr>\n",
       "\t<tr><th scope=row>227</th><td>10</td><td>0.032</td><td>0.6</td><td>1</td><td>16</td><td>10000</td><td>True</td><td>3701</td><td>2</td><td>30300</td><td>⋯</td><td>1325.239</td><td>3</td><td>30300</td><td>2117.443</td><td>3898.605</td><td>0.1562354</td><td>0.2852583</td><td> 9.726253</td><td>20</td><td>3030</td></tr>\n",
       "</tbody>\n",
       "</table>\n"
      ],
      "text/latex": [
       "A data.frame: 2 × 25\n",
       "\\begin{tabular}{r|lllllllllllllllllllll}\n",
       "  & convN & alpha & discount & epsilon & fedP & syncBackups & stochasticPolicy & envSeed & trial & sims & ⋯ & endScoreRand & aggs & backups & endScoreStochBell & endScore & finalDiff & threshDiff & threshRew & threshEp & threshBack\\\\\n",
       "  & <int> & <dbl> & <dbl> & <dbl> & <int> & <int> & <chr> & <int> & <int> & <dbl> & ⋯ & <dbl> & <dbl> & <dbl> & <dbl> & <dbl> & <dbl> & <dbl> & <dbl> & <int> & <dbl>\\\\\n",
       "\\hline\n",
       "\t204 & 10 & 0.032 & 0.6 & 0 & 16 & 10000 & True & 3701 & 1 & 30300 & ⋯ & 1206.396 & 3 & 30300 & 2154.848 & 3898.605 & 0.2949294 & 0.1753303 & 22.462991 & 20 & 3030\\\\\n",
       "\t227 & 10 & 0.032 & 0.6 & 1 & 16 & 10000 & True & 3701 & 2 & 30300 & ⋯ & 1325.239 & 3 & 30300 & 2117.443 & 3898.605 & 0.1562354 & 0.2852583 &  9.726253 & 20 & 3030\\\\\n",
       "\\end{tabular}\n"
      ],
      "text/markdown": [
       "\n",
       "A data.frame: 2 × 25\n",
       "\n",
       "| <!--/--> | convN &lt;int&gt; | alpha &lt;dbl&gt; | discount &lt;dbl&gt; | epsilon &lt;dbl&gt; | fedP &lt;int&gt; | syncBackups &lt;int&gt; | stochasticPolicy &lt;chr&gt; | envSeed &lt;int&gt; | trial &lt;int&gt; | sims &lt;dbl&gt; | ⋯ ⋯ | endScoreRand &lt;dbl&gt; | aggs &lt;dbl&gt; | backups &lt;dbl&gt; | endScoreStochBell &lt;dbl&gt; | endScore &lt;dbl&gt; | finalDiff &lt;dbl&gt; | threshDiff &lt;dbl&gt; | threshRew &lt;dbl&gt; | threshEp &lt;int&gt; | threshBack &lt;dbl&gt; |\n",
       "|---|---|---|---|---|---|---|---|---|---|---|---|---|---|---|---|---|---|---|---|---|---|\n",
       "| 204 | 10 | 0.032 | 0.6 | 0 | 16 | 10000 | True | 3701 | 1 | 30300 | ⋯ | 1206.396 | 3 | 30300 | 2154.848 | 3898.605 | 0.2949294 | 0.1753303 | 22.462991 | 20 | 3030 |\n",
       "| 227 | 10 | 0.032 | 0.6 | 1 | 16 | 10000 | True | 3701 | 2 | 30300 | ⋯ | 1325.239 | 3 | 30300 | 2117.443 | 3898.605 | 0.1562354 | 0.2852583 |  9.726253 | 20 | 3030 |\n",
       "\n"
      ],
      "text/plain": [
       "    convN alpha discount epsilon fedP syncBackups stochasticPolicy envSeed\n",
       "204 10    0.032 0.6      0       16   10000       True             3701   \n",
       "227 10    0.032 0.6      1       16   10000       True             3701   \n",
       "    trial sims  ⋯ endScoreRand aggs backups endScoreStochBell endScore\n",
       "204 1     30300 ⋯ 1206.396     3    30300   2154.848          3898.605\n",
       "227 2     30300 ⋯ 1325.239     3    30300   2117.443          3898.605\n",
       "    finalDiff threshDiff threshRew threshEp threshBack\n",
       "204 0.2949294 0.1753303  22.462991 20       3030      \n",
       "227 0.1562354 0.2852583   9.726253 20       3030      "
      ]
     },
     "metadata": {},
     "output_type": "display_data"
    },
    {
     "data": {
      "text/plain": [
       "\n",
       "Call:\n",
       "lm(formula = log10(T) ~ log10(N), data = data)\n",
       "\n",
       "Residuals:\n",
       "      Min        1Q    Median        3Q       Max \n",
       "-0.193037 -0.054101 -0.003994  0.048868  0.307405 \n",
       "\n",
       "Coefficients:\n",
       "            Estimate Std. Error t value Pr(>|t|)    \n",
       "(Intercept)  4.57163    0.02913  156.96   <2e-16 ***\n",
       "log10(N)    -0.85508    0.03950  -21.65   <2e-16 ***\n",
       "---\n",
       "Signif. codes:  0 '***' 0.001 '**' 0.01 '*' 0.05 '.' 0.1 ' ' 1\n",
       "\n",
       "Residual standard error: 0.0921 on 28 degrees of freedom\n",
       "Multiple R-squared:  0.9436,\tAdjusted R-squared:  0.9416 \n",
       "F-statistic: 468.6 on 1 and 28 DF,  p-value: < 2.2e-16\n"
      ]
     },
     "metadata": {},
     "output_type": "display_data"
    },
    {
     "name": "stderr",
     "output_type": "stream",
     "text": [
      "\u001b[1m\u001b[22mSaving 6.67 x 6.67 in image\n"
     ]
    },
    {
     "data": {
      "image/png": "[encoded data removed]",
      "text/plain": [
       "plot without title"
      ]
     },
     "metadata": {
      "image/png": {
       "height": 420,
       "width": 420
      }
     },
     "output_type": "display_data"
    }
   ],
   "source": [
    "K <- 10000\n",
    "title <- paste(\"Linear Speedup for Alpha Adjusted by N with K\", K)\n",
    "data <- dataFull[(dataFull$syncBackups == K | dataFull$syncBackups == -1) & dataFull$threshDiff ** 2 <= 0.1 & dataFull$alpha == A * dataFull$fedP,]\n",
    "head(data,2)\n",
    "\n",
    "N = data$fedP\n",
    "T = data$threshBack\n",
    "model <- lm(log10(T) ~ log10(N), data)\n",
    "summary(model)\n",
    "predict <- cbind(data, predict(model, interval='confidence', newdata=data))\n",
    "\n",
    "\n",
    "p <- ggplot(predict, aes(x=log10(N), y=log10(T)))\n",
    "p <- p + ggtitle(title)\n",
    "p <- p + geom_point(aes(color = alpha)) \n",
    "p <- p + scale_color_gradientn(colors = c(\"black\", \"red\"))\n",
    "p <- p + geom_line(aes(log10(N), fit))\n",
    "p <- p + geom_ribbon(aes(ymin=lwr,ymax=upr), alpha=0.2)\n",
    "p\n",
    "\n",
    "ggsave(filename=gsub(\" \", \"\", paste(\"featuredGraphs/\", title, \".png\"), fixed = TRUE), plot=p, device=\"png\")"
   ]
  },
  {
   "cell_type": "markdown",
   "metadata": {},
   "source": [
    "$D^2 <= (1 – \\alpha)^T + \\frac{\\alpha}{N} + (K-1) \\alpha ^2$\n",
    "\n",
    "Since linear speedup is dependant on scaling alpha by N while getting the same steady state error, using a learning rate $\\alpha' = \\alpha N$, the equation is \n",
    "\n",
    "$D^2 <= (1 – \\alpha N)^T + \\alpha + (K-1) (\\alpha N) ^2$\n",
    "\n",
    "In the limit as K aproaches infinity, the equation should look the same as K=1 and N=1, since this is essentially independantly training N models.\n",
    "\n",
    "$D^2 <= (1 – \\alpha')^T + \\alpha'$"
   ]
  },
  {
   "cell_type": "code",
   "execution_count": 13,
   "metadata": {},
   "outputs": [
    {
     "name": "stdout",
     "output_type": "stream",
     "text": [
      "[1] \"N term model\"\n"
     ]
    },
    {
     "data": {
      "text/plain": [
       "\n",
       "Call:\n",
       "lm(formula = log10(sqDiff) ~ log10(NTerm), data = data)\n",
       "\n",
       "Residuals:\n",
       "     Min       1Q   Median       3Q      Max \n",
       "-1.40217 -0.33129 -0.07058  0.26535  1.58438 \n",
       "\n",
       "Coefficients:\n",
       "             Estimate Std. Error t value Pr(>|t|)    \n",
       "(Intercept)   0.96005    0.02647   36.27   <2e-16 ***\n",
       "log10(NTerm)  1.08748    0.01136   95.71   <2e-16 ***\n",
       "---\n",
       "Signif. codes:  0 '***' 0.001 '**' 0.01 '*' 0.05 '.' 0.1 ' ' 1\n",
       "\n",
       "Residual standard error: 0.4705 on 1918 degrees of freedom\n",
       "Multiple R-squared:  0.8269,\tAdjusted R-squared:  0.8268 \n",
       "F-statistic:  9160 on 1 and 1918 DF,  p-value: < 2.2e-16\n"
      ]
     },
     "metadata": {},
     "output_type": "display_data"
    },
    {
     "name": "stdout",
     "output_type": "stream",
     "text": [
      "[1] \"theoretical model\"\n"
     ]
    },
    {
     "data": {
      "text/plain": [
       "\n",
       "Call:\n",
       "lm(formula = sqDiff ~ NTerm + KTerm, data = data)\n",
       "\n",
       "Residuals:\n",
       "    Min      1Q  Median      3Q     Max \n",
       "-7.7457 -0.1258 -0.0407 -0.0300 24.4566 \n",
       "\n",
       "Coefficients:\n",
       "             Estimate Std. Error t value Pr(>|t|)    \n",
       "(Intercept) 3.009e-02  3.482e-02   0.864    0.388    \n",
       "NTerm       9.068e+00  3.213e-01  28.228   <2e-16 ***\n",
       "KTerm       7.324e-04  2.515e-05  29.115   <2e-16 ***\n",
       "---\n",
       "Signif. codes:  0 '***' 0.001 '**' 0.01 '*' 0.05 '.' 0.1 ' ' 1\n",
       "\n",
       "Residual standard error: 1.383 on 1917 degrees of freedom\n",
       "Multiple R-squared:  0.5364,\tAdjusted R-squared:  0.5359 \n",
       "F-statistic:  1109 on 2 and 1917 DF,  p-value: < 2.2e-16\n"
      ]
     },
     "metadata": {},
     "output_type": "display_data"
    },
    {
     "name": "stdout",
     "output_type": "stream",
     "text": [
      "[1] \"added other variables\"\n"
     ]
    },
    {
     "data": {
      "text/plain": [
       "\n",
       "Call:\n",
       "lm(formula = sqDiff ~ NTerm + KTerm + I(alpha^2) + I(syncBackups - \n",
       "    1) + I((syncBackups - 1) * (alpha^1)) + I((syncBackups - \n",
       "    1) * (alpha^3)) + I((syncBackups - 1)^2 * (alpha^2)), data = data)\n",
       "\n",
       "Residuals:\n",
       "    Min      1Q  Median      3Q     Max \n",
       "-7.7833 -0.0553  0.0336  0.0536 24.3299 \n",
       "\n",
       "Coefficients:\n",
       "                                     Estimate Std. Error t value Pr(>|t|)    \n",
       "(Intercept)                        -5.509e-02  3.521e-02  -1.565 0.117814    \n",
       "NTerm                               6.574e+00  3.720e-01  17.672  < 2e-16 ***\n",
       "KTerm                               4.628e-03  5.735e-04   8.069 1.24e-15 ***\n",
       "I(alpha^2)                          5.645e-01  1.657e-01   3.407 0.000671 ***\n",
       "I(syncBackups - 1)                  2.349e-06  1.030e-05   0.228 0.819620    \n",
       "I((syncBackups - 1) * (alpha^1))    3.276e-04  1.726e-04   1.898 0.057830 .  \n",
       "I((syncBackups - 1) * (alpha^3))    1.212e-03  3.530e-04   3.434 0.000607 ***\n",
       "I((syncBackups - 1)^2 * (alpha^2)) -5.420e-07  2.700e-08 -20.073  < 2e-16 ***\n",
       "---\n",
       "Signif. codes:  0 '***' 0.001 '**' 0.01 '*' 0.05 '.' 0.1 ' ' 1\n",
       "\n",
       "Residual standard error: 1.208 on 1912 degrees of freedom\n",
       "Multiple R-squared:  0.6467,\tAdjusted R-squared:  0.6454 \n",
       "F-statistic:   500 on 7 and 1912 DF,  p-value: < 2.2e-16\n"
      ]
     },
     "metadata": {},
     "output_type": "display_data"
    },
    {
     "data": {
      "image/png": "[encoded data removed]",
      "text/plain": [
       "plot without title"
      ]
     },
     "metadata": {
      "image/png": {
       "height": 420,
       "width": 420
      }
     },
     "output_type": "display_data"
    }
   ],
   "source": [
    "title <- \"full dataset\"\n",
    "data <- dataFull\n",
    "data$syncBackups[data$syncBackups == -1] <- 1\n",
    "\n",
    "ifedP = 1/data$fedP\n",
    "NTerm = data$alpha/data$fedP\n",
    "KTerm = (data$syncBackups - 1) * (data$alpha ** 2)\n",
    "sqDiff = data$finalDiff ** 2\n",
    "\n",
    "Nmodel <- lm(log10(sqDiff) ~ log10(NTerm), data)\n",
    "print(\"N term model\")\n",
    "summary(Nmodel)\n",
    "\n",
    "model <- lm(sqDiff ~ NTerm + KTerm, data)\n",
    "print(\"theoretical model\")\n",
    "summary(model)\n",
    "predict <- cbind(data, predict(model, interval='confidence', newdata=data))\n",
    "\n",
    "print(\"added other variables\")\n",
    "modelCofounded <- lm(sqDiff ~ NTerm + KTerm + I(alpha**2) + I(syncBackups - 1) + I((syncBackups - 1) * (alpha ** 1)) + I((syncBackups - 1) * (alpha ** 3)) + I((syncBackups - 1)**2 * (alpha ** 2)), data)\n",
    "summary(modelCofounded)\n",
    "\n",
    "\n",
    "p <- ggplot(predict, aes(x=NTerm, y=KTerm))\n",
    "p <- p + ggtitle(title)\n",
    "p <- p + geom_point(aes(color = log(sqDiff))) \n",
    "p <- p + scale_color_gradientn(colors = c(\"black\", \"cyan\"))\n",
    "p"
   ]
  },
  {
   "cell_type": "code",
   "execution_count": 30,
   "metadata": {},
   "outputs": [
    {
     "name": "stdout",
     "output_type": "stream",
     "text": [
      "[1] \"N term model\"\n"
     ]
    },
    {
     "data": {
      "text/plain": [
       "\n",
       "Call:\n",
       "lm(formula = log10(sqDiff) ~ log10(NTerm), data = data)\n",
       "\n",
       "Residuals:\n",
       "     Min       1Q   Median       3Q      Max \n",
       "-1.40217 -0.33129 -0.07058  0.26535  1.58438 \n",
       "\n",
       "Coefficients:\n",
       "             Estimate Std. Error t value Pr(>|t|)    \n",
       "(Intercept)   0.96005    0.02647   36.27   <2e-16 ***\n",
       "log10(NTerm)  1.08748    0.01136   95.71   <2e-16 ***\n",
       "---\n",
       "Signif. codes:  0 '***' 0.001 '**' 0.01 '*' 0.05 '.' 0.1 ' ' 1\n",
       "\n",
       "Residual standard error: 0.4705 on 1918 degrees of freedom\n",
       "Multiple R-squared:  0.8269,\tAdjusted R-squared:  0.8268 \n",
       "F-statistic:  9160 on 1 and 1918 DF,  p-value: < 2.2e-16\n"
      ]
     },
     "metadata": {},
     "output_type": "display_data"
    },
    {
     "name": "stdout",
     "output_type": "stream",
     "text": [
      "[1] \"theoretical model\"\n"
     ]
    },
    {
     "data": {
      "text/plain": [
       "\n",
       "Call:\n",
       "lm(formula = sqDiff ~ NTerm + KTerm, data = data)\n",
       "\n",
       "Residuals:\n",
       "    Min      1Q  Median      3Q     Max \n",
       "-7.7457 -0.1258 -0.0407 -0.0300 24.4566 \n",
       "\n",
       "Coefficients:\n",
       "             Estimate Std. Error t value Pr(>|t|)    \n",
       "(Intercept) 3.009e-02  3.482e-02   0.864    0.388    \n",
       "NTerm       9.068e+00  3.213e-01  28.228   <2e-16 ***\n",
       "KTerm       7.324e-04  2.515e-05  29.115   <2e-16 ***\n",
       "---\n",
       "Signif. codes:  0 '***' 0.001 '**' 0.01 '*' 0.05 '.' 0.1 ' ' 1\n",
       "\n",
       "Residual standard error: 1.383 on 1917 degrees of freedom\n",
       "Multiple R-squared:  0.5364,\tAdjusted R-squared:  0.5359 \n",
       "F-statistic:  1109 on 2 and 1917 DF,  p-value: < 2.2e-16\n"
      ]
     },
     "metadata": {},
     "output_type": "display_data"
    },
    {
     "name": "stdout",
     "output_type": "stream",
     "text": [
      "[1] \"added other variables\"\n"
     ]
    },
    {
     "data": {
      "text/plain": [
       "\n",
       "Call:\n",
       "lm(formula = sqDiff ~ NTerm + KTerm + I(alpha^2) + I(syncBackups - \n",
       "    1) + I((syncBackups - 1) * (alpha^1)) + I((syncBackups - \n",
       "    1) * (alpha^3)) + I((syncBackups - 1)^2 * (alpha^2)), data = data)\n",
       "\n",
       "Residuals:\n",
       "    Min      1Q  Median      3Q     Max \n",
       "-7.7833 -0.0553  0.0336  0.0536 24.3299 \n",
       "\n",
       "Coefficients:\n",
       "                                     Estimate Std. Error t value Pr(>|t|)    \n",
       "(Intercept)                        -5.509e-02  3.521e-02  -1.565 0.117814    \n",
       "NTerm                               6.574e+00  3.720e-01  17.672  < 2e-16 ***\n",
       "KTerm                               4.628e-03  5.735e-04   8.069 1.24e-15 ***\n",
       "I(alpha^2)                          5.645e-01  1.657e-01   3.407 0.000671 ***\n",
       "I(syncBackups - 1)                  2.349e-06  1.030e-05   0.228 0.819620    \n",
       "I((syncBackups - 1) * (alpha^1))    3.276e-04  1.726e-04   1.898 0.057830 .  \n",
       "I((syncBackups - 1) * (alpha^3))    1.212e-03  3.530e-04   3.434 0.000607 ***\n",
       "I((syncBackups - 1)^2 * (alpha^2)) -5.420e-07  2.700e-08 -20.073  < 2e-16 ***\n",
       "---\n",
       "Signif. codes:  0 '***' 0.001 '**' 0.01 '*' 0.05 '.' 0.1 ' ' 1\n",
       "\n",
       "Residual standard error: 1.208 on 1912 degrees of freedom\n",
       "Multiple R-squared:  0.6467,\tAdjusted R-squared:  0.6454 \n",
       "F-statistic:   500 on 7 and 1912 DF,  p-value: < 2.2e-16\n"
      ]
     },
     "metadata": {},
     "output_type": "display_data"
    },
    {
     "data": {
      "text/html": [
       "<style>\n",
       ".list-inline {list-style: none; margin:0; padding: 0}\n",
       ".list-inline>li {display: inline-block}\n",
       ".list-inline>li:not(:last-child)::after {content: \"\\00b7\"; padding: 0 .5ex}\n",
       "</style>\n",
       "<ol class=list-inline><li>0.1</li><li>0.16</li><li>0.2</li><li>0.32</li><li>0.5</li><li>0.8</li><li>1</li></ol>\n"
      ],
      "text/latex": [
       "\\begin{enumerate*}\n",
       "\\item 0.1\n",
       "\\item 0.16\n",
       "\\item 0.2\n",
       "\\item 0.32\n",
       "\\item 0.5\n",
       "\\item 0.8\n",
       "\\item 1\n",
       "\\end{enumerate*}\n"
      ],
      "text/markdown": [
       "1. 0.1\n",
       "2. 0.16\n",
       "3. 0.2\n",
       "4. 0.32\n",
       "5. 0.5\n",
       "6. 0.8\n",
       "7. 1\n",
       "\n",
       "\n"
      ],
      "text/plain": [
       "[1] 0.10 0.16 0.20 0.32 0.50 0.80 1.00"
      ]
     },
     "metadata": {},
     "output_type": "display_data"
    },
    {
     "data": {
      "text/html": [
       "16"
      ],
      "text/latex": [
       "16"
      ],
      "text/markdown": [
       "16"
      ],
      "text/plain": [
       "[1] 16"
      ]
     },
     "metadata": {},
     "output_type": "display_data"
    },
    {
     "data": {
      "text/html": [
       "<style>\n",
       ".list-inline {list-style: none; margin:0; padding: 0}\n",
       ".list-inline>li {display: inline-block}\n",
       ".list-inline>li:not(:last-child)::after {content: \"\\00b7\"; padding: 0 .5ex}\n",
       "</style>\n",
       "<ol class=list-inline><li>1000</li><li>10000</li></ol>\n"
      ],
      "text/latex": [
       "\\begin{enumerate*}\n",
       "\\item 1000\n",
       "\\item 10000\n",
       "\\end{enumerate*}\n"
      ],
      "text/markdown": [
       "1. 1000\n",
       "2. 10000\n",
       "\n",
       "\n"
      ],
      "text/plain": [
       "[1]  1000 10000"
      ]
     },
     "metadata": {},
     "output_type": "display_data"
    },
    {
     "name": "stdout",
     "output_type": "stream",
     "text": [
      "[1] \"N = 16, K != 1\"\n"
     ]
    },
    {
     "data": {
      "text/plain": [
       "\n",
       "Call:\n",
       "lm(formula = log10(sqDiffN16) ~ log10(NTermN16), data = predictN16)\n",
       "\n",
       "Residuals:\n",
       "     Min       1Q   Median       3Q      Max \n",
       "-0.70535 -0.15056  0.01615  0.14078  0.46045 \n",
       "\n",
       "Coefficients:\n",
       "                Estimate Std. Error t value Pr(>|t|)    \n",
       "(Intercept)      2.38386    0.13978   17.05   <2e-16 ***\n",
       "log10(NTermN16)  1.36157    0.08114   16.78   <2e-16 ***\n",
       "---\n",
       "Signif. codes:  0 '***' 0.001 '**' 0.01 '*' 0.05 '.' 0.1 ' ' 1\n",
       "\n",
       "Residual standard error: 0.2557 on 82 degrees of freedom\n",
       "Multiple R-squared:  0.7745,\tAdjusted R-squared:  0.7717 \n",
       "F-statistic: 281.6 on 1 and 82 DF,  p-value: < 2.2e-16\n"
      ]
     },
     "metadata": {},
     "output_type": "display_data"
    },
    {
     "name": "stderr",
     "output_type": "stream",
     "text": [
      "Warning message:\n",
      "\"'newdata' had 1920 rows but variables found have 84 rows\"\n"
     ]
    },
    {
     "name": "stdout",
     "output_type": "stream",
     "text": [
      "[1] \"New equation N = 16, K != 1\"\n"
     ]
    },
    {
     "data": {
      "text/plain": [
       "\n",
       "Call:\n",
       "lm(formula = log10(sqDiffN16) ~ I(log10(predictN16$syncBackups - \n",
       "    1)) + I(log10(predictN16$alpha)) + I(1/(predictN16$fedP * \n",
       "    predictN16$alpha * (predictN16$syncBackups - 1))), data = predictN16)\n",
       "\n",
       "Residuals:\n",
       "     Min       1Q   Median       3Q      Max \n",
       "-0.68133 -0.14511  0.01783  0.14868  0.47528 \n",
       "\n",
       "Coefficients:\n",
       "                                                                          Estimate\n",
       "(Intercept)                                                                0.38100\n",
       "I(log10(predictN16$syncBackups - 1))                                       0.10349\n",
       "I(log10(predictN16$alpha))                                                 1.51527\n",
       "I(1/(predictN16$fedP * predictN16$alpha * (predictN16$syncBackups - 1))) 536.78012\n",
       "                                                                         Std. Error\n",
       "(Intercept)                                                                 0.31765\n",
       "I(log10(predictN16$syncBackups - 1))                                        0.08958\n",
       "I(log10(predictN16$alpha))                                                  0.11900\n",
       "I(1/(predictN16$fedP * predictN16$alpha * (predictN16$syncBackups - 1)))  305.94715\n",
       "                                                                         t value\n",
       "(Intercept)                                                                1.199\n",
       "I(log10(predictN16$syncBackups - 1))                                       1.155\n",
       "I(log10(predictN16$alpha))                                                12.733\n",
       "I(1/(predictN16$fedP * predictN16$alpha * (predictN16$syncBackups - 1)))   1.754\n",
       "                                                                         Pr(>|t|)\n",
       "(Intercept)                                                                0.2339\n",
       "I(log10(predictN16$syncBackups - 1))                                       0.2514\n",
       "I(log10(predictN16$alpha))                                                 <2e-16\n",
       "I(1/(predictN16$fedP * predictN16$alpha * (predictN16$syncBackups - 1)))   0.0832\n",
       "                                                                            \n",
       "(Intercept)                                                                 \n",
       "I(log10(predictN16$syncBackups - 1))                                        \n",
       "I(log10(predictN16$alpha))                                               ***\n",
       "I(1/(predictN16$fedP * predictN16$alpha * (predictN16$syncBackups - 1))) .  \n",
       "---\n",
       "Signif. codes:  0 '***' 0.001 '**' 0.01 '*' 0.05 '.' 0.1 ' ' 1\n",
       "\n",
       "Residual standard error: 0.2538 on 80 degrees of freedom\n",
       "Multiple R-squared:  0.7832,\tAdjusted R-squared:  0.775 \n",
       "F-statistic: 96.32 on 3 and 80 DF,  p-value: < 2.2e-16\n"
      ]
     },
     "metadata": {},
     "output_type": "display_data"
    },
    {
     "data": {
      "image/png": "[encoded data removed]",
      "text/plain": [
       "plot without title"
      ]
     },
     "metadata": {
      "image/png": {
       "height": 420,
       "width": 420
      }
     },
     "output_type": "display_data"
    }
   ],
   "source": [
    "title <- \"full dataset\"\n",
    "data <- dataFull\n",
    "data$syncBackups[data$syncBackups == -1] <- 1\n",
    "\n",
    "ifedP = 1/data$fedP\n",
    "NTerm = data$alpha/data$fedP\n",
    "KTerm = (data$syncBackups - 1) * (data$alpha ** 2)\n",
    "sqDiff = data$finalDiff ** 2\n",
    "\n",
    "Nmodel <- lm(log10(sqDiff) ~ log10(NTerm), data)\n",
    "print(\"N term model\")\n",
    "summary(Nmodel)\n",
    "\n",
    "model <- lm(sqDiff ~ NTerm + KTerm, data)\n",
    "print(\"theoretical model\")\n",
    "summary(model)\n",
    "predict <- cbind(data, predict(model, interval='confidence', newdata=data))\n",
    "\n",
    "print(\"added other variables\")\n",
    "modelCofounded <- lm(sqDiff ~ NTerm + KTerm + I(alpha**2) + I(syncBackups - 1) + I((syncBackups - 1) * (alpha ** 1)) + I((syncBackups - 1) * (alpha ** 3)) + I((syncBackups - 1)**2 * (alpha ** 2)), data)\n",
    "summary(modelCofounded)\n",
    "\n",
    "\n",
    "predictN16 <- predict[predict$fedP == 16 & predict$syncBackups != 1 & predict$syncBackups >= 1000 & predict$alpha >= 0.1, ]\n",
    "sort(unique(predictN16$alpha))\n",
    "sort(unique(predictN16$fedP))\n",
    "sort(unique(predictN16$syncBackups))\n",
    "\n",
    "NTermN16 = predictN16$alpha/predictN16$fedP\n",
    "KTermN16 = (predictN16$syncBackups - 1) * (predictN16$alpha ** 2)\n",
    "sqDiffN16 = predictN16$finalDiff ** 2\n",
    "\n",
    "p <- ggplot(predictN16, aes(x=log10(KTermN16), y=log10(sqDiffN16)))\n",
    "p <- p + ggtitle(title)\n",
    "p <- p + geom_point(aes(color = log10(sqDiffN16))) \n",
    "p <- p + scale_color_gradientn(colors = c(\"black\", \"blue\"))\n",
    "p\n",
    "\n",
    "model <- lm(log10(sqDiffN16) ~ log10(NTermN16), predictN16)\n",
    "print(\"N = 16, K != 1\")\n",
    "summary(model)\n",
    "predictN16 <- cbind(predictN16, predict(model, interval='confidence', newdata=data))\n",
    "\n",
    "model <- lm(log10(sqDiffN16) ~ I(log10(predictN16$syncBackups - 1)) + I(log10(predictN16$alpha)) + I(1/(predictN16$fedP * predictN16$alpha * (predictN16$syncBackups - 1))), predictN16)\n",
    "print(\"New equation N = 16, K != 1\")\n",
    "summary(model)\n"
   ]
  },
  {
   "cell_type": "markdown",
   "metadata": {},
   "source": [
    "Linear Space K 1000 to 10000\n",
    "Larger N 256\n",
    "Alpha 0.1 to 0.6\n",
    "\n",
    "K might not be tight <= 1\n",
    "\n",
    "Reduce the fraction term to just get an isolated log of Kterm"
   ]
  },
  {
   "cell_type": "code",
   "execution_count": null,
   "metadata": {},
   "outputs": [],
   "source": [
    "dataK1 <- dataFull[(dataFull$syncBackups == 1 | dataFull$syncBackups == -1),]\n",
    "NmodelK1 <- lm(finalDiff ** 2 ~ I(alpha/fedP) - 1, dataK1)\n",
    "print(\"N term model K=1\")\n",
    "summary(NmodelK1)\n",
    "\n",
    "predictFromK1 <- cbind(data, predict(NmodelK1, interval='confidence', newdata=data))\n",
    "\n",
    "model <- lm(log10(finalDiff ** 2 - fit) ~ log10(KTerm+0.0001), predictFromK1)\n",
    "print(\"theoretical model remove NTerm\")\n",
    "summary(model)"
   ]
  },
  {
   "cell_type": "code",
   "execution_count": null,
   "metadata": {},
   "outputs": [],
   "source": []
  }
 ],
 "metadata": {
  "kernelspec": {
   "display_name": "R",
   "language": "R",
   "name": "ir"
  },
  "language_info": {
   "codemirror_mode": "r",
   "file_extension": ".r",
   "mimetype": "text/x-r-source",
   "name": "R",
   "pygments_lexer": "r",
   "version": "4.2.2"
  },
  "vscode": {
   "interpreter": {
    "hash": "3b839153e13da8333e687d0fea12db3ad5ee8992974d226aeda93e4063c64179"
   }
  }
 },
 "nbformat": 4,
 "nbformat_minor": 4
}
