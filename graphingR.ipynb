{
 "cells": [
  {
   "cell_type": "code",
   "execution_count": 1,
   "metadata": {
    "scrolled": true,
    "vscode": {
     "languageId": "r"
    }
   },
   "outputs": [],
   "source": [
    "# install.packages(\"tidyverse\")\n",
    "library(ggplot2)"
   ]
  },
  {
   "cell_type": "code",
   "execution_count": 2,
   "metadata": {
    "vscode": {
     "languageId": "r"
    }
   },
   "outputs": [],
   "source": [
    "# functions\n",
    "lm_eqn <- function(m){\n",
    "    eq <- substitute(italic(y) == a + b * italic(x)*\",\"~~italic(r)^2~\"=\"~r2, \n",
    "         list(a = format(unname(coef(m)[1]), digits = 5),\n",
    "              b = format(unname(coef(m)[2]), digits = 5),\n",
    "             r2 = format(summary(m)$r.squared, digits = 3)))\n",
    "    as.character(as.expression(eq));\n",
    "}"
   ]
  },
  {
   "cell_type": "code",
   "execution_count": 3,
   "metadata": {
    "vscode": {
     "languageId": "r"
    }
   },
   "outputs": [],
   "source": [
    "dataFull <- read.csv(\"mdpv4.csv\", header=TRUE)\n",
    "dataFull <- dataFull[dataFull$alpha <= 1, ]"
   ]
  },
  {
   "cell_type": "code",
   "execution_count": 4,
   "metadata": {
    "vscode": {
     "languageId": "r"
    }
   },
   "outputs": [],
   "source": [
    "# data0 <- data[data$trial == 0,]\n",
    "# data1 <- data[data$trial == 1,]\n",
    "# data2 <- data[data$trial == 2,]\n",
    "\n",
    "data <- dataFull[dataFull$envSeed == 3701 & dataFull$alpha == 0.4 & dataFull$syncBackups == 1,]"
   ]
  },
  {
   "cell_type": "code",
   "execution_count": 5,
   "metadata": {
    "vscode": {
     "languageId": "r"
    }
   },
   "outputs": [
    {
     "data": {
      "text/html": [
       "<table class=\"dataframe\">\n",
       "<caption>A data.frame: 2 × 26</caption>\n",
       "<thead>\n",
       "\t<tr><th></th><th scope=col>convN</th><th scope=col>alpha</th><th scope=col>discount</th><th scope=col>epsilon</th><th scope=col>fedP</th><th scope=col>syncBackups</th><th scope=col>stochasticPolicy</th><th scope=col>envSeed</th><th scope=col>trial</th><th scope=col>sims</th><th scope=col>⋯</th><th scope=col>aggs</th><th scope=col>backups</th><th scope=col>endScoreStochBell</th><th scope=col>endScore</th><th scope=col>finalDiff</th><th scope=col>finalDiffAvg</th><th scope=col>threshDiff</th><th scope=col>threshRew</th><th scope=col>threshEp</th><th scope=col>threshBack</th></tr>\n",
       "\t<tr><th></th><th scope=col>&lt;int&gt;</th><th scope=col>&lt;dbl&gt;</th><th scope=col>&lt;dbl&gt;</th><th scope=col>&lt;dbl&gt;</th><th scope=col>&lt;int&gt;</th><th scope=col>&lt;int&gt;</th><th scope=col>&lt;chr&gt;</th><th scope=col>&lt;int&gt;</th><th scope=col>&lt;int&gt;</th><th scope=col>&lt;dbl&gt;</th><th scope=col>⋯</th><th scope=col>&lt;dbl&gt;</th><th scope=col>&lt;dbl&gt;</th><th scope=col>&lt;dbl&gt;</th><th scope=col>&lt;dbl&gt;</th><th scope=col>&lt;dbl&gt;</th><th scope=col>&lt;dbl&gt;</th><th scope=col>&lt;dbl&gt;</th><th scope=col>&lt;dbl&gt;</th><th scope=col>&lt;int&gt;</th><th scope=col>&lt;dbl&gt;</th></tr>\n",
       "</thead>\n",
       "<tbody>\n",
       "\t<tr><th scope=row>181</th><td>10</td><td>0.4</td><td>0.6</td><td>0</td><td>4</td><td>1</td><td>True</td><td>3701</td><td>0</td><td>30300</td><td>⋯</td><td>30294</td><td>30300</td><td>2119.566</td><td>4074.901</td><td>0.4650989</td><td>0.5557704</td><td>0.2937817</td><td>22.51547</td><td>10</td><td>2020</td></tr>\n",
       "\t<tr><th scope=row>296</th><td>10</td><td>0.4</td><td>0.6</td><td>0</td><td>8</td><td>1</td><td>True</td><td>3701</td><td>1</td><td>30300</td><td>⋯</td><td>30235</td><td>30300</td><td>2105.508</td><td>3898.605</td><td>0.5170388</td><td>0.4164114</td><td>0.2622585</td><td>23.96695</td><td> 0</td><td>1010</td></tr>\n",
       "</tbody>\n",
       "</table>\n"
      ],
      "text/latex": [
       "A data.frame: 2 × 26\n",
       "\\begin{tabular}{r|lllllllllllllllllllll}\n",
       "  & convN & alpha & discount & epsilon & fedP & syncBackups & stochasticPolicy & envSeed & trial & sims & ⋯ & aggs & backups & endScoreStochBell & endScore & finalDiff & finalDiffAvg & threshDiff & threshRew & threshEp & threshBack\\\\\n",
       "  & <int> & <dbl> & <dbl> & <dbl> & <int> & <int> & <chr> & <int> & <int> & <dbl> & ⋯ & <dbl> & <dbl> & <dbl> & <dbl> & <dbl> & <dbl> & <dbl> & <dbl> & <int> & <dbl>\\\\\n",
       "\\hline\n",
       "\t181 & 10 & 0.4 & 0.6 & 0 & 4 & 1 & True & 3701 & 0 & 30300 & ⋯ & 30294 & 30300 & 2119.566 & 4074.901 & 0.4650989 & 0.5557704 & 0.2937817 & 22.51547 & 10 & 2020\\\\\n",
       "\t296 & 10 & 0.4 & 0.6 & 0 & 8 & 1 & True & 3701 & 1 & 30300 & ⋯ & 30235 & 30300 & 2105.508 & 3898.605 & 0.5170388 & 0.4164114 & 0.2622585 & 23.96695 &  0 & 1010\\\\\n",
       "\\end{tabular}\n"
      ],
      "text/markdown": [
       "\n",
       "A data.frame: 2 × 26\n",
       "\n",
       "| <!--/--> | convN &lt;int&gt; | alpha &lt;dbl&gt; | discount &lt;dbl&gt; | epsilon &lt;dbl&gt; | fedP &lt;int&gt; | syncBackups &lt;int&gt; | stochasticPolicy &lt;chr&gt; | envSeed &lt;int&gt; | trial &lt;int&gt; | sims &lt;dbl&gt; | ⋯ ⋯ | aggs &lt;dbl&gt; | backups &lt;dbl&gt; | endScoreStochBell &lt;dbl&gt; | endScore &lt;dbl&gt; | finalDiff &lt;dbl&gt; | finalDiffAvg &lt;dbl&gt; | threshDiff &lt;dbl&gt; | threshRew &lt;dbl&gt; | threshEp &lt;int&gt; | threshBack &lt;dbl&gt; |\n",
       "|---|---|---|---|---|---|---|---|---|---|---|---|---|---|---|---|---|---|---|---|---|---|\n",
       "| 181 | 10 | 0.4 | 0.6 | 0 | 4 | 1 | True | 3701 | 0 | 30300 | ⋯ | 30294 | 30300 | 2119.566 | 4074.901 | 0.4650989 | 0.5557704 | 0.2937817 | 22.51547 | 10 | 2020 |\n",
       "| 296 | 10 | 0.4 | 0.6 | 0 | 8 | 1 | True | 3701 | 1 | 30300 | ⋯ | 30235 | 30300 | 2105.508 | 3898.605 | 0.5170388 | 0.4164114 | 0.2622585 | 23.96695 |  0 | 1010 |\n",
       "\n"
      ],
      "text/plain": [
       "    convN alpha discount epsilon fedP syncBackups stochasticPolicy envSeed\n",
       "181 10    0.4   0.6      0       4    1           True             3701   \n",
       "296 10    0.4   0.6      0       8    1           True             3701   \n",
       "    trial sims  ⋯ aggs  backups endScoreStochBell endScore finalDiff\n",
       "181 0     30300 ⋯ 30294 30300   2119.566          4074.901 0.4650989\n",
       "296 1     30300 ⋯ 30235 30300   2105.508          3898.605 0.5170388\n",
       "    finalDiffAvg threshDiff threshRew threshEp threshBack\n",
       "181 0.5557704    0.2937817  22.51547  10       2020      \n",
       "296 0.4164114    0.2622585  23.96695   0       1010      "
      ]
     },
     "metadata": {},
     "output_type": "display_data"
    },
    {
     "name": "stdout",
     "output_type": "stream",
     "text": [
      "[1] \"rows\"\n"
     ]
    },
    {
     "data": {
      "text/html": [
       "1920"
      ],
      "text/latex": [
       "1920"
      ],
      "text/markdown": [
       "1920"
      ],
      "text/plain": [
       "[1] 1920"
      ]
     },
     "metadata": {},
     "output_type": "display_data"
    },
    {
     "name": "stdout",
     "output_type": "stream",
     "text": [
      "[1] \"cols\"\n"
     ]
    },
    {
     "data": {
      "text/html": [
       "26"
      ],
      "text/latex": [
       "26"
      ],
      "text/markdown": [
       "26"
      ],
      "text/plain": [
       "[1] 26"
      ]
     },
     "metadata": {},
     "output_type": "display_data"
    },
    {
     "name": "stdout",
     "output_type": "stream",
     "text": [
      "[1] \"unique alpha\"\n"
     ]
    },
    {
     "data": {
      "text/html": [
       "<style>\n",
       ".list-inline {list-style: none; margin:0; padding: 0}\n",
       ".list-inline>li {display: inline-block}\n",
       ".list-inline>li:not(:last-child)::after {content: \"\\00b7\"; padding: 0 .5ex}\n",
       "</style>\n",
       "<ol class=list-inline><li>0.001</li><li>0.002</li><li>0.004</li><li>0.005</li><li>0.008</li><li>0.01</li><li>0.016</li><li>0.02</li><li>0.032</li><li>0.04</li><li>0.05</li><li>0.08</li><li>0.1</li><li>0.16</li><li>0.2</li><li>0.32</li><li>0.4</li><li>0.5</li><li>0.8</li><li>1</li></ol>\n"
      ],
      "text/latex": [
       "\\begin{enumerate*}\n",
       "\\item 0.001\n",
       "\\item 0.002\n",
       "\\item 0.004\n",
       "\\item 0.005\n",
       "\\item 0.008\n",
       "\\item 0.01\n",
       "\\item 0.016\n",
       "\\item 0.02\n",
       "\\item 0.032\n",
       "\\item 0.04\n",
       "\\item 0.05\n",
       "\\item 0.08\n",
       "\\item 0.1\n",
       "\\item 0.16\n",
       "\\item 0.2\n",
       "\\item 0.32\n",
       "\\item 0.4\n",
       "\\item 0.5\n",
       "\\item 0.8\n",
       "\\item 1\n",
       "\\end{enumerate*}\n"
      ],
      "text/markdown": [
       "1. 0.001\n",
       "2. 0.002\n",
       "3. 0.004\n",
       "4. 0.005\n",
       "5. 0.008\n",
       "6. 0.01\n",
       "7. 0.016\n",
       "8. 0.02\n",
       "9. 0.032\n",
       "10. 0.04\n",
       "11. 0.05\n",
       "12. 0.08\n",
       "13. 0.1\n",
       "14. 0.16\n",
       "15. 0.2\n",
       "16. 0.32\n",
       "17. 0.4\n",
       "18. 0.5\n",
       "19. 0.8\n",
       "20. 1\n",
       "\n",
       "\n"
      ],
      "text/plain": [
       " [1] 0.001 0.002 0.004 0.005 0.008 0.010 0.016 0.020 0.032 0.040 0.050 0.080\n",
       "[13] 0.100 0.160 0.200 0.320 0.400 0.500 0.800 1.000"
      ]
     },
     "metadata": {},
     "output_type": "display_data"
    },
    {
     "name": "stdout",
     "output_type": "stream",
     "text": [
      "[1] \"random score 1275.32935695992 bellman score 3913.43256758843\"\n"
     ]
    }
   ],
   "source": [
    "head(data, 2)\n",
    "print(\"rows\")\n",
    "nrow(dataFull)\n",
    "print(\"cols\")\n",
    "ncol(dataFull)\n",
    "print(\"unique alpha\")\n",
    "sort(unique(dataFull$alpha))\n",
    "\n",
    "print(paste(\"random score\", head(data, 1)$endScoreRand, \"bellman score\", head(data, 1)$endScoreBell))"
   ]
  },
  {
   "cell_type": "raw",
   "metadata": {},
   "source": [
    "for N = 1, show D^2 over time, 5 orders of magnitude decrease from initial distance.\n",
    "training curve for N = 1-16\n",
    "\n",
    "Multiple trajectories with same initial condition average curve to smooth if needed.\n",
    "\n",
    "y axis D^2 x axis N. loglog plot\n",
    "\n",
    "Fix epsilon error find first T where D^2 < error\n",
    "\n",
    "log y = log c - m log x\n",
    "log log better to distinguish 1/n and 1/n^2\n",
    "\n",
    "linear speed up only if alpha is increased by a factor of N"
   ]
  },
  {
   "cell_type": "code",
   "execution_count": 6,
   "metadata": {
    "vscode": {
     "languageId": "r"
    }
   },
   "outputs": [
    {
     "data": {
      "text/plain": [
       "\n",
       "Call:\n",
       "lm(formula = log10(sqDiff) ~ log10(N), data = data)\n",
       "\n",
       "Residuals:\n",
       "     Min       1Q   Median       3Q      Max \n",
       "-0.23241 -0.03884  0.02659  0.05395  0.18134 \n",
       "\n",
       "Coefficients:\n",
       "            Estimate Std. Error t value Pr(>|t|)    \n",
       "(Intercept) -1.53725    0.03529  -43.57   <2e-16 ***\n",
       "log10(N)    -0.93108    0.04785  -19.46   <2e-16 ***\n",
       "---\n",
       "Signif. codes:  0 '***' 0.001 '**' 0.01 '*' 0.05 '.' 0.1 ' ' 1\n",
       "\n",
       "Residual standard error: 0.1116 on 28 degrees of freedom\n",
       "Multiple R-squared:  0.9311,\tAdjusted R-squared:  0.9287 \n",
       "F-statistic: 378.6 on 1 and 28 DF,  p-value: < 2.2e-16\n"
      ]
     },
     "metadata": {},
     "output_type": "display_data"
    },
    {
     "data": {
      "image/png": "[encoded data removed]",
      "text/plain": [
       "plot without title"
      ]
     },
     "metadata": {
      "image/png": {
       "height": 420,
       "width": 420
      }
     },
     "output_type": "display_data"
    }
   ],
   "source": [
    "title <- \"Steady State Error with Epsilon Greedy Exploration\"\n",
    "data <- dataFull[dataFull$alpha == 0.01 & (dataFull$syncBackups == 1 | dataFull$syncBackups == -1),]\n",
    "N = data$fedP\n",
    "sqDiff = data$finalDiffAvg ** 2\n",
    "model <- lm(log10(sqDiff) ~ log10(N), data)\n",
    "summary(model)\n",
    "predict <- cbind(data, predict(model, interval='confidence', newdata=data))\n",
    "\n",
    "p <- ggplot(predict, aes(x=log10(N), y=log10(finalDiffAvg ** 2)))\n",
    "p <- p + ggtitle(title)\n",
    "p <- p + theme(text = element_text(size = 16))\n",
    "p <- p + xlab(\"N Log Scale\") + ylab(\"Error Log Scale\")\n",
    "p <- p + geom_point(aes(colour = epsilon))\n",
    "p <- p + scale_color_gradientn(\"Epsilon\", colors = c(\"black\", \"green\"))\n",
    "p <- p + geom_line(aes(log10(fedP), fit))\n",
    "p <- p + geom_ribbon(aes(ymin=lwr,ymax=upr), alpha=0.2)\n",
    "p"
   ]
  },
  {
   "cell_type": "code",
   "execution_count": 7,
   "metadata": {
    "vscode": {
     "languageId": "r"
    }
   },
   "outputs": [
    {
     "name": "stderr",
     "output_type": "stream",
     "text": [
      "Warning message in eval(expr, envir, enclos):\n",
      "\"NaNs produced\"\n"
     ]
    },
    {
     "data": {
      "text/plain": [
       "\n",
       "Call:\n",
       "lm(formula = log10(sqDiff) ~ log10(N) * syncLog, data = data)\n",
       "\n",
       "Residuals:\n",
       "     Min       1Q   Median       3Q      Max \n",
       "-0.30507 -0.13137 -0.00695  0.14150  0.32621 \n",
       "\n",
       "Coefficients:\n",
       "                 Estimate Std. Error t value Pr(>|t|)    \n",
       "(Intercept)      -1.51861    0.04566 -33.257   <2e-16 ***\n",
       "log10(N)         -1.13915    0.05940 -19.178   <2e-16 ***\n",
       "syncLog          -0.02099    0.02125  -0.988    0.325    \n",
       "log10(N):syncLog  0.26305    0.02676   9.832   <2e-16 ***\n",
       "---\n",
       "Signif. codes:  0 '***' 0.001 '**' 0.01 '*' 0.05 '.' 0.1 ' ' 1\n",
       "\n",
       "Residual standard error: 0.1625 on 122 degrees of freedom\n",
       "Multiple R-squared:  0.832,\tAdjusted R-squared:  0.8278 \n",
       "F-statistic: 201.4 on 3 and 122 DF,  p-value: < 2.2e-16\n"
      ]
     },
     "metadata": {},
     "output_type": "display_data"
    },
    {
     "data": {
      "image/png": "[encoded data removed]",
      "text/plain": [
       "plot without title"
      ]
     },
     "metadata": {
      "image/png": {
       "height": 420,
       "width": 420
      }
     },
     "output_type": "display_data"
    }
   ],
   "source": [
    "title <- \"Steady State Error by Sync Frequency\"\n",
    "data <- dataFull[dataFull$alpha == 0.01,]\n",
    "N = data$fedP\n",
    "sqDiff = data$finalDiffAvg ** 2\n",
    "syncLog <- log10(data$syncBackups)\n",
    "syncLog[is.nan(syncLog)] <- 0\n",
    "model <- lm(log10(sqDiff) ~ log10(N)*syncLog, data)\n",
    "summary(model)\n",
    "predict <- cbind(data, predict(model, interval='confidence', newdata=data))\n",
    "\n",
    "p <- ggplot(predict, aes(x=log10(N), y=log10(finalDiffAvg ** 2)))\n",
    "p <- p + ggtitle(title)\n",
    "p <- p + theme(text = element_text(size = 16))\n",
    "p <- p + xlab(\"N Log Scale\") + ylab(\"Error Log Scale\")\n",
    "p <- p + geom_point(aes(color = syncLog))\n",
    "p <- p + scale_color_gradientn(\"Log K\", colors = c(\"black\", \"cyan\"))\n",
    "p"
   ]
  },
  {
   "cell_type": "code",
   "execution_count": 8,
   "metadata": {
    "vscode": {
     "languageId": "r"
    }
   },
   "outputs": [
    {
     "data": {
      "text/plain": [
       "\n",
       "Call:\n",
       "lm(formula = log10(sqDiff) ~ log10(N) + log10(alpha), data = data)\n",
       "\n",
       "Residuals:\n",
       "     Min       1Q   Median       3Q      Max \n",
       "-0.34524 -0.08685 -0.02131  0.05680  0.62837 \n",
       "\n",
       "Coefficients:\n",
       "              Estimate Std. Error t value Pr(>|t|)    \n",
       "(Intercept)   0.567202   0.017994   31.52   <2e-16 ***\n",
       "log10(N)     -1.012145   0.017479  -57.91   <2e-16 ***\n",
       "log10(alpha)  0.994491   0.007765  128.08   <2e-16 ***\n",
       "---\n",
       "Signif. codes:  0 '***' 0.001 '**' 0.01 '*' 0.05 '.' 0.1 ' ' 1\n",
       "\n",
       "Residual standard error: 0.1467 on 429 degrees of freedom\n",
       "Multiple R-squared:  0.9775,\tAdjusted R-squared:  0.9774 \n",
       "F-statistic:  9335 on 2 and 429 DF,  p-value: < 2.2e-16\n"
      ]
     },
     "metadata": {},
     "output_type": "display_data"
    },
    {
     "data": {
      "image/png": "[encoded data removed]",
      "text/plain": [
       "plot without title"
      ]
     },
     "metadata": {
      "image/png": {
       "height": 420,
       "width": 420
      }
     },
     "output_type": "display_data"
    }
   ],
   "source": [
    "title <- \"Steady State Error by Alpha\"\n",
    "data <- dataFull[(dataFull$syncBackups == 1 | dataFull$syncBackups == -1),]\n",
    "N = data$fedP\n",
    "sqDiff = data$finalDiffAvg ** 2\n",
    "model <- lm(log10(sqDiff) ~ log10(N) + log10(alpha), data)\n",
    "summary(model)\n",
    "predict <- cbind(data, predict(model, interval='confidence', newdata=data))\n",
    "\n",
    "p <- ggplot(predict, aes(x=log10(N), y=log10(finalDiffAvg ** 2)))\n",
    "p <- p + ggtitle(title)\n",
    "p <- p + theme(text = element_text(size = 16))\n",
    "p <- p + xlab(\"N Log Scale\") + ylab(\"Error Log Scale\")\n",
    "p <- p + geom_point(aes(color = alpha)) \n",
    "p <- p + scale_color_gradientn(\"Alpha\", colors = c(\"black\", \"red\"))\n",
    "p"
   ]
  },
  {
   "cell_type": "code",
   "execution_count": 9,
   "metadata": {
    "vscode": {
     "languageId": "r"
    }
   },
   "outputs": [
    {
     "data": {
      "text/plain": [
       "\n",
       "Call:\n",
       "lm(formula = log10(sqDiff) ~ log10(NTerm), data = data)\n",
       "\n",
       "Residuals:\n",
       "     Min       1Q   Median       3Q      Max \n",
       "-0.33358 -0.08509 -0.02364  0.05334  0.62434 \n",
       "\n",
       "Coefficients:\n",
       "             Estimate Std. Error t value Pr(>|t|)    \n",
       "(Intercept)  0.560599   0.016602   33.77   <2e-16 ***\n",
       "log10(NTerm) 0.997019   0.007296  136.65   <2e-16 ***\n",
       "---\n",
       "Signif. codes:  0 '***' 0.001 '**' 0.01 '*' 0.05 '.' 0.1 ' ' 1\n",
       "\n",
       "Residual standard error: 0.1467 on 430 degrees of freedom\n",
       "Multiple R-squared:  0.9775,\tAdjusted R-squared:  0.9774 \n",
       "F-statistic: 1.867e+04 on 1 and 430 DF,  p-value: < 2.2e-16\n"
      ]
     },
     "metadata": {},
     "output_type": "display_data"
    },
    {
     "name": "stderr",
     "output_type": "stream",
     "text": [
      "\u001b[1m\u001b[22mSaving 6.67 x 6.67 in image\n"
     ]
    },
    {
     "data": {
      "image/png": "[encoded data removed]",
      "text/plain": [
       "plot without title"
      ]
     },
     "metadata": {
      "image/png": {
       "height": 420,
       "width": 420
      }
     },
     "output_type": "display_data"
    }
   ],
   "source": [
    "title <- \"Steady State Error N Term\"\n",
    "data <- dataFull[(dataFull$syncBackups == 1 | dataFull$syncBackups == -1),]\n",
    "NTerm = data$alpha/data$fedP\n",
    "sqDiff = data$finalDiffAvg ** 2\n",
    "model <- lm(log10(sqDiff) ~ log10(NTerm), data)\n",
    "summary(model)\n",
    "predict <- cbind(data, predict(model, interval='confidence', newdata=data))\n",
    "\n",
    "p <- ggplot(predict, aes(x=log10(NTerm), y=log10(finalDiffAvg ** 2)))\n",
    "p <- p + ggtitle(title)\n",
    "p <- p + xlab(\"Alpha/N Log Scale\") + ylab(\"Steady State Error Log Scale\")\n",
    "p <- p + theme(text = element_text(size = 16))\n",
    "p <- p + annotate(\"text\", x=-2.5, y=0.5, label= lm_eqn(model), parse = TRUE, size=5)\n",
    "p <- p + geom_point(aes(color = log10(alpha)))\n",
    "p <- p + scale_color_gradientn(\"Log Alpha\", colors = c(\"black\", \"red\"))\n",
    "p <- p + geom_line(aes(log10(NTerm), fit))\n",
    "p <- p + geom_ribbon(aes(ymin=lwr,ymax=upr), alpha=0.2)\n",
    "p\n",
    "\n",
    "ggsave(filename=gsub(\" \", \"\", paste(\"featuredGraphs/\", title, \".png\"), fixed = TRUE), plot=p, device=\"png\")"
   ]
  },
  {
   "cell_type": "code",
   "execution_count": 10,
   "metadata": {
    "vscode": {
     "languageId": "r"
    }
   },
   "outputs": [
    {
     "data": {
      "text/html": [
       "<table class=\"dataframe\">\n",
       "<caption>A data.frame: 30 × 26</caption>\n",
       "<thead>\n",
       "\t<tr><th></th><th scope=col>convN</th><th scope=col>alpha</th><th scope=col>discount</th><th scope=col>epsilon</th><th scope=col>fedP</th><th scope=col>syncBackups</th><th scope=col>stochasticPolicy</th><th scope=col>envSeed</th><th scope=col>trial</th><th scope=col>sims</th><th scope=col>⋯</th><th scope=col>aggs</th><th scope=col>backups</th><th scope=col>endScoreStochBell</th><th scope=col>endScore</th><th scope=col>finalDiff</th><th scope=col>finalDiffAvg</th><th scope=col>threshDiff</th><th scope=col>threshRew</th><th scope=col>threshEp</th><th scope=col>threshBack</th></tr>\n",
       "\t<tr><th></th><th scope=col>&lt;int&gt;</th><th scope=col>&lt;dbl&gt;</th><th scope=col>&lt;dbl&gt;</th><th scope=col>&lt;dbl&gt;</th><th scope=col>&lt;int&gt;</th><th scope=col>&lt;int&gt;</th><th scope=col>&lt;chr&gt;</th><th scope=col>&lt;int&gt;</th><th scope=col>&lt;int&gt;</th><th scope=col>&lt;dbl&gt;</th><th scope=col>⋯</th><th scope=col>&lt;dbl&gt;</th><th scope=col>&lt;dbl&gt;</th><th scope=col>&lt;dbl&gt;</th><th scope=col>&lt;dbl&gt;</th><th scope=col>&lt;dbl&gt;</th><th scope=col>&lt;dbl&gt;</th><th scope=col>&lt;dbl&gt;</th><th scope=col>&lt;dbl&gt;</th><th scope=col>&lt;int&gt;</th><th scope=col>&lt;dbl&gt;</th></tr>\n",
       "</thead>\n",
       "<tbody>\n",
       "\t<tr><th scope=row>93</th><td>10</td><td>0.002</td><td>0.6</td><td>1</td><td> 4</td><td> 1</td><td>True</td><td>3701</td><td>0</td><td>111100</td><td>⋯</td><td>111087</td><td>111100</td><td>2165.602</td><td>3898.605</td><td>0.028422764</td><td>0.03758235</td><td>0.3000666</td><td>13.98159</td><td>360</td><td>37370</td></tr>\n",
       "\t<tr><th scope=row>101</th><td>10</td><td>0.002</td><td>0.6</td><td>0</td><td> 4</td><td> 1</td><td>True</td><td>3701</td><td>0</td><td>151500</td><td>⋯</td><td>151481</td><td>151500</td><td>2007.907</td><td>3898.605</td><td>0.057332349</td><td>0.04486439</td><td>0.3133317</td><td>22.70083</td><td>420</td><td>43430</td></tr>\n",
       "\t<tr><th scope=row>102</th><td>10</td><td>0.002</td><td>0.6</td><td>1</td><td>16</td><td> 1</td><td>True</td><td>3701</td><td>0</td><td>111100</td><td>⋯</td><td>110833</td><td>111100</td><td>2104.419</td><td>3898.605</td><td>0.025930670</td><td>0.03011752</td><td>0.3091950</td><td>10.27851</td><td>360</td><td>37370</td></tr>\n",
       "\t<tr><th scope=row>122</th><td>10</td><td>0.002</td><td>0.6</td><td>1</td><td> 8</td><td> 1</td><td>True</td><td>3701</td><td>0</td><td>101000</td><td>⋯</td><td>100707</td><td>101000</td><td>2218.669</td><td>3898.605</td><td>0.033535169</td><td>0.03601932</td><td>0.3057647</td><td>12.89111</td><td>370</td><td>38380</td></tr>\n",
       "\t<tr><th scope=row>191</th><td>10</td><td>0.002</td><td>0.6</td><td>0</td><td>16</td><td> 1</td><td>True</td><td>3701</td><td>2</td><td>126250</td><td>⋯</td><td>126104</td><td>126250</td><td>2171.350</td><td>3898.605</td><td>0.009175267</td><td>0.01996917</td><td>0.3157559</td><td>21.15846</td><td>390</td><td>40400</td></tr>\n",
       "\t<tr><th scope=row>243</th><td>10</td><td>0.002</td><td>0.6</td><td>0</td><td> 8</td><td> 1</td><td>True</td><td>3701</td><td>1</td><td>141400</td><td>⋯</td><td>141394</td><td>141400</td><td>2072.609</td><td>3898.605</td><td>0.039018480</td><td>0.03401730</td><td>0.3009320</td><td>19.94020</td><td>440</td><td>45450</td></tr>\n",
       "\t<tr><th scope=row>366</th><td>10</td><td>0.002</td><td>0.6</td><td>0</td><td> 2</td><td> 1</td><td>True</td><td>3701</td><td>1</td><td>111100</td><td>⋯</td><td>110084</td><td>111100</td><td>2193.939</td><td>3898.605</td><td>0.083650310</td><td>0.07967879</td><td>0.3106592</td><td>22.62964</td><td>410</td><td>42420</td></tr>\n",
       "\t<tr><th scope=row>374</th><td>10</td><td>0.002</td><td>0.6</td><td>0</td><td> 8</td><td> 1</td><td>True</td><td>3701</td><td>0</td><td>111100</td><td>⋯</td><td>110842</td><td>111100</td><td>2045.668</td><td>3898.605</td><td>0.049760751</td><td>0.05061047</td><td>0.3062990</td><td>20.41848</td><td>400</td><td>41410</td></tr>\n",
       "\t<tr><th scope=row>472</th><td>10</td><td>0.002</td><td>0.6</td><td>1</td><td> 1</td><td>-1</td><td>True</td><td>3701</td><td>2</td><td>101000</td><td>⋯</td><td>     0</td><td>101000</td><td>2065.059</td><td>3942.337</td><td>0.054485606</td><td>0.07468639</td><td>0.3119880</td><td>11.68852</td><td>360</td><td>37370</td></tr>\n",
       "\t<tr><th scope=row>491</th><td>10</td><td>0.002</td><td>0.6</td><td>1</td><td> 2</td><td> 1</td><td>True</td><td>3701</td><td>0</td><td> 80800</td><td>⋯</td><td> 80698</td><td> 80800</td><td>2227.886</td><td>3898.605</td><td>0.072848958</td><td>0.08123751</td><td>0.3023440</td><td>14.05686</td><td>360</td><td>37370</td></tr>\n",
       "\t<tr><th scope=row>570</th><td>10</td><td>0.002</td><td>0.6</td><td>1</td><td> 4</td><td> 1</td><td>True</td><td>3701</td><td>1</td><td>111100</td><td>⋯</td><td>111089</td><td>111100</td><td>2089.443</td><td>3898.605</td><td>0.050920323</td><td>0.04967867</td><td>0.3085652</td><td>11.24914</td><td>360</td><td>37370</td></tr>\n",
       "\t<tr><th scope=row>640</th><td>10</td><td>0.002</td><td>0.6</td><td>0</td><td> 2</td><td> 1</td><td>True</td><td>3701</td><td>0</td><td>121200</td><td>⋯</td><td>121424</td><td>121200</td><td>2203.552</td><td>3898.605</td><td>0.080084560</td><td>0.07093710</td><td>0.3127182</td><td>20.38495</td><td>380</td><td>39390</td></tr>\n",
       "\t<tr><th scope=row>660</th><td>10</td><td>0.002</td><td>0.6</td><td>1</td><td> 1</td><td>-1</td><td>True</td><td>3701</td><td>1</td><td>101000</td><td>⋯</td><td>     0</td><td>101000</td><td>2022.232</td><td>3942.337</td><td>0.086870473</td><td>0.06102423</td><td>0.2974943</td><td>12.42027</td><td>380</td><td>39390</td></tr>\n",
       "\t<tr><th scope=row>805</th><td>10</td><td>0.002</td><td>0.6</td><td>1</td><td> 8</td><td> 1</td><td>True</td><td>3701</td><td>2</td><td>111100</td><td>⋯</td><td>110987</td><td>111100</td><td>2139.290</td><td>3898.605</td><td>0.040783923</td><td>0.02826764</td><td>0.2941147</td><td>14.77505</td><td>370</td><td>38380</td></tr>\n",
       "\t<tr><th scope=row>831</th><td>10</td><td>0.002</td><td>0.6</td><td>1</td><td> 8</td><td> 1</td><td>True</td><td>3701</td><td>1</td><td>131300</td><td>⋯</td><td>131019</td><td>131300</td><td>2063.192</td><td>3898.605</td><td>0.012955383</td><td>0.02242039</td><td>0.3155336</td><td>10.90603</td><td>370</td><td>38380</td></tr>\n",
       "\t<tr><th scope=row>1007</th><td>10</td><td>0.002</td><td>0.6</td><td>1</td><td> 2</td><td> 1</td><td>True</td><td>3701</td><td>1</td><td> 80800</td><td>⋯</td><td> 80073</td><td> 80800</td><td>2112.926</td><td>3898.605</td><td>0.103148063</td><td>0.12135003</td><td>0.2944947</td><td>10.23393</td><td>390</td><td>40400</td></tr>\n",
       "\t<tr><th scope=row>1251</th><td>10</td><td>0.002</td><td>0.6</td><td>1</td><td>16</td><td> 1</td><td>True</td><td>3701</td><td>1</td><td>101000</td><td>⋯</td><td>100651</td><td>101000</td><td>2154.286</td><td>3898.605</td><td>0.032854852</td><td>0.03273710</td><td>0.3020757</td><td>11.22790</td><td>380</td><td>39390</td></tr>\n",
       "\t<tr><th scope=row>1304</th><td>10</td><td>0.002</td><td>0.6</td><td>1</td><td> 2</td><td> 1</td><td>True</td><td>3701</td><td>2</td><td>111100</td><td>⋯</td><td>110402</td><td>111100</td><td>2089.184</td><td>3898.605</td><td>0.047539102</td><td>0.05028829</td><td>0.3036233</td><td>15.30198</td><td>360</td><td>37370</td></tr>\n",
       "\t<tr><th scope=row>1355</th><td>10</td><td>0.002</td><td>0.6</td><td>0</td><td> 8</td><td> 1</td><td>True</td><td>3701</td><td>2</td><td>131300</td><td>⋯</td><td>130764</td><td>131300</td><td>2118.002</td><td>3898.605</td><td>0.050660843</td><td>0.04695242</td><td>0.3141946</td><td>18.70020</td><td>420</td><td>43430</td></tr>\n",
       "\t<tr><th scope=row>1415</th><td>10</td><td>0.002</td><td>0.6</td><td>0</td><td>16</td><td> 1</td><td>True</td><td>3701</td><td>0</td><td>141400</td><td>⋯</td><td>141213</td><td>141400</td><td>2232.706</td><td>3898.605</td><td>0.033242909</td><td>0.02767301</td><td>0.3035840</td><td>23.07387</td><td>410</td><td>42420</td></tr>\n",
       "\t<tr><th scope=row>1496</th><td>10</td><td>0.002</td><td>0.6</td><td>0</td><td> 2</td><td> 1</td><td>True</td><td>3701</td><td>2</td><td>111100</td><td>⋯</td><td>111006</td><td>111100</td><td>2088.524</td><td>3898.605</td><td>0.079054303</td><td>0.06596848</td><td>0.3021506</td><td>25.43943</td><td>410</td><td>42420</td></tr>\n",
       "\t<tr><th scope=row>1527</th><td>10</td><td>0.002</td><td>0.6</td><td>0</td><td> 4</td><td> 1</td><td>True</td><td>3701</td><td>1</td><td>131300</td><td>⋯</td><td>131285</td><td>131300</td><td>2118.230</td><td>3898.605</td><td>0.028681158</td><td>0.03566337</td><td>0.3079214</td><td>23.83587</td><td>410</td><td>42420</td></tr>\n",
       "\t<tr><th scope=row>1569</th><td>10</td><td>0.002</td><td>0.6</td><td>1</td><td> 4</td><td> 1</td><td>True</td><td>3701</td><td>2</td><td>141400</td><td>⋯</td><td>141381</td><td>141400</td><td>2212.776</td><td>3898.605</td><td>0.028195280</td><td>0.03539768</td><td>0.3089267</td><td>14.34978</td><td>380</td><td>39390</td></tr>\n",
       "\t<tr><th scope=row>1652</th><td>10</td><td>0.002</td><td>0.6</td><td>1</td><td> 1</td><td>-1</td><td>True</td><td>3701</td><td>0</td><td>111100</td><td>⋯</td><td>     0</td><td>111100</td><td>2151.923</td><td>3962.480</td><td>0.093299253</td><td>0.07551400</td><td>0.3098668</td><td>16.59675</td><td>400</td><td>41410</td></tr>\n",
       "\t<tr><th scope=row>1757</th><td>10</td><td>0.002</td><td>0.6</td><td>0</td><td> 4</td><td> 1</td><td>True</td><td>3701</td><td>2</td><td>121200</td><td>⋯</td><td>120802</td><td>121200</td><td>2116.790</td><td>3898.605</td><td>0.033125150</td><td>0.03873039</td><td>0.3137004</td><td>21.34944</td><td>390</td><td>40400</td></tr>\n",
       "\t<tr><th scope=row>1842</th><td>10</td><td>0.002</td><td>0.6</td><td>0</td><td> 1</td><td>-1</td><td>True</td><td>3701</td><td>2</td><td>101000</td><td>⋯</td><td>     0</td><td>101000</td><td>2045.937</td><td>3942.337</td><td>0.066504429</td><td>0.08461175</td><td>0.3048210</td><td>21.81059</td><td>410</td><td>42420</td></tr>\n",
       "\t<tr><th scope=row>1864</th><td>10</td><td>0.002</td><td>0.6</td><td>0</td><td> 1</td><td>-1</td><td>True</td><td>3701</td><td>1</td><td>141400</td><td>⋯</td><td>     0</td><td>141400</td><td>2228.153</td><td>3935.034</td><td>0.094887778</td><td>0.10949464</td><td>0.3088919</td><td>23.40701</td><td>400</td><td>41410</td></tr>\n",
       "\t<tr><th scope=row>1878</th><td>10</td><td>0.002</td><td>0.6</td><td>0</td><td>16</td><td> 1</td><td>True</td><td>3701</td><td>1</td><td>131300</td><td>⋯</td><td>130854</td><td>131300</td><td>2233.731</td><td>3898.605</td><td>0.023337401</td><td>0.02721757</td><td>0.3133785</td><td>23.16608</td><td>400</td><td>41410</td></tr>\n",
       "\t<tr><th scope=row>1900</th><td>10</td><td>0.002</td><td>0.6</td><td>0</td><td> 1</td><td>-1</td><td>True</td><td>3701</td><td>0</td><td>141400</td><td>⋯</td><td>     0</td><td>141400</td><td>2240.203</td><td>3935.034</td><td>0.094239132</td><td>0.07893312</td><td>0.3071722</td><td>22.81682</td><td>390</td><td>40400</td></tr>\n",
       "\t<tr><th scope=row>1901</th><td>10</td><td>0.002</td><td>0.6</td><td>1</td><td>16</td><td> 1</td><td>True</td><td>3701</td><td>2</td><td> 90900</td><td>⋯</td><td> 90600</td><td> 90900</td><td>2188.132</td><td>3898.605</td><td>0.021877029</td><td>0.02846422</td><td>0.3040745</td><td> 7.73784</td><td>370</td><td>38380</td></tr>\n",
       "</tbody>\n",
       "</table>\n"
      ],
      "text/latex": [
       "A data.frame: 30 × 26\n",
       "\\begin{tabular}{r|lllllllllllllllllllll}\n",
       "  & convN & alpha & discount & epsilon & fedP & syncBackups & stochasticPolicy & envSeed & trial & sims & ⋯ & aggs & backups & endScoreStochBell & endScore & finalDiff & finalDiffAvg & threshDiff & threshRew & threshEp & threshBack\\\\\n",
       "  & <int> & <dbl> & <dbl> & <dbl> & <int> & <int> & <chr> & <int> & <int> & <dbl> & ⋯ & <dbl> & <dbl> & <dbl> & <dbl> & <dbl> & <dbl> & <dbl> & <dbl> & <int> & <dbl>\\\\\n",
       "\\hline\n",
       "\t93 & 10 & 0.002 & 0.6 & 1 &  4 &  1 & True & 3701 & 0 & 111100 & ⋯ & 111087 & 111100 & 2165.602 & 3898.605 & 0.028422764 & 0.03758235 & 0.3000666 & 13.98159 & 360 & 37370\\\\\n",
       "\t101 & 10 & 0.002 & 0.6 & 0 &  4 &  1 & True & 3701 & 0 & 151500 & ⋯ & 151481 & 151500 & 2007.907 & 3898.605 & 0.057332349 & 0.04486439 & 0.3133317 & 22.70083 & 420 & 43430\\\\\n",
       "\t102 & 10 & 0.002 & 0.6 & 1 & 16 &  1 & True & 3701 & 0 & 111100 & ⋯ & 110833 & 111100 & 2104.419 & 3898.605 & 0.025930670 & 0.03011752 & 0.3091950 & 10.27851 & 360 & 37370\\\\\n",
       "\t122 & 10 & 0.002 & 0.6 & 1 &  8 &  1 & True & 3701 & 0 & 101000 & ⋯ & 100707 & 101000 & 2218.669 & 3898.605 & 0.033535169 & 0.03601932 & 0.3057647 & 12.89111 & 370 & 38380\\\\\n",
       "\t191 & 10 & 0.002 & 0.6 & 0 & 16 &  1 & True & 3701 & 2 & 126250 & ⋯ & 126104 & 126250 & 2171.350 & 3898.605 & 0.009175267 & 0.01996917 & 0.3157559 & 21.15846 & 390 & 40400\\\\\n",
       "\t243 & 10 & 0.002 & 0.6 & 0 &  8 &  1 & True & 3701 & 1 & 141400 & ⋯ & 141394 & 141400 & 2072.609 & 3898.605 & 0.039018480 & 0.03401730 & 0.3009320 & 19.94020 & 440 & 45450\\\\\n",
       "\t366 & 10 & 0.002 & 0.6 & 0 &  2 &  1 & True & 3701 & 1 & 111100 & ⋯ & 110084 & 111100 & 2193.939 & 3898.605 & 0.083650310 & 0.07967879 & 0.3106592 & 22.62964 & 410 & 42420\\\\\n",
       "\t374 & 10 & 0.002 & 0.6 & 0 &  8 &  1 & True & 3701 & 0 & 111100 & ⋯ & 110842 & 111100 & 2045.668 & 3898.605 & 0.049760751 & 0.05061047 & 0.3062990 & 20.41848 & 400 & 41410\\\\\n",
       "\t472 & 10 & 0.002 & 0.6 & 1 &  1 & -1 & True & 3701 & 2 & 101000 & ⋯ &      0 & 101000 & 2065.059 & 3942.337 & 0.054485606 & 0.07468639 & 0.3119880 & 11.68852 & 360 & 37370\\\\\n",
       "\t491 & 10 & 0.002 & 0.6 & 1 &  2 &  1 & True & 3701 & 0 &  80800 & ⋯ &  80698 &  80800 & 2227.886 & 3898.605 & 0.072848958 & 0.08123751 & 0.3023440 & 14.05686 & 360 & 37370\\\\\n",
       "\t570 & 10 & 0.002 & 0.6 & 1 &  4 &  1 & True & 3701 & 1 & 111100 & ⋯ & 111089 & 111100 & 2089.443 & 3898.605 & 0.050920323 & 0.04967867 & 0.3085652 & 11.24914 & 360 & 37370\\\\\n",
       "\t640 & 10 & 0.002 & 0.6 & 0 &  2 &  1 & True & 3701 & 0 & 121200 & ⋯ & 121424 & 121200 & 2203.552 & 3898.605 & 0.080084560 & 0.07093710 & 0.3127182 & 20.38495 & 380 & 39390\\\\\n",
       "\t660 & 10 & 0.002 & 0.6 & 1 &  1 & -1 & True & 3701 & 1 & 101000 & ⋯ &      0 & 101000 & 2022.232 & 3942.337 & 0.086870473 & 0.06102423 & 0.2974943 & 12.42027 & 380 & 39390\\\\\n",
       "\t805 & 10 & 0.002 & 0.6 & 1 &  8 &  1 & True & 3701 & 2 & 111100 & ⋯ & 110987 & 111100 & 2139.290 & 3898.605 & 0.040783923 & 0.02826764 & 0.2941147 & 14.77505 & 370 & 38380\\\\\n",
       "\t831 & 10 & 0.002 & 0.6 & 1 &  8 &  1 & True & 3701 & 1 & 131300 & ⋯ & 131019 & 131300 & 2063.192 & 3898.605 & 0.012955383 & 0.02242039 & 0.3155336 & 10.90603 & 370 & 38380\\\\\n",
       "\t1007 & 10 & 0.002 & 0.6 & 1 &  2 &  1 & True & 3701 & 1 &  80800 & ⋯ &  80073 &  80800 & 2112.926 & 3898.605 & 0.103148063 & 0.12135003 & 0.2944947 & 10.23393 & 390 & 40400\\\\\n",
       "\t1251 & 10 & 0.002 & 0.6 & 1 & 16 &  1 & True & 3701 & 1 & 101000 & ⋯ & 100651 & 101000 & 2154.286 & 3898.605 & 0.032854852 & 0.03273710 & 0.3020757 & 11.22790 & 380 & 39390\\\\\n",
       "\t1304 & 10 & 0.002 & 0.6 & 1 &  2 &  1 & True & 3701 & 2 & 111100 & ⋯ & 110402 & 111100 & 2089.184 & 3898.605 & 0.047539102 & 0.05028829 & 0.3036233 & 15.30198 & 360 & 37370\\\\\n",
       "\t1355 & 10 & 0.002 & 0.6 & 0 &  8 &  1 & True & 3701 & 2 & 131300 & ⋯ & 130764 & 131300 & 2118.002 & 3898.605 & 0.050660843 & 0.04695242 & 0.3141946 & 18.70020 & 420 & 43430\\\\\n",
       "\t1415 & 10 & 0.002 & 0.6 & 0 & 16 &  1 & True & 3701 & 0 & 141400 & ⋯ & 141213 & 141400 & 2232.706 & 3898.605 & 0.033242909 & 0.02767301 & 0.3035840 & 23.07387 & 410 & 42420\\\\\n",
       "\t1496 & 10 & 0.002 & 0.6 & 0 &  2 &  1 & True & 3701 & 2 & 111100 & ⋯ & 111006 & 111100 & 2088.524 & 3898.605 & 0.079054303 & 0.06596848 & 0.3021506 & 25.43943 & 410 & 42420\\\\\n",
       "\t1527 & 10 & 0.002 & 0.6 & 0 &  4 &  1 & True & 3701 & 1 & 131300 & ⋯ & 131285 & 131300 & 2118.230 & 3898.605 & 0.028681158 & 0.03566337 & 0.3079214 & 23.83587 & 410 & 42420\\\\\n",
       "\t1569 & 10 & 0.002 & 0.6 & 1 &  4 &  1 & True & 3701 & 2 & 141400 & ⋯ & 141381 & 141400 & 2212.776 & 3898.605 & 0.028195280 & 0.03539768 & 0.3089267 & 14.34978 & 380 & 39390\\\\\n",
       "\t1652 & 10 & 0.002 & 0.6 & 1 &  1 & -1 & True & 3701 & 0 & 111100 & ⋯ &      0 & 111100 & 2151.923 & 3962.480 & 0.093299253 & 0.07551400 & 0.3098668 & 16.59675 & 400 & 41410\\\\\n",
       "\t1757 & 10 & 0.002 & 0.6 & 0 &  4 &  1 & True & 3701 & 2 & 121200 & ⋯ & 120802 & 121200 & 2116.790 & 3898.605 & 0.033125150 & 0.03873039 & 0.3137004 & 21.34944 & 390 & 40400\\\\\n",
       "\t1842 & 10 & 0.002 & 0.6 & 0 &  1 & -1 & True & 3701 & 2 & 101000 & ⋯ &      0 & 101000 & 2045.937 & 3942.337 & 0.066504429 & 0.08461175 & 0.3048210 & 21.81059 & 410 & 42420\\\\\n",
       "\t1864 & 10 & 0.002 & 0.6 & 0 &  1 & -1 & True & 3701 & 1 & 141400 & ⋯ &      0 & 141400 & 2228.153 & 3935.034 & 0.094887778 & 0.10949464 & 0.3088919 & 23.40701 & 400 & 41410\\\\\n",
       "\t1878 & 10 & 0.002 & 0.6 & 0 & 16 &  1 & True & 3701 & 1 & 131300 & ⋯ & 130854 & 131300 & 2233.731 & 3898.605 & 0.023337401 & 0.02721757 & 0.3133785 & 23.16608 & 400 & 41410\\\\\n",
       "\t1900 & 10 & 0.002 & 0.6 & 0 &  1 & -1 & True & 3701 & 0 & 141400 & ⋯ &      0 & 141400 & 2240.203 & 3935.034 & 0.094239132 & 0.07893312 & 0.3071722 & 22.81682 & 390 & 40400\\\\\n",
       "\t1901 & 10 & 0.002 & 0.6 & 1 & 16 &  1 & True & 3701 & 2 &  90900 & ⋯ &  90600 &  90900 & 2188.132 & 3898.605 & 0.021877029 & 0.02846422 & 0.3040745 &  7.73784 & 370 & 38380\\\\\n",
       "\\end{tabular}\n"
      ],
      "text/markdown": [
       "\n",
       "A data.frame: 30 × 26\n",
       "\n",
       "| <!--/--> | convN &lt;int&gt; | alpha &lt;dbl&gt; | discount &lt;dbl&gt; | epsilon &lt;dbl&gt; | fedP &lt;int&gt; | syncBackups &lt;int&gt; | stochasticPolicy &lt;chr&gt; | envSeed &lt;int&gt; | trial &lt;int&gt; | sims &lt;dbl&gt; | ⋯ ⋯ | aggs &lt;dbl&gt; | backups &lt;dbl&gt; | endScoreStochBell &lt;dbl&gt; | endScore &lt;dbl&gt; | finalDiff &lt;dbl&gt; | finalDiffAvg &lt;dbl&gt; | threshDiff &lt;dbl&gt; | threshRew &lt;dbl&gt; | threshEp &lt;int&gt; | threshBack &lt;dbl&gt; |\n",
       "|---|---|---|---|---|---|---|---|---|---|---|---|---|---|---|---|---|---|---|---|---|---|\n",
       "| 93 | 10 | 0.002 | 0.6 | 1 |  4 |  1 | True | 3701 | 0 | 111100 | ⋯ | 111087 | 111100 | 2165.602 | 3898.605 | 0.028422764 | 0.03758235 | 0.3000666 | 13.98159 | 360 | 37370 |\n",
       "| 101 | 10 | 0.002 | 0.6 | 0 |  4 |  1 | True | 3701 | 0 | 151500 | ⋯ | 151481 | 151500 | 2007.907 | 3898.605 | 0.057332349 | 0.04486439 | 0.3133317 | 22.70083 | 420 | 43430 |\n",
       "| 102 | 10 | 0.002 | 0.6 | 1 | 16 |  1 | True | 3701 | 0 | 111100 | ⋯ | 110833 | 111100 | 2104.419 | 3898.605 | 0.025930670 | 0.03011752 | 0.3091950 | 10.27851 | 360 | 37370 |\n",
       "| 122 | 10 | 0.002 | 0.6 | 1 |  8 |  1 | True | 3701 | 0 | 101000 | ⋯ | 100707 | 101000 | 2218.669 | 3898.605 | 0.033535169 | 0.03601932 | 0.3057647 | 12.89111 | 370 | 38380 |\n",
       "| 191 | 10 | 0.002 | 0.6 | 0 | 16 |  1 | True | 3701 | 2 | 126250 | ⋯ | 126104 | 126250 | 2171.350 | 3898.605 | 0.009175267 | 0.01996917 | 0.3157559 | 21.15846 | 390 | 40400 |\n",
       "| 243 | 10 | 0.002 | 0.6 | 0 |  8 |  1 | True | 3701 | 1 | 141400 | ⋯ | 141394 | 141400 | 2072.609 | 3898.605 | 0.039018480 | 0.03401730 | 0.3009320 | 19.94020 | 440 | 45450 |\n",
       "| 366 | 10 | 0.002 | 0.6 | 0 |  2 |  1 | True | 3701 | 1 | 111100 | ⋯ | 110084 | 111100 | 2193.939 | 3898.605 | 0.083650310 | 0.07967879 | 0.3106592 | 22.62964 | 410 | 42420 |\n",
       "| 374 | 10 | 0.002 | 0.6 | 0 |  8 |  1 | True | 3701 | 0 | 111100 | ⋯ | 110842 | 111100 | 2045.668 | 3898.605 | 0.049760751 | 0.05061047 | 0.3062990 | 20.41848 | 400 | 41410 |\n",
       "| 472 | 10 | 0.002 | 0.6 | 1 |  1 | -1 | True | 3701 | 2 | 101000 | ⋯ |      0 | 101000 | 2065.059 | 3942.337 | 0.054485606 | 0.07468639 | 0.3119880 | 11.68852 | 360 | 37370 |\n",
       "| 491 | 10 | 0.002 | 0.6 | 1 |  2 |  1 | True | 3701 | 0 |  80800 | ⋯ |  80698 |  80800 | 2227.886 | 3898.605 | 0.072848958 | 0.08123751 | 0.3023440 | 14.05686 | 360 | 37370 |\n",
       "| 570 | 10 | 0.002 | 0.6 | 1 |  4 |  1 | True | 3701 | 1 | 111100 | ⋯ | 111089 | 111100 | 2089.443 | 3898.605 | 0.050920323 | 0.04967867 | 0.3085652 | 11.24914 | 360 | 37370 |\n",
       "| 640 | 10 | 0.002 | 0.6 | 0 |  2 |  1 | True | 3701 | 0 | 121200 | ⋯ | 121424 | 121200 | 2203.552 | 3898.605 | 0.080084560 | 0.07093710 | 0.3127182 | 20.38495 | 380 | 39390 |\n",
       "| 660 | 10 | 0.002 | 0.6 | 1 |  1 | -1 | True | 3701 | 1 | 101000 | ⋯ |      0 | 101000 | 2022.232 | 3942.337 | 0.086870473 | 0.06102423 | 0.2974943 | 12.42027 | 380 | 39390 |\n",
       "| 805 | 10 | 0.002 | 0.6 | 1 |  8 |  1 | True | 3701 | 2 | 111100 | ⋯ | 110987 | 111100 | 2139.290 | 3898.605 | 0.040783923 | 0.02826764 | 0.2941147 | 14.77505 | 370 | 38380 |\n",
       "| 831 | 10 | 0.002 | 0.6 | 1 |  8 |  1 | True | 3701 | 1 | 131300 | ⋯ | 131019 | 131300 | 2063.192 | 3898.605 | 0.012955383 | 0.02242039 | 0.3155336 | 10.90603 | 370 | 38380 |\n",
       "| 1007 | 10 | 0.002 | 0.6 | 1 |  2 |  1 | True | 3701 | 1 |  80800 | ⋯ |  80073 |  80800 | 2112.926 | 3898.605 | 0.103148063 | 0.12135003 | 0.2944947 | 10.23393 | 390 | 40400 |\n",
       "| 1251 | 10 | 0.002 | 0.6 | 1 | 16 |  1 | True | 3701 | 1 | 101000 | ⋯ | 100651 | 101000 | 2154.286 | 3898.605 | 0.032854852 | 0.03273710 | 0.3020757 | 11.22790 | 380 | 39390 |\n",
       "| 1304 | 10 | 0.002 | 0.6 | 1 |  2 |  1 | True | 3701 | 2 | 111100 | ⋯ | 110402 | 111100 | 2089.184 | 3898.605 | 0.047539102 | 0.05028829 | 0.3036233 | 15.30198 | 360 | 37370 |\n",
       "| 1355 | 10 | 0.002 | 0.6 | 0 |  8 |  1 | True | 3701 | 2 | 131300 | ⋯ | 130764 | 131300 | 2118.002 | 3898.605 | 0.050660843 | 0.04695242 | 0.3141946 | 18.70020 | 420 | 43430 |\n",
       "| 1415 | 10 | 0.002 | 0.6 | 0 | 16 |  1 | True | 3701 | 0 | 141400 | ⋯ | 141213 | 141400 | 2232.706 | 3898.605 | 0.033242909 | 0.02767301 | 0.3035840 | 23.07387 | 410 | 42420 |\n",
       "| 1496 | 10 | 0.002 | 0.6 | 0 |  2 |  1 | True | 3701 | 2 | 111100 | ⋯ | 111006 | 111100 | 2088.524 | 3898.605 | 0.079054303 | 0.06596848 | 0.3021506 | 25.43943 | 410 | 42420 |\n",
       "| 1527 | 10 | 0.002 | 0.6 | 0 |  4 |  1 | True | 3701 | 1 | 131300 | ⋯ | 131285 | 131300 | 2118.230 | 3898.605 | 0.028681158 | 0.03566337 | 0.3079214 | 23.83587 | 410 | 42420 |\n",
       "| 1569 | 10 | 0.002 | 0.6 | 1 |  4 |  1 | True | 3701 | 2 | 141400 | ⋯ | 141381 | 141400 | 2212.776 | 3898.605 | 0.028195280 | 0.03539768 | 0.3089267 | 14.34978 | 380 | 39390 |\n",
       "| 1652 | 10 | 0.002 | 0.6 | 1 |  1 | -1 | True | 3701 | 0 | 111100 | ⋯ |      0 | 111100 | 2151.923 | 3962.480 | 0.093299253 | 0.07551400 | 0.3098668 | 16.59675 | 400 | 41410 |\n",
       "| 1757 | 10 | 0.002 | 0.6 | 0 |  4 |  1 | True | 3701 | 2 | 121200 | ⋯ | 120802 | 121200 | 2116.790 | 3898.605 | 0.033125150 | 0.03873039 | 0.3137004 | 21.34944 | 390 | 40400 |\n",
       "| 1842 | 10 | 0.002 | 0.6 | 0 |  1 | -1 | True | 3701 | 2 | 101000 | ⋯ |      0 | 101000 | 2045.937 | 3942.337 | 0.066504429 | 0.08461175 | 0.3048210 | 21.81059 | 410 | 42420 |\n",
       "| 1864 | 10 | 0.002 | 0.6 | 0 |  1 | -1 | True | 3701 | 1 | 141400 | ⋯ |      0 | 141400 | 2228.153 | 3935.034 | 0.094887778 | 0.10949464 | 0.3088919 | 23.40701 | 400 | 41410 |\n",
       "| 1878 | 10 | 0.002 | 0.6 | 0 | 16 |  1 | True | 3701 | 1 | 131300 | ⋯ | 130854 | 131300 | 2233.731 | 3898.605 | 0.023337401 | 0.02721757 | 0.3133785 | 23.16608 | 400 | 41410 |\n",
       "| 1900 | 10 | 0.002 | 0.6 | 0 |  1 | -1 | True | 3701 | 0 | 141400 | ⋯ |      0 | 141400 | 2240.203 | 3935.034 | 0.094239132 | 0.07893312 | 0.3071722 | 22.81682 | 390 | 40400 |\n",
       "| 1901 | 10 | 0.002 | 0.6 | 1 | 16 |  1 | True | 3701 | 2 |  90900 | ⋯ |  90600 |  90900 | 2188.132 | 3898.605 | 0.021877029 | 0.02846422 | 0.3040745 |  7.73784 | 370 | 38380 |\n",
       "\n"
      ],
      "text/plain": [
       "     convN alpha discount epsilon fedP syncBackups stochasticPolicy envSeed\n",
       "93   10    0.002 0.6      1        4    1          True             3701   \n",
       "101  10    0.002 0.6      0        4    1          True             3701   \n",
       "102  10    0.002 0.6      1       16    1          True             3701   \n",
       "122  10    0.002 0.6      1        8    1          True             3701   \n",
       "191  10    0.002 0.6      0       16    1          True             3701   \n",
       "243  10    0.002 0.6      0        8    1          True             3701   \n",
       "366  10    0.002 0.6      0        2    1          True             3701   \n",
       "374  10    0.002 0.6      0        8    1          True             3701   \n",
       "472  10    0.002 0.6      1        1   -1          True             3701   \n",
       "491  10    0.002 0.6      1        2    1          True             3701   \n",
       "570  10    0.002 0.6      1        4    1          True             3701   \n",
       "640  10    0.002 0.6      0        2    1          True             3701   \n",
       "660  10    0.002 0.6      1        1   -1          True             3701   \n",
       "805  10    0.002 0.6      1        8    1          True             3701   \n",
       "831  10    0.002 0.6      1        8    1          True             3701   \n",
       "1007 10    0.002 0.6      1        2    1          True             3701   \n",
       "1251 10    0.002 0.6      1       16    1          True             3701   \n",
       "1304 10    0.002 0.6      1        2    1          True             3701   \n",
       "1355 10    0.002 0.6      0        8    1          True             3701   \n",
       "1415 10    0.002 0.6      0       16    1          True             3701   \n",
       "1496 10    0.002 0.6      0        2    1          True             3701   \n",
       "1527 10    0.002 0.6      0        4    1          True             3701   \n",
       "1569 10    0.002 0.6      1        4    1          True             3701   \n",
       "1652 10    0.002 0.6      1        1   -1          True             3701   \n",
       "1757 10    0.002 0.6      0        4    1          True             3701   \n",
       "1842 10    0.002 0.6      0        1   -1          True             3701   \n",
       "1864 10    0.002 0.6      0        1   -1          True             3701   \n",
       "1878 10    0.002 0.6      0       16    1          True             3701   \n",
       "1900 10    0.002 0.6      0        1   -1          True             3701   \n",
       "1901 10    0.002 0.6      1       16    1          True             3701   \n",
       "     trial sims   ⋯ aggs   backups endScoreStochBell endScore finalDiff  \n",
       "93   0     111100 ⋯ 111087 111100  2165.602          3898.605 0.028422764\n",
       "101  0     151500 ⋯ 151481 151500  2007.907          3898.605 0.057332349\n",
       "102  0     111100 ⋯ 110833 111100  2104.419          3898.605 0.025930670\n",
       "122  0     101000 ⋯ 100707 101000  2218.669          3898.605 0.033535169\n",
       "191  2     126250 ⋯ 126104 126250  2171.350          3898.605 0.009175267\n",
       "243  1     141400 ⋯ 141394 141400  2072.609          3898.605 0.039018480\n",
       "366  1     111100 ⋯ 110084 111100  2193.939          3898.605 0.083650310\n",
       "374  0     111100 ⋯ 110842 111100  2045.668          3898.605 0.049760751\n",
       "472  2     101000 ⋯      0 101000  2065.059          3942.337 0.054485606\n",
       "491  0      80800 ⋯  80698  80800  2227.886          3898.605 0.072848958\n",
       "570  1     111100 ⋯ 111089 111100  2089.443          3898.605 0.050920323\n",
       "640  0     121200 ⋯ 121424 121200  2203.552          3898.605 0.080084560\n",
       "660  1     101000 ⋯      0 101000  2022.232          3942.337 0.086870473\n",
       "805  2     111100 ⋯ 110987 111100  2139.290          3898.605 0.040783923\n",
       "831  1     131300 ⋯ 131019 131300  2063.192          3898.605 0.012955383\n",
       "1007 1      80800 ⋯  80073  80800  2112.926          3898.605 0.103148063\n",
       "1251 1     101000 ⋯ 100651 101000  2154.286          3898.605 0.032854852\n",
       "1304 2     111100 ⋯ 110402 111100  2089.184          3898.605 0.047539102\n",
       "1355 2     131300 ⋯ 130764 131300  2118.002          3898.605 0.050660843\n",
       "1415 0     141400 ⋯ 141213 141400  2232.706          3898.605 0.033242909\n",
       "1496 2     111100 ⋯ 111006 111100  2088.524          3898.605 0.079054303\n",
       "1527 1     131300 ⋯ 131285 131300  2118.230          3898.605 0.028681158\n",
       "1569 2     141400 ⋯ 141381 141400  2212.776          3898.605 0.028195280\n",
       "1652 0     111100 ⋯      0 111100  2151.923          3962.480 0.093299253\n",
       "1757 2     121200 ⋯ 120802 121200  2116.790          3898.605 0.033125150\n",
       "1842 2     101000 ⋯      0 101000  2045.937          3942.337 0.066504429\n",
       "1864 1     141400 ⋯      0 141400  2228.153          3935.034 0.094887778\n",
       "1878 1     131300 ⋯ 130854 131300  2233.731          3898.605 0.023337401\n",
       "1900 0     141400 ⋯      0 141400  2240.203          3935.034 0.094239132\n",
       "1901 2      90900 ⋯  90600  90900  2188.132          3898.605 0.021877029\n",
       "     finalDiffAvg threshDiff threshRew threshEp threshBack\n",
       "93   0.03758235   0.3000666  13.98159  360      37370     \n",
       "101  0.04486439   0.3133317  22.70083  420      43430     \n",
       "102  0.03011752   0.3091950  10.27851  360      37370     \n",
       "122  0.03601932   0.3057647  12.89111  370      38380     \n",
       "191  0.01996917   0.3157559  21.15846  390      40400     \n",
       "243  0.03401730   0.3009320  19.94020  440      45450     \n",
       "366  0.07967879   0.3106592  22.62964  410      42420     \n",
       "374  0.05061047   0.3062990  20.41848  400      41410     \n",
       "472  0.07468639   0.3119880  11.68852  360      37370     \n",
       "491  0.08123751   0.3023440  14.05686  360      37370     \n",
       "570  0.04967867   0.3085652  11.24914  360      37370     \n",
       "640  0.07093710   0.3127182  20.38495  380      39390     \n",
       "660  0.06102423   0.2974943  12.42027  380      39390     \n",
       "805  0.02826764   0.2941147  14.77505  370      38380     \n",
       "831  0.02242039   0.3155336  10.90603  370      38380     \n",
       "1007 0.12135003   0.2944947  10.23393  390      40400     \n",
       "1251 0.03273710   0.3020757  11.22790  380      39390     \n",
       "1304 0.05028829   0.3036233  15.30198  360      37370     \n",
       "1355 0.04695242   0.3141946  18.70020  420      43430     \n",
       "1415 0.02767301   0.3035840  23.07387  410      42420     \n",
       "1496 0.06596848   0.3021506  25.43943  410      42420     \n",
       "1527 0.03566337   0.3079214  23.83587  410      42420     \n",
       "1569 0.03539768   0.3089267  14.34978  380      39390     \n",
       "1652 0.07551400   0.3098668  16.59675  400      41410     \n",
       "1757 0.03873039   0.3137004  21.34944  390      40400     \n",
       "1842 0.08461175   0.3048210  21.81059  410      42420     \n",
       "1864 0.10949464   0.3088919  23.40701  400      41410     \n",
       "1878 0.02721757   0.3133785  23.16608  400      41410     \n",
       "1900 0.07893312   0.3071722  22.81682  390      40400     \n",
       "1901 0.02846422   0.3040745   7.73784  370      38380     "
      ]
     },
     "metadata": {},
     "output_type": "display_data"
    },
    {
     "data": {
      "text/plain": [
       "\n",
       "Call:\n",
       "lm(formula = log10(T) ~ log10(N), data = data)\n",
       "\n",
       "Residuals:\n",
       "      Min        1Q    Median        3Q       Max \n",
       "-0.031518 -0.019775  0.002367  0.020967  0.053654 \n",
       "\n",
       "Coefficients:\n",
       "              Estimate Std. Error t value Pr(>|t|)    \n",
       "(Intercept)  4.6040409  0.0076675 600.460   <2e-16 ***\n",
       "log10(N)    -0.0001778  0.0103985  -0.017    0.986    \n",
       "---\n",
       "Signif. codes:  0 '***' 0.001 '**' 0.01 '*' 0.05 '.' 0.1 ' ' 1\n",
       "\n",
       "Residual standard error: 0.02425 on 28 degrees of freedom\n",
       "Multiple R-squared:  1.044e-05,\tAdjusted R-squared:  -0.0357 \n",
       "F-statistic: 0.0002924 on 1 and 28 DF,  p-value: 0.9865\n"
      ]
     },
     "metadata": {},
     "output_type": "display_data"
    },
    {
     "name": "stderr",
     "output_type": "stream",
     "text": [
      "\u001b[1m\u001b[22mSaving 6.67 x 6.67 in image\n"
     ]
    },
    {
     "data": {
      "image/png": "[encoded data removed]",
      "text/plain": [
       "plot without title"
      ]
     },
     "metadata": {
      "image/png": {
       "height": 420,
       "width": 420
      }
     },
     "output_type": "display_data"
    }
   ],
   "source": [
    "title <- \"Speedup for Fixed Alpha\"\n",
    "data <- dataFull[(dataFull$syncBackups == 1 | dataFull$syncBackups == -1) & dataFull$threshDiff ** 2 <= 0.1 & dataFull$alpha == 0.002,]\n",
    "data\n",
    "\n",
    "N = data$fedP\n",
    "T = data$threshBack\n",
    "model <- lm(log10(T) ~ log10(N), data)\n",
    "summary(model)\n",
    "predict <- cbind(data, predict(model, interval='confidence', newdata=data))\n",
    "\n",
    "\n",
    "p <- ggplot(predict, aes(x=log10(N), y=log10(T)))\n",
    "p <- p + ggtitle(title)\n",
    "p <- p + xlab(\"N Log Scale\") + ylab(\"Time Log Scale\")\n",
    "p <- p + theme(text = element_text(size = 16))\n",
    "p <- p + geom_point(aes(color = alpha)) \n",
    "p <- p + scale_color_gradientn(\"Alpha\", colors = c(\"black\", \"red\"))\n",
    "p <- p + geom_line(aes(log10(N), fit))\n",
    "p <- p + annotate(\"text\", x=0.5, y=4.65, label= lm_eqn(model), parse = TRUE, size=5)\n",
    "p <- p + geom_ribbon(aes(ymin=lwr,ymax=upr), alpha=0.2)\n",
    "p\n",
    "\n",
    "ggsave(filename=gsub(\" \", \"\", paste(\"featuredGraphs/\", title, \".png\"), fixed = TRUE), plot=p, device=\"png\")"
   ]
  },
  {
   "cell_type": "code",
   "execution_count": 11,
   "metadata": {
    "vscode": {
     "languageId": "r"
    }
   },
   "outputs": [
    {
     "data": {
      "text/html": [
       "<table class=\"dataframe\">\n",
       "<caption>A data.frame: 2 × 26</caption>\n",
       "<thead>\n",
       "\t<tr><th></th><th scope=col>convN</th><th scope=col>alpha</th><th scope=col>discount</th><th scope=col>epsilon</th><th scope=col>fedP</th><th scope=col>syncBackups</th><th scope=col>stochasticPolicy</th><th scope=col>envSeed</th><th scope=col>trial</th><th scope=col>sims</th><th scope=col>⋯</th><th scope=col>aggs</th><th scope=col>backups</th><th scope=col>endScoreStochBell</th><th scope=col>endScore</th><th scope=col>finalDiff</th><th scope=col>finalDiffAvg</th><th scope=col>threshDiff</th><th scope=col>threshRew</th><th scope=col>threshEp</th><th scope=col>threshBack</th></tr>\n",
       "\t<tr><th></th><th scope=col>&lt;int&gt;</th><th scope=col>&lt;dbl&gt;</th><th scope=col>&lt;dbl&gt;</th><th scope=col>&lt;dbl&gt;</th><th scope=col>&lt;int&gt;</th><th scope=col>&lt;int&gt;</th><th scope=col>&lt;chr&gt;</th><th scope=col>&lt;int&gt;</th><th scope=col>&lt;int&gt;</th><th scope=col>&lt;dbl&gt;</th><th scope=col>⋯</th><th scope=col>&lt;dbl&gt;</th><th scope=col>&lt;dbl&gt;</th><th scope=col>&lt;dbl&gt;</th><th scope=col>&lt;dbl&gt;</th><th scope=col>&lt;dbl&gt;</th><th scope=col>&lt;dbl&gt;</th><th scope=col>&lt;dbl&gt;</th><th scope=col>&lt;dbl&gt;</th><th scope=col>&lt;int&gt;</th><th scope=col>&lt;dbl&gt;</th></tr>\n",
       "</thead>\n",
       "<tbody>\n",
       "\t<tr><th scope=row>17</th><td>10</td><td>0.016</td><td>0.6</td><td>0</td><td>8</td><td>1</td><td>True</td><td>3701</td><td>1</td><td>40400</td><td>⋯</td><td>40320</td><td>40400</td><td>2007.561</td><td>3898.605</td><td>0.04771012</td><td>0.07580440</td><td>0.3139974</td><td>25.56619</td><td>40</td><td>5050</td></tr>\n",
       "\t<tr><th scope=row>20</th><td>10</td><td>0.016</td><td>0.6</td><td>0</td><td>8</td><td>1</td><td>True</td><td>3701</td><td>2</td><td>30300</td><td>⋯</td><td>30151</td><td>30300</td><td>2150.766</td><td>3898.605</td><td>0.05264867</td><td>0.08257617</td><td>0.2796279</td><td>20.61795</td><td>50</td><td>6060</td></tr>\n",
       "</tbody>\n",
       "</table>\n"
      ],
      "text/latex": [
       "A data.frame: 2 × 26\n",
       "\\begin{tabular}{r|lllllllllllllllllllll}\n",
       "  & convN & alpha & discount & epsilon & fedP & syncBackups & stochasticPolicy & envSeed & trial & sims & ⋯ & aggs & backups & endScoreStochBell & endScore & finalDiff & finalDiffAvg & threshDiff & threshRew & threshEp & threshBack\\\\\n",
       "  & <int> & <dbl> & <dbl> & <dbl> & <int> & <int> & <chr> & <int> & <int> & <dbl> & ⋯ & <dbl> & <dbl> & <dbl> & <dbl> & <dbl> & <dbl> & <dbl> & <dbl> & <int> & <dbl>\\\\\n",
       "\\hline\n",
       "\t17 & 10 & 0.016 & 0.6 & 0 & 8 & 1 & True & 3701 & 1 & 40400 & ⋯ & 40320 & 40400 & 2007.561 & 3898.605 & 0.04771012 & 0.07580440 & 0.3139974 & 25.56619 & 40 & 5050\\\\\n",
       "\t20 & 10 & 0.016 & 0.6 & 0 & 8 & 1 & True & 3701 & 2 & 30300 & ⋯ & 30151 & 30300 & 2150.766 & 3898.605 & 0.05264867 & 0.08257617 & 0.2796279 & 20.61795 & 50 & 6060\\\\\n",
       "\\end{tabular}\n"
      ],
      "text/markdown": [
       "\n",
       "A data.frame: 2 × 26\n",
       "\n",
       "| <!--/--> | convN &lt;int&gt; | alpha &lt;dbl&gt; | discount &lt;dbl&gt; | epsilon &lt;dbl&gt; | fedP &lt;int&gt; | syncBackups &lt;int&gt; | stochasticPolicy &lt;chr&gt; | envSeed &lt;int&gt; | trial &lt;int&gt; | sims &lt;dbl&gt; | ⋯ ⋯ | aggs &lt;dbl&gt; | backups &lt;dbl&gt; | endScoreStochBell &lt;dbl&gt; | endScore &lt;dbl&gt; | finalDiff &lt;dbl&gt; | finalDiffAvg &lt;dbl&gt; | threshDiff &lt;dbl&gt; | threshRew &lt;dbl&gt; | threshEp &lt;int&gt; | threshBack &lt;dbl&gt; |\n",
       "|---|---|---|---|---|---|---|---|---|---|---|---|---|---|---|---|---|---|---|---|---|---|\n",
       "| 17 | 10 | 0.016 | 0.6 | 0 | 8 | 1 | True | 3701 | 1 | 40400 | ⋯ | 40320 | 40400 | 2007.561 | 3898.605 | 0.04771012 | 0.07580440 | 0.3139974 | 25.56619 | 40 | 5050 |\n",
       "| 20 | 10 | 0.016 | 0.6 | 0 | 8 | 1 | True | 3701 | 2 | 30300 | ⋯ | 30151 | 30300 | 2150.766 | 3898.605 | 0.05264867 | 0.08257617 | 0.2796279 | 20.61795 | 50 | 6060 |\n",
       "\n"
      ],
      "text/plain": [
       "   convN alpha discount epsilon fedP syncBackups stochasticPolicy envSeed trial\n",
       "17 10    0.016 0.6      0       8    1           True             3701    1    \n",
       "20 10    0.016 0.6      0       8    1           True             3701    2    \n",
       "   sims  ⋯ aggs  backups endScoreStochBell endScore finalDiff  finalDiffAvg\n",
       "17 40400 ⋯ 40320 40400   2007.561          3898.605 0.04771012 0.07580440  \n",
       "20 30300 ⋯ 30151 30300   2150.766          3898.605 0.05264867 0.08257617  \n",
       "   threshDiff threshRew threshEp threshBack\n",
       "17 0.3139974  25.56619  40       5050      \n",
       "20 0.2796279  20.61795  50       6060      "
      ]
     },
     "metadata": {},
     "output_type": "display_data"
    },
    {
     "data": {
      "text/plain": [
       "\n",
       "Call:\n",
       "lm(formula = log10(T) ~ log10(N), data = data)\n",
       "\n",
       "Residuals:\n",
       "     Min       1Q   Median       3Q      Max \n",
       "-0.08029 -0.02672  0.01635  0.01843  0.05099 \n",
       "\n",
       "Coefficients:\n",
       "            Estimate Std. Error t value Pr(>|t|)    \n",
       "(Intercept)  4.59907    0.01116  412.27   <2e-16 ***\n",
       "log10(N)    -0.94347    0.01513  -62.36   <2e-16 ***\n",
       "---\n",
       "Signif. codes:  0 '***' 0.001 '**' 0.01 '*' 0.05 '.' 0.1 ' ' 1\n",
       "\n",
       "Residual standard error: 0.03528 on 28 degrees of freedom\n",
       "Multiple R-squared:  0.9929,\tAdjusted R-squared:  0.9926 \n",
       "F-statistic:  3889 on 1 and 28 DF,  p-value: < 2.2e-16\n"
      ]
     },
     "metadata": {},
     "output_type": "display_data"
    },
    {
     "name": "stderr",
     "output_type": "stream",
     "text": [
      "\u001b[1m\u001b[22mSaving 6.67 x 6.67 in image\n"
     ]
    },
    {
     "data": {
      "image/png": "[encoded data removed]",
      "text/plain": [
       "plot without title"
      ]
     },
     "metadata": {
      "image/png": {
       "height": 420,
       "width": 420
      }
     },
     "output_type": "display_data"
    }
   ],
   "source": [
    "title <- \"Linear Speedup for Alpha Adjusted by N\"\n",
    "A <- 0.002\n",
    "data <- dataFull[(dataFull$syncBackups == 1 | dataFull$syncBackups == -1) & dataFull$threshDiff ** 2 <= 0.1 & dataFull$alpha == A * dataFull$fedP,]\n",
    "head(data,2)\n",
    "\n",
    "N = data$fedP\n",
    "T = data$threshBack\n",
    "model <- lm(log10(T) ~ log10(N), data)\n",
    "summary(model)\n",
    "predict <- cbind(data, predict(model, interval='confidence', newdata=data))\n",
    "\n",
    "\n",
    "p <- ggplot(predict, aes(x=log10(N), y=log10(T)))\n",
    "p <- p + ggtitle(title)\n",
    "p <- p + xlab(\"N Log Scale\") + ylab(\"Time Log Scale\")\n",
    "p <- p + theme(text = element_text(size = 16))\n",
    "p <- p + geom_point(aes(color = alpha))\n",
    "p <- p + annotate(\"text\", x=0.75, y=4.5, label= lm_eqn(model), parse = TRUE, size=5)\n",
    "p <- p + scale_color_gradientn(\"Alpha\", colors = c(\"black\", \"red\"))\n",
    "p <- p + geom_line(aes(log10(N), fit))\n",
    "p <- p + geom_ribbon(aes(ymin=lwr,ymax=upr), alpha=0.2)\n",
    "p\n",
    "\n",
    "ggsave(filename=gsub(\" \", \"\", paste(\"featuredGraphs/\", title, \".png\"), fixed = TRUE), plot=p, device=\"png\")"
   ]
  },
  {
   "cell_type": "code",
   "execution_count": 12,
   "metadata": {
    "vscode": {
     "languageId": "r"
    }
   },
   "outputs": [
    {
     "data": {
      "text/html": [
       "<table class=\"dataframe\">\n",
       "<caption>A data.frame: 2 × 26</caption>\n",
       "<thead>\n",
       "\t<tr><th></th><th scope=col>convN</th><th scope=col>alpha</th><th scope=col>discount</th><th scope=col>epsilon</th><th scope=col>fedP</th><th scope=col>syncBackups</th><th scope=col>stochasticPolicy</th><th scope=col>envSeed</th><th scope=col>trial</th><th scope=col>sims</th><th scope=col>⋯</th><th scope=col>aggs</th><th scope=col>backups</th><th scope=col>endScoreStochBell</th><th scope=col>endScore</th><th scope=col>finalDiff</th><th scope=col>finalDiffAvg</th><th scope=col>threshDiff</th><th scope=col>threshRew</th><th scope=col>threshEp</th><th scope=col>threshBack</th></tr>\n",
       "\t<tr><th></th><th scope=col>&lt;int&gt;</th><th scope=col>&lt;dbl&gt;</th><th scope=col>&lt;dbl&gt;</th><th scope=col>&lt;dbl&gt;</th><th scope=col>&lt;int&gt;</th><th scope=col>&lt;int&gt;</th><th scope=col>&lt;chr&gt;</th><th scope=col>&lt;int&gt;</th><th scope=col>&lt;int&gt;</th><th scope=col>&lt;dbl&gt;</th><th scope=col>⋯</th><th scope=col>&lt;dbl&gt;</th><th scope=col>&lt;dbl&gt;</th><th scope=col>&lt;dbl&gt;</th><th scope=col>&lt;dbl&gt;</th><th scope=col>&lt;dbl&gt;</th><th scope=col>&lt;dbl&gt;</th><th scope=col>&lt;dbl&gt;</th><th scope=col>&lt;dbl&gt;</th><th scope=col>&lt;int&gt;</th><th scope=col>&lt;dbl&gt;</th></tr>\n",
       "</thead>\n",
       "<tbody>\n",
       "\t<tr><th scope=row>204</th><td>10</td><td>0.032</td><td>0.6</td><td>0</td><td>16</td><td>10000</td><td>True</td><td>3701</td><td>1</td><td>30300</td><td>⋯</td><td>3</td><td>30300</td><td>2154.848</td><td>3898.605</td><td>0.2949294</td><td>0.2374306</td><td>0.1753303</td><td>22.462991</td><td>20</td><td>3030</td></tr>\n",
       "\t<tr><th scope=row>227</th><td>10</td><td>0.032</td><td>0.6</td><td>1</td><td>16</td><td>10000</td><td>True</td><td>3701</td><td>2</td><td>30300</td><td>⋯</td><td>3</td><td>30300</td><td>2117.443</td><td>3898.605</td><td>0.1562354</td><td>0.3463481</td><td>0.2852583</td><td> 9.726253</td><td>20</td><td>3030</td></tr>\n",
       "</tbody>\n",
       "</table>\n"
      ],
      "text/latex": [
       "A data.frame: 2 × 26\n",
       "\\begin{tabular}{r|lllllllllllllllllllll}\n",
       "  & convN & alpha & discount & epsilon & fedP & syncBackups & stochasticPolicy & envSeed & trial & sims & ⋯ & aggs & backups & endScoreStochBell & endScore & finalDiff & finalDiffAvg & threshDiff & threshRew & threshEp & threshBack\\\\\n",
       "  & <int> & <dbl> & <dbl> & <dbl> & <int> & <int> & <chr> & <int> & <int> & <dbl> & ⋯ & <dbl> & <dbl> & <dbl> & <dbl> & <dbl> & <dbl> & <dbl> & <dbl> & <int> & <dbl>\\\\\n",
       "\\hline\n",
       "\t204 & 10 & 0.032 & 0.6 & 0 & 16 & 10000 & True & 3701 & 1 & 30300 & ⋯ & 3 & 30300 & 2154.848 & 3898.605 & 0.2949294 & 0.2374306 & 0.1753303 & 22.462991 & 20 & 3030\\\\\n",
       "\t227 & 10 & 0.032 & 0.6 & 1 & 16 & 10000 & True & 3701 & 2 & 30300 & ⋯ & 3 & 30300 & 2117.443 & 3898.605 & 0.1562354 & 0.3463481 & 0.2852583 &  9.726253 & 20 & 3030\\\\\n",
       "\\end{tabular}\n"
      ],
      "text/markdown": [
       "\n",
       "A data.frame: 2 × 26\n",
       "\n",
       "| <!--/--> | convN &lt;int&gt; | alpha &lt;dbl&gt; | discount &lt;dbl&gt; | epsilon &lt;dbl&gt; | fedP &lt;int&gt; | syncBackups &lt;int&gt; | stochasticPolicy &lt;chr&gt; | envSeed &lt;int&gt; | trial &lt;int&gt; | sims &lt;dbl&gt; | ⋯ ⋯ | aggs &lt;dbl&gt; | backups &lt;dbl&gt; | endScoreStochBell &lt;dbl&gt; | endScore &lt;dbl&gt; | finalDiff &lt;dbl&gt; | finalDiffAvg &lt;dbl&gt; | threshDiff &lt;dbl&gt; | threshRew &lt;dbl&gt; | threshEp &lt;int&gt; | threshBack &lt;dbl&gt; |\n",
       "|---|---|---|---|---|---|---|---|---|---|---|---|---|---|---|---|---|---|---|---|---|---|\n",
       "| 204 | 10 | 0.032 | 0.6 | 0 | 16 | 10000 | True | 3701 | 1 | 30300 | ⋯ | 3 | 30300 | 2154.848 | 3898.605 | 0.2949294 | 0.2374306 | 0.1753303 | 22.462991 | 20 | 3030 |\n",
       "| 227 | 10 | 0.032 | 0.6 | 1 | 16 | 10000 | True | 3701 | 2 | 30300 | ⋯ | 3 | 30300 | 2117.443 | 3898.605 | 0.1562354 | 0.3463481 | 0.2852583 |  9.726253 | 20 | 3030 |\n",
       "\n"
      ],
      "text/plain": [
       "    convN alpha discount epsilon fedP syncBackups stochasticPolicy envSeed\n",
       "204 10    0.032 0.6      0       16   10000       True             3701   \n",
       "227 10    0.032 0.6      1       16   10000       True             3701   \n",
       "    trial sims  ⋯ aggs backups endScoreStochBell endScore finalDiff\n",
       "204 1     30300 ⋯ 3    30300   2154.848          3898.605 0.2949294\n",
       "227 2     30300 ⋯ 3    30300   2117.443          3898.605 0.1562354\n",
       "    finalDiffAvg threshDiff threshRew threshEp threshBack\n",
       "204 0.2374306    0.1753303  22.462991 20       3030      \n",
       "227 0.3463481    0.2852583   9.726253 20       3030      "
      ]
     },
     "metadata": {},
     "output_type": "display_data"
    },
    {
     "data": {
      "text/plain": [
       "\n",
       "Call:\n",
       "lm(formula = log10(T) ~ log10(N), data = data)\n",
       "\n",
       "Residuals:\n",
       "      Min        1Q    Median        3Q       Max \n",
       "-0.193037 -0.054101 -0.003994  0.048868  0.307405 \n",
       "\n",
       "Coefficients:\n",
       "            Estimate Std. Error t value Pr(>|t|)    \n",
       "(Intercept)  4.57163    0.02913  156.96   <2e-16 ***\n",
       "log10(N)    -0.85508    0.03950  -21.65   <2e-16 ***\n",
       "---\n",
       "Signif. codes:  0 '***' 0.001 '**' 0.01 '*' 0.05 '.' 0.1 ' ' 1\n",
       "\n",
       "Residual standard error: 0.0921 on 28 degrees of freedom\n",
       "Multiple R-squared:  0.9436,\tAdjusted R-squared:  0.9416 \n",
       "F-statistic: 468.6 on 1 and 28 DF,  p-value: < 2.2e-16\n"
      ]
     },
     "metadata": {},
     "output_type": "display_data"
    },
    {
     "name": "stderr",
     "output_type": "stream",
     "text": [
      "\u001b[1m\u001b[22mSaving 6.67 x 6.67 in image\n"
     ]
    },
    {
     "data": {
      "image/png": "[encoded data removed]",
      "text/plain": [
       "plot without title"
      ]
     },
     "metadata": {
      "image/png": {
       "height": 420,
       "width": 420
      }
     },
     "output_type": "display_data"
    }
   ],
   "source": [
    "K <- 10000\n",
    "title <- paste(\"Linear Speedup for Alpha Adjusted by N with K\", K)\n",
    "data <- dataFull[(dataFull$syncBackups == K | dataFull$syncBackups == -1) & dataFull$threshDiff ** 2 <= 0.1 & dataFull$alpha == A * dataFull$fedP,]\n",
    "head(data,2)\n",
    "\n",
    "N = data$fedP\n",
    "T = data$threshBack\n",
    "model <- lm(log10(T) ~ log10(N), data)\n",
    "summary(model)\n",
    "predict <- cbind(data, predict(model, interval='confidence', newdata=data))\n",
    "\n",
    "\n",
    "p <- ggplot(predict, aes(x=log10(N), y=log10(T)))\n",
    "p <- p + ggtitle(title)\n",
    "p <- p + theme(text = element_text(size = 15))\n",
    "p <- p + xlab(\"N Log Scale\") + ylab(\"Time Log Scale\")\n",
    "p <- p + geom_point(aes(color = alpha))\n",
    "p <- p + annotate(\"text\", x=0.75, y=4.5, label= lm_eqn(model), parse = TRUE, size=5)\n",
    "p <- p + scale_color_gradientn(\"Alpha\", colors = c(\"black\", \"red\"))\n",
    "p <- p + geom_line(aes(log10(N), fit))\n",
    "p <- p + geom_ribbon(aes(ymin=lwr,ymax=upr), alpha=0.2)\n",
    "p\n",
    "\n",
    "ggsave(filename=gsub(\" \", \"\", paste(\"featuredGraphs/\", title, \".png\"), fixed = TRUE), plot=p, device=\"png\")"
   ]
  },
  {
   "cell_type": "code",
   "execution_count": 27,
   "metadata": {},
   "outputs": [
    {
     "data": {
      "text/html": [
       "<table class=\"dataframe\">\n",
       "<caption>A data.frame: 2 × 26</caption>\n",
       "<thead>\n",
       "\t<tr><th></th><th scope=col>convN</th><th scope=col>alpha</th><th scope=col>discount</th><th scope=col>epsilon</th><th scope=col>fedP</th><th scope=col>syncBackups</th><th scope=col>stochasticPolicy</th><th scope=col>envSeed</th><th scope=col>trial</th><th scope=col>sims</th><th scope=col>⋯</th><th scope=col>aggs</th><th scope=col>backups</th><th scope=col>endScoreStochBell</th><th scope=col>endScore</th><th scope=col>finalDiff</th><th scope=col>finalDiffAvg</th><th scope=col>threshDiff</th><th scope=col>threshRew</th><th scope=col>threshEp</th><th scope=col>threshBack</th></tr>\n",
       "\t<tr><th></th><th scope=col>&lt;int&gt;</th><th scope=col>&lt;dbl&gt;</th><th scope=col>&lt;dbl&gt;</th><th scope=col>&lt;dbl&gt;</th><th scope=col>&lt;int&gt;</th><th scope=col>&lt;int&gt;</th><th scope=col>&lt;chr&gt;</th><th scope=col>&lt;int&gt;</th><th scope=col>&lt;int&gt;</th><th scope=col>&lt;dbl&gt;</th><th scope=col>⋯</th><th scope=col>&lt;dbl&gt;</th><th scope=col>&lt;dbl&gt;</th><th scope=col>&lt;dbl&gt;</th><th scope=col>&lt;dbl&gt;</th><th scope=col>&lt;dbl&gt;</th><th scope=col>&lt;dbl&gt;</th><th scope=col>&lt;dbl&gt;</th><th scope=col>&lt;dbl&gt;</th><th scope=col>&lt;int&gt;</th><th scope=col>&lt;dbl&gt;</th></tr>\n",
       "</thead>\n",
       "<tbody>\n",
       "\t<tr><th scope=row>17</th><td>10</td><td>0.016</td><td>0.6</td><td>0</td><td>8</td><td>1</td><td>True</td><td>3701</td><td>1</td><td>40400</td><td>⋯</td><td>40320</td><td>40400</td><td>2007.561</td><td>3898.605</td><td>0.04771012</td><td>0.07580440</td><td>0.3139974</td><td>25.56619</td><td>40</td><td>5050</td></tr>\n",
       "\t<tr><th scope=row>20</th><td>10</td><td>0.016</td><td>0.6</td><td>0</td><td>8</td><td>1</td><td>True</td><td>3701</td><td>2</td><td>30300</td><td>⋯</td><td>30151</td><td>30300</td><td>2150.766</td><td>3898.605</td><td>0.05264867</td><td>0.08257617</td><td>0.2796279</td><td>20.61795</td><td>50</td><td>6060</td></tr>\n",
       "</tbody>\n",
       "</table>\n"
      ],
      "text/latex": [
       "A data.frame: 2 × 26\n",
       "\\begin{tabular}{r|lllllllllllllllllllll}\n",
       "  & convN & alpha & discount & epsilon & fedP & syncBackups & stochasticPolicy & envSeed & trial & sims & ⋯ & aggs & backups & endScoreStochBell & endScore & finalDiff & finalDiffAvg & threshDiff & threshRew & threshEp & threshBack\\\\\n",
       "  & <int> & <dbl> & <dbl> & <dbl> & <int> & <int> & <chr> & <int> & <int> & <dbl> & ⋯ & <dbl> & <dbl> & <dbl> & <dbl> & <dbl> & <dbl> & <dbl> & <dbl> & <int> & <dbl>\\\\\n",
       "\\hline\n",
       "\t17 & 10 & 0.016 & 0.6 & 0 & 8 & 1 & True & 3701 & 1 & 40400 & ⋯ & 40320 & 40400 & 2007.561 & 3898.605 & 0.04771012 & 0.07580440 & 0.3139974 & 25.56619 & 40 & 5050\\\\\n",
       "\t20 & 10 & 0.016 & 0.6 & 0 & 8 & 1 & True & 3701 & 2 & 30300 & ⋯ & 30151 & 30300 & 2150.766 & 3898.605 & 0.05264867 & 0.08257617 & 0.2796279 & 20.61795 & 50 & 6060\\\\\n",
       "\\end{tabular}\n"
      ],
      "text/markdown": [
       "\n",
       "A data.frame: 2 × 26\n",
       "\n",
       "| <!--/--> | convN &lt;int&gt; | alpha &lt;dbl&gt; | discount &lt;dbl&gt; | epsilon &lt;dbl&gt; | fedP &lt;int&gt; | syncBackups &lt;int&gt; | stochasticPolicy &lt;chr&gt; | envSeed &lt;int&gt; | trial &lt;int&gt; | sims &lt;dbl&gt; | ⋯ ⋯ | aggs &lt;dbl&gt; | backups &lt;dbl&gt; | endScoreStochBell &lt;dbl&gt; | endScore &lt;dbl&gt; | finalDiff &lt;dbl&gt; | finalDiffAvg &lt;dbl&gt; | threshDiff &lt;dbl&gt; | threshRew &lt;dbl&gt; | threshEp &lt;int&gt; | threshBack &lt;dbl&gt; |\n",
       "|---|---|---|---|---|---|---|---|---|---|---|---|---|---|---|---|---|---|---|---|---|---|\n",
       "| 17 | 10 | 0.016 | 0.6 | 0 | 8 | 1 | True | 3701 | 1 | 40400 | ⋯ | 40320 | 40400 | 2007.561 | 3898.605 | 0.04771012 | 0.07580440 | 0.3139974 | 25.56619 | 40 | 5050 |\n",
       "| 20 | 10 | 0.016 | 0.6 | 0 | 8 | 1 | True | 3701 | 2 | 30300 | ⋯ | 30151 | 30300 | 2150.766 | 3898.605 | 0.05264867 | 0.08257617 | 0.2796279 | 20.61795 | 50 | 6060 |\n",
       "\n"
      ],
      "text/plain": [
       "   convN alpha discount epsilon fedP syncBackups stochasticPolicy envSeed trial\n",
       "17 10    0.016 0.6      0       8    1           True             3701    1    \n",
       "20 10    0.016 0.6      0       8    1           True             3701    2    \n",
       "   sims  ⋯ aggs  backups endScoreStochBell endScore finalDiff  finalDiffAvg\n",
       "17 40400 ⋯ 40320 40400   2007.561          3898.605 0.04771012 0.07580440  \n",
       "20 30300 ⋯ 30151 30300   2150.766          3898.605 0.05264867 0.08257617  \n",
       "   threshDiff threshRew threshEp threshBack\n",
       "17 0.3139974  25.56619  40       5050      \n",
       "20 0.2796279  20.61795  50       6060      "
      ]
     },
     "metadata": {},
     "output_type": "display_data"
    },
    {
     "data": {
      "text/plain": [
       "\n",
       "Call:\n",
       "lm(formula = log10(T + commTime) ~ log10(N), data = data)\n",
       "\n",
       "Residuals:\n",
       "     Min       1Q   Median       3Q      Max \n",
       "-0.10259 -0.03823 -0.02741  0.05177  0.10608 \n",
       "\n",
       "Coefficients:\n",
       "            Estimate Std. Error t value Pr(>|t|)    \n",
       "(Intercept)  4.67511    0.01914  244.27  < 2e-16 ***\n",
       "log10(N)    -0.37909    0.02596  -14.61 1.27e-14 ***\n",
       "---\n",
       "Signif. codes:  0 '***' 0.001 '**' 0.01 '*' 0.05 '.' 0.1 ' ' 1\n",
       "\n",
       "Residual standard error: 0.06052 on 28 degrees of freedom\n",
       "Multiple R-squared:  0.884,\tAdjusted R-squared:  0.8798 \n",
       "F-statistic: 213.3 on 1 and 28 DF,  p-value: 1.27e-14\n"
      ]
     },
     "metadata": {},
     "output_type": "display_data"
    },
    {
     "name": "stderr",
     "output_type": "stream",
     "text": [
      "\u001b[1m\u001b[22mSaving 6.67 x 6.67 in image\n"
     ]
    },
    {
     "data": {
      "image/png": "[encoded data removed]",
      "text/plain": [
       "plot without title"
      ]
     },
     "metadata": {
      "image/png": {
       "height": 420,
       "width": 420
      }
     },
     "output_type": "display_data"
    }
   ],
   "source": [
    "K <- 1\n",
    "title <- paste(\"Linear Speedup for Alpha Adjusted by N with K\", K, \"\\n With Communication Time\")\n",
    "data <- dataFull[(dataFull$syncBackups == K | dataFull$syncBackups == -1) & dataFull$threshDiff ** 2 <= 0.1 & dataFull$alpha == A * dataFull$fedP,]\n",
    "head(data,2)\n",
    "\n",
    "N = data$fedP\n",
    "T = data$threshBack\n",
    "commTime = (T %/% K) * log2(N)\n",
    "\n",
    "model <- lm(log10(T + commTime) ~ log10(N), data)\n",
    "summary(model)\n",
    "predict <- cbind(data, predict(model, interval='confidence', newdata=data))\n",
    "\n",
    "# log(N) communication complexity, and T/K communications\n",
    "\n",
    "\n",
    "\n",
    "p <- ggplot(predict, aes(x=log10(N), y=log10(T + commTime)))\n",
    "p <- p + ggtitle(title)\n",
    "p <- p + theme(text = element_text(size = 15))\n",
    "p <- p + xlab(\"N Log Scale\") + ylab(\"Time Log Scale\")\n",
    "p <- p + geom_point(aes(color = alpha))\n",
    "p <- p + annotate(\"text\", x=0.75, y=4.6, label= lm_eqn(model), parse = TRUE, size=5)\n",
    "p <- p + scale_color_gradientn(\"Alpha\", colors = c(\"black\", \"red\"))\n",
    "p <- p + geom_line(aes(log10(N), fit))\n",
    "p <- p + geom_ribbon(aes(ymin=lwr,ymax=upr), alpha=0.2)\n",
    "p\n",
    "\n",
    "ggsave(filename=gsub(\"\\n\",\"\",gsub(\" \", \"\", paste(\"featuredGraphs/\", title, \".png\")), fixed = TRUE), plot=p, device=\"png\")"
   ]
  },
  {
   "cell_type": "markdown",
   "metadata": {},
   "source": [
    "$D^2 <= (1 – \\alpha)^T + \\frac{\\alpha}{N} + (K-1) \\alpha ^2$\n",
    "\n",
    "Since linear speedup is dependant on scaling alpha by N while getting the same steady state error, using a learning rate $\\alpha' = \\alpha N$, the equation is \n",
    "\n",
    "$D^2 <= (1 – \\alpha N)^T + \\alpha + (K-1) (\\alpha N) ^2$\n",
    "\n",
    "In the limit as K aproaches infinity, the equation should look the same as K=1 and N=1, since this is essentially independantly training N models.\n",
    "\n",
    "$D^2 <= (1 – \\alpha')^T + \\alpha'$"
   ]
  },
  {
   "cell_type": "code",
   "execution_count": null,
   "metadata": {
    "vscode": {
     "languageId": "r"
    }
   },
   "outputs": [],
   "source": [
    "title <- \"full dataset\"\n",
    "data <- dataFull\n",
    "data$syncBackups[data$syncBackups == -1] <- 1\n",
    "\n",
    "ifedP = 1/data$fedP\n",
    "NTerm = data$alpha/data$fedP\n",
    "KTerm = (data$syncBackups - 1) * (data$alpha ** 2)\n",
    "sqDiff = data$finalDiffAvg ** 2\n",
    "\n",
    "Nmodel <- lm(log10(sqDiff) ~ log10(NTerm), data)\n",
    "print(\"N term model\")\n",
    "summary(Nmodel)\n",
    "\n",
    "model <- lm(sqDiff ~ NTerm + KTerm, data)\n",
    "print(\"theoretical model\")\n",
    "summary(model)\n",
    "predict <- cbind(data, predict(model, interval='confidence', newdata=data))\n",
    "\n",
    "print(\"added other variables\")\n",
    "modelCofounded <- lm(sqDiff ~ NTerm + KTerm + I(alpha**2) + I(syncBackups - 1) + I((syncBackups - 1) * (alpha ** 1)) + I((syncBackups - 1) * (alpha ** 3)) + I((syncBackups - 1)**2 * (alpha ** 2)), data)\n",
    "summary(modelCofounded)\n",
    "\n",
    "\n",
    "p <- ggplot(predict, aes(x=log10(NTerm), y=log10(KTerm)))\n",
    "p <- p + ggtitle(title)\n",
    "p <- p + theme(text = element_text(size = 16))\n",
    "p <- p + xlab(\"N Term Log Scale\") + ylab(\"K Term Log Scale\")\n",
    "p <- p + theme(text = element_text(size = 16))\n",
    "p <- p + geom_point(aes(color = log(sqDiff))) \n",
    "p <- p + scale_color_gradientn(\"Log Error\", colors = c(\"black\", \"cyan\"))\n",
    "p"
   ]
  },
  {
   "cell_type": "code",
   "execution_count": null,
   "metadata": {
    "vscode": {
     "languageId": "r"
    }
   },
   "outputs": [],
   "source": [
    "title <- \"N 16\"\n",
    "data <- dataFull\n",
    "data$syncBackups[data$syncBackups == -1] <- 1\n",
    "\n",
    "ifedP = 1/data$fedP\n",
    "NTerm = data$alpha/data$fedP\n",
    "KTerm = (data$syncBackups - 1) * (data$alpha ** 2)\n",
    "sqDiff = data$finalDiffAvg ** 2\n",
    "\n",
    "# Nmodel <- lm(log10(sqDiff) ~ log10(NTerm), data)\n",
    "# print(\"N term model\")\n",
    "# summary(Nmodel)\n",
    "\n",
    "model <- lm(sqDiff ~ NTerm + KTerm, data)\n",
    "print(\"theoretical model\")\n",
    "summary(model)\n",
    "predict <- cbind(data, predict(model, interval='confidence', newdata=data))\n",
    "\n",
    "# print(\"added other variables\")\n",
    "# modelCofounded <- lm(sqDiff ~ NTerm + KTerm + I(alpha**2) + I(syncBackups - 1) + I((syncBackups - 1) * (alpha ** 1)) + I((syncBackups - 1) * (alpha ** 3)) + I((syncBackups - 1)**2 * (alpha ** 2)), data)\n",
    "# summary(modelCofounded)\n",
    "\n",
    "\n",
    "predictN16 <- predict[predict$fedP == 16 & predict$syncBackups != 1 & predict$syncBackups >= 1000 & predict$alpha >= 0.1, ]\n",
    "sort(unique(predictN16$alpha))\n",
    "sort(unique(predictN16$fedP))\n",
    "sort(unique(predictN16$syncBackups))\n",
    "\n",
    "NTermN16 = predictN16$alpha/predictN16$fedP\n",
    "KTermN16 = (predictN16$syncBackups - 1) * (predictN16$alpha ** 2)\n",
    "sqDiffN16 = predictN16$finalDiffAvg ** 2\n",
    "\n",
    "p <- ggplot(predictN16, aes(x=log10(KTermN16), y=log10(sqDiffN16)))\n",
    "p <- p + ggtitle(title)\n",
    "p <- p + theme(text = element_text(size = 16))\n",
    "p <- p + xlab(\"K Term Log Scale\") + ylab(\"Error Log Scale\")\n",
    "p <- p + geom_point(aes(color = log10(sqDiffN16))) \n",
    "p <- p + scale_color_gradientn(\"Log Error\", colors = c(\"black\", \"blue\"))\n",
    "p\n"
   ]
  },
  {
   "cell_type": "code",
   "execution_count": null,
   "metadata": {
    "vscode": {
     "languageId": "r"
    }
   },
   "outputs": [],
   "source": [
    "dataLargeN <- read.csv(\"mdpvK.csv\", header=TRUE)\n",
    "title <- \"N 256\"\n",
    "print(sort(unique(dataLargeN$fedP)))\n",
    "print(sort(unique(dataLargeN$alpha)))\n",
    "print(sort(unique(dataLargeN$syncBackups)))\n",
    "\n",
    "data = dataLargeN[dataLargeN$syncBackups <= 1000 & dataLargeN$syncBackups >= 20 & dataLargeN$alpha >= 0.1,]\n",
    "\n",
    "NTerm = data$alpha/data$fedP\n",
    "KTerm = (data$syncBackups - 1) * (data$alpha ** 2)\n",
    "sqDiff = data$finalDiffAvg ** 2\n",
    "\n",
    "# model <- lm(sqDiff ~ NTerm + KTerm, data)\n",
    "# print(\"N = 256, K != 1\")\n",
    "# summary(model)\n",
    "\n",
    "Frac = I(1/(data$fedP * data$alpha * (data$syncBackups - 1)))\n",
    "model <- lm(log10(sqDiff) ~ I(log10(data$syncBackups - 1)) + log10(data$alpha) + log10(1+Frac), data)\n",
    "print(\"New equation N = 16, K != 1\")\n",
    "summary(model)\n",
    "\n",
    "# print(coef(model)[2])\n",
    "# unname(coef(model)[1]) + \n",
    "# + unname(coef(model)[4]) * Frac\n",
    "KTermAdj = unname(coef(model)[2]) * log10((data$syncBackups - 1)) + unname(coef(model)[3]) * log10(data$alpha) + unname(coef(model)[4]) * log10(1+Frac)\n",
    "\n",
    "p <- ggplot(data, aes(x=KTermAdj, y=log10(sqDiff)))\n",
    "p <- p + ggtitle(title)\n",
    "p <- p + theme(text = element_text(size = 16))\n",
    "p <- p + xlab(\"K Term Adjusted Log Scale\") + ylab(\"Error Log Scale\")\n",
    "p <- p + geom_point(aes(color = log10(syncBackups))) \n",
    "p <- p + scale_color_gradientn(\"Log K\", colors = c(\"black\", \"cyan\"))\n",
    "p\n",
    "\n",
    "p <- ggplot(data, aes(x=log10(KTerm), y=log10(sqDiff)))\n",
    "p <- p + ggtitle(title)\n",
    "p <- p + theme(text = element_text(size = 16))\n",
    "p <- p + xlab(\"K Term Log Scale\") + ylab(\"Error Log Scale\")\n",
    "p <- p + geom_point(aes(color = log10(syncBackups))) \n",
    "p <- p + scale_color_gradientn(\"Log K\", colors = c(\"black\", \"cyan\"))\n",
    "p\n",
    "\n",
    "ggsave(filename=gsub(\" \", \"\", paste(\"featuredGraphs/\", title, \".png\"), fixed = TRUE), plot=p, device=\"png\")"
   ]
  },
  {
   "cell_type": "code",
   "execution_count": null,
   "metadata": {
    "vscode": {
     "languageId": "r"
    }
   },
   "outputs": [],
   "source": [
    "title <- \"Regression Slope from K/5 to K\"\n",
    "\n",
    "data = dataLargeN[dataLargeN$syncBackups <= 1000 & dataLargeN$syncBackups >= 20 & dataLargeN$alpha >= 0.1,]\n",
    "\n",
    "print(sort(unique(data$fedP)))\n",
    "print(sort(unique(data$alpha)))\n",
    "print(sort(unique(data$syncBackups)))\n",
    "\n",
    "Klist = sort(unique(data$syncBackups))\n",
    "regressions = data.frame(matrix(ncol=5,nrow=0, dimnames=list(NULL, c(\"K\", \"cInt\", \"cK\", \"cAlpha\", \"r2\"))))\n",
    "\n",
    "for (K in Klist){\n",
    "    if (K < 50){next}\n",
    "    Kmin = max(K / 5, 20)\n",
    "    # Kmin = 20\n",
    "    data = dataLargeN[dataLargeN$syncBackups <= K & dataLargeN$syncBackups >= Kmin & dataLargeN$alpha >= 0.2,]\n",
    "    \n",
    "    NTerm = data$alpha/data$fedP\n",
    "    KTerm = (data$syncBackups - 1) * (data$alpha ** 2)\n",
    "    sqDiff = data$finalDiffAvg ** 2\n",
    "\n",
    "    Frac = I(1/(data$fedP * data$alpha * (data$syncBackups - 1)))\n",
    "    model <- lm(log10(sqDiff) ~ I(log10(data$syncBackups - 1)) + log10(data$alpha) + log10(1+Frac), data)\n",
    "    \n",
    "    regressions[nrow(regressions) + 1,] = list(K, unname(coef(model)[1]), unname(coef(model)[2]), unname(coef(model)[3]), summary(model)$r.squared)\n",
    "    \n",
    "}\n",
    "head(regressions, 2)\n",
    "\n",
    "modelK <- lm(log10(cK) ~ log10(K), regressions)\n",
    "modelA <- lm(log10(cAlpha) ~ log10(K), regressions)\n",
    "summary(modelK)\n",
    "summary(modelA)\n",
    "\n",
    "p <- ggplot(regressions)\n",
    "p <- p + ggtitle(title)\n",
    "p <- p + theme(text = element_text(size = 16))\n",
    "p <- p + xlab(\"K Log Scale\") + ylab(\"Regression Value\")\n",
    "p <- p + geom_line(aes(x=log10(K), y=cInt, colour='Intercept'))\n",
    "p <- p + geom_line(aes(x=log10(K), y=cK, colour='K'))\n",
    "p <- p + geom_line(aes(x=log10(K), y=cAlpha, colour='Alpha'))\n",
    "p <- p + geom_line(aes(x=log10(K), y=r2, colour='R^2'))\n",
    "p <- p + scale_colour_manual(\"\", values=c('Intercept'='black', 'K'='blue', 'Alpha'='red', 'R^2'='dark green'))\n",
    "p\n",
    "\n",
    "ggsave(filename=gsub(\" \", \"\", paste(\"featuredGraphs/\", gsub(\"/\", \"\", title), \".png\"), fixed = TRUE), plot=p, device=\"png\")\n",
    "# p <- ggplot(regressions)\n",
    "# p <- p + ggtitle(title)\n",
    "# p <- p + geom_line(aes(x=log10(K), y=log10(cInt)), color=\"black\")\n",
    "# p <- p + geom_line(aes(x=log10(K), y=log10(cK)), color=\"blue\")\n",
    "# p <- p + geom_line(aes(x=log10(K), y=log10(cAlpha)), color=\"red\")\n",
    "# p <- p + geom_line(aes(x=log10(K), y=log10(r2)), color=\"dark green\")\n",
    "# p"
   ]
  },
  {
   "cell_type": "markdown",
   "metadata": {},
   "source": [
    "Linear Space K 1000 to 10000\n",
    "Larger N 256\n",
    "Alpha 0.1 to 0.6\n",
    "\n",
    "K might not be tight <= 1\n",
    "\n",
    "Reduce the fraction term to just get an isolated log of Kterm"
   ]
  },
  {
   "cell_type": "code",
   "execution_count": null,
   "metadata": {
    "vscode": {
     "languageId": "r"
    }
   },
   "outputs": [],
   "source": [
    "dataK1 <- dataFull[(dataFull$syncBackups == 1 | dataFull$syncBackups == -1),]\n",
    "NmodelK1 <- lm(finalDiffAvg ** 2 ~ I(alpha/fedP) - 1, dataK1)\n",
    "print(\"N term model K=1\")\n",
    "summary(NmodelK1)\n",
    "\n",
    "predictFromK1 <- cbind(data, predict(NmodelK1, interval='confidence', newdata=data))\n",
    "\n",
    "model <- lm(log10(finalDiffAvg ** 2 - fit) ~ log10(KTerm+0.0001), predictFromK1)\n",
    "print(\"theoretical model remove NTerm\")\n",
    "summary(model)"
   ]
  },
  {
   "cell_type": "code",
   "execution_count": null,
   "metadata": {
    "vscode": {
     "languageId": "r"
    }
   },
   "outputs": [],
   "source": []
  }
 ],
 "metadata": {
  "kernelspec": {
   "display_name": "R",
   "language": "R",
   "name": "ir"
  },
  "language_info": {
   "codemirror_mode": "r",
   "file_extension": ".r",
   "mimetype": "text/x-r-source",
   "name": "R",
   "pygments_lexer": "r",
   "version": "4.2.2"
  },
  "vscode": {
   "interpreter": {
    "hash": "3b839153e13da8333e687d0fea12db3ad5ee8992974d226aeda93e4063c64179"
   }
  }
 },
 "nbformat": 4,
 "nbformat_minor": 4
}
