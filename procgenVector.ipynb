{
 "cells": [
  {
   "cell_type": "code",
   "execution_count": 1,
   "metadata": {},
   "outputs": [
    {
     "name": "stdout",
     "output_type": "stream",
     "text": [
      "cuda:0\n"
     ]
    }
   ],
   "source": [
    "import torch\n",
    "from procgen import ProcgenGym3Env\n",
    "from torchinfo import summary\n",
    "import core\n",
    "\n",
    "device = torch.device(\"cuda:0\" if torch.cuda.is_available() else \"cpu\")\n",
    "print(device)\n",
    "\n",
    "model = None\n",
    "player = None\n",
    "ppo = None\n",
    "env= None\n",
    "envKW = {}\n",
    "\n",
    "# modelPath = \"/storage/home/hcoda1/2/meinhorn6/scratch/RL/models\"\n",
    "modelPath = \"models/\"\n",
    "def loadAll(fname, loadEnv=True):\n",
    "    model.load_state_dict(torch.load(modelPath + fname + \"/model.pth\"))\n",
    "    player.load_state_dict(torch.load(modelPath + fname + \"/player.pth\"))\n",
    "    ppo.load_state_dict(torch.load(modelPath + fname + \"/ppo.pth\"))\n",
    "    if loadEnv:\n",
    "        envKW = torch.load(modelPath + fname + \"/envKW.pth\")\n",
    "        env = ProcgenGym3Env(**envKW)\n",
    "        env.callmethod(\"set_state\", torch.load(modelPath + fname + \"/env_states.pth\"))\n",
    "    else:\n",
    "        player.reset()\n",
    "\n",
    "def saveAll(fname):\n",
    "    import os\n",
    "    os.makedirs(modelPath + fname, exist_ok=True)\n",
    "    torch.save(model.state_dict(), modelPath + fname + \"/model.pth\")\n",
    "    torch.save(player.state_dict(), modelPath + fname + \"/player.pth\")\n",
    "    torch.save(ppo.state_dict(), modelPath + fname + \"/ppo.pth\")\n",
    "    torch.save(envKW, modelPath + fname + \"/envKW.pth\")\n",
    "    torch.save(env.callmethod(\"get_state\"), modelPath + fname + \"/env_states.pth\")\n",
    "    torch.save(ppo.all_stats, modelPath + fname + \"/stats.pth\")\n",
    "    torch.save(player.trainEpisodeStats, modelPath + fname + \"/trainEpisodeStats.pth\")\n"
   ]
  },
  {
   "cell_type": "code",
   "execution_count": 2,
   "metadata": {},
   "outputs": [
    {
     "name": "stdout",
     "output_type": "stream",
     "text": [
      "Dict(rgb=D256[64,64,3])\n",
      "D15[]\n"
     ]
    }
   ],
   "source": [
    "num_models = 2\n",
    "num_agents = 64\n",
    "envKW = core.getKW(num=num_models*num_agents, env_name=\"coinrun\", distribution_mode=\"easy\", paint_vel_info=True, use_backgrounds=False, restrict_themes=True)\n",
    "env = ProcgenGym3Env(**envKW)\n",
    "print(env.ob_space)\n",
    "print(env.ac_space)"
   ]
  },
  {
   "cell_type": "code",
   "execution_count": 3,
   "metadata": {},
   "outputs": [
    {
     "data": {
      "text/plain": [
       "===============================================================================================\n",
       "Layer (type:depth-idx)                        Output Shape              Param #\n",
       "===============================================================================================\n",
       "VectorModelValue                              [2, 2, 15]                --\n",
       "├─ModuleList: 1-1                             --                        --\n",
       "│    └─ImpalaValue: 2-1                       [2, 15]                   --\n",
       "│    │    └─ImpalaModel: 3-1                  [2, 256]                  622,144\n",
       "│    │    └─Linear: 3-2                       [2, 15]                   3,855\n",
       "│    │    └─ValueHead: 3-3                    [2, 1]                    257\n",
       "│    └─ImpalaValue: 2-2                       [2, 15]                   --\n",
       "│    │    └─ImpalaModel: 3-4                  [2, 256]                  622,144\n",
       "│    │    └─Linear: 3-5                       [2, 15]                   3,855\n",
       "│    │    └─ValueHead: 3-6                    [2, 1]                    257\n",
       "===============================================================================================\n",
       "Total params: 1,252,512\n",
       "Trainable params: 1,252,512\n",
       "Non-trainable params: 0\n",
       "Total mult-adds (M): 125.39\n",
       "===============================================================================================\n",
       "Input size (MB): 0.20\n",
       "Forward/backward pass size (MB): 6.82\n",
       "Params size (MB): 0.81\n",
       "Estimated Total Size (MB): 7.83\n",
       "==============================================================================================="
      ]
     },
     "execution_count": 3,
     "metadata": {},
     "output_type": "execute_result"
    }
   ],
   "source": [
    "from CVModels import CNNAgent, ViTValue, ImpalaValue, VectorModelValue\n",
    "from CVModels import avgSync, sumSync\n",
    "modelName = \"Impala\"\n",
    "if modelName == \"Impala\":\n",
    "    model = ImpalaValue().to(device)\n",
    "elif modelName == \"ViT60\":\n",
    "    model = ViTValue(depth=4, num_heads=4, embed_dim=32, mlp_ratio=4, valueHeadLayers=1).to(device)\n",
    "elif modelName == \"ViT15\":\n",
    "    model = ViTValue(depth=3, num_heads=4, embed_dim=16, mlp_ratio=4, valueHeadLayers=1).to(device)\n",
    "elif modelName == \"resnet\":\n",
    "    model = CNNAgent([64, 64, 3], 15, channels=16, layers=[1,1,1,1], scale=[1,1,1,1], vheadLayers=1).to(device)\n",
    "# model = ViTValue(depth=3, num_heads=4, embed_dim=16, mlp_ratio=4, valueHeadLayers=1).to(device)\n",
    "model = VectorModelValue(model, n=num_models, syncFunc=avgSync).to(device)\n",
    "# model = CNNAgent([64, 64, 3], 15, channels=16, layers=[1,1,1,1], scale=[1,1,1,1], vheadLayers=1).to(device)\n",
    "model.train()\n",
    "summary(model, input_size=(2, 2, 3, 64, 64))"
   ]
  },
  {
   "cell_type": "code",
   "execution_count": 4,
   "metadata": {},
   "outputs": [
    {
     "name": "stdout",
     "output_type": "stream",
     "text": [
      "terminateReward 0.0 livingReward -0.001 discountedSumLiving -0.09999999999999991\n"
     ]
    }
   ],
   "source": [
    "# model.load_state_dict(torch.load(modelPath + \"vitNegT8BigFin\" + \"/model.pth\"))\n",
    "from PPO import VectorPPO\n",
    "from ProcgenPlayer import VectorPlayer\n",
    "\n",
    "gamma = 0.99\n",
    "# gamma = 0.999\n",
    "rewardScale = 10\n",
    "terminateReward = 1 - 10.0 / rewardScale\n",
    "\n",
    "# livingReward = 0\n",
    "livingReward = -1e-3\n",
    "# lr = 1e-3\n",
    "lr = 2.5e-4\n",
    "# ent_coef = 0\n",
    "ent_coef = 1e-2\n",
    "print(\"terminateReward\", terminateReward, \"livingReward\", livingReward, \"discountedSumLiving\", livingReward / (1 - gamma)) # if terminate reward > discountedSumLiving the agent will perfer to run into obstacles."
   ]
  },
  {
   "cell_type": "code",
   "execution_count": 5,
   "metadata": {},
   "outputs": [
    {
     "name": "stderr",
     "output_type": "stream",
     "text": [
      "c:\\ProgramData\\Miniconda3\\envs\\torch\\lib\\site-packages\\transformers\\optimization.py:306: FutureWarning: This implementation of AdamW is deprecated and will be removed in a future version. Use the PyTorch implementation torch.optim.AdamW instead, or set `no_deprecation_warning=True` to disable this warning\n",
      "  warnings.warn(\n"
     ]
    }
   ],
   "source": [
    "player = VectorPlayer(env, num_agents=num_agents, num_models=num_models, \n",
    "                      epsilon=0.01, epsilon_decay=1, \n",
    "                      rewardScale=rewardScale, livingReward=livingReward, terminateReward=terminateReward, \n",
    "                      finishedOnly=True, maxStaleSteps=64)\n",
    "ppo = VectorPPO(model, env, num_agents=num_agents, num_models=num_models, player=player, \n",
    "                lr=lr, gamma=gamma, ent_coef=ent_coef, weight_decay=0.0, \n",
    "                warmup_steps=10, train_steps=1000, sync_epochs=6,\n",
    "                batch_size=1, epochs_per_game=3)"
   ]
  },
  {
   "cell_type": "code",
   "execution_count": 6,
   "metadata": {},
   "outputs": [],
   "source": [
    "# from CVModels import printParams\n",
    "# # printParams(model.modelList)\n",
    "\n",
    "# print(list(model.modelList[0].parameters())[0].data, list(model.modelList[1].parameters())[0].data)\n",
    "# print(\"before sync\")\n",
    "# model.sync()\n",
    "# print(\"after sync\")\n",
    "# # printParams(model.modelList)\n",
    "# print(list(model.modelList[0].parameters())[0].data, list(model.modelList[1].parameters())[0].data)\n",
    "\n",
    "# paramList = list(zip(*[list(model.parameters()) for model in model.modelList]))\n",
    "# print(len(paramList)) # 42 num layers\n",
    "# print(len(paramList[0])) # 2 num models\n",
    "# print(paramList[0][0]) # param"
   ]
  },
  {
   "cell_type": "code",
   "execution_count": 7,
   "metadata": {},
   "outputs": [],
   "source": [
    "# ppo.runGame()\n",
    "# loss = ppo.train(debug=True)\n",
    "# print(loss)\n",
    "# import torchviz\n",
    "# torchviz.make_dot(torch.sum(loss), params=dict(model.named_parameters()))"
   ]
  },
  {
   "cell_type": "code",
   "execution_count": 8,
   "metadata": {},
   "outputs": [
    {
     "name": "stdout",
     "output_type": "stream",
     "text": [
      "{'alg_name': 'ppo', 'lr': 0.00025, 'gamma': 0.99, 'lam': 0.95, 'whiten': True, 'cliprange': 0.2, 'cliprange_value': 0.2, 'vf_coef': 0.5, 'epoch_steps': 256, 'epochs_per_game': 3, 'batch_size': 1, 'ent_coef': 0.01, 'weight_decay': 0.0, 'warmup_steps': 10, 'train_steps': 1000, 'sync_epochs': 6, 'sync_steps': -1}\n",
      "{'alg_name': 'ppo', 'epsilon': 0.01, 'epsilon_decay': 1, 'rewardScale': 10, 'livingReward': -0.001, 'terminateReward': 0.0, 'finishedOnly': True, 'maxStaleSteps': 64}\n",
      "{'num': 128, 'env_name': 'coinrun', 'distribution_mode': 'easy', 'paint_vel_info': True, 'use_backgrounds': False, 'restrict_themes': True}\n"
     ]
    }
   ],
   "source": [
    "# loadAll(\"vitNegT8BigFin\")\n",
    "print(ppo.params)\n",
    "print(player.params)\n",
    "print(envKW)"
   ]
  },
  {
   "cell_type": "code",
   "execution_count": 9,
   "metadata": {},
   "outputs": [
    {
     "name": "stdout",
     "output_type": "stream",
     "text": [
      "episodeLength [174.57142857142858, 162.57142857142858] episodeReward [-0.1745714368631265, -0.01971429158999984] \n",
      "epoch 2 steps 32768 \n",
      "loss tensor([-0.0300, -0.0289], dtype=torch.float64) policy tensor([-0.0037, -0.0026], dtype=torch.float64) \n",
      "value tensor([0.0004, 0.0004], dtype=torch.float64) entropy tensor([2.6759, 2.6728]) \n",
      "comms 2 data 9.555908203125 \n",
      "stale 0              \n",
      "episodeLength [255.57142857142858, 522.7878787878788] episodeReward [0.19897401970871664, -0.15915153528366124] \n",
      "epoch 32 steps 360448 \n",
      "loss tensor([-0.0300, -0.0303], dtype=torch.float64) policy tensor([-0.0039, -0.0036], dtype=torch.float64) \n",
      "value tensor([0.0005, 0.0002], dtype=torch.float64) entropy tensor([2.6597, 2.6926]) \n",
      "comms 12 data 57.33544921875 \n",
      "stale 64              \n",
      "episodeLength [141.0096153846154, 160.74774774774775] episodeReward [0.3109134606806597, 0.3257387373900578] \n",
      "epoch 62 steps 688128 \n",
      "loss tensor([-0.0331, -0.0323], dtype=torch.float64) policy tensor([-0.0083, -0.0071], dtype=torch.float64) \n",
      "value tensor([0.0007, 0.0007], dtype=torch.float64) entropy tensor([2.5594, 2.5872]) \n",
      "comms 22 data 105.114990234375 \n",
      "stale 64              \n",
      "episodeLength [70.20762711864407, 99.74534161490683] episodeReward [0.3874194941042441, 0.47168323246007265] \n",
      "epoch 92 steps 1015808 \n",
      "loss tensor([-0.0373, -0.0352], dtype=torch.float64) policy tensor([-0.0140, -0.0109], dtype=torch.float64) \n",
      "value tensor([0.0010, 0.0008], dtype=torch.float64) entropy tensor([2.4338, 2.5152]) \n",
      "comms 32 data 152.89453125 \n",
      "stale 64              \n",
      "episodeLength [59.36785714285714, 76.43231441048034] episodeReward [0.46920357543900276, 0.4082838454279707] \n",
      "epoch 122 steps 1343488 \n",
      "loss tensor([-0.0344, -0.0435], dtype=torch.float64) policy tensor([-0.0121, -0.0202], dtype=torch.float64) \n",
      "value tensor([0.0013, 0.0010], dtype=torch.float64) entropy tensor([2.3555, 2.4277]) \n",
      "comms 42 data 200.674072265625 \n",
      "stale 64              \n",
      "episodeLength [70.12145748987854, 59.633699633699635] episodeReward [0.3711740914407009, 0.40556776874669703] \n",
      "epoch 152 steps 1671168 \n",
      "loss tensor([-0.0402, -0.0367], dtype=torch.float64) policy tensor([-0.0173, -0.0151], dtype=torch.float64) \n",
      "value tensor([0.0011, 0.0012], dtype=torch.float64) entropy tensor([2.4031, 2.2850]) \n",
      "comms 52 data 248.45361328125 \n",
      "stale 64              \n",
      "episodeLength [60.798561151079134, 53.907120743034056] episodeReward [0.3636618731007409, 0.43835294497705385] \n",
      "epoch 182 steps 1998848 \n",
      "loss tensor([-0.0474, -0.0420], dtype=torch.float64) policy tensor([-0.0252, -0.0204], dtype=torch.float64) \n",
      "value tensor([0.0011, 0.0013], dtype=torch.float64) entropy tensor([2.3390, 2.2960]) \n",
      "comms 62 data 296.233154296875 \n",
      "stale 64              \n",
      "episodeLength [76.18055555555556, 60.01115241635688] episodeReward [0.33585648318748335, 0.3860855047728652] \n",
      "epoch 212 steps 2326528 \n",
      "loss tensor([-0.0472, -0.0418], dtype=torch.float64) policy tensor([-0.0245, -0.0198], dtype=torch.float64) \n",
      "value tensor([0.0010, 0.0013], dtype=torch.float64) entropy tensor([2.3695, 2.3326]) \n",
      "comms 72 data 344.0126953125 \n",
      "stale 64              \n",
      "episodeLength [64.87890625, 81.75714285714285] episodeReward [0.4155898468770829, 0.44205238383784445] \n",
      "epoch 242 steps 2654208 \n",
      "loss tensor([-0.0418, -0.0428], dtype=torch.float64) policy tensor([-0.0197, -0.0198], dtype=torch.float64) \n",
      "value tensor([0.0014, 0.0012], dtype=torch.float64) entropy tensor([2.3518, 2.4081]) \n",
      "comms 82 data 391.792236328125 \n",
      "stale 64              \n",
      "episodeLength [68.68379446640316, 72.21645021645021] episodeReward [0.41352964723768015, 0.3650129892328125] \n",
      "epoch 272 steps 2981888 \n",
      "loss tensor([-0.0373, -0.0431], dtype=torch.float64) policy tensor([-0.0151, -0.0206], dtype=torch.float64) \n",
      "value tensor([0.0013, 0.0011], dtype=torch.float64) entropy tensor([2.3478, 2.3640]) \n",
      "comms 92 data 439.57177734375 \n",
      "stale 64              \n"
     ]
    },
    {
     "ename": "KeyboardInterrupt",
     "evalue": "",
     "output_type": "error",
     "traceback": [
      "\u001b[1;31m---------------------------------------------------------------------------\u001b[0m",
      "\u001b[1;31mKeyboardInterrupt\u001b[0m                         Traceback (most recent call last)",
      "\u001b[1;32mc:\\Users\\Michael Einhorn\\Documents\\GTML\\RL\\procgenVector.ipynb Cell 9\u001b[0m in \u001b[0;36m<cell line: 1>\u001b[1;34m()\u001b[0m\n\u001b[0;32m      <a href='vscode-notebook-cell:/c%3A/Users/Michael%20Einhorn/Documents/GTML/RL/procgenVector.ipynb#X11sZmlsZQ%3D%3D?line=0'>1</a>\u001b[0m \u001b[39mfor\u001b[39;00m i \u001b[39min\u001b[39;00m \u001b[39mrange\u001b[39m(\u001b[39m400\u001b[39m):\n\u001b[0;32m      <a href='vscode-notebook-cell:/c%3A/Users/Michael%20Einhorn/Documents/GTML/RL/procgenVector.ipynb#X11sZmlsZQ%3D%3D?line=1'>2</a>\u001b[0m     ppo\u001b[39m.\u001b[39mrunGame()\n\u001b[1;32m----> <a href='vscode-notebook-cell:/c%3A/Users/Michael%20Einhorn/Documents/GTML/RL/procgenVector.ipynb#X11sZmlsZQ%3D%3D?line=2'>3</a>\u001b[0m     ppo\u001b[39m.\u001b[39;49mtrain()\n\u001b[0;32m      <a href='vscode-notebook-cell:/c%3A/Users/Michael%20Einhorn/Documents/GTML/RL/procgenVector.ipynb#X11sZmlsZQ%3D%3D?line=3'>4</a>\u001b[0m     \u001b[39mif\u001b[39;00m i \u001b[39m%\u001b[39m \u001b[39m10\u001b[39m \u001b[39m==\u001b[39m \u001b[39m0\u001b[39m:\n\u001b[0;32m      <a href='vscode-notebook-cell:/c%3A/Users/Michael%20Einhorn/Documents/GTML/RL/procgenVector.ipynb#X11sZmlsZQ%3D%3D?line=4'>5</a>\u001b[0m         \u001b[39m# print(\"episodeLength\", ppo.all_stats[-1][\"game/episodeLength\"], \"episodeReward\", ppo.all_stats[-1][\"game/episodeReward\"],\u001b[39;00m\n\u001b[0;32m      <a href='vscode-notebook-cell:/c%3A/Users/Michael%20Einhorn/Documents/GTML/RL/procgenVector.ipynb#X11sZmlsZQ%3D%3D?line=5'>6</a>\u001b[0m         \u001b[39m#       \"epoch\", ppo.all_stats[-1][\"epoch\"], \"steps\", ppo.all_stats[-1][\"steps\"], \u001b[39;00m\n\u001b[0;32m      <a href='vscode-notebook-cell:/c%3A/Users/Michael%20Einhorn/Documents/GTML/RL/procgenVector.ipynb#X11sZmlsZQ%3D%3D?line=6'>7</a>\u001b[0m         \u001b[39m#       \"\\nloss\", ppo.all_stats[-1][\"ppo/loss/total\"].item(), \"policy\", ppo.all_stats[-1][\"ppo/loss/policy\"].item(), \u001b[39;00m\n\u001b[0;32m      <a href='vscode-notebook-cell:/c%3A/Users/Michael%20Einhorn/Documents/GTML/RL/procgenVector.ipynb#X11sZmlsZQ%3D%3D?line=7'>8</a>\u001b[0m         \u001b[39m#       \"value\", ppo.all_stats[-1][\"ppo/loss/value\"].item(),\u001b[39;00m\n\u001b[0;32m      <a href='vscode-notebook-cell:/c%3A/Users/Michael%20Einhorn/Documents/GTML/RL/procgenVector.ipynb#X11sZmlsZQ%3D%3D?line=8'>9</a>\u001b[0m         \u001b[39m#       \"entropy\", ppo.all_stats[-1][\"ppo/policy/entropy\"].item())\u001b[39;00m\n\u001b[0;32m     <a href='vscode-notebook-cell:/c%3A/Users/Michael%20Einhorn/Documents/GTML/RL/procgenVector.ipynb#X11sZmlsZQ%3D%3D?line=9'>10</a>\u001b[0m         \u001b[39mprint\u001b[39m(\u001b[39mf\u001b[39m\u001b[39m\"\u001b[39m\u001b[39mepisodeLength \u001b[39m\u001b[39m{\u001b[39;00mppo\u001b[39m.\u001b[39mall_stats[\u001b[39m-\u001b[39m\u001b[39m1\u001b[39m][\u001b[39m'\u001b[39m\u001b[39mgame/episodeLength\u001b[39m\u001b[39m'\u001b[39m]\u001b[39m}\u001b[39;00m\u001b[39m episodeReward \u001b[39m\u001b[39m{\u001b[39;00mppo\u001b[39m.\u001b[39mall_stats[\u001b[39m-\u001b[39m\u001b[39m1\u001b[39m][\u001b[39m'\u001b[39m\u001b[39mgame/episodeReward\u001b[39m\u001b[39m'\u001b[39m]\u001b[39m}\u001b[39;00m\u001b[39m \u001b[39m\u001b[39m\"\u001b[39m \u001b[39m+\u001b[39m \n\u001b[0;32m     <a href='vscode-notebook-cell:/c%3A/Users/Michael%20Einhorn/Documents/GTML/RL/procgenVector.ipynb#X11sZmlsZQ%3D%3D?line=10'>11</a>\u001b[0m               \u001b[39mf\u001b[39m\u001b[39m\"\u001b[39m\u001b[39m\\n\u001b[39;00m\u001b[39mepoch \u001b[39m\u001b[39m{\u001b[39;00mppo\u001b[39m.\u001b[39mall_stats[\u001b[39m-\u001b[39m\u001b[39m1\u001b[39m][\u001b[39m'\u001b[39m\u001b[39mepoch\u001b[39m\u001b[39m'\u001b[39m]\u001b[39m}\u001b[39;00m\u001b[39m steps \u001b[39m\u001b[39m{\u001b[39;00mppo\u001b[39m.\u001b[39mall_stats[\u001b[39m-\u001b[39m\u001b[39m1\u001b[39m][\u001b[39m'\u001b[39m\u001b[39msteps\u001b[39m\u001b[39m'\u001b[39m]\u001b[39m}\u001b[39;00m\u001b[39m \u001b[39m\u001b[39m\"\u001b[39m \u001b[39m+\u001b[39m\n\u001b[0;32m     <a href='vscode-notebook-cell:/c%3A/Users/Michael%20Einhorn/Documents/GTML/RL/procgenVector.ipynb#X11sZmlsZQ%3D%3D?line=11'>12</a>\u001b[0m               \u001b[39mf\u001b[39m\u001b[39m\"\u001b[39m\u001b[39m\\n\u001b[39;00m\u001b[39mloss \u001b[39m\u001b[39m{\u001b[39;00mppo\u001b[39m.\u001b[39mall_stats[\u001b[39m-\u001b[39m\u001b[39m1\u001b[39m][\u001b[39m'\u001b[39m\u001b[39mppo/loss/total\u001b[39m\u001b[39m'\u001b[39m]\u001b[39m}\u001b[39;00m\u001b[39m policy \u001b[39m\u001b[39m{\u001b[39;00mppo\u001b[39m.\u001b[39mall_stats[\u001b[39m-\u001b[39m\u001b[39m1\u001b[39m][\u001b[39m'\u001b[39m\u001b[39mppo/loss/policy\u001b[39m\u001b[39m'\u001b[39m]\u001b[39m}\u001b[39;00m\u001b[39m \u001b[39m\u001b[39m\"\u001b[39m \u001b[39m+\u001b[39m\n\u001b[0;32m     <a href='vscode-notebook-cell:/c%3A/Users/Michael%20Einhorn/Documents/GTML/RL/procgenVector.ipynb#X11sZmlsZQ%3D%3D?line=12'>13</a>\u001b[0m               \u001b[39mf\u001b[39m\u001b[39m\"\u001b[39m\u001b[39m\\n\u001b[39;00m\u001b[39mvalue \u001b[39m\u001b[39m{\u001b[39;00mppo\u001b[39m.\u001b[39mall_stats[\u001b[39m-\u001b[39m\u001b[39m1\u001b[39m][\u001b[39m'\u001b[39m\u001b[39mppo/loss/value\u001b[39m\u001b[39m'\u001b[39m]\u001b[39m}\u001b[39;00m\u001b[39m entropy \u001b[39m\u001b[39m{\u001b[39;00mppo\u001b[39m.\u001b[39mall_stats[\u001b[39m-\u001b[39m\u001b[39m1\u001b[39m][\u001b[39m'\u001b[39m\u001b[39mppo/policy/entropy\u001b[39m\u001b[39m'\u001b[39m]\u001b[39m}\u001b[39;00m\u001b[39m \u001b[39m\u001b[39m\"\u001b[39m \u001b[39m+\u001b[39m\n\u001b[0;32m     <a href='vscode-notebook-cell:/c%3A/Users/Michael%20Einhorn/Documents/GTML/RL/procgenVector.ipynb#X11sZmlsZQ%3D%3D?line=13'>14</a>\u001b[0m               \u001b[39mf\u001b[39m\u001b[39m\"\u001b[39m\u001b[39m\\n\u001b[39;00m\u001b[39mcomms \u001b[39m\u001b[39m{\u001b[39;00mppo\u001b[39m.\u001b[39mall_stats[\u001b[39m-\u001b[39m\u001b[39m1\u001b[39m][\u001b[39m'\u001b[39m\u001b[39msync/comms\u001b[39m\u001b[39m'\u001b[39m]\u001b[39m}\u001b[39;00m\u001b[39m data \u001b[39m\u001b[39m{\u001b[39;00mppo\u001b[39m.\u001b[39mall_stats[\u001b[39m-\u001b[39m\u001b[39m1\u001b[39m][\u001b[39m'\u001b[39m\u001b[39msync/data\u001b[39m\u001b[39m'\u001b[39m]\u001b[39m}\u001b[39;00m\u001b[39m \u001b[39m\u001b[39m\"\u001b[39m \u001b[39m+\u001b[39m\n\u001b[0;32m     <a href='vscode-notebook-cell:/c%3A/Users/Michael%20Einhorn/Documents/GTML/RL/procgenVector.ipynb#X11sZmlsZQ%3D%3D?line=14'>15</a>\u001b[0m               \u001b[39mf\u001b[39m\u001b[39m\"\u001b[39m\u001b[39m\\n\u001b[39;00m\u001b[39mstale \u001b[39m\u001b[39m{\u001b[39;00mppo\u001b[39m.\u001b[39mall_stats[\u001b[39m-\u001b[39m\u001b[39m1\u001b[39m][\u001b[39m'\u001b[39m\u001b[39mgame/staleSteps\u001b[39m\u001b[39m'\u001b[39m]\u001b[39m}\u001b[39;00m\u001b[39m              \u001b[39m\u001b[39m\"\u001b[39m)\n",
      "File \u001b[1;32mc:\\Users\\Michael Einhorn\\Documents\\GTML\\RL\\PPO.py:382\u001b[0m, in \u001b[0;36mVectorPPO.train\u001b[1;34m(self, debug)\u001b[0m\n\u001b[0;32m    380\u001b[0m t \u001b[39m=\u001b[39m time\u001b[39m.\u001b[39mtime()\n\u001b[0;32m    381\u001b[0m lossSum \u001b[39m=\u001b[39m torch\u001b[39m.\u001b[39msum(loss)\n\u001b[1;32m--> 382\u001b[0m lossSum\u001b[39m.\u001b[39;49mbackward()\n\u001b[0;32m    383\u001b[0m \u001b[39mself\u001b[39m\u001b[39m.\u001b[39mtiming[\u001b[39mf\u001b[39m\u001b[39m\"\u001b[39m\u001b[39mtime/\u001b[39m\u001b[39m{\u001b[39;00m\u001b[39mself\u001b[39m\u001b[39m.\u001b[39malg_name\u001b[39m}\u001b[39;00m\u001b[39m/backward\u001b[39m\u001b[39m\"\u001b[39m] \u001b[39m+\u001b[39m\u001b[39m=\u001b[39m time\u001b[39m.\u001b[39mtime() \u001b[39m-\u001b[39m t\n\u001b[0;32m    384\u001b[0m t \u001b[39m=\u001b[39m time\u001b[39m.\u001b[39mtime()\n",
      "File \u001b[1;32mc:\\ProgramData\\Miniconda3\\envs\\torch\\lib\\site-packages\\torch\\_tensor.py:396\u001b[0m, in \u001b[0;36mTensor.backward\u001b[1;34m(self, gradient, retain_graph, create_graph, inputs)\u001b[0m\n\u001b[0;32m    387\u001b[0m \u001b[39mif\u001b[39;00m has_torch_function_unary(\u001b[39mself\u001b[39m):\n\u001b[0;32m    388\u001b[0m     \u001b[39mreturn\u001b[39;00m handle_torch_function(\n\u001b[0;32m    389\u001b[0m         Tensor\u001b[39m.\u001b[39mbackward,\n\u001b[0;32m    390\u001b[0m         (\u001b[39mself\u001b[39m,),\n\u001b[1;32m   (...)\u001b[0m\n\u001b[0;32m    394\u001b[0m         create_graph\u001b[39m=\u001b[39mcreate_graph,\n\u001b[0;32m    395\u001b[0m         inputs\u001b[39m=\u001b[39minputs)\n\u001b[1;32m--> 396\u001b[0m torch\u001b[39m.\u001b[39;49mautograd\u001b[39m.\u001b[39;49mbackward(\u001b[39mself\u001b[39;49m, gradient, retain_graph, create_graph, inputs\u001b[39m=\u001b[39;49minputs)\n",
      "File \u001b[1;32mc:\\ProgramData\\Miniconda3\\envs\\torch\\lib\\site-packages\\torch\\autograd\\__init__.py:173\u001b[0m, in \u001b[0;36mbackward\u001b[1;34m(tensors, grad_tensors, retain_graph, create_graph, grad_variables, inputs)\u001b[0m\n\u001b[0;32m    168\u001b[0m     retain_graph \u001b[39m=\u001b[39m create_graph\n\u001b[0;32m    170\u001b[0m \u001b[39m# The reason we repeat same the comment below is that\u001b[39;00m\n\u001b[0;32m    171\u001b[0m \u001b[39m# some Python versions print out the first line of a multi-line function\u001b[39;00m\n\u001b[0;32m    172\u001b[0m \u001b[39m# calls in the traceback and some print out the last line\u001b[39;00m\n\u001b[1;32m--> 173\u001b[0m Variable\u001b[39m.\u001b[39;49m_execution_engine\u001b[39m.\u001b[39;49mrun_backward(  \u001b[39m# Calls into the C++ engine to run the backward pass\u001b[39;49;00m\n\u001b[0;32m    174\u001b[0m     tensors, grad_tensors_, retain_graph, create_graph, inputs,\n\u001b[0;32m    175\u001b[0m     allow_unreachable\u001b[39m=\u001b[39;49m\u001b[39mTrue\u001b[39;49;00m, accumulate_grad\u001b[39m=\u001b[39;49m\u001b[39mTrue\u001b[39;49;00m)\n",
      "\u001b[1;31mKeyboardInterrupt\u001b[0m: "
     ]
    }
   ],
   "source": [
    "for i in range(300 // ppo.params['epochs_per_game']):\n",
    "    ppo.runGame()\n",
    "    ppo.train()\n",
    "    if i % 10 == 0:\n",
    "        # print(\"episodeLength\", ppo.all_stats[-1][\"game/episodeLength\"], \"episodeReward\", ppo.all_stats[-1][\"game/episodeReward\"],\n",
    "        #       \"epoch\", ppo.all_stats[-1][\"epoch\"], \"steps\", ppo.all_stats[-1][\"steps\"], \n",
    "        #       \"\\nloss\", ppo.all_stats[-1][\"ppo/loss/total\"].item(), \"policy\", ppo.all_stats[-1][\"ppo/loss/policy\"].item(), \n",
    "        #       \"value\", ppo.all_stats[-1][\"ppo/loss/value\"].item(),\n",
    "        #       \"entropy\", ppo.all_stats[-1][\"ppo/policy/entropy\"].item())\n",
    "        print(f\"episodeLength {ppo.all_stats[-1]['game/episodeLength']} episodeReward {ppo.all_stats[-1]['game/episodeReward']} \" + \n",
    "              f\"\\nepoch {ppo.all_stats[-1]['epoch']} steps {ppo.all_stats[-1]['steps']} \" +\n",
    "              f\"\\nloss {ppo.all_stats[-1]['ppo/loss/total']} policy {ppo.all_stats[-1]['ppo/loss/policy']} \" +\n",
    "              f\"\\nvalue {ppo.all_stats[-1]['ppo/loss/value']} entropy {ppo.all_stats[-1]['ppo/policy/entropy']} \" +\n",
    "              f\"\\ncomms {ppo.all_stats[-1]['sync/comms']} data {ppo.all_stats[-1]['sync/data']} \" +\n",
    "              f\"\\nstale {ppo.all_stats[-1]['game/staleSteps']}              \")\n",
    "        # print(ppo.all_stats[-1])\n",
    "    else:\n",
    "        print(f\"episodeLength {ppo.all_stats[-1]['game/episodeLength']} episodeReward {ppo.all_stats[-1]['game/episodeReward']}               \", end=\"\\r\")\n",
    "        \n",
    "    if i % (50 // ppo.params['epochs_per_game']) == 0:\n",
    "        saveAll(f\"vector{modelName}{ppo.all_stats[-1]['epoch']}RS{rewardScale}G{gamma}Lv{livingReward!=0}_4-9\")\n",
    "saveAll(f\"vector{modelName}{ppo.all_stats[-1]['epoch']}RS{rewardScale}G{gamma}Lv{livingReward!=0}_4-9\")"
   ]
  },
  {
   "cell_type": "code",
   "execution_count": 2,
   "metadata": {},
   "outputs": [],
   "source": [
    "import matplotlib.pyplot as plt\n",
    "import os\n",
    "import numpy as np\n",
    "\n",
    "\n",
    "filesC = os.listdir(modelPath)\n",
    "modelName = \"impalaVectorV1\"\n",
    "n = 1\n",
    "k = 1\n",
    "t = 0\n",
    "# prefix = f\"{modelName}-t{t}-k{k}-n{n}\"\n",
    "# filesC = [f for f in filesC if prefix in f]\n",
    "# filesC = [f for f in filesC if \"4-16\" in f]\n",
    "# print(filesC)\n",
    "\n",
    "# modelname = modelPath + \"/\" + filesC[0]\n",
    "# print(modelname)\n",
    "\n",
    "# all_stats = torch.load(modelname + \"/stats.pth\")\n",
    "# trainEpisodeStats = torch.load(modelname + \"/trainEpisodeStats.pth\")\n",
    "prefix = \"impalaVectorV1-t0-k1-n8-E2498-RS10-G0.99-LvFalse_4-16\"\n",
    "all_stats = torch.load(modelPath + prefix + \"_stats.pth\")"
   ]
  },
  {
   "cell_type": "code",
   "execution_count": 3,
   "metadata": {},
   "outputs": [
    {
     "name": "stdout",
     "output_type": "stream",
     "text": [
      "2499\n",
      "dict_keys(['epoch', 'steps', 'objective/vf_coef', 'objective/ent_coef', 'objective/lr', 'game/episodeLength', 'game/nonZeroReward', 'game/episodeReward', 'game/discountedReward', 'game/advantageMean_PreWhiten', 'game/advantageStd_PreWhiten', 'game/staleSteps', 'ppo/reward', 'ppo/loss/policy', 'ppo/loss/value', 'ppo/loss/ent', 'ppo/loss/total', 'ppo/policy/entropy', 'ppo/policy/approxkl', 'ppo/policy/policykl', 'ppo/policy/clipfrac', 'ppo/policy/advantages_mean', 'ppo/policy/ratio_mean', 'ppo/returns/mean', 'ppo/returns/var', 'ppo/val/vpred', 'ppo/val/clipfrac', 'ppo/val/mean', 'ppo/val/var', 'sync/comms', 'sync/data', 'time/runGame', 'time/computeAdvantages', 'time/ppo/forward', 'time/ppo/backward', 'time/ppo/optim', 'time/ppo/stats', 'time/sync', 'time/epoch', 'time/game/observe', 'time/game/act', 'time/game/forward', 'time/game/stats', 'time/game/transition'])\n"
     ]
    }
   ],
   "source": [
    "print(len(all_stats))\n",
    "print(all_stats[0].keys())"
   ]
  },
  {
   "cell_type": "code",
   "execution_count": 10,
   "metadata": {},
   "outputs": [
    {
     "ename": "NameError",
     "evalue": "name 'trainEpisodeStats' is not defined",
     "output_type": "error",
     "traceback": [
      "\u001b[1;31m---------------------------------------------------------------------------\u001b[0m",
      "\u001b[1;31mNameError\u001b[0m                                 Traceback (most recent call last)",
      "\u001b[1;32mc:\\Users\\Michael Einhorn\\Documents\\GTML\\RL\\procgenVector.ipynb Cell 12\u001b[0m in \u001b[0;36m<cell line: 1>\u001b[1;34m()\u001b[0m\n\u001b[1;32m----> <a href='vscode-notebook-cell:/c%3A/Users/Michael%20Einhorn/Documents/GTML/RL/procgenVector.ipynb#X14sZmlsZQ%3D%3D?line=0'>1</a>\u001b[0m \u001b[39mprint\u001b[39m(\u001b[39mlen\u001b[39m(trainEpisodeStats))\n",
      "\u001b[1;31mNameError\u001b[0m: name 'trainEpisodeStats' is not defined"
     ]
    }
   ],
   "source": [
    "print(len(trainEpisodeStats))\n",
    "# [currentSteps, currentEpoch, j, i, self.sumRew[j][i], self.sumDiscountRew[j][i], self.zeroRew[j][i], self.timeStep - self.startSteps[j][i]]\n",
    "# step, epoch, j, i, sumRew, sumDiscountRew, zeroRew, episodeLength\n",
    "# print(trainEpisodeStats[2000])"
   ]
  },
  {
   "cell_type": "code",
   "execution_count": 4,
   "metadata": {},
   "outputs": [
    {
     "name": "stdout",
     "output_type": "stream",
     "text": [
      "last 50 1.734994313080844\n"
     ]
    },
    {
     "data": {
      "image/png": "[encoded data removed]",
      "text/plain": [
       "<Figure size 432x288 with 1 Axes>"
      ]
     },
     "metadata": {
      "needs_background": "light"
     },
     "output_type": "display_data"
    },
    {
     "name": "stdout",
     "output_type": "stream",
     "text": [
      "1.6828334776937022\n",
      "(2499, 8)\n"
     ]
    }
   ],
   "source": [
    "LastE = 50\n",
    "plt.scatter([s[\"epoch\"] for s in all_stats], [s[\"game/episodeReward\"][0] for s in all_stats], label=\"reward\", color=\"red\", marker=\"x\")\n",
    "# horizontal line of mean of last 100\n",
    "print(f\"last {LastE}\", np.mean([s[\"game/episodeReward\"] for s in all_stats][-LastE:]))\n",
    "plt.axhline(np.mean([s[\"game/episodeReward\"] for s in all_stats][-LastE:]), color=\"black\", linestyle=\"-\", label=f\"last {LastE} avg\")\n",
    "# horizontal line of mean of all\n",
    "plt.axhline(np.mean([s[\"game/episodeReward\"] for s in all_stats]), color=\"black\", linestyle=\"--\", label=\"all avg\")\n",
    "# o.7 line\n",
    "plt.axhline(0.7, color=\"green\", linestyle=\":\", label=\"0.7\")\n",
    "plt.xlabel(\"training epochs\")\n",
    "plt.ylabel(\"reward per episode\")\n",
    "plt.legend()\n",
    "plt.title(f\"episode reward N {n} K {k}\")\n",
    "plt.show()\n",
    "\n",
    "rewArr = np.array([s[\"game/episodeReward\"] for s in all_stats])\n",
    "# print(np.mean(rewArr[-100:]))\n",
    "for i in range(rewArr.shape[1]):\n",
    "    rewArr[:,i] = np.convolve(rewArr[:,i], np.ones(50), 'same') / 50 # moving average\n",
    "\n",
    "print(rewArr[2450, 0])\n",
    "print(rewArr.shape)"
   ]
  },
  {
   "cell_type": "code",
   "execution_count": 5,
   "metadata": {},
   "outputs": [
    {
     "data": {
      "image/png": "[encoded data removed]",
      "text/plain": [
       "<Figure size 432x288 with 1 Axes>"
      ]
     },
     "metadata": {
      "needs_background": "light"
     },
     "output_type": "display_data"
    }
   ],
   "source": [
    "# graph all episode lengths and episode rewards over steps\n",
    "plt.scatter([s[\"epoch\"] for s in all_stats], [s[\"game/episodeLength\"][0] for s in all_stats], label=\"length\", color=\"blue\", marker=\"x\")\n",
    "# horizontal line of mean of last 100\n",
    "plt.axhline(np.mean([s[\"game/episodeLength\"] for s in all_stats][-LastE:]), color=\"black\", linestyle=\"-\", label=f\"last {LastE} avg\")\n",
    "# horizontal line of mean of all\n",
    "plt.axhline(np.mean([s[\"game/episodeLength\"] for s in all_stats]), color=\"black\", linestyle=\"--\", label=\"all avg\")\n",
    "plt.xlabel(\"training epochs\")\n",
    "plt.ylabel(\"steps per episode\")\n",
    "plt.legend()\n",
    "plt.title(f\"episode length N {n} K {k}\")\n",
    "plt.show()"
   ]
  },
  {
   "cell_type": "code",
   "execution_count": 6,
   "metadata": {},
   "outputs": [
    {
     "name": "stdout",
     "output_type": "stream",
     "text": [
      "[]\n",
      "[]\n"
     ]
    }
   ],
   "source": [
    "# list folders in /storage/home/hcoda1/2/meinhorn6/scratch/RL/models\n",
    "files = os.listdir(modelPath)\n",
    "files = [f for f in files if f.startswith(\"impalaVector\")]\n",
    "files = [f for f in files if f.endswith(\"_4-16\")]\n",
    "print(files)\n",
    "# get the epoch number from the folder name\n",
    "epoch = [int(f.split(\"E\")[1].split(\"RS\")[0].split(\"-\")[0]) for f in files]\n",
    "trial = [int(f.split(\"-t\")[1].split(\"-\")[0]) for f in files]\n",
    "K = [int(f.split(\"-k\")[1].split(\"-\")[0]) for f in files]\n",
    "N = [int(f.split(\"-n\")[1].split(\"E\")[0].split(\"-\")[0]) for f in files]\n",
    "\n",
    "# modelDict = {}\n",
    "# for f, e, t, k, n in zip(files, epoch, trial, K, N):\n",
    "#     if (k, n, t) not in modelDict:\n",
    "#         modelDict[(k, n, t)] = (e, f)\n",
    "#     else:\n",
    "#         e_old, f_old = modelDict[(k, n, t)]\n",
    "#         if e > e_old:\n",
    "#             modelDict[(k, n, t)] = (e, f)\n",
    "#             # move from models/ to models/backups/\n",
    "#             os.rename(modelPath + \"/\" + f_old, modelPath + \"/backup/\" + f_old)\n",
    "#             print(f\"moved {f_old} to backup\")\n",
    "#         else:\n",
    "#             os.rename(modelPath + \"/\" + f, modelPath + \"/backup/\" + f)\n",
    "#             print(f\"moved {f} to backup\")\n",
    "\n",
    "filesC = os.listdir(modelPath)\n",
    "modelName = \"impalaVectorV1\"\n",
    "prefix = f\"{modelName}-t0-k10-n4\"\n",
    "filesC = [f for f in filesC if prefix in f]\n",
    "filesC = [f for f in filesC if \"4-16\" in f]\n",
    "print(filesC)\n",
    "\n",
    "\n",
    "    \n",
    "\n"
   ]
  },
  {
   "cell_type": "code",
   "execution_count": 71,
   "metadata": {},
   "outputs": [
    {
     "name": "stdout",
     "output_type": "stream",
     "text": [
      "['steps', 'epoch', 'N', 'K', 'trial', 'comms', 'data', 'avgAllRew', 'avgLastRew', 'avgAllLen', 'avgLastLen', 'threshEpoch10', 'threshSteps10', 'threshEpoch15', 'threshSteps15', 'threshEpoch20', 'threshSteps20', 'threshEpoch30', 'threshSteps30', 'threshEpoch50', 'threshSteps50', 'threshEpoch70', 'threshSteps70']\n",
      "no episode in impalaVectorV1-t1-k10-n2-E3302-RS10-G0.99-LvFalse_4-16 over 0.7 reward avg 0.47718298007727666\n",
      "no episode in impalaVectorV1-t2-k10-n4-E1724-RS10-G0.99-LvFalse_4-16 over 0.7 reward avg 0.48577850267824213\n",
      "no episode in impalaVectorV1-t1-k10-n4-E1724-RS10-G0.99-LvFalse_4-16 over 0.5 reward avg 0.3965982297347395\n",
      "no episode in impalaVectorV1-t1-k10-n4-E1724-RS10-G0.99-LvFalse_4-16 over 0.7 reward avg 0.3965982297347395\n",
      "no episode in impalaVectorV1-t1-k100-n4-E1001-RS10-G0.99-LvFalse_4-16 over 0.2 reward avg 0.1822939366631423\n",
      "no episode in impalaVectorV1-t1-k100-n4-E1001-RS10-G0.99-LvFalse_4-16 over 0.3 reward avg 0.1822939366631423\n",
      "no episode in impalaVectorV1-t1-k100-n4-E1001-RS10-G0.99-LvFalse_4-16 over 0.5 reward avg 0.1822939366631423\n",
      "no episode in impalaVectorV1-t1-k100-n4-E1001-RS10-G0.99-LvFalse_4-16 over 0.7 reward avg 0.1822939366631423\n",
      "no episode in impalaVectorV1-t0-k100-n4-E338-RS10-G0.99-LvFalse_4-16 over 0.15 reward avg 0.11036698198421462\n",
      "no episode in impalaVectorV1-t0-k100-n4-E338-RS10-G0.99-LvFalse_4-16 over 0.2 reward avg 0.11036698198421462\n",
      "no episode in impalaVectorV1-t0-k100-n4-E338-RS10-G0.99-LvFalse_4-16 over 0.3 reward avg 0.11036698198421462\n",
      "no episode in impalaVectorV1-t0-k100-n4-E338-RS10-G0.99-LvFalse_4-16 over 0.5 reward avg 0.11036698198421462\n",
      "no episode in impalaVectorV1-t0-k100-n4-E338-RS10-G0.99-LvFalse_4-16 over 0.7 reward avg 0.11036698198421462\n",
      "no episode in impalaVectorV1-t2-k100-n2-E3254-RS10-G0.99-LvFalse_4-16 over 0.7 reward avg 0.5384898906760358\n",
      "no episode in impalaVectorV1-t0-k10-n2-E2003-RS10-G0.99-LvFalse_4-16 over 0.5 reward avg 0.3187893911331479\n",
      "no episode in impalaVectorV1-t0-k10-n2-E2003-RS10-G0.99-LvFalse_4-16 over 0.7 reward avg 0.3187893911331479\n",
      "no episode in impalaVectorV1-t0-k100-n8-E884-RS10-G0.99-LvFalse_4-16 over 0.15 reward avg 0.13753206417794397\n",
      "no episode in impalaVectorV1-t0-k100-n8-E884-RS10-G0.99-LvFalse_4-16 over 0.2 reward avg 0.13753206417794397\n",
      "no episode in impalaVectorV1-t0-k100-n8-E884-RS10-G0.99-LvFalse_4-16 over 0.3 reward avg 0.13753206417794397\n",
      "no episode in impalaVectorV1-t0-k100-n8-E884-RS10-G0.99-LvFalse_4-16 over 0.5 reward avg 0.13753206417794397\n",
      "no episode in impalaVectorV1-t0-k100-n8-E884-RS10-G0.99-LvFalse_4-16 over 0.7 reward avg 0.13753206417794397\n",
      "no episode in impalaVectorV1-t1-k1-n1-E4001-RS10-G0.99-LvFalse_4-16 over 0.5 reward avg 0.36012411113897164\n",
      "no episode in impalaVectorV1-t1-k1-n1-E4001-RS10-G0.99-LvFalse_4-16 over 0.7 reward avg 0.36012411113897164\n",
      "no episode in impalaVectorV1-t2-k100-n8-E842-RS10-G0.99-LvFalse_4-16 over 0.2 reward avg 0.1468212463051498\n",
      "no episode in impalaVectorV1-t2-k100-n8-E842-RS10-G0.99-LvFalse_4-16 over 0.3 reward avg 0.1468212463051498\n",
      "no episode in impalaVectorV1-t2-k100-n8-E842-RS10-G0.99-LvFalse_4-16 over 0.5 reward avg 0.1468212463051498\n",
      "no episode in impalaVectorV1-t2-k100-n8-E842-RS10-G0.99-LvFalse_4-16 over 0.7 reward avg 0.1468212463051498\n",
      "no episode in impalaVectorV1-t1-k100-n2-E3302-RS10-G0.99-LvFalse_4-16 over 0.7 reward avg 0.5008374203183716\n",
      "no episode in impalaVectorV1-t2-k10-n8-E890-RS10-G0.99-LvFalse_4-16 over 0.3 reward avg 0.20664588646916499\n",
      "no episode in impalaVectorV1-t2-k10-n8-E890-RS10-G0.99-LvFalse_4-16 over 0.5 reward avg 0.20664588646916499\n",
      "no episode in impalaVectorV1-t2-k10-n8-E890-RS10-G0.99-LvFalse_4-16 over 0.7 reward avg 0.20664588646916499\n",
      "no episode in impalaVectorV1-t2-k100-n4-E1001-RS10-G0.99-LvFalse_4-16 over 0.15 reward avg 0.13748956724182096\n",
      "no episode in impalaVectorV1-t2-k100-n4-E1001-RS10-G0.99-LvFalse_4-16 over 0.2 reward avg 0.13748956724182096\n",
      "no episode in impalaVectorV1-t2-k100-n4-E1001-RS10-G0.99-LvFalse_4-16 over 0.3 reward avg 0.13748956724182096\n",
      "no episode in impalaVectorV1-t2-k100-n4-E1001-RS10-G0.99-LvFalse_4-16 over 0.5 reward avg 0.13748956724182096\n",
      "no episode in impalaVectorV1-t2-k100-n4-E1001-RS10-G0.99-LvFalse_4-16 over 0.7 reward avg 0.13748956724182096\n",
      "no episode in impalaVectorV1-t0-k10-n4-E1001-RS10-G0.99-LvFalse_4-16 over 0.5 reward avg 0.3027226693470783\n",
      "no episode in impalaVectorV1-t0-k10-n4-E1001-RS10-G0.99-LvFalse_4-16 over 0.7 reward avg 0.3027226693470783\n",
      "no episode in impalaVectorV1-t2-k1-n1-E4001-RS10-G0.99-LvFalse_4-16 over 0.5 reward avg 0.3665817112301093\n",
      "no episode in impalaVectorV1-t2-k1-n1-E4001-RS10-G0.99-LvFalse_4-16 over 0.7 reward avg 0.3665817112301093\n",
      "no episode in impalaVectorV1-t0-k1-n2-E3998-RS10-G0.99-LvFalse_4-16 over 0.7 reward avg 0.5549879194540126\n",
      "no episode in impalaVectorV1-t1-k100-n8-E890-RS10-G0.99-LvFalse_4-16 over 0.15 reward avg 0.12853805390268339\n",
      "no episode in impalaVectorV1-t1-k100-n8-E890-RS10-G0.99-LvFalse_4-16 over 0.2 reward avg 0.12853805390268339\n",
      "no episode in impalaVectorV1-t1-k100-n8-E890-RS10-G0.99-LvFalse_4-16 over 0.3 reward avg 0.12853805390268339\n",
      "no episode in impalaVectorV1-t1-k100-n8-E890-RS10-G0.99-LvFalse_4-16 over 0.5 reward avg 0.12853805390268339\n",
      "no episode in impalaVectorV1-t1-k100-n8-E890-RS10-G0.99-LvFalse_4-16 over 0.7 reward avg 0.12853805390268339\n",
      "no episode in impalaVectorV1-t1-k10-n8-E842-RS10-G0.99-LvFalse_4-16 over 0.3 reward avg 0.198611662020989\n",
      "no episode in impalaVectorV1-t1-k10-n8-E842-RS10-G0.99-LvFalse_4-16 over 0.5 reward avg 0.198611662020989\n",
      "no episode in impalaVectorV1-t1-k10-n8-E842-RS10-G0.99-LvFalse_4-16 over 0.7 reward avg 0.198611662020989\n",
      "no episode in impalaVectorV1-t0-k100-n2-E2003-RS10-G0.99-LvFalse_4-16 over 0.3 reward avg 0.2818194518888559\n",
      "no episode in impalaVectorV1-t0-k100-n2-E2003-RS10-G0.99-LvFalse_4-16 over 0.5 reward avg 0.2818194518888559\n",
      "no episode in impalaVectorV1-t0-k100-n2-E2003-RS10-G0.99-LvFalse_4-16 over 0.7 reward avg 0.2818194518888559\n",
      "no episode in impalaVectorV1-t2-k100-n4-E1724-RS10-G0.99-LvFalse_4-16 over 0.2 reward avg 0.14507213373365999\n",
      "no episode in impalaVectorV1-t2-k100-n4-E1724-RS10-G0.99-LvFalse_4-16 over 0.3 reward avg 0.14507213373365999\n",
      "no episode in impalaVectorV1-t2-k100-n4-E1724-RS10-G0.99-LvFalse_4-16 over 0.5 reward avg 0.14507213373365999\n",
      "no episode in impalaVectorV1-t2-k100-n4-E1724-RS10-G0.99-LvFalse_4-16 over 0.7 reward avg 0.14507213373365999\n",
      "no episode in impalaVectorV1-t0-k10-n8-E785-RS10-G0.99-LvFalse_4-16 over 0.3 reward avg 0.2718787816195787\n",
      "no episode in impalaVectorV1-t0-k10-n8-E785-RS10-G0.99-LvFalse_4-16 over 0.5 reward avg 0.2718787816195787\n",
      "no episode in impalaVectorV1-t0-k10-n8-E785-RS10-G0.99-LvFalse_4-16 over 0.7 reward avg 0.2718787816195787\n"
     ]
    }
   ],
   "source": [
    "steps = []\n",
    "comms = []\n",
    "data = []\n",
    "avgAllRew = []\n",
    "avgLastRew = []\n",
    "avgAllLen = []\n",
    "avgLastLen = []\n",
    "threshEpoch = []\n",
    "threshSteps = []\n",
    "\n",
    "labels = [\"steps\", \"epoch\", \"N\", \"K\", \"trial\", \"comms\", \"data\", \"avgAllRew\", \"avgLastRew\", \"avgAllLen\", \"avgLastLen\"]\n",
    "labels = labels + [\"threshEpoch10\", \"threshSteps10\", \"threshEpoch15\", \"threshSteps15\", \"threshEpoch20\", \"threshSteps20\", \"threshEpoch30\", \"threshSteps30\", \"threshEpoch50\", \"threshSteps50\", \"threshEpoch70\", \"threshSteps70\"]\n",
    "print(labels)\n",
    "csvList = [labels]\n",
    "thresh = 0.15\n",
    "\n",
    "for f, e, t, k, n in zip(files, epoch, trial, K, N):\n",
    "    if not os.path.isfile(modelPath + \"/\" + f + \"/stats.pth\"):\n",
    "        print(f, \"no stats.pth\")\n",
    "        continue\n",
    "    all_stats = torch.load(modelPath + \"/\" + f + \"/stats.pth\")\n",
    "    steps.append(all_stats[-1][\"steps\"])\n",
    "    comms.append(all_stats[-1][\"sync/comms\"])\n",
    "    data.append(all_stats[-1][\"sync/data\"])\n",
    "    # averages over all N models\n",
    "    avgAllRew.append(np.mean([s[\"game/episodeReward\"] for s in all_stats]))\n",
    "    avgLastRew.append(np.mean([s[\"game/episodeReward\"] for s in all_stats][-LastE:]))\n",
    "    avgAllLen.append(np.mean([s[\"game/episodeLength\"] for s in all_stats]))\n",
    "    avgLastLen.append(np.mean([s[\"game/episodeLength\"] for s in all_stats][-LastE:]))\n",
    "\n",
    "    rewArr = np.array([s[\"game/episodeReward\"] for s in all_stats])\n",
    "    # print(np.mean(rewArr[-100:]))\n",
    "    for i in range(rewArr.shape[1]):\n",
    "        rewArr[:,i] = np.convolve(rewArr[:,i], np.ones(50), 'same') / 50 # moving average\n",
    "    # print(np.mean(rewArr[-100:]))\n",
    "    \n",
    "    line = [all_stats[-1][\"steps\"], e, n, k, t, all_stats[-1][\"sync/comms\"], all_stats[-1][\"sync/data\"], avgAllRew[-1], avgLastRew[-1], avgAllLen[-1], avgLastLen[-1]]\n",
    "\n",
    "    for threshTemp in [0.1, 0.15, 0.2, 0.3, 0.5, 0.7]:\n",
    "        idx = np.nonzero(rewArr > threshTemp)\n",
    "        if idx[0].shape[0] == 0:\n",
    "            idx = -100\n",
    "            print(f\"no episode in {f} over {threshTemp} reward avg {avgLastRew[-1]}\")\n",
    "        else:\n",
    "            idx = idx[0][0]\n",
    "        \n",
    "        line = line + [idx, all_stats[idx][\"steps\"]]\n",
    "\n",
    "        if threshTemp == thresh:\n",
    "            threshEpoch.append(idx)\n",
    "            threshSteps.append(all_stats[idx][\"steps\"])\n",
    "\n",
    "    csvList.append(line)\n",
    "\n",
    "np.savetxt(\"procgen.csv\", csvList, delimiter=\",\", fmt=\"%s\")"
   ]
  },
  {
   "cell_type": "code",
   "execution_count": 58,
   "metadata": {},
   "outputs": [
    {
     "name": "stdout",
     "output_type": "stream",
     "text": [
      "30\n"
     ]
    }
   ],
   "source": [
    "print(len(steps))"
   ]
  },
  {
   "cell_type": "code",
   "execution_count": 78,
   "metadata": {},
   "outputs": [
    {
     "data": {
      "image/png": "[encoded data removed]",
      "text/plain": [
       "<Figure size 640x480 with 1 Axes>"
      ]
     },
     "metadata": {},
     "output_type": "display_data"
    }
   ],
   "source": [
    "# graph threshEps over N\n",
    "k = 1\n",
    "Nk = [np.log2(n) for n, k_ in zip(N, K) if k_ == k or n == 1]\n",
    "threshEpochk = [np.log2(t) for t, k_, n_ in zip(threshEpoch, K, N) if k_ == k or n_ == 1]\n",
    "\n",
    "plt.scatter(Nk, threshEpochk, label=\"threshEps\", color=\"black\", marker=\"x\")\n",
    "plt.xlabel(\"N\")\n",
    "plt.ylabel(\"threshEps\")\n",
    "plt.legend()\n",
    "plt.title(f\"threshEps over N for K {k}\")\n",
    "# hline at -100\n",
    "# plt.axhline(-100, color=\"black\", linestyle=\"-\", label=\"no episode over thresh\")\n",
    "plt.show()"
   ]
  },
  {
   "cell_type": "code",
   "execution_count": 21,
   "metadata": {},
   "outputs": [
    {
     "name": "stdout",
     "output_type": "stream",
     "text": [
      "======================================================================\n",
      "Layer (type:depth-idx)                        Param #\n",
      "======================================================================\n",
      "VectorModelValue                              --\n",
      "├─ModuleList: 1-1                             --\n",
      "│    └─ImpalaValue: 2-1                       --\n",
      "│    │    └─ImpalaModel: 3-1                  622,144\n",
      "│    │    └─Linear: 3-2                       3,855\n",
      "│    │    └─ValueHead: 3-3                    257\n",
      "│    └─ImpalaValue: 2-2                       --\n",
      "│    │    └─ImpalaModel: 3-4                  622,144\n",
      "│    │    └─Linear: 3-5                       3,855\n",
      "│    │    └─ValueHead: 3-6                    257\n",
      "│    └─ImpalaValue: 2-3                       --\n",
      "│    │    └─ImpalaModel: 3-7                  622,144\n",
      "│    │    └─Linear: 3-8                       3,855\n",
      "│    │    └─ValueHead: 3-9                    257\n",
      "│    └─ImpalaValue: 2-4                       --\n",
      "│    │    └─ImpalaModel: 3-10                 622,144\n",
      "│    │    └─Linear: 3-11                      3,855\n",
      "│    │    └─ValueHead: 3-12                   257\n",
      "│    └─ImpalaValue: 2-5                       --\n",
      "│    │    └─ImpalaModel: 3-13                 622,144\n",
      "│    │    └─Linear: 3-14                      3,855\n",
      "│    │    └─ValueHead: 3-15                   257\n",
      "│    └─ImpalaValue: 2-6                       --\n",
      "│    │    └─ImpalaModel: 3-16                 622,144\n",
      "│    │    └─Linear: 3-17                      3,855\n",
      "│    │    └─ValueHead: 3-18                   257\n",
      "│    └─ImpalaValue: 2-7                       --\n",
      "│    │    └─ImpalaModel: 3-19                 622,144\n",
      "│    │    └─Linear: 3-20                      3,855\n",
      "│    │    └─ValueHead: 3-21                   257\n",
      "│    └─ImpalaValue: 2-8                       --\n",
      "│    │    └─ImpalaModel: 3-22                 622,144\n",
      "│    │    └─Linear: 3-23                      3,855\n",
      "│    │    └─ValueHead: 3-24                   257\n",
      "======================================================================\n",
      "Total params: 5,010,048\n",
      "Trainable params: 5,010,048\n",
      "Non-trainable params: 0\n",
      "======================================================================\n"
     ]
    }
   ],
   "source": [
    "import CVModels\n",
    "num_models = 8\n",
    "syncFunc = CVModels.avgSync\n",
    "\n",
    "def initModel(modelName, logging=False):\n",
    "    # individual model\n",
    "    if \"impala\" in modelName.lower(): # 626k\n",
    "        model = CVModels.ImpalaValue()\n",
    "    elif \"vit620k\" in modelName.lower(): # deep ViT\n",
    "        model = CVModels.ViTValue(depth=12, num_heads=8, embed_dim=64, mlp_ratio=4, valueHeadLayers=1)\n",
    "    elif \"vit700k\" in modelName.lower(): # wide ViT\n",
    "        model = CVModels.ViTValue(depth=6, num_heads=8, embed_dim=96, mlp_ratio=4, valueHeadLayers=1)\n",
    "    elif \"vit60k\" in modelName.lower():\n",
    "        model = CVModels.ViTValue(depth=4, num_heads=4, embed_dim=32, mlp_ratio=4, valueHeadLayers=1)\n",
    "    elif \"vit15k\" in modelName.lower():\n",
    "        model = CVModels.ViTValue(depth=3, num_heads=4, embed_dim=16, mlp_ratio=4, valueHeadLayers=1)\n",
    "    elif \"resnet\" in modelName.lower():\n",
    "        model = CVModels.CNNAgent([64, 64, 3], 15, channels=16, layers=[1,1,1,1], scale=[1,1,1,1], vheadLayers=1)\n",
    "    # vectorized model\n",
    "    if \"vector\" in modelName.lower():\n",
    "        model = CVModels.VectorModelValue(model, num_models, syncFunc=syncFunc)\n",
    "        if logging:\n",
    "            print(summary(model, input_shape=(2, 2, 3, 64, 64)))\n",
    "    elif logging:\n",
    "        print(summary(model, input_shape=(2, 3, 64, 64)))\n",
    "    return model\n",
    "\n",
    "modelName = \"impalaVectorV1-t0-k1-n8\"\n",
    "model = initModel(modelName, logging=True)\n",
    "E = 0\n",
    "if E == 2498:\n",
    "    model.load_state_dict(torch.load(modelPath + \"impalaVectorV1-t0-k1-n8-E2498-RS10-G0.99-LvFalse_4-16_model.pth\"))\n",
    "    print(rewArr[2450, 0]) # moving average of 50 has 0 pads\n",
    "elif E == 1874:\n",
    "    model.load_state_dict(torch.load(modelPath + \"impalaVectorV1-t0-k1-n8E1874RS10G0.99LvFalse_4-16_model.pth\"))\n",
    "    print(rewArr[E, 0])\n",
    "elif E == 1250:\n",
    "    model.load_state_dict(torch.load(modelPath + \"impalaVectorV1-t0-k1-n8E1250RS10G0.99LvFalse_4-16_model.pth\"))\n",
    "    print(rewArr[E, 0])\n",
    "elif E == 434:\n",
    "    model.load_state_dict(torch.load(modelPath + \"impalaVectorV1-t0-k1-n8E434RS10G0.99LvFalse_4-16_model.pth\"))\n",
    "    print(rewArr[E, 0])\n",
    "elif E == 146:\n",
    "    model.load_state_dict(torch.load(modelPath + \"impalaVectorV1-t0-k1-n8E146RS10G0.99LvFalse_4-16_model.pth\"))\n",
    "    print(rewArr[E, 0])\n",
    "elif E == 98:\n",
    "    model.load_state_dict(torch.load(modelPath + \"impalaVectorV1-t0-k1-n8E98RS10G0.99LvFalse_4-16_model.pth\"))\n",
    "    print(rewArr[E, 0])\n",
    "elif E == 50:\n",
    "    model.load_state_dict(torch.load(modelPath + \"impalaVectorV1-t0-k1-n8E50RS10G0.99LvFalse_4-16_model.pth\"))\n",
    "    print(rewArr[E, 0])\n",
    "\n",
    "model = model.to(device)\n"
   ]
  },
  {
   "cell_type": "code",
   "execution_count": 22,
   "metadata": {},
   "outputs": [
    {
     "ename": "KeyboardInterrupt",
     "evalue": "",
     "output_type": "error",
     "traceback": [
      "\u001b[1;31m---------------------------------------------------------------------------\u001b[0m",
      "\u001b[1;31mKeyboardInterrupt\u001b[0m                         Traceback (most recent call last)",
      "\u001b[1;32mc:\\Users\\Michael Einhorn\\Documents\\GTML\\RL\\procgenVector.ipynb Cell 20\u001b[0m in \u001b[0;36m<cell line: 8>\u001b[1;34m()\u001b[0m\n\u001b[0;32m     <a href='vscode-notebook-cell:/c%3A/Users/Michael%20Einhorn/Documents/GTML/RL/procgenVector.ipynb#X26sZmlsZQ%3D%3D?line=10'>11</a>\u001b[0m obs \u001b[39m/\u001b[39m\u001b[39m=\u001b[39m \u001b[39m255.0\u001b[39m \u001b[39m# turn 0-255 to 0-1\u001b[39;00m\n\u001b[0;32m     <a href='vscode-notebook-cell:/c%3A/Users/Michael%20Einhorn/Documents/GTML/RL/procgenVector.ipynb#X26sZmlsZQ%3D%3D?line=11'>12</a>\u001b[0m \u001b[39mif\u001b[39;00m \u001b[39m\"\u001b[39m\u001b[39mvector\u001b[39m\u001b[39m\"\u001b[39m \u001b[39min\u001b[39;00m modelName\u001b[39m.\u001b[39mlower():\n\u001b[1;32m---> <a href='vscode-notebook-cell:/c%3A/Users/Michael%20Einhorn/Documents/GTML/RL/procgenVector.ipynb#X26sZmlsZQ%3D%3D?line=12'>13</a>\u001b[0m     logits, values \u001b[39m=\u001b[39m model\u001b[39m.\u001b[39;49mmodelList[\u001b[39m0\u001b[39;49m](obs)\n\u001b[0;32m     <a href='vscode-notebook-cell:/c%3A/Users/Michael%20Einhorn/Documents/GTML/RL/procgenVector.ipynb#X26sZmlsZQ%3D%3D?line=13'>14</a>\u001b[0m \u001b[39melse\u001b[39;00m:\n\u001b[0;32m     <a href='vscode-notebook-cell:/c%3A/Users/Michael%20Einhorn/Documents/GTML/RL/procgenVector.ipynb#X26sZmlsZQ%3D%3D?line=14'>15</a>\u001b[0m     logits, values \u001b[39m=\u001b[39m model(obs)\n",
      "File \u001b[1;32mc:\\ProgramData\\Miniconda3\\envs\\torch\\lib\\site-packages\\torch\\nn\\modules\\module.py:1130\u001b[0m, in \u001b[0;36mModule._call_impl\u001b[1;34m(self, *input, **kwargs)\u001b[0m\n\u001b[0;32m   1126\u001b[0m \u001b[39m# If we don't have any hooks, we want to skip the rest of the logic in\u001b[39;00m\n\u001b[0;32m   1127\u001b[0m \u001b[39m# this function, and just call forward.\u001b[39;00m\n\u001b[0;32m   1128\u001b[0m \u001b[39mif\u001b[39;00m \u001b[39mnot\u001b[39;00m (\u001b[39mself\u001b[39m\u001b[39m.\u001b[39m_backward_hooks \u001b[39mor\u001b[39;00m \u001b[39mself\u001b[39m\u001b[39m.\u001b[39m_forward_hooks \u001b[39mor\u001b[39;00m \u001b[39mself\u001b[39m\u001b[39m.\u001b[39m_forward_pre_hooks \u001b[39mor\u001b[39;00m _global_backward_hooks\n\u001b[0;32m   1129\u001b[0m         \u001b[39mor\u001b[39;00m _global_forward_hooks \u001b[39mor\u001b[39;00m _global_forward_pre_hooks):\n\u001b[1;32m-> 1130\u001b[0m     \u001b[39mreturn\u001b[39;00m forward_call(\u001b[39m*\u001b[39m\u001b[39minput\u001b[39m, \u001b[39m*\u001b[39m\u001b[39m*\u001b[39mkwargs)\n\u001b[0;32m   1131\u001b[0m \u001b[39m# Do not call functions when jit is used\u001b[39;00m\n\u001b[0;32m   1132\u001b[0m full_backward_hooks, non_full_backward_hooks \u001b[39m=\u001b[39m [], []\n",
      "File \u001b[1;32mc:\\Users\\Michael Einhorn\\Documents\\GTML\\RL\\CVModels.py:127\u001b[0m, in \u001b[0;36mImpalaValue.forward\u001b[1;34m(self, x)\u001b[0m\n\u001b[0;32m    126\u001b[0m \u001b[39mdef\u001b[39;00m \u001b[39mforward\u001b[39m(\u001b[39mself\u001b[39m, x):\n\u001b[1;32m--> 127\u001b[0m     x \u001b[39m=\u001b[39m \u001b[39mself\u001b[39;49m\u001b[39m.\u001b[39;49mmodel(x)\n\u001b[0;32m    128\u001b[0m     l \u001b[39m=\u001b[39m \u001b[39mself\u001b[39m\u001b[39m.\u001b[39mlinear(x)\n\u001b[0;32m    129\u001b[0m     v \u001b[39m=\u001b[39m \u001b[39mself\u001b[39m\u001b[39m.\u001b[39mvalue(x)\n",
      "File \u001b[1;32mc:\\ProgramData\\Miniconda3\\envs\\torch\\lib\\site-packages\\torch\\nn\\modules\\module.py:1130\u001b[0m, in \u001b[0;36mModule._call_impl\u001b[1;34m(self, *input, **kwargs)\u001b[0m\n\u001b[0;32m   1126\u001b[0m \u001b[39m# If we don't have any hooks, we want to skip the rest of the logic in\u001b[39;00m\n\u001b[0;32m   1127\u001b[0m \u001b[39m# this function, and just call forward.\u001b[39;00m\n\u001b[0;32m   1128\u001b[0m \u001b[39mif\u001b[39;00m \u001b[39mnot\u001b[39;00m (\u001b[39mself\u001b[39m\u001b[39m.\u001b[39m_backward_hooks \u001b[39mor\u001b[39;00m \u001b[39mself\u001b[39m\u001b[39m.\u001b[39m_forward_hooks \u001b[39mor\u001b[39;00m \u001b[39mself\u001b[39m\u001b[39m.\u001b[39m_forward_pre_hooks \u001b[39mor\u001b[39;00m _global_backward_hooks\n\u001b[0;32m   1129\u001b[0m         \u001b[39mor\u001b[39;00m _global_forward_hooks \u001b[39mor\u001b[39;00m _global_forward_pre_hooks):\n\u001b[1;32m-> 1130\u001b[0m     \u001b[39mreturn\u001b[39;00m forward_call(\u001b[39m*\u001b[39m\u001b[39minput\u001b[39m, \u001b[39m*\u001b[39m\u001b[39m*\u001b[39mkwargs)\n\u001b[0;32m   1131\u001b[0m \u001b[39m# Do not call functions when jit is used\u001b[39;00m\n\u001b[0;32m   1132\u001b[0m full_backward_hooks, non_full_backward_hooks \u001b[39m=\u001b[39m [], []\n",
      "File \u001b[1;32mc:\\Users\\Michael Einhorn\\Documents\\GTML\\RL\\procgen_model.py:111\u001b[0m, in \u001b[0;36mImpalaModel.forward\u001b[1;34m(self, x)\u001b[0m\n\u001b[0;32m    109\u001b[0m \u001b[39mdef\u001b[39;00m \u001b[39mforward\u001b[39m(\u001b[39mself\u001b[39m, x):\n\u001b[0;32m    110\u001b[0m     x \u001b[39m=\u001b[39m \u001b[39mself\u001b[39m\u001b[39m.\u001b[39mblock1(x)\n\u001b[1;32m--> 111\u001b[0m     x \u001b[39m=\u001b[39m \u001b[39mself\u001b[39;49m\u001b[39m.\u001b[39;49mblock2(x)\n\u001b[0;32m    112\u001b[0m     x \u001b[39m=\u001b[39m \u001b[39mself\u001b[39m\u001b[39m.\u001b[39mblock3(x)\n\u001b[0;32m    113\u001b[0m     x \u001b[39m=\u001b[39m nn\u001b[39m.\u001b[39mReLU()(x)\n",
      "File \u001b[1;32mc:\\ProgramData\\Miniconda3\\envs\\torch\\lib\\site-packages\\torch\\nn\\modules\\module.py:1130\u001b[0m, in \u001b[0;36mModule._call_impl\u001b[1;34m(self, *input, **kwargs)\u001b[0m\n\u001b[0;32m   1126\u001b[0m \u001b[39m# If we don't have any hooks, we want to skip the rest of the logic in\u001b[39;00m\n\u001b[0;32m   1127\u001b[0m \u001b[39m# this function, and just call forward.\u001b[39;00m\n\u001b[0;32m   1128\u001b[0m \u001b[39mif\u001b[39;00m \u001b[39mnot\u001b[39;00m (\u001b[39mself\u001b[39m\u001b[39m.\u001b[39m_backward_hooks \u001b[39mor\u001b[39;00m \u001b[39mself\u001b[39m\u001b[39m.\u001b[39m_forward_hooks \u001b[39mor\u001b[39;00m \u001b[39mself\u001b[39m\u001b[39m.\u001b[39m_forward_pre_hooks \u001b[39mor\u001b[39;00m _global_backward_hooks\n\u001b[0;32m   1129\u001b[0m         \u001b[39mor\u001b[39;00m _global_forward_hooks \u001b[39mor\u001b[39;00m _global_forward_pre_hooks):\n\u001b[1;32m-> 1130\u001b[0m     \u001b[39mreturn\u001b[39;00m forward_call(\u001b[39m*\u001b[39m\u001b[39minput\u001b[39m, \u001b[39m*\u001b[39m\u001b[39m*\u001b[39mkwargs)\n\u001b[0;32m   1131\u001b[0m \u001b[39m# Do not call functions when jit is used\u001b[39;00m\n\u001b[0;32m   1132\u001b[0m full_backward_hooks, non_full_backward_hooks \u001b[39m=\u001b[39m [], []\n",
      "File \u001b[1;32mc:\\Users\\Michael Einhorn\\Documents\\GTML\\RL\\procgen_model.py:92\u001b[0m, in \u001b[0;36mImpalaBlock.forward\u001b[1;34m(self, x)\u001b[0m\n\u001b[0;32m     90\u001b[0m x \u001b[39m=\u001b[39m nn\u001b[39m.\u001b[39mMaxPool2d(kernel_size\u001b[39m=\u001b[39m\u001b[39m3\u001b[39m, stride\u001b[39m=\u001b[39m\u001b[39m2\u001b[39m, padding\u001b[39m=\u001b[39m\u001b[39m1\u001b[39m)(x)\n\u001b[0;32m     91\u001b[0m x \u001b[39m=\u001b[39m \u001b[39mself\u001b[39m\u001b[39m.\u001b[39mres1(x)\n\u001b[1;32m---> 92\u001b[0m x \u001b[39m=\u001b[39m \u001b[39mself\u001b[39;49m\u001b[39m.\u001b[39;49mres2(x)\n\u001b[0;32m     93\u001b[0m \u001b[39mreturn\u001b[39;00m x\n",
      "File \u001b[1;32mc:\\ProgramData\\Miniconda3\\envs\\torch\\lib\\site-packages\\torch\\nn\\modules\\module.py:1130\u001b[0m, in \u001b[0;36mModule._call_impl\u001b[1;34m(self, *input, **kwargs)\u001b[0m\n\u001b[0;32m   1126\u001b[0m \u001b[39m# If we don't have any hooks, we want to skip the rest of the logic in\u001b[39;00m\n\u001b[0;32m   1127\u001b[0m \u001b[39m# this function, and just call forward.\u001b[39;00m\n\u001b[0;32m   1128\u001b[0m \u001b[39mif\u001b[39;00m \u001b[39mnot\u001b[39;00m (\u001b[39mself\u001b[39m\u001b[39m.\u001b[39m_backward_hooks \u001b[39mor\u001b[39;00m \u001b[39mself\u001b[39m\u001b[39m.\u001b[39m_forward_hooks \u001b[39mor\u001b[39;00m \u001b[39mself\u001b[39m\u001b[39m.\u001b[39m_forward_pre_hooks \u001b[39mor\u001b[39;00m _global_backward_hooks\n\u001b[0;32m   1129\u001b[0m         \u001b[39mor\u001b[39;00m _global_forward_hooks \u001b[39mor\u001b[39;00m _global_forward_pre_hooks):\n\u001b[1;32m-> 1130\u001b[0m     \u001b[39mreturn\u001b[39;00m forward_call(\u001b[39m*\u001b[39m\u001b[39minput\u001b[39m, \u001b[39m*\u001b[39m\u001b[39m*\u001b[39mkwargs)\n\u001b[0;32m   1131\u001b[0m \u001b[39m# Do not call functions when jit is used\u001b[39;00m\n\u001b[0;32m   1132\u001b[0m full_backward_hooks, non_full_backward_hooks \u001b[39m=\u001b[39m [], []\n",
      "File \u001b[1;32mc:\\Users\\Michael Einhorn\\Documents\\GTML\\RL\\procgen_model.py:78\u001b[0m, in \u001b[0;36mResidualBlock.forward\u001b[1;34m(self, x)\u001b[0m\n\u001b[0;32m     76\u001b[0m out \u001b[39m=\u001b[39m \u001b[39mself\u001b[39m\u001b[39m.\u001b[39mconv1(out)\n\u001b[0;32m     77\u001b[0m out \u001b[39m=\u001b[39m nn\u001b[39m.\u001b[39mReLU()(out)\n\u001b[1;32m---> 78\u001b[0m out \u001b[39m=\u001b[39m \u001b[39mself\u001b[39;49m\u001b[39m.\u001b[39;49mconv2(out)\n\u001b[0;32m     79\u001b[0m \u001b[39mreturn\u001b[39;00m out \u001b[39m+\u001b[39m x\n",
      "File \u001b[1;32mc:\\ProgramData\\Miniconda3\\envs\\torch\\lib\\site-packages\\torch\\nn\\modules\\module.py:1130\u001b[0m, in \u001b[0;36mModule._call_impl\u001b[1;34m(self, *input, **kwargs)\u001b[0m\n\u001b[0;32m   1126\u001b[0m \u001b[39m# If we don't have any hooks, we want to skip the rest of the logic in\u001b[39;00m\n\u001b[0;32m   1127\u001b[0m \u001b[39m# this function, and just call forward.\u001b[39;00m\n\u001b[0;32m   1128\u001b[0m \u001b[39mif\u001b[39;00m \u001b[39mnot\u001b[39;00m (\u001b[39mself\u001b[39m\u001b[39m.\u001b[39m_backward_hooks \u001b[39mor\u001b[39;00m \u001b[39mself\u001b[39m\u001b[39m.\u001b[39m_forward_hooks \u001b[39mor\u001b[39;00m \u001b[39mself\u001b[39m\u001b[39m.\u001b[39m_forward_pre_hooks \u001b[39mor\u001b[39;00m _global_backward_hooks\n\u001b[0;32m   1129\u001b[0m         \u001b[39mor\u001b[39;00m _global_forward_hooks \u001b[39mor\u001b[39;00m _global_forward_pre_hooks):\n\u001b[1;32m-> 1130\u001b[0m     \u001b[39mreturn\u001b[39;00m forward_call(\u001b[39m*\u001b[39m\u001b[39minput\u001b[39m, \u001b[39m*\u001b[39m\u001b[39m*\u001b[39mkwargs)\n\u001b[0;32m   1131\u001b[0m \u001b[39m# Do not call functions when jit is used\u001b[39;00m\n\u001b[0;32m   1132\u001b[0m full_backward_hooks, non_full_backward_hooks \u001b[39m=\u001b[39m [], []\n",
      "File \u001b[1;32mc:\\ProgramData\\Miniconda3\\envs\\torch\\lib\\site-packages\\torch\\nn\\modules\\conv.py:457\u001b[0m, in \u001b[0;36mConv2d.forward\u001b[1;34m(self, input)\u001b[0m\n\u001b[0;32m    456\u001b[0m \u001b[39mdef\u001b[39;00m \u001b[39mforward\u001b[39m(\u001b[39mself\u001b[39m, \u001b[39minput\u001b[39m: Tensor) \u001b[39m-\u001b[39m\u001b[39m>\u001b[39m Tensor:\n\u001b[1;32m--> 457\u001b[0m     \u001b[39mreturn\u001b[39;00m \u001b[39mself\u001b[39;49m\u001b[39m.\u001b[39;49m_conv_forward(\u001b[39minput\u001b[39;49m, \u001b[39mself\u001b[39;49m\u001b[39m.\u001b[39;49mweight, \u001b[39mself\u001b[39;49m\u001b[39m.\u001b[39;49mbias)\n",
      "File \u001b[1;32mc:\\ProgramData\\Miniconda3\\envs\\torch\\lib\\site-packages\\torch\\nn\\modules\\conv.py:453\u001b[0m, in \u001b[0;36mConv2d._conv_forward\u001b[1;34m(self, input, weight, bias)\u001b[0m\n\u001b[0;32m    449\u001b[0m \u001b[39mif\u001b[39;00m \u001b[39mself\u001b[39m\u001b[39m.\u001b[39mpadding_mode \u001b[39m!=\u001b[39m \u001b[39m'\u001b[39m\u001b[39mzeros\u001b[39m\u001b[39m'\u001b[39m:\n\u001b[0;32m    450\u001b[0m     \u001b[39mreturn\u001b[39;00m F\u001b[39m.\u001b[39mconv2d(F\u001b[39m.\u001b[39mpad(\u001b[39minput\u001b[39m, \u001b[39mself\u001b[39m\u001b[39m.\u001b[39m_reversed_padding_repeated_twice, mode\u001b[39m=\u001b[39m\u001b[39mself\u001b[39m\u001b[39m.\u001b[39mpadding_mode),\n\u001b[0;32m    451\u001b[0m                     weight, bias, \u001b[39mself\u001b[39m\u001b[39m.\u001b[39mstride,\n\u001b[0;32m    452\u001b[0m                     _pair(\u001b[39m0\u001b[39m), \u001b[39mself\u001b[39m\u001b[39m.\u001b[39mdilation, \u001b[39mself\u001b[39m\u001b[39m.\u001b[39mgroups)\n\u001b[1;32m--> 453\u001b[0m \u001b[39mreturn\u001b[39;00m F\u001b[39m.\u001b[39;49mconv2d(\u001b[39minput\u001b[39;49m, weight, bias, \u001b[39mself\u001b[39;49m\u001b[39m.\u001b[39;49mstride,\n\u001b[0;32m    454\u001b[0m                 \u001b[39mself\u001b[39;49m\u001b[39m.\u001b[39;49mpadding, \u001b[39mself\u001b[39;49m\u001b[39m.\u001b[39;49mdilation, \u001b[39mself\u001b[39;49m\u001b[39m.\u001b[39;49mgroups)\n",
      "\u001b[1;31mKeyboardInterrupt\u001b[0m: "
     ]
    }
   ],
   "source": [
    "import gym\n",
    "import gym3\n",
    "from torch.nn import functional as F\n",
    "envKW = core.getKW(num=1, env_name=\"bigfish\", distribution_mode=\"easy\", paint_vel_info=True, use_backgrounds=False, restrict_themes=True, use_monochrome_assets=True, render_mode=\"rgb_array\")\n",
    "envVideo = ProcgenGym3Env(**envKW)\n",
    "envVideo = gym3.ViewerWrapper(envVideo, info_key=\"rgb\")\n",
    "model.eval()\n",
    "while True:\n",
    "    rew, obs, first = envVideo.observe()\n",
    "    obs = torch.tensor(obs['rgb']).permute(0, 3, 1, 2).float().to(device)\n",
    "    obs /= 255.0 # turn 0-255 to 0-1\n",
    "    if \"vector\" in modelName.lower():\n",
    "        logits, values = model.modelList[0](obs)\n",
    "    else:\n",
    "        logits, values = model(obs)\n",
    "    actions = torch.multinomial(F.softmax(logits, dim=-1), num_samples=1).squeeze(-1)\n",
    "    envVideo.act(actions.to(\"cpu\").numpy())\n",
    "    # print(\"action\", actions[0].item(), \"value\", values[0, 0].item())"
   ]
  },
  {
   "cell_type": "markdown",
   "metadata": {},
   "source": [
    "\n",
    "\n",
    "\n"
   ]
  },
  {
   "cell_type": "markdown",
   "metadata": {},
   "source": []
  }
 ],
 "metadata": {
  "kernelspec": {
   "display_name": "Python 3",
   "language": "python",
   "name": "python3"
  },
  "language_info": {
   "codemirror_mode": {
    "name": "ipython",
    "version": 3
   },
   "file_extension": ".py",
   "mimetype": "text/x-python",
   "name": "python",
   "nbconvert_exporter": "python",
   "pygments_lexer": "ipython3",
   "version": "3.10.4"
  },
  "vscode": {
   "interpreter": {
    "hash": "ac488eaa353570522d4c04bd2cd8e3c67c3437ec54aafb89a01cbc7941828458"
   }
  }
 },
 "nbformat": 4,
 "nbformat_minor": 4
}
