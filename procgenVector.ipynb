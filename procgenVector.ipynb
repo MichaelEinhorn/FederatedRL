{
 "cells": [
  {
   "cell_type": "code",
   "execution_count": 1,
   "metadata": {},
   "outputs": [
    {
     "name": "stdout",
     "output_type": "stream",
     "text": [
      "cuda:0\n"
     ]
    }
   ],
   "source": [
    "import torch\n",
    "from procgen import ProcgenGym3Env\n",
    "from torchinfo import summary\n",
    "import core\n",
    "\n",
    "device = torch.device(\"cuda:0\" if torch.cuda.is_available() else \"cpu\")\n",
    "print(device)\n",
    "\n",
    "model = None\n",
    "player = None\n",
    "ppo = None\n",
    "env= None\n",
    "envKW = {}\n",
    "\n",
    "modelPath = \"models/\"\n",
    "def loadAll(fname, loadEnv=True):\n",
    "    model.load_state_dict(torch.load(modelPath + fname + \"/model.pth\"))\n",
    "    player.load_state_dict(torch.load(modelPath + fname + \"/player.pth\"))\n",
    "    ppo.load_state_dict(torch.load(modelPath + fname + \"/ppo.pth\"))\n",
    "    if loadEnv:\n",
    "        envKW = torch.load(modelPath + fname + \"/envKW.pth\")\n",
    "        env = ProcgenGym3Env(**envKW)\n",
    "        env.callmethod(\"set_state\", torch.load(modelPath + fname + \"/env_states.pth\"))\n",
    "    else:\n",
    "        player.reset()\n",
    "\n",
    "def saveAll(fname):\n",
    "    import os\n",
    "    os.makedirs(modelPath + fname, exist_ok=True)\n",
    "    torch.save(model.state_dict(), modelPath + fname + \"/model.pth\")\n",
    "    torch.save(player.state_dict(), modelPath + fname + \"/player.pth\")\n",
    "    torch.save(ppo.state_dict(), modelPath + fname + \"/ppo.pth\")\n",
    "    torch.save(envKW, modelPath + fname + \"/envKW.pth\")\n",
    "    torch.save(env.callmethod(\"get_state\"), modelPath + fname + \"/env_states.pth\")\n",
    "    torch.save(ppo.all_stats, modelPath + fname + \"/stats.pth\")\n"
   ]
  },
  {
   "cell_type": "code",
   "execution_count": 2,
   "metadata": {},
   "outputs": [
    {
     "name": "stdout",
     "output_type": "stream",
     "text": [
      "Dict(rgb=D256[64,64,3])\n",
      "D15[]\n"
     ]
    }
   ],
   "source": [
    "num_models = 2\n",
    "num_agents = 16\n",
    "envKW = core.getKW(num=num_models*num_agents, env_name=\"coinrun\", distribution_mode=\"easy\", paint_vel_info=True, use_backgrounds=False, restrict_themes=True)\n",
    "env = ProcgenGym3Env(**envKW)\n",
    "print(env.ob_space)\n",
    "print(env.ac_space)"
   ]
  },
  {
   "cell_type": "code",
   "execution_count": 7,
   "metadata": {},
   "outputs": [
    {
     "data": {
      "text/plain": [
       "====================================================================================================\n",
       "Layer (type:depth-idx)                             Output Shape              Param #\n",
       "====================================================================================================\n",
       "VectorModelValue                                   [2, 2, 15]                --\n",
       "├─ModuleList: 1-1                                  --                        --\n",
       "│    └─ViTValue: 2-1                               [2, 15]                   --\n",
       "│    │    └─VisionTransformer: 3-1                 --                        15,039\n",
       "│    │    └─ValueHead: 3-2                         [2, 1]                    17\n",
       "│    └─ViTValue: 2-2                               [2, 15]                   --\n",
       "│    │    └─VisionTransformer: 3-3                 --                        15,039\n",
       "│    │    └─ValueHead: 3-4                         [2, 1]                    17\n",
       "====================================================================================================\n",
       "Total params: 30,112\n",
       "Trainable params: 30,112\n",
       "Non-trainable params: 0\n",
       "Total mult-adds (M): 0.84\n",
       "====================================================================================================\n",
       "Input size (MB): 0.20\n",
       "Forward/backward pass size (MB): 4.61\n",
       "Params size (MB): 0.09\n",
       "Estimated Total Size (MB): 4.89\n",
       "===================================================================================================="
      ]
     },
     "execution_count": 7,
     "metadata": {},
     "output_type": "execute_result"
    }
   ],
   "source": [
    "from CVModels import CNNAgent, ViTValue, VectorModelValue\n",
    "from CVModels import avgSync, sumSync\n",
    "# model = ViTValue(depth=4, num_heads=4, embed_dim=32, mlp_ratio=4, valueHeadLayers=1).to(device)\n",
    "model = ViTValue(depth=3, num_heads=4, embed_dim=16, mlp_ratio=4, valueHeadLayers=1)\n",
    "model = VectorModelValue(model, n=num_models, syncFunc=avgSync).to(device)\n",
    "# model = CNNAgent([64, 64, 3], 15, channels=16, layers=[1,1,1,1], scale=[1,1,1,1], vheadLayers=1).to(device)\n",
    "model.train()\n",
    "summary(model, input_size=(2, 2, 3, 64, 64))"
   ]
  },
  {
   "cell_type": "code",
   "execution_count": 8,
   "metadata": {},
   "outputs": [],
   "source": [
    "# model.load_state_dict(torch.load(modelPath + \"vitNegT8BigFin\" + \"/model.pth\"))"
   ]
  },
  {
   "cell_type": "code",
   "execution_count": 9,
   "metadata": {},
   "outputs": [
    {
     "name": "stdout",
     "output_type": "stream",
     "text": [
      "terminateReward -0.25 livingReward 0 discountedSumLiving 0.0\n"
     ]
    }
   ],
   "source": [
    "from PPO import VectorPPO\n",
    "from ProcgenPlayer import VectorPlayer\n",
    "\n",
    "rewardScale = 8.0\n",
    "terminateReward = 1 - 10.0 / rewardScale\n",
    "livingReward = 0\n",
    "print(\"terminateReward\", terminateReward, \"livingReward\", livingReward, \"discountedSumLiving\", livingReward / (1 - 0.99)) # if terminate reward > discountedSumLiving the agent will perfer to run into obstacles.\n",
    "player = VectorPlayer(env, num_agents=num_agents, num_models=num_models, epsilon=0.01, epsilon_decay=0.99, rewardScale=rewardScale, livingReward=0, terminateReward=terminateReward)\n",
    "ppo = VectorPPO(model, env, num_agents=num_agents, num_models=num_models, player=player, gamma=0.99, weight_decay=0.0, warmup_steps=10, train_steps=1000, sync_epochs=1)"
   ]
  },
  {
   "cell_type": "code",
   "execution_count": 16,
   "metadata": {},
   "outputs": [
    {
     "name": "stdout",
     "output_type": "stream",
     "text": [
      "tensor([[[-3.4612e-03, -1.5888e-03, -1.2570e-05, -1.5367e-03, -2.2071e-02,\n",
      "           6.6957e-02, -2.3656e-03, -9.2508e-04, -4.2245e-04,  2.5672e-03,\n",
      "           1.3760e-03, -5.8061e-03,  3.1964e-04,  2.7148e-03,  1.5907e-03,\n",
      "          -5.2266e-03]]], device='cuda:0') tensor([[[-0.0008,  0.0001,  0.0214, -0.0150, -0.0291,  0.0114,  0.0010,\n",
      "           0.0094, -0.0027,  0.0033,  0.0024,  0.0031,  0.0012,  0.0051,\n",
      "           0.0026, -0.0113]]], device='cuda:0')\n",
      "before aggregate\n",
      "after aggregate\n",
      "tensor([[[-0.0043, -0.0015,  0.0214, -0.0165, -0.0511,  0.0783, -0.0013,\n",
      "           0.0085, -0.0031,  0.0058,  0.0038, -0.0027,  0.0015,  0.0078,\n",
      "           0.0042, -0.0165]]], device='cuda:0') tensor([[[-0.0043, -0.0015,  0.0214, -0.0165, -0.0511,  0.0783, -0.0013,\n",
      "           0.0085, -0.0031,  0.0058,  0.0038, -0.0027,  0.0015,  0.0078,\n",
      "           0.0042, -0.0165]]], device='cuda:0')\n"
     ]
    }
   ],
   "source": [
    "from CVModels import printParams\n",
    "# printParams(model.modelList)\n",
    "\n",
    "print(list(model.modelList[0].parameters())[0].data, list(model.modelList[1].parameters())[0].data)\n",
    "print(\"before sync\")\n",
    "model.sync()\n",
    "print(\"after sync\")\n",
    "# printParams(model.modelList)\n",
    "print(list(model.modelList[0].parameters())[0].data, list(model.modelList[1].parameters())[0].data)\n",
    "\n",
    "# paramList = list(zip(*[list(model.parameters()) for model in model.modelList]))\n",
    "# print(len(paramList)) # 42 num layers\n",
    "# print(len(paramList[0])) # 2 num models\n",
    "# print(paramList[0][0]) # param"
   ]
  },
  {
   "cell_type": "code",
   "execution_count": 13,
   "metadata": {},
   "outputs": [],
   "source": [
    "# ppo.runGame()\n",
    "# loss = ppo.train(debug=True)\n",
    "# print(loss)\n",
    "# import torchviz\n",
    "# torchviz.make_dot(torch.sum(loss), params=dict(model.named_parameters()))"
   ]
  },
  {
   "cell_type": "code",
   "execution_count": 14,
   "metadata": {},
   "outputs": [],
   "source": [
    "# loadAll(\"vitNegT8BigFin\")"
   ]
  },
  {
   "cell_type": "code",
   "execution_count": 15,
   "metadata": {},
   "outputs": [
    {
     "name": "stdout",
     "output_type": "stream",
     "text": [
      "episodeLength [349.85714285714283, 305.42857142857144] episodeReward [-0.03571428571428571, -0.09523809523809523] \n",
      "epoch 0 steps 4096 \n",
      "loss tensor([0.0157, 0.0170], dtype=torch.float64) policy tensor([-1.7234e-09, -2.7109e-09], dtype=torch.float64) \n",
      "value tensor([0.0157, 0.0170], dtype=torch.float64) entropy tensor([2.7052, 2.7051]) \n",
      "stale 0              \n",
      "episodeLength [249.9375, 362.0] episodeReward [-0.09375, 0.078125] \n",
      "epoch 10 steps 45056 \n",
      "loss tensor([0.0032, 0.0004], dtype=torch.float64) policy tensor([ 0.0017, -0.0019], dtype=torch.float64) \n",
      "value tensor([0.0015, 0.0023], dtype=torch.float64) entropy tensor([2.6921, 2.6817]) \n",
      "stale 952              \n",
      "episodeLength [234.5, 377.3333333333333] episodeReward [-0.08333333333333333, -0.16666666666666666] \n",
      "epoch 20 steps 86016 \n",
      "loss tensor([0.0029, 0.0030], dtype=torch.float64) policy tensor([0.0024, 0.0022], dtype=torch.float64) \n",
      "value tensor([0.0006, 0.0008], dtype=torch.float64) entropy tensor([2.6947, 2.6930]) \n",
      "stale 991              \n",
      "episodeLength [540.4444444444445, 333.3333333333333] episodeReward [0.1111111111111111, 0.05555555555555555] \n",
      "epoch 30 steps 126976 \n",
      "loss tensor([0.0027, 0.0073], dtype=torch.float64) policy tensor([0.0018, 0.0068], dtype=torch.float64) \n",
      "value tensor([0.0009, 0.0004], dtype=torch.float64) entropy tensor([2.6797, 2.6889]) \n",
      "stale 950              \n",
      "episodeLength [347.0, 609.3076923076923] episodeReward [0.0, -0.057692307692307696] \n",
      "epoch 40 steps 167936 \n",
      "loss tensor([ 0.0011, -0.0003], dtype=torch.float64) policy tensor([ 0.0006, -0.0009], dtype=torch.float64) \n",
      "value tensor([0.0005, 0.0007], dtype=torch.float64) entropy tensor([2.6798, 2.6748]) \n",
      "stale 993              \n"
     ]
    }
   ],
   "source": [
    "for i in range(50):\n",
    "    ppo.runGame()\n",
    "    ppo.train()\n",
    "    if i % 10 == 0:\n",
    "        # print(\"episodeLength\", ppo.all_stats[-1][\"game/episodeLength\"], \"episodeReward\", ppo.all_stats[-1][\"game/episodeReward\"],\n",
    "        #       \"epoch\", ppo.all_stats[-1][\"epoch\"], \"steps\", ppo.all_stats[-1][\"steps\"], \n",
    "        #       \"\\nloss\", ppo.all_stats[-1][\"ppo/loss/total\"].item(), \"policy\", ppo.all_stats[-1][\"ppo/loss/policy\"].item(), \n",
    "        #       \"value\", ppo.all_stats[-1][\"ppo/loss/value\"].item(),\n",
    "        #       \"entropy\", ppo.all_stats[-1][\"ppo/policy/entropy\"].item())\n",
    "        print(f\"episodeLength {ppo.all_stats[-1]['game/episodeLength']} episodeReward {ppo.all_stats[-1]['game/episodeReward']} \" + \n",
    "              f\"\\nepoch {ppo.all_stats[-1]['epoch']} steps {ppo.all_stats[-1]['steps']} \" +\n",
    "              f\"\\nloss {ppo.all_stats[-1]['ppo/loss/total']} policy {ppo.all_stats[-1]['ppo/loss/policy']} \" +\n",
    "              f\"\\nvalue {ppo.all_stats[-1]['ppo/loss/value']} entropy {ppo.all_stats[-1]['ppo/policy/entropy']} \" +\n",
    "              f\"\\nstale {ppo.all_stats[-1]['game/staleSteps']}              \")\n",
    "    # if i % 100 == 0:\n",
    "    #     stats = ppo.all_stats[-1]\n",
    "    #     for k, v in stats.items():\n",
    "    #         # if \"time\" in k:\n",
    "    #         print(k, v)"
   ]
  },
  {
   "cell_type": "code",
   "execution_count": null,
   "metadata": {},
   "outputs": [],
   "source": [
    "# saveAll(\"vitNegT8BigFin400\")"
   ]
  },
  {
   "cell_type": "code",
   "execution_count": null,
   "metadata": {},
   "outputs": [],
   "source": []
  },
  {
   "attachments": {},
   "cell_type": "markdown",
   "metadata": {},
   "source": [
    "\n",
    "\n",
    "\n"
   ]
  },
  {
   "cell_type": "markdown",
   "metadata": {},
   "source": []
  }
 ],
 "metadata": {
  "kernelspec": {
   "display_name": "torch",
   "language": "python",
   "name": "python3"
  },
  "language_info": {
   "codemirror_mode": {
    "name": "ipython",
    "version": 3
   },
   "file_extension": ".py",
   "mimetype": "text/x-python",
   "name": "python",
   "nbconvert_exporter": "python",
   "pygments_lexer": "ipython3",
   "version": "3.10.4"
  },
  "orig_nbformat": 4,
  "vscode": {
   "interpreter": {
    "hash": "ac488eaa353570522d4c04bd2cd8e3c67c3437ec54aafb89a01cbc7941828458"
   }
  }
 },
 "nbformat": 4,
 "nbformat_minor": 2
}
