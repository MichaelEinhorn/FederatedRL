{
 "cells": [
  {
   "cell_type": "code",
   "execution_count": 1,
   "metadata": {},
   "outputs": [
    {
     "name": "stdout",
     "output_type": "stream",
     "text": [
      "cuda:0\n"
     ]
    }
   ],
   "source": [
    "import torch\n",
    "from procgen import ProcgenGym3Env\n",
    "from torchinfo import summary\n",
    "import core\n",
    "\n",
    "device = torch.device(\"cuda:0\" if torch.cuda.is_available() else \"cpu\")\n",
    "print(device)\n",
    "\n",
    "model = None\n",
    "player = None\n",
    "ppo = None\n",
    "env= None\n",
    "envKW = {}\n",
    "\n",
    "modelPath = \"models/\"\n",
    "def loadAll(fname, loadEnv=True):\n",
    "    model.load_state_dict(torch.load(modelPath + fname + \"/model.pth\"))\n",
    "    player.load_state_dict(torch.load(modelPath + fname + \"/player.pth\"))\n",
    "    ppo.load_state_dict(torch.load(modelPath + fname + \"/ppo.pth\"))\n",
    "    if loadEnv:\n",
    "        envKW = torch.load(modelPath + fname + \"/envKW.pth\")\n",
    "        env = ProcgenGym3Env(**envKW)\n",
    "        env.callmethod(\"set_state\", torch.load(modelPath + fname + \"/env_states.pth\"))\n",
    "    else:\n",
    "        player.reset()\n",
    "\n",
    "def saveAll(fname):\n",
    "    import os\n",
    "    os.makedirs(modelPath + fname, exist_ok=True)\n",
    "    torch.save(model.state_dict(), modelPath + fname + \"/model.pth\")\n",
    "    torch.save(player.state_dict(), modelPath + fname + \"/player.pth\")\n",
    "    torch.save(ppo.state_dict(), modelPath + fname + \"/ppo.pth\")\n",
    "    torch.save(envKW, modelPath + fname + \"/envKW.pth\")\n",
    "    torch.save(env.callmethod(\"get_state\"), modelPath + fname + \"/env_states.pth\")\n",
    "    torch.save(ppo.all_stats, modelPath + fname + \"/stats.pth\")\n",
    "    torch.save(player.trainEpisodeStats, modelPath + fname + \"/trainEpisodeStats.pth\")\n"
   ]
  },
  {
   "cell_type": "code",
   "execution_count": 2,
   "metadata": {},
   "outputs": [
    {
     "name": "stdout",
     "output_type": "stream",
     "text": [
      "Dict(rgb=D256[64,64,3])\n",
      "D15[]\n"
     ]
    }
   ],
   "source": [
    "num_models = 2\n",
    "num_agents = 64\n",
    "envKW = core.getKW(num=num_models*num_agents, env_name=\"coinrun\", distribution_mode=\"easy\", paint_vel_info=True, use_backgrounds=False, restrict_themes=True)\n",
    "env = ProcgenGym3Env(**envKW)\n",
    "print(env.ob_space)\n",
    "print(env.ac_space)"
   ]
  },
  {
   "cell_type": "code",
   "execution_count": 3,
   "metadata": {},
   "outputs": [
    {
     "data": {
      "text/plain": [
       "===============================================================================================\n",
       "Layer (type:depth-idx)                        Output Shape              Param #\n",
       "===============================================================================================\n",
       "VectorModelValue                              [2, 2, 15]                --\n",
       "├─ModuleList: 1-1                             --                        --\n",
       "│    └─ImpalaValue: 2-1                       [2, 15]                   --\n",
       "│    │    └─ImpalaModel: 3-1                  [2, 256]                  622,144\n",
       "│    │    └─Linear: 3-2                       [2, 15]                   3,855\n",
       "│    │    └─ValueHead: 3-3                    [2, 1]                    257\n",
       "│    └─ImpalaValue: 2-2                       [2, 15]                   --\n",
       "│    │    └─ImpalaModel: 3-4                  [2, 256]                  622,144\n",
       "│    │    └─Linear: 3-5                       [2, 15]                   3,855\n",
       "│    │    └─ValueHead: 3-6                    [2, 1]                    257\n",
       "===============================================================================================\n",
       "Total params: 1,252,512\n",
       "Trainable params: 1,252,512\n",
       "Non-trainable params: 0\n",
       "Total mult-adds (M): 125.39\n",
       "===============================================================================================\n",
       "Input size (MB): 0.20\n",
       "Forward/backward pass size (MB): 6.82\n",
       "Params size (MB): 0.81\n",
       "Estimated Total Size (MB): 7.83\n",
       "==============================================================================================="
      ]
     },
     "execution_count": 3,
     "metadata": {},
     "output_type": "execute_result"
    }
   ],
   "source": [
    "from CVModels import CNNAgent, ViTValue, ImpalaValue, VectorModelValue\n",
    "from CVModels import avgSync, sumSync\n",
    "modelName = \"Impala\"\n",
    "if modelName == \"Impala\":\n",
    "    model = ImpalaValue().to(device)\n",
    "elif modelName == \"ViT60\":\n",
    "    model = ViTValue(depth=4, num_heads=4, embed_dim=32, mlp_ratio=4, valueHeadLayers=1).to(device)\n",
    "elif modelName == \"ViT15\":\n",
    "    model = ViTValue(depth=3, num_heads=4, embed_dim=16, mlp_ratio=4, valueHeadLayers=1).to(device)\n",
    "elif modelName == \"resnet\":\n",
    "    model = CNNAgent([64, 64, 3], 15, channels=16, layers=[1,1,1,1], scale=[1,1,1,1], vheadLayers=1).to(device)\n",
    "# model = ViTValue(depth=3, num_heads=4, embed_dim=16, mlp_ratio=4, valueHeadLayers=1).to(device)\n",
    "model = VectorModelValue(model, n=num_models, syncFunc=avgSync).to(device)\n",
    "# model = CNNAgent([64, 64, 3], 15, channels=16, layers=[1,1,1,1], scale=[1,1,1,1], vheadLayers=1).to(device)\n",
    "model.train()\n",
    "summary(model, input_size=(2, 2, 3, 64, 64))"
   ]
  },
  {
   "cell_type": "code",
   "execution_count": 4,
   "metadata": {},
   "outputs": [
    {
     "name": "stdout",
     "output_type": "stream",
     "text": [
      "terminateReward 0.0 livingReward -0.001 discountedSumLiving -0.09999999999999991\n"
     ]
    }
   ],
   "source": [
    "# model.load_state_dict(torch.load(modelPath + \"vitNegT8BigFin\" + \"/model.pth\"))\n",
    "from PPO import VectorPPO\n",
    "from ProcgenPlayer import VectorPlayer\n",
    "\n",
    "gamma = 0.99\n",
    "# gamma = 0.999\n",
    "rewardScale = 10\n",
    "terminateReward = 1 - 10.0 / rewardScale\n",
    "\n",
    "# livingReward = 0\n",
    "livingReward = -1e-3\n",
    "# lr = 1e-3\n",
    "lr = 2.5e-4\n",
    "# ent_coef = 0\n",
    "ent_coef = 1e-2\n",
    "print(\"terminateReward\", terminateReward, \"livingReward\", livingReward, \"discountedSumLiving\", livingReward / (1 - gamma)) # if terminate reward > discountedSumLiving the agent will perfer to run into obstacles."
   ]
  },
  {
   "cell_type": "code",
   "execution_count": 5,
   "metadata": {},
   "outputs": [
    {
     "name": "stderr",
     "output_type": "stream",
     "text": [
      "c:\\ProgramData\\Miniconda3\\envs\\torch\\lib\\site-packages\\transformers\\optimization.py:306: FutureWarning: This implementation of AdamW is deprecated and will be removed in a future version. Use the PyTorch implementation torch.optim.AdamW instead, or set `no_deprecation_warning=True` to disable this warning\n",
      "  warnings.warn(\n"
     ]
    }
   ],
   "source": [
    "player = VectorPlayer(env, num_agents=num_agents, num_models=num_models, \n",
    "                      epsilon=0.01, epsilon_decay=1, \n",
    "                      rewardScale=rewardScale, livingReward=livingReward, terminateReward=terminateReward, \n",
    "                      finishedOnly=True, maxStaleSteps=64)\n",
    "ppo = VectorPPO(model, env, num_agents=num_agents, num_models=num_models, player=player, \n",
    "                lr=lr, gamma=gamma, ent_coef=ent_coef, weight_decay=0.0, \n",
    "                warmup_steps=10, train_steps=1000, sync_epochs=6,\n",
    "                batch_size=1, epochs_per_game=3)"
   ]
  },
  {
   "cell_type": "code",
   "execution_count": 6,
   "metadata": {},
   "outputs": [],
   "source": [
    "# from CVModels import printParams\n",
    "# # printParams(model.modelList)\n",
    "\n",
    "# print(list(model.modelList[0].parameters())[0].data, list(model.modelList[1].parameters())[0].data)\n",
    "# print(\"before sync\")\n",
    "# model.sync()\n",
    "# print(\"after sync\")\n",
    "# # printParams(model.modelList)\n",
    "# print(list(model.modelList[0].parameters())[0].data, list(model.modelList[1].parameters())[0].data)\n",
    "\n",
    "# paramList = list(zip(*[list(model.parameters()) for model in model.modelList]))\n",
    "# print(len(paramList)) # 42 num layers\n",
    "# print(len(paramList[0])) # 2 num models\n",
    "# print(paramList[0][0]) # param"
   ]
  },
  {
   "cell_type": "code",
   "execution_count": 7,
   "metadata": {},
   "outputs": [],
   "source": [
    "# ppo.runGame()\n",
    "# loss = ppo.train(debug=True)\n",
    "# print(loss)\n",
    "# import torchviz\n",
    "# torchviz.make_dot(torch.sum(loss), params=dict(model.named_parameters()))"
   ]
  },
  {
   "cell_type": "code",
   "execution_count": 8,
   "metadata": {},
   "outputs": [
    {
     "name": "stdout",
     "output_type": "stream",
     "text": [
      "{'alg_name': 'ppo', 'lr': 0.00025, 'gamma': 0.99, 'lam': 0.95, 'whiten': True, 'cliprange': 0.2, 'cliprange_value': 0.2, 'vf_coef': 0.5, 'epoch_steps': 256, 'epochs_per_game': 3, 'batch_size': 1, 'ent_coef': 0.01, 'weight_decay': 0.0, 'warmup_steps': 10, 'train_steps': 1000, 'sync_epochs': 6, 'sync_steps': -1}\n",
      "{'alg_name': 'ppo', 'epsilon': 0.01, 'epsilon_decay': 1, 'rewardScale': 10, 'livingReward': -0.001, 'terminateReward': 0.0, 'finishedOnly': True, 'maxStaleSteps': 64}\n",
      "{'num': 128, 'env_name': 'coinrun', 'distribution_mode': 'easy', 'paint_vel_info': True, 'use_backgrounds': False, 'restrict_themes': True}\n"
     ]
    }
   ],
   "source": [
    "# loadAll(\"vitNegT8BigFin\")\n",
    "print(ppo.params)\n",
    "print(player.params)\n",
    "print(envKW)"
   ]
  },
  {
   "cell_type": "code",
   "execution_count": 9,
   "metadata": {},
   "outputs": [
    {
     "name": "stdout",
     "output_type": "stream",
     "text": [
      "episodeLength [174.57142857142858, 162.57142857142858] episodeReward [-0.1745714368631265, -0.01971429158999984] \n",
      "epoch 2 steps 32768 \n",
      "loss tensor([-0.0300, -0.0289], dtype=torch.float64) policy tensor([-0.0037, -0.0026], dtype=torch.float64) \n",
      "value tensor([0.0004, 0.0004], dtype=torch.float64) entropy tensor([2.6759, 2.6728]) \n",
      "comms 2 data 9.555908203125 \n",
      "stale 0              \n",
      "episodeLength [255.57142857142858, 522.7878787878788] episodeReward [0.19897401970871664, -0.15915153528366124] \n",
      "epoch 32 steps 360448 \n",
      "loss tensor([-0.0300, -0.0303], dtype=torch.float64) policy tensor([-0.0039, -0.0036], dtype=torch.float64) \n",
      "value tensor([0.0005, 0.0002], dtype=torch.float64) entropy tensor([2.6597, 2.6926]) \n",
      "comms 12 data 57.33544921875 \n",
      "stale 64              \n",
      "episodeLength [141.0096153846154, 160.74774774774775] episodeReward [0.3109134606806597, 0.3257387373900578] \n",
      "epoch 62 steps 688128 \n",
      "loss tensor([-0.0331, -0.0323], dtype=torch.float64) policy tensor([-0.0083, -0.0071], dtype=torch.float64) \n",
      "value tensor([0.0007, 0.0007], dtype=torch.float64) entropy tensor([2.5594, 2.5872]) \n",
      "comms 22 data 105.114990234375 \n",
      "stale 64              \n",
      "episodeLength [70.20762711864407, 99.74534161490683] episodeReward [0.3874194941042441, 0.47168323246007265] \n",
      "epoch 92 steps 1015808 \n",
      "loss tensor([-0.0373, -0.0352], dtype=torch.float64) policy tensor([-0.0140, -0.0109], dtype=torch.float64) \n",
      "value tensor([0.0010, 0.0008], dtype=torch.float64) entropy tensor([2.4338, 2.5152]) \n",
      "comms 32 data 152.89453125 \n",
      "stale 64              \n",
      "episodeLength [59.36785714285714, 76.43231441048034] episodeReward [0.46920357543900276, 0.4082838454279707] \n",
      "epoch 122 steps 1343488 \n",
      "loss tensor([-0.0344, -0.0435], dtype=torch.float64) policy tensor([-0.0121, -0.0202], dtype=torch.float64) \n",
      "value tensor([0.0013, 0.0010], dtype=torch.float64) entropy tensor([2.3555, 2.4277]) \n",
      "comms 42 data 200.674072265625 \n",
      "stale 64              \n",
      "episodeLength [70.12145748987854, 59.633699633699635] episodeReward [0.3711740914407009, 0.40556776874669703] \n",
      "epoch 152 steps 1671168 \n",
      "loss tensor([-0.0402, -0.0367], dtype=torch.float64) policy tensor([-0.0173, -0.0151], dtype=torch.float64) \n",
      "value tensor([0.0011, 0.0012], dtype=torch.float64) entropy tensor([2.4031, 2.2850]) \n",
      "comms 52 data 248.45361328125 \n",
      "stale 64              \n",
      "episodeLength [60.798561151079134, 53.907120743034056] episodeReward [0.3636618731007409, 0.43835294497705385] \n",
      "epoch 182 steps 1998848 \n",
      "loss tensor([-0.0474, -0.0420], dtype=torch.float64) policy tensor([-0.0252, -0.0204], dtype=torch.float64) \n",
      "value tensor([0.0011, 0.0013], dtype=torch.float64) entropy tensor([2.3390, 2.2960]) \n",
      "comms 62 data 296.233154296875 \n",
      "stale 64              \n",
      "episodeLength [76.18055555555556, 60.01115241635688] episodeReward [0.33585648318748335, 0.3860855047728652] \n",
      "epoch 212 steps 2326528 \n",
      "loss tensor([-0.0472, -0.0418], dtype=torch.float64) policy tensor([-0.0245, -0.0198], dtype=torch.float64) \n",
      "value tensor([0.0010, 0.0013], dtype=torch.float64) entropy tensor([2.3695, 2.3326]) \n",
      "comms 72 data 344.0126953125 \n",
      "stale 64              \n",
      "episodeLength [64.87890625, 81.75714285714285] episodeReward [0.4155898468770829, 0.44205238383784445] \n",
      "epoch 242 steps 2654208 \n",
      "loss tensor([-0.0418, -0.0428], dtype=torch.float64) policy tensor([-0.0197, -0.0198], dtype=torch.float64) \n",
      "value tensor([0.0014, 0.0012], dtype=torch.float64) entropy tensor([2.3518, 2.4081]) \n",
      "comms 82 data 391.792236328125 \n",
      "stale 64              \n",
      "episodeLength [68.68379446640316, 72.21645021645021] episodeReward [0.41352964723768015, 0.3650129892328125] \n",
      "epoch 272 steps 2981888 \n",
      "loss tensor([-0.0373, -0.0431], dtype=torch.float64) policy tensor([-0.0151, -0.0206], dtype=torch.float64) \n",
      "value tensor([0.0013, 0.0011], dtype=torch.float64) entropy tensor([2.3478, 2.3640]) \n",
      "comms 92 data 439.57177734375 \n",
      "stale 64              \n"
     ]
    },
    {
     "ename": "KeyboardInterrupt",
     "evalue": "",
     "output_type": "error",
     "traceback": [
      "\u001b[1;31m---------------------------------------------------------------------------\u001b[0m",
      "\u001b[1;31mKeyboardInterrupt\u001b[0m                         Traceback (most recent call last)",
      "\u001b[1;32mc:\\Users\\Michael Einhorn\\Documents\\GTML\\RL\\procgenVector.ipynb Cell 9\u001b[0m in \u001b[0;36m<cell line: 1>\u001b[1;34m()\u001b[0m\n\u001b[0;32m      <a href='vscode-notebook-cell:/c%3A/Users/Michael%20Einhorn/Documents/GTML/RL/procgenVector.ipynb#X11sZmlsZQ%3D%3D?line=0'>1</a>\u001b[0m \u001b[39mfor\u001b[39;00m i \u001b[39min\u001b[39;00m \u001b[39mrange\u001b[39m(\u001b[39m400\u001b[39m):\n\u001b[0;32m      <a href='vscode-notebook-cell:/c%3A/Users/Michael%20Einhorn/Documents/GTML/RL/procgenVector.ipynb#X11sZmlsZQ%3D%3D?line=1'>2</a>\u001b[0m     ppo\u001b[39m.\u001b[39mrunGame()\n\u001b[1;32m----> <a href='vscode-notebook-cell:/c%3A/Users/Michael%20Einhorn/Documents/GTML/RL/procgenVector.ipynb#X11sZmlsZQ%3D%3D?line=2'>3</a>\u001b[0m     ppo\u001b[39m.\u001b[39;49mtrain()\n\u001b[0;32m      <a href='vscode-notebook-cell:/c%3A/Users/Michael%20Einhorn/Documents/GTML/RL/procgenVector.ipynb#X11sZmlsZQ%3D%3D?line=3'>4</a>\u001b[0m     \u001b[39mif\u001b[39;00m i \u001b[39m%\u001b[39m \u001b[39m10\u001b[39m \u001b[39m==\u001b[39m \u001b[39m0\u001b[39m:\n\u001b[0;32m      <a href='vscode-notebook-cell:/c%3A/Users/Michael%20Einhorn/Documents/GTML/RL/procgenVector.ipynb#X11sZmlsZQ%3D%3D?line=4'>5</a>\u001b[0m         \u001b[39m# print(\"episodeLength\", ppo.all_stats[-1][\"game/episodeLength\"], \"episodeReward\", ppo.all_stats[-1][\"game/episodeReward\"],\u001b[39;00m\n\u001b[0;32m      <a href='vscode-notebook-cell:/c%3A/Users/Michael%20Einhorn/Documents/GTML/RL/procgenVector.ipynb#X11sZmlsZQ%3D%3D?line=5'>6</a>\u001b[0m         \u001b[39m#       \"epoch\", ppo.all_stats[-1][\"epoch\"], \"steps\", ppo.all_stats[-1][\"steps\"], \u001b[39;00m\n\u001b[0;32m      <a href='vscode-notebook-cell:/c%3A/Users/Michael%20Einhorn/Documents/GTML/RL/procgenVector.ipynb#X11sZmlsZQ%3D%3D?line=6'>7</a>\u001b[0m         \u001b[39m#       \"\\nloss\", ppo.all_stats[-1][\"ppo/loss/total\"].item(), \"policy\", ppo.all_stats[-1][\"ppo/loss/policy\"].item(), \u001b[39;00m\n\u001b[0;32m      <a href='vscode-notebook-cell:/c%3A/Users/Michael%20Einhorn/Documents/GTML/RL/procgenVector.ipynb#X11sZmlsZQ%3D%3D?line=7'>8</a>\u001b[0m         \u001b[39m#       \"value\", ppo.all_stats[-1][\"ppo/loss/value\"].item(),\u001b[39;00m\n\u001b[0;32m      <a href='vscode-notebook-cell:/c%3A/Users/Michael%20Einhorn/Documents/GTML/RL/procgenVector.ipynb#X11sZmlsZQ%3D%3D?line=8'>9</a>\u001b[0m         \u001b[39m#       \"entropy\", ppo.all_stats[-1][\"ppo/policy/entropy\"].item())\u001b[39;00m\n\u001b[0;32m     <a href='vscode-notebook-cell:/c%3A/Users/Michael%20Einhorn/Documents/GTML/RL/procgenVector.ipynb#X11sZmlsZQ%3D%3D?line=9'>10</a>\u001b[0m         \u001b[39mprint\u001b[39m(\u001b[39mf\u001b[39m\u001b[39m\"\u001b[39m\u001b[39mepisodeLength \u001b[39m\u001b[39m{\u001b[39;00mppo\u001b[39m.\u001b[39mall_stats[\u001b[39m-\u001b[39m\u001b[39m1\u001b[39m][\u001b[39m'\u001b[39m\u001b[39mgame/episodeLength\u001b[39m\u001b[39m'\u001b[39m]\u001b[39m}\u001b[39;00m\u001b[39m episodeReward \u001b[39m\u001b[39m{\u001b[39;00mppo\u001b[39m.\u001b[39mall_stats[\u001b[39m-\u001b[39m\u001b[39m1\u001b[39m][\u001b[39m'\u001b[39m\u001b[39mgame/episodeReward\u001b[39m\u001b[39m'\u001b[39m]\u001b[39m}\u001b[39;00m\u001b[39m \u001b[39m\u001b[39m\"\u001b[39m \u001b[39m+\u001b[39m \n\u001b[0;32m     <a href='vscode-notebook-cell:/c%3A/Users/Michael%20Einhorn/Documents/GTML/RL/procgenVector.ipynb#X11sZmlsZQ%3D%3D?line=10'>11</a>\u001b[0m               \u001b[39mf\u001b[39m\u001b[39m\"\u001b[39m\u001b[39m\\n\u001b[39;00m\u001b[39mepoch \u001b[39m\u001b[39m{\u001b[39;00mppo\u001b[39m.\u001b[39mall_stats[\u001b[39m-\u001b[39m\u001b[39m1\u001b[39m][\u001b[39m'\u001b[39m\u001b[39mepoch\u001b[39m\u001b[39m'\u001b[39m]\u001b[39m}\u001b[39;00m\u001b[39m steps \u001b[39m\u001b[39m{\u001b[39;00mppo\u001b[39m.\u001b[39mall_stats[\u001b[39m-\u001b[39m\u001b[39m1\u001b[39m][\u001b[39m'\u001b[39m\u001b[39msteps\u001b[39m\u001b[39m'\u001b[39m]\u001b[39m}\u001b[39;00m\u001b[39m \u001b[39m\u001b[39m\"\u001b[39m \u001b[39m+\u001b[39m\n\u001b[0;32m     <a href='vscode-notebook-cell:/c%3A/Users/Michael%20Einhorn/Documents/GTML/RL/procgenVector.ipynb#X11sZmlsZQ%3D%3D?line=11'>12</a>\u001b[0m               \u001b[39mf\u001b[39m\u001b[39m\"\u001b[39m\u001b[39m\\n\u001b[39;00m\u001b[39mloss \u001b[39m\u001b[39m{\u001b[39;00mppo\u001b[39m.\u001b[39mall_stats[\u001b[39m-\u001b[39m\u001b[39m1\u001b[39m][\u001b[39m'\u001b[39m\u001b[39mppo/loss/total\u001b[39m\u001b[39m'\u001b[39m]\u001b[39m}\u001b[39;00m\u001b[39m policy \u001b[39m\u001b[39m{\u001b[39;00mppo\u001b[39m.\u001b[39mall_stats[\u001b[39m-\u001b[39m\u001b[39m1\u001b[39m][\u001b[39m'\u001b[39m\u001b[39mppo/loss/policy\u001b[39m\u001b[39m'\u001b[39m]\u001b[39m}\u001b[39;00m\u001b[39m \u001b[39m\u001b[39m\"\u001b[39m \u001b[39m+\u001b[39m\n\u001b[0;32m     <a href='vscode-notebook-cell:/c%3A/Users/Michael%20Einhorn/Documents/GTML/RL/procgenVector.ipynb#X11sZmlsZQ%3D%3D?line=12'>13</a>\u001b[0m               \u001b[39mf\u001b[39m\u001b[39m\"\u001b[39m\u001b[39m\\n\u001b[39;00m\u001b[39mvalue \u001b[39m\u001b[39m{\u001b[39;00mppo\u001b[39m.\u001b[39mall_stats[\u001b[39m-\u001b[39m\u001b[39m1\u001b[39m][\u001b[39m'\u001b[39m\u001b[39mppo/loss/value\u001b[39m\u001b[39m'\u001b[39m]\u001b[39m}\u001b[39;00m\u001b[39m entropy \u001b[39m\u001b[39m{\u001b[39;00mppo\u001b[39m.\u001b[39mall_stats[\u001b[39m-\u001b[39m\u001b[39m1\u001b[39m][\u001b[39m'\u001b[39m\u001b[39mppo/policy/entropy\u001b[39m\u001b[39m'\u001b[39m]\u001b[39m}\u001b[39;00m\u001b[39m \u001b[39m\u001b[39m\"\u001b[39m \u001b[39m+\u001b[39m\n\u001b[0;32m     <a href='vscode-notebook-cell:/c%3A/Users/Michael%20Einhorn/Documents/GTML/RL/procgenVector.ipynb#X11sZmlsZQ%3D%3D?line=13'>14</a>\u001b[0m               \u001b[39mf\u001b[39m\u001b[39m\"\u001b[39m\u001b[39m\\n\u001b[39;00m\u001b[39mcomms \u001b[39m\u001b[39m{\u001b[39;00mppo\u001b[39m.\u001b[39mall_stats[\u001b[39m-\u001b[39m\u001b[39m1\u001b[39m][\u001b[39m'\u001b[39m\u001b[39msync/comms\u001b[39m\u001b[39m'\u001b[39m]\u001b[39m}\u001b[39;00m\u001b[39m data \u001b[39m\u001b[39m{\u001b[39;00mppo\u001b[39m.\u001b[39mall_stats[\u001b[39m-\u001b[39m\u001b[39m1\u001b[39m][\u001b[39m'\u001b[39m\u001b[39msync/data\u001b[39m\u001b[39m'\u001b[39m]\u001b[39m}\u001b[39;00m\u001b[39m \u001b[39m\u001b[39m\"\u001b[39m \u001b[39m+\u001b[39m\n\u001b[0;32m     <a href='vscode-notebook-cell:/c%3A/Users/Michael%20Einhorn/Documents/GTML/RL/procgenVector.ipynb#X11sZmlsZQ%3D%3D?line=14'>15</a>\u001b[0m               \u001b[39mf\u001b[39m\u001b[39m\"\u001b[39m\u001b[39m\\n\u001b[39;00m\u001b[39mstale \u001b[39m\u001b[39m{\u001b[39;00mppo\u001b[39m.\u001b[39mall_stats[\u001b[39m-\u001b[39m\u001b[39m1\u001b[39m][\u001b[39m'\u001b[39m\u001b[39mgame/staleSteps\u001b[39m\u001b[39m'\u001b[39m]\u001b[39m}\u001b[39;00m\u001b[39m              \u001b[39m\u001b[39m\"\u001b[39m)\n",
      "File \u001b[1;32mc:\\Users\\Michael Einhorn\\Documents\\GTML\\RL\\PPO.py:382\u001b[0m, in \u001b[0;36mVectorPPO.train\u001b[1;34m(self, debug)\u001b[0m\n\u001b[0;32m    380\u001b[0m t \u001b[39m=\u001b[39m time\u001b[39m.\u001b[39mtime()\n\u001b[0;32m    381\u001b[0m lossSum \u001b[39m=\u001b[39m torch\u001b[39m.\u001b[39msum(loss)\n\u001b[1;32m--> 382\u001b[0m lossSum\u001b[39m.\u001b[39;49mbackward()\n\u001b[0;32m    383\u001b[0m \u001b[39mself\u001b[39m\u001b[39m.\u001b[39mtiming[\u001b[39mf\u001b[39m\u001b[39m\"\u001b[39m\u001b[39mtime/\u001b[39m\u001b[39m{\u001b[39;00m\u001b[39mself\u001b[39m\u001b[39m.\u001b[39malg_name\u001b[39m}\u001b[39;00m\u001b[39m/backward\u001b[39m\u001b[39m\"\u001b[39m] \u001b[39m+\u001b[39m\u001b[39m=\u001b[39m time\u001b[39m.\u001b[39mtime() \u001b[39m-\u001b[39m t\n\u001b[0;32m    384\u001b[0m t \u001b[39m=\u001b[39m time\u001b[39m.\u001b[39mtime()\n",
      "File \u001b[1;32mc:\\ProgramData\\Miniconda3\\envs\\torch\\lib\\site-packages\\torch\\_tensor.py:396\u001b[0m, in \u001b[0;36mTensor.backward\u001b[1;34m(self, gradient, retain_graph, create_graph, inputs)\u001b[0m\n\u001b[0;32m    387\u001b[0m \u001b[39mif\u001b[39;00m has_torch_function_unary(\u001b[39mself\u001b[39m):\n\u001b[0;32m    388\u001b[0m     \u001b[39mreturn\u001b[39;00m handle_torch_function(\n\u001b[0;32m    389\u001b[0m         Tensor\u001b[39m.\u001b[39mbackward,\n\u001b[0;32m    390\u001b[0m         (\u001b[39mself\u001b[39m,),\n\u001b[1;32m   (...)\u001b[0m\n\u001b[0;32m    394\u001b[0m         create_graph\u001b[39m=\u001b[39mcreate_graph,\n\u001b[0;32m    395\u001b[0m         inputs\u001b[39m=\u001b[39minputs)\n\u001b[1;32m--> 396\u001b[0m torch\u001b[39m.\u001b[39;49mautograd\u001b[39m.\u001b[39;49mbackward(\u001b[39mself\u001b[39;49m, gradient, retain_graph, create_graph, inputs\u001b[39m=\u001b[39;49minputs)\n",
      "File \u001b[1;32mc:\\ProgramData\\Miniconda3\\envs\\torch\\lib\\site-packages\\torch\\autograd\\__init__.py:173\u001b[0m, in \u001b[0;36mbackward\u001b[1;34m(tensors, grad_tensors, retain_graph, create_graph, grad_variables, inputs)\u001b[0m\n\u001b[0;32m    168\u001b[0m     retain_graph \u001b[39m=\u001b[39m create_graph\n\u001b[0;32m    170\u001b[0m \u001b[39m# The reason we repeat same the comment below is that\u001b[39;00m\n\u001b[0;32m    171\u001b[0m \u001b[39m# some Python versions print out the first line of a multi-line function\u001b[39;00m\n\u001b[0;32m    172\u001b[0m \u001b[39m# calls in the traceback and some print out the last line\u001b[39;00m\n\u001b[1;32m--> 173\u001b[0m Variable\u001b[39m.\u001b[39;49m_execution_engine\u001b[39m.\u001b[39;49mrun_backward(  \u001b[39m# Calls into the C++ engine to run the backward pass\u001b[39;49;00m\n\u001b[0;32m    174\u001b[0m     tensors, grad_tensors_, retain_graph, create_graph, inputs,\n\u001b[0;32m    175\u001b[0m     allow_unreachable\u001b[39m=\u001b[39;49m\u001b[39mTrue\u001b[39;49;00m, accumulate_grad\u001b[39m=\u001b[39;49m\u001b[39mTrue\u001b[39;49;00m)\n",
      "\u001b[1;31mKeyboardInterrupt\u001b[0m: "
     ]
    }
   ],
   "source": [
    "for i in range(300 // ppo.params['epochs_per_game']):\n",
    "    ppo.runGame()\n",
    "    ppo.train()\n",
    "    if i % 10 == 0:\n",
    "        # print(\"episodeLength\", ppo.all_stats[-1][\"game/episodeLength\"], \"episodeReward\", ppo.all_stats[-1][\"game/episodeReward\"],\n",
    "        #       \"epoch\", ppo.all_stats[-1][\"epoch\"], \"steps\", ppo.all_stats[-1][\"steps\"], \n",
    "        #       \"\\nloss\", ppo.all_stats[-1][\"ppo/loss/total\"].item(), \"policy\", ppo.all_stats[-1][\"ppo/loss/policy\"].item(), \n",
    "        #       \"value\", ppo.all_stats[-1][\"ppo/loss/value\"].item(),\n",
    "        #       \"entropy\", ppo.all_stats[-1][\"ppo/policy/entropy\"].item())\n",
    "        print(f\"episodeLength {ppo.all_stats[-1]['game/episodeLength']} episodeReward {ppo.all_stats[-1]['game/episodeReward']} \" + \n",
    "              f\"\\nepoch {ppo.all_stats[-1]['epoch']} steps {ppo.all_stats[-1]['steps']} \" +\n",
    "              f\"\\nloss {ppo.all_stats[-1]['ppo/loss/total']} policy {ppo.all_stats[-1]['ppo/loss/policy']} \" +\n",
    "              f\"\\nvalue {ppo.all_stats[-1]['ppo/loss/value']} entropy {ppo.all_stats[-1]['ppo/policy/entropy']} \" +\n",
    "              f\"\\ncomms {ppo.all_stats[-1]['sync/comms']} data {ppo.all_stats[-1]['sync/data']} \" +\n",
    "              f\"\\nstale {ppo.all_stats[-1]['game/staleSteps']}              \")\n",
    "        # print(ppo.all_stats[-1])\n",
    "    else:\n",
    "        print(f\"episodeLength {ppo.all_stats[-1]['game/episodeLength']} episodeReward {ppo.all_stats[-1]['game/episodeReward']}               \", end=\"\\r\")\n",
    "        \n",
    "    if i % (50 // ppo.params['epochs_per_game']) == 0:\n",
    "        saveAll(f\"vector{modelName}{ppo.all_stats[-1]['epoch']}RS{rewardScale}G{gamma}Lv{livingReward!=0}_4-9\")\n",
    "saveAll(f\"vector{modelName}{ppo.all_stats[-1]['epoch']}RS{rewardScale}G{gamma}Lv{livingReward!=0}_4-9\")"
   ]
  },
  {
   "cell_type": "code",
   "execution_count": null,
   "metadata": {},
   "outputs": [],
   "source": []
  },
  {
   "attachments": {},
   "cell_type": "markdown",
   "metadata": {},
   "source": [
    "\n",
    "\n",
    "\n"
   ]
  },
  {
   "cell_type": "markdown",
   "metadata": {},
   "source": []
  }
 ],
 "metadata": {
  "kernelspec": {
   "display_name": "torch",
   "language": "python",
   "name": "python3"
  },
  "language_info": {
   "codemirror_mode": {
    "name": "ipython",
    "version": 3
   },
   "file_extension": ".py",
   "mimetype": "text/x-python",
   "name": "python",
   "nbconvert_exporter": "python",
   "pygments_lexer": "ipython3",
   "version": "3.10.4"
  },
  "orig_nbformat": 4,
  "vscode": {
   "interpreter": {
    "hash": "ac488eaa353570522d4c04bd2cd8e3c67c3437ec54aafb89a01cbc7941828458"
   }
  }
 },
 "nbformat": 4,
 "nbformat_minor": 2
}
